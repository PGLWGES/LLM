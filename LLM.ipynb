{
  "nbformat": 4,
  "nbformat_minor": 0,
  "metadata": {
    "colab": {
      "provenance": [],
      "authorship_tag": "ABX9TyO2QLhw1vZvSXn2sJfyRUje",
      "include_colab_link": true
    },
    "kernelspec": {
      "name": "python3",
      "display_name": "Python 3"
    },
    "language_info": {
      "name": "python"
    }
  },
  "cells": [
    {
      "cell_type": "markdown",
      "metadata": {
        "id": "view-in-github",
        "colab_type": "text"
      },
      "source": [
        "<a href=\"https://colab.research.google.com/github/PGLWGES/LLM/blob/main/LLM.ipynb\" target=\"_parent\"><img src=\"https://colab.research.google.com/assets/colab-badge.svg\" alt=\"Open In Colab\"/></a>"
      ]
    },
    {
      "cell_type": "markdown",
      "source": [
        "\n",
        "# 1 requeiment"
      ],
      "metadata": {
        "id": "mLumiF7EfgcX"
      }
    },
    {
      "cell_type": "code",
      "execution_count": 3,
      "metadata": {
        "id": "v9R3uV_FMJg8",
        "colab": {
          "base_uri": "https://localhost:8080/"
        },
        "outputId": "0718259e-58d7-4ba8-983a-029e7e862178"
      },
      "outputs": [
        {
          "output_type": "stream",
          "name": "stdout",
          "text": [
            "Requirement already satisfied: uv in /usr/local/lib/python3.11/dist-packages (0.8.5)\n"
          ]
        }
      ],
      "source": [
        "!pip install uv"
      ]
    },
    {
      "cell_type": "code",
      "source": [
        "!uv pip install -r https://raw.githubusercontent.com/rasbt/LLMs-from-scratch/refs/heads/main/requirements.txt --system"
      ],
      "metadata": {
        "id": "Fem36eulMQbW",
        "collapsed": true,
        "colab": {
          "base_uri": "https://localhost:8080/"
        },
        "outputId": "26860b91-ce41-4a0b-8196-2875af4540e3"
      },
      "execution_count": 4,
      "outputs": [
        {
          "output_type": "stream",
          "name": "stdout",
          "text": [
            "\u001b[2mUsing Python 3.11.13 environment at: /usr\u001b[0m\n",
            "\u001b[2mAudited \u001b[1m9 packages\u001b[0m \u001b[2min 449ms\u001b[0m\u001b[0m\n"
          ]
        }
      ]
    },
    {
      "cell_type": "markdown",
      "source": [
        "# 2 Working with text data"
      ],
      "metadata": {
        "id": "zagxD3bn2Oce"
      }
    },
    {
      "cell_type": "markdown",
      "source": [
        "## 2.1 Understanding word embeddings"
      ],
      "metadata": {
        "id": "48nKdPlGfyPI"
      }
    },
    {
      "cell_type": "markdown",
      "source": [
        "## 2.2 Tokenizing text"
      ],
      "metadata": {
        "id": "HJhjN3-ef37O"
      }
    },
    {
      "cell_type": "code",
      "source": [
        "# urllib.request 打开URL（主要是HTTP）\n",
        "import urllib.request\n",
        "url = (\"https://raw.githubusercontent.com/rasbt/\"\n",
        "     \"LLMs-from-scratch/main/ch02/01_main-chapter-code/\"\n",
        "     \"the-verdict.txt\")\n",
        "file_path = \"the-verdict.txt\"\n",
        "# 从指定的URL下载数据\n",
        "urllib.request.urlretrieve(url, file_path)"
      ],
      "metadata": {
        "id": "pxk5lipH2zEo",
        "colab": {
          "base_uri": "https://localhost:8080/"
        },
        "outputId": "cff0ea6c-c639-45e2-8f14-514da63ee54d"
      },
      "execution_count": 5,
      "outputs": [
        {
          "output_type": "execute_result",
          "data": {
            "text/plain": [
              "('the-verdict.txt', <http.client.HTTPMessage at 0x7835b105df10>)"
            ]
          },
          "metadata": {},
          "execution_count": 5
        }
      ]
    },
    {
      "cell_type": "code",
      "source": [
        "with open(\"the-verdict.txt\", \"r\", encoding=\"utf-8\") as f:\n",
        "  raw_text = f.read()\n",
        "print(\"Total number of character:\", len(raw_text))\n",
        "print(raw_text[:99])"
      ],
      "metadata": {
        "id": "7M3RYKY93BUi",
        "colab": {
          "base_uri": "https://localhost:8080/"
        },
        "outputId": "d353d6aa-ce4d-46a9-80a8-563b6b36142c"
      },
      "execution_count": 6,
      "outputs": [
        {
          "output_type": "stream",
          "name": "stdout",
          "text": [
            "Total number of character: 20479\n",
            "I HAD always thought Jack Gisburn rather a cheap genius--though a good fellow enough--so it was no \n"
          ]
        }
      ]
    },
    {
      "cell_type": "code",
      "source": [
        "# 导入正则表达式模块\n",
        "import re\n",
        "text = \"Hello, world. This, is a test.\"\n",
        "result = re.split(r'(\\s)', text)\n",
        "print(result)"
      ],
      "metadata": {
        "id": "qSV70NE13TKh",
        "colab": {
          "base_uri": "https://localhost:8080/"
        },
        "outputId": "7965b091-068f-49c9-c68e-79b86f3a7994"
      },
      "execution_count": 7,
      "outputs": [
        {
          "output_type": "stream",
          "name": "stdout",
          "text": [
            "['Hello,', ' ', 'world.', ' ', 'This,', ' ', 'is', ' ', 'a', ' ', 'test.']\n"
          ]
        }
      ]
    },
    {
      "cell_type": "code",
      "source": [
        "result = re.split(r'([,.]|\\s)', text)\n",
        "print(result)"
      ],
      "metadata": {
        "id": "y6WBOylP3cXB",
        "colab": {
          "base_uri": "https://localhost:8080/"
        },
        "outputId": "c02d176e-8e36-46b5-b184-fec21faa8f8a"
      },
      "execution_count": 8,
      "outputs": [
        {
          "output_type": "stream",
          "name": "stdout",
          "text": [
            "['Hello', ',', '', ' ', 'world', '.', '', ' ', 'This', ',', '', ' ', 'is', ' ', 'a', ' ', 'test', '.', '']\n"
          ]
        }
      ]
    },
    {
      "cell_type": "code",
      "source": [
        "# 移除空字符串\n",
        "result = [item for item in result if item.strip()]\n",
        "print(result)"
      ],
      "metadata": {
        "id": "4s_cUcrA3436",
        "colab": {
          "base_uri": "https://localhost:8080/"
        },
        "outputId": "d9c356fa-7a77-4631-92cc-df352d12d816"
      },
      "execution_count": 9,
      "outputs": [
        {
          "output_type": "stream",
          "name": "stdout",
          "text": [
            "['Hello', ',', 'world', '.', 'This', ',', 'is', 'a', 'test', '.']\n"
          ]
        }
      ]
    },
    {
      "cell_type": "code",
      "source": [
        "text = \"Hello, world. Is this-- a test?\"\n",
        "result = re.split(r'([,.:;?_!\"()\\']|--|\\s)', text)\n",
        "# 对每个item调用strip() 移除首尾两端的空白字符\n",
        "result = [item.strip() for item in result if item.strip()]\n",
        "print(result)"
      ],
      "metadata": {
        "id": "fu7X1dJf4i4g",
        "colab": {
          "base_uri": "https://localhost:8080/"
        },
        "outputId": "09059165-54c9-4a82-b5e1-996eee8b94fa"
      },
      "execution_count": 10,
      "outputs": [
        {
          "output_type": "stream",
          "name": "stdout",
          "text": [
            "['Hello', ',', 'world', '.', 'Is', 'this', '--', 'a', 'test', '?']\n"
          ]
        }
      ]
    },
    {
      "cell_type": "code",
      "source": [
        "preprocessed = re.split(r'([,.:;?_!\"()\\']|--|\\s)', raw_text)\n",
        "preprocessed = [item.strip() for item in preprocessed if item.strip()]\n",
        "print(len(preprocessed))"
      ],
      "metadata": {
        "id": "zz70QNZ94pWB",
        "colab": {
          "base_uri": "https://localhost:8080/"
        },
        "outputId": "faa1c039-bd46-4c4b-b01d-12fad8469acb"
      },
      "execution_count": 11,
      "outputs": [
        {
          "output_type": "stream",
          "name": "stdout",
          "text": [
            "4690\n"
          ]
        }
      ]
    },
    {
      "cell_type": "code",
      "source": [
        "print(preprocessed[:30])"
      ],
      "metadata": {
        "id": "Fx9bfaFK4xTC",
        "colab": {
          "base_uri": "https://localhost:8080/"
        },
        "outputId": "9f162aa3-8d23-42a0-c886-70452296982d"
      },
      "execution_count": 12,
      "outputs": [
        {
          "output_type": "stream",
          "name": "stdout",
          "text": [
            "['I', 'HAD', 'always', 'thought', 'Jack', 'Gisburn', 'rather', 'a', 'cheap', 'genius', '--', 'though', 'a', 'good', 'fellow', 'enough', '--', 'so', 'it', 'was', 'no', 'great', 'surprise', 'to', 'me', 'to', 'hear', 'that', ',', 'in']\n"
          ]
        }
      ]
    },
    {
      "cell_type": "markdown",
      "source": [
        "## 2.3 Converting tokens into token IDs"
      ],
      "metadata": {
        "id": "Dk9SY6wDf9Ml"
      }
    },
    {
      "cell_type": "code",
      "source": [
        "all_words = sorted(set(preprocessed))\n",
        "vocab_size = len(all_words)\n",
        "print(vocab_size)"
      ],
      "metadata": {
        "id": "-0qT-1orWgCY",
        "colab": {
          "base_uri": "https://localhost:8080/"
        },
        "outputId": "d161a76f-b16d-42c6-e060-db19208a6058"
      },
      "execution_count": 13,
      "outputs": [
        {
          "output_type": "stream",
          "name": "stdout",
          "text": [
            "1130\n"
          ]
        }
      ]
    },
    {
      "cell_type": "code",
      "source": [
        "# vocab = {}\n",
        "# for integer, token in enumerate(all_words):\n",
        "#     vocab[token] = integer  # 键为token，值为integer\n",
        "vocab = {token:integer for integer,token in enumerate(all_words)}\n",
        "for i, item in enumerate(vocab.items()):\n",
        "  print(item)\n",
        "  if i >= 50:\n",
        "    break"
      ],
      "metadata": {
        "id": "6L-Jx5Oc4zTs",
        "colab": {
          "base_uri": "https://localhost:8080/"
        },
        "outputId": "aa784766-a02e-408f-b4c2-cdbba431861c"
      },
      "execution_count": 14,
      "outputs": [
        {
          "output_type": "stream",
          "name": "stdout",
          "text": [
            "('!', 0)\n",
            "('\"', 1)\n",
            "(\"'\", 2)\n",
            "('(', 3)\n",
            "(')', 4)\n",
            "(',', 5)\n",
            "('--', 6)\n",
            "('.', 7)\n",
            "(':', 8)\n",
            "(';', 9)\n",
            "('?', 10)\n",
            "('A', 11)\n",
            "('Ah', 12)\n",
            "('Among', 13)\n",
            "('And', 14)\n",
            "('Are', 15)\n",
            "('Arrt', 16)\n",
            "('As', 17)\n",
            "('At', 18)\n",
            "('Be', 19)\n",
            "('Begin', 20)\n",
            "('Burlington', 21)\n",
            "('But', 22)\n",
            "('By', 23)\n",
            "('Carlo', 24)\n",
            "('Chicago', 25)\n",
            "('Claude', 26)\n",
            "('Come', 27)\n",
            "('Croft', 28)\n",
            "('Destroyed', 29)\n",
            "('Devonshire', 30)\n",
            "('Don', 31)\n",
            "('Dubarry', 32)\n",
            "('Emperors', 33)\n",
            "('Florence', 34)\n",
            "('For', 35)\n",
            "('Gallery', 36)\n",
            "('Gideon', 37)\n",
            "('Gisburn', 38)\n",
            "('Gisburns', 39)\n",
            "('Grafton', 40)\n",
            "('Greek', 41)\n",
            "('Grindle', 42)\n",
            "('Grindles', 43)\n",
            "('HAD', 44)\n",
            "('Had', 45)\n",
            "('Hang', 46)\n",
            "('Has', 47)\n",
            "('He', 48)\n",
            "('Her', 49)\n",
            "('Hermia', 50)\n"
          ]
        }
      ]
    },
    {
      "cell_type": "code",
      "source": [
        "# 定义一个简单的文本分词器类，用于编码（文本转ID）和解码（ID转文本）\n",
        "class SimpleTokenizerV1:\n",
        "    # 初始化方法，接收词汇表（vocab）作为参数\n",
        "    def __init__(self, vocab):\n",
        "        # 存储 字符串（token）到整数（ID）的映射\n",
        "        # 字典结构 {键：值} self.str_to_int[key] = value\n",
        "        self.str_to_int = vocab\n",
        "        # 构建 整数（ID）到字符串（token）的反向映射，用于解码\n",
        "        # 反向映射 {值：键}\n",
        "        self.int_to_str = {i: s for s, i in vocab.items()}\n",
        "\n",
        "    # 编码方法：将输入文本转换为 token ID 列表\n",
        "    def encode(self, text):\n",
        "        # 步骤1：用正则表达式分割文本，拆分出 token（包含标点、单词等）\n",
        "        # 正则匹配逻辑\n",
        "        preprocessed = re.split(r'([,.?!\\'\"\\[\\]]|--|\\s)', text)\n",
        "        # 步骤2：过滤空内容（strip后为空的项），并去除每个 token 首尾空白\n",
        "        preprocessed = [item.strip() for item in preprocessed if item.strip()]\n",
        "        # 步骤3：通过词汇表映射，将每个字符串 token 转为对应的整数 ID\n",
        "        ids = [self.str_to_int[s] for s in preprocessed]\n",
        "        return ids  # 返回编码后的 ID 列表\n",
        "\n",
        "    # 解码方法：将 token ID 列表转换为原始文本\n",
        "    def decode(self, ids):\n",
        "        # 步骤1：通过反向映射，将 ID 转回字符串 token，并用空字符串拼接\n",
        "        text = \" \".join([self.int_to_str[i] for i in ids])\n",
        "        # 步骤2：用正则表达式清理标点前的多余空格\n",
        "        # 匹配逻辑：标点（,.?!'\"\\[]）前的一个或多个空格，替换为单个空格（保证标点前无冗余空格）\n",
        "        text = re.sub(r'\\s+([,.?!\\'\"\\[\\]])', r'\\1', text)\n",
        "        return text  # 返回解码后的文本"
      ],
      "metadata": {
        "id": "uHsVcibBWWJa"
      },
      "execution_count": 15,
      "outputs": []
    },
    {
      "cell_type": "code",
      "source": [
        "tokenizer = SimpleTokenizerV1(vocab)\n",
        "text = \"\"\"\"It's the last he painted, you know,\"\n",
        "        Mrs. Gisburn said with pardonable pride.\"\"\"\n",
        "ids = tokenizer.encode(text)\n",
        "print(ids)"
      ],
      "metadata": {
        "id": "oWlilDPpYS7s",
        "colab": {
          "base_uri": "https://localhost:8080/"
        },
        "outputId": "3b198ae8-351f-428f-dba8-87a36d4decbd"
      },
      "execution_count": 16,
      "outputs": [
        {
          "output_type": "stream",
          "name": "stdout",
          "text": [
            "[1, 56, 2, 850, 988, 602, 533, 746, 5, 1126, 596, 5, 1, 67, 7, 38, 851, 1108, 754, 793, 7]\n"
          ]
        }
      ]
    },
    {
      "cell_type": "code",
      "source": [
        "print(tokenizer.decode(ids))"
      ],
      "metadata": {
        "id": "MVo8pGpDYYlx",
        "colab": {
          "base_uri": "https://localhost:8080/"
        },
        "outputId": "283bba78-98fd-4f54-ab95-0e41c217ac5e"
      },
      "execution_count": 17,
      "outputs": [
        {
          "output_type": "stream",
          "name": "stdout",
          "text": [
            "\" It' s the last he painted, you know,\" Mrs. Gisburn said with pardonable pride.\n"
          ]
        }
      ]
    },
    {
      "cell_type": "code",
      "source": [
        "# text = \"Hello, do you like tea?\"\n",
        "# print(tokenizer.encode(text))"
      ],
      "metadata": {
        "id": "40xWKn2ObAQR"
      },
      "execution_count": 18,
      "outputs": []
    },
    {
      "cell_type": "markdown",
      "source": [
        "## 2.4 Adding special context tokens"
      ],
      "metadata": {
        "id": "2clX8sdZgDel"
      }
    },
    {
      "cell_type": "code",
      "source": [
        "all_tokens = sorted(list(set(preprocessed)))\n",
        "all_tokens.extend([\"<|endoftext|>\", \"<|unk|>\"])\n",
        "vocab = {token:integer for integer,token in enumerate(all_tokens)}\n",
        "print(len(vocab.items()))"
      ],
      "metadata": {
        "id": "1ewOYWPPbHlq",
        "colab": {
          "base_uri": "https://localhost:8080/"
        },
        "outputId": "337e7a5d-0ed7-4f52-c1f7-9104bf317b3e"
      },
      "execution_count": 19,
      "outputs": [
        {
          "output_type": "stream",
          "name": "stdout",
          "text": [
            "1132\n"
          ]
        }
      ]
    },
    {
      "cell_type": "code",
      "source": [
        "for i, item in enumerate(list(vocab.items())[-5:]):\n",
        "  print(item)"
      ],
      "metadata": {
        "id": "tQa_CCiLbQsI",
        "colab": {
          "base_uri": "https://localhost:8080/"
        },
        "outputId": "45ac9190-ad78-4dc5-d2f9-ffcd4c5fded2"
      },
      "execution_count": 20,
      "outputs": [
        {
          "output_type": "stream",
          "name": "stdout",
          "text": [
            "('younger', 1127)\n",
            "('your', 1128)\n",
            "('yourself', 1129)\n",
            "('<|endoftext|>', 1130)\n",
            "('<|unk|>', 1131)\n"
          ]
        }
      ]
    },
    {
      "cell_type": "code",
      "source": [
        "# 定义一个增强版的简单文本分词器类（相比V1版本增加了OOV处理）\n",
        "class SimpleTokenizerV2:\n",
        "    def __init__(self, vocab):\n",
        "        # 存储 字符串→ID 的映射（来自传入的词汇表）\n",
        "        self.str_to_int = vocab\n",
        "        # 构建 反向映射（ID→字符串），用于解码\n",
        "        self.int_to_str = {i: s for s, i in vocab.items()}\n",
        "\n",
        "    def encode(self, text):\n",
        "        # 步骤1：使用正则表达式将文本拆分为tokens（包括标点和空格）\n",
        "        preprocessed = re.split(r'([,.?!\\'\"\\[\\]]|--|\\s)', text)\n",
        "\n",
        "        # 步骤2：过滤空字符串，并去除每个token的首尾空格\n",
        "        preprocessed = [item.strip() for item in preprocessed if item.strip()]\n",
        "\n",
        "        # 步骤3：处理未登录词（OOV）：将词汇表中不存在的token替换为<|unk|>\n",
        "        # 关键增强点：相比V1版本，增加了对未知词的处理，避免KeyError\n",
        "        preprocessed = [\n",
        "            # 如果token在词汇表中，保留原样\n",
        "            item if item in self.str_to_int\n",
        "            # 否则替换为特殊的未知词标记\n",
        "            else \"<|unk|>\"\n",
        "            for item in preprocessed\n",
        "        ]\n",
        "\n",
        "        # 步骤4：将tokens转换为对应的ID\n",
        "        ids = [self.str_to_int[s] for s in preprocessed]\n",
        "        return ids\n",
        "\n",
        "    def decode(self, ids):\n",
        "        # 步骤1：将ID列表转换回字符串tokens，并使用空格拼接（可能产生多余空格）\n",
        "        # 注意：此处使用空格拼接是为了后续正则处理的便利性\n",
        "        text = \" \".join([self.int_to_str[i] for i in ids])\n",
        "\n",
        "        # 步骤2：修复标点符号前的多余空格（与V1版本相同）\n",
        "        # 例如：将 \"Hello , world\" 转换为 \"Hello, world\"\n",
        "        text = re.sub(r'\\s+([,.?!\\'\"\\[\\]])', r'\\1', text)\n",
        "        return text"
      ],
      "metadata": {
        "id": "zdog5zHzbWcZ"
      },
      "execution_count": 21,
      "outputs": []
    },
    {
      "cell_type": "code",
      "source": [
        "text1 = \"Hello, do you like tea?\"\n",
        "text2 = \"In the sunlit terraces of the palace.\"\n",
        "text = \" <|endoftext|> \".join((text1, text2))\n",
        "print(text)"
      ],
      "metadata": {
        "id": "N2QvNdIkbaRh",
        "colab": {
          "base_uri": "https://localhost:8080/"
        },
        "outputId": "1a8de43a-b92c-4651-ec20-7203fcb57e7c"
      },
      "execution_count": 22,
      "outputs": [
        {
          "output_type": "stream",
          "name": "stdout",
          "text": [
            "Hello, do you like tea? <|endoftext|> In the sunlit terraces of the palace.\n"
          ]
        }
      ]
    },
    {
      "cell_type": "code",
      "source": [
        "tokenizer = SimpleTokenizerV2(vocab)\n",
        "print(tokenizer.encode(text))"
      ],
      "metadata": {
        "id": "q44t-4EAbbzI",
        "colab": {
          "base_uri": "https://localhost:8080/"
        },
        "outputId": "c3cccf70-cb5b-419b-932a-4feb699e5961"
      },
      "execution_count": 23,
      "outputs": [
        {
          "output_type": "stream",
          "name": "stdout",
          "text": [
            "[1131, 5, 355, 1126, 628, 975, 10, 1130, 55, 988, 956, 984, 722, 988, 1131, 7]\n"
          ]
        }
      ]
    },
    {
      "cell_type": "code",
      "source": [
        "print(tokenizer.decode(tokenizer.encode(text)))"
      ],
      "metadata": {
        "id": "PYTvRnJJbdvK",
        "colab": {
          "base_uri": "https://localhost:8080/"
        },
        "outputId": "21f38645-03db-4598-8a55-5af8774aca91"
      },
      "execution_count": 24,
      "outputs": [
        {
          "output_type": "stream",
          "name": "stdout",
          "text": [
            "<|unk|>, do you like tea? <|endoftext|> In the sunlit terraces of the <|unk|>.\n"
          ]
        }
      ]
    },
    {
      "cell_type": "markdown",
      "source": [
        "## 2.5 Btye pair encoding"
      ],
      "metadata": {
        "id": "OotNO8zBgI3N"
      }
    },
    {
      "cell_type": "code",
      "source": [
        "pip install tiktoken"
      ],
      "metadata": {
        "id": "LYFE8kFHbgDW",
        "colab": {
          "base_uri": "https://localhost:8080/"
        },
        "outputId": "3d81748e-e067-4255-e5db-9db4595e1d1f"
      },
      "execution_count": 25,
      "outputs": [
        {
          "output_type": "stream",
          "name": "stdout",
          "text": [
            "Requirement already satisfied: tiktoken in /usr/local/lib/python3.11/dist-packages (0.9.0)\n",
            "Requirement already satisfied: regex>=2022.1.18 in /usr/local/lib/python3.11/dist-packages (from tiktoken) (2024.11.6)\n",
            "Requirement already satisfied: requests>=2.26.0 in /usr/local/lib/python3.11/dist-packages (from tiktoken) (2.32.3)\n",
            "Requirement already satisfied: charset-normalizer<4,>=2 in /usr/local/lib/python3.11/dist-packages (from requests>=2.26.0->tiktoken) (3.4.2)\n",
            "Requirement already satisfied: idna<4,>=2.5 in /usr/local/lib/python3.11/dist-packages (from requests>=2.26.0->tiktoken) (3.10)\n",
            "Requirement already satisfied: urllib3<3,>=1.21.1 in /usr/local/lib/python3.11/dist-packages (from requests>=2.26.0->tiktoken) (2.5.0)\n",
            "Requirement already satisfied: certifi>=2017.4.17 in /usr/local/lib/python3.11/dist-packages (from requests>=2.26.0->tiktoken) (2025.7.14)\n"
          ]
        }
      ]
    },
    {
      "cell_type": "code",
      "source": [
        "# importlib.metadata 访问已安装 Python 包的元数据\n",
        "from importlib.metadata import version\n",
        "# 计算 token 数量的库\n",
        "import tiktoken\n",
        "print(\"tiktoken version:\", version(\"tiktoken\"))"
      ],
      "metadata": {
        "id": "hl-AAJv3blL8",
        "colab": {
          "base_uri": "https://localhost:8080/"
        },
        "outputId": "a1b4a1fb-a159-45f7-ce29-d7701232f6bf"
      },
      "execution_count": 26,
      "outputs": [
        {
          "output_type": "stream",
          "name": "stdout",
          "text": [
            "tiktoken version: 0.9.0\n"
          ]
        }
      ]
    },
    {
      "cell_type": "code",
      "source": [
        "# 使用gpt-2的分词逻辑\n",
        "tokenizer = tiktoken.get_encoding(\"gpt2\")"
      ],
      "metadata": {
        "id": "PlW0jqekbpWl"
      },
      "execution_count": 27,
      "outputs": []
    },
    {
      "cell_type": "code",
      "source": [
        "text = (\n",
        "    \"Hello, do you like tea? <|endoftext|> In the sunlit terraces\"\n",
        "    \"of someunknownPlace.\"\n",
        ")\n",
        "integers = tokenizer.encode(text, allowed_special = {\"<|endoftext|>\"})\n",
        "print(integers)"
      ],
      "metadata": {
        "id": "j4CXF5SUbrOX",
        "colab": {
          "base_uri": "https://localhost:8080/"
        },
        "outputId": "22dcea06-88fc-4cc4-f83a-9c26ba61dc7e"
      },
      "execution_count": 28,
      "outputs": [
        {
          "output_type": "stream",
          "name": "stdout",
          "text": [
            "[15496, 11, 466, 345, 588, 8887, 30, 220, 50256, 554, 262, 4252, 18250, 8812, 2114, 1659, 617, 34680, 27271, 13]\n"
          ]
        }
      ]
    },
    {
      "cell_type": "code",
      "source": [
        "strings = tokenizer.decode(integers)\n",
        "print(strings)"
      ],
      "metadata": {
        "id": "ZDvU-8ABbt9j",
        "colab": {
          "base_uri": "https://localhost:8080/"
        },
        "outputId": "90916abb-508a-4158-ff51-3539b753e5c7"
      },
      "execution_count": 29,
      "outputs": [
        {
          "output_type": "stream",
          "name": "stdout",
          "text": [
            "Hello, do you like tea? <|endoftext|> In the sunlit terracesof someunknownPlace.\n"
          ]
        }
      ]
    },
    {
      "cell_type": "code",
      "source": [
        "ip = \"Akwirw ier\"\n",
        "temp = tokenizer.encode(ip)\n",
        "print(temp)\n",
        "op = tokenizer.decode(temp)\n",
        "print(op)"
      ],
      "metadata": {
        "id": "NR45cjvXbw3o",
        "colab": {
          "base_uri": "https://localhost:8080/"
        },
        "outputId": "459fa6e2-9cf1-40ab-c65c-eed6d870756d"
      },
      "execution_count": 30,
      "outputs": [
        {
          "output_type": "stream",
          "name": "stdout",
          "text": [
            "[33901, 86, 343, 86, 220, 959]\n",
            "Akwirw ier\n"
          ]
        }
      ]
    },
    {
      "cell_type": "markdown",
      "source": [
        "## 2.6 Data sampling with a silding window"
      ],
      "metadata": {
        "id": "HomBlCMcgNRH"
      }
    },
    {
      "cell_type": "code",
      "source": [
        "with open(\"the-verdict.txt\", \"r\", encoding=\"utf-8\") as f:\n",
        "    raw_text = f.read()\n",
        "enc_text = tokenizer.encode(raw_text)\n",
        "print(len(enc_text))"
      ],
      "metadata": {
        "id": "wsEfr3ivbzQg",
        "colab": {
          "base_uri": "https://localhost:8080/"
        },
        "outputId": "e2b76550-bbbd-4198-ea9f-1578047a8126"
      },
      "execution_count": 31,
      "outputs": [
        {
          "output_type": "stream",
          "name": "stdout",
          "text": [
            "5145\n"
          ]
        }
      ]
    },
    {
      "cell_type": "code",
      "source": [
        "enc_sample = enc_text[50:]"
      ],
      "metadata": {
        "id": "98sHRQAhb4q-"
      },
      "execution_count": 32,
      "outputs": []
    },
    {
      "cell_type": "code",
      "source": [
        "# 定义上下文窗口大小，即每次取多少个连续的 token 作为输入上下文\n",
        "context_size = 4\n",
        "# 从编码后的样本中，取从开头到 context_size 位置的子序列作为输入特征 x\n",
        "# 比如 context_size=4 时，取 [0,1,2,3] 位置的 token\n",
        "x = enc_sample[:context_size]\n",
        "# 从编码后的样本中，取从第 1 个位置到 context_size+1 位置的子序列作为目标值 y\n",
        "# 相当于在 x 的基础上向后滑动一位，用于训练时让模型学习“根据 x 预测下一个 token（即 y 对应的序列）”\n",
        "y = enc_sample[1:context_size+1]\n",
        "# 打印输入特征 x 的内容，方便调试或查看数据\n",
        "print(f\"x: {x}\")\n",
        "# 打印目标值 y 的内容，观察模型需要预测的结果形式\n",
        "print(f\"y:    {y}\")"
      ],
      "metadata": {
        "id": "qjiVzcogb6NA",
        "colab": {
          "base_uri": "https://localhost:8080/"
        },
        "outputId": "203a3d00-d32d-4848-f70d-f0f32ee33983"
      },
      "execution_count": 33,
      "outputs": [
        {
          "output_type": "stream",
          "name": "stdout",
          "text": [
            "x: [290, 4920, 2241, 287]\n",
            "y:    [4920, 2241, 287, 257]\n"
          ]
        }
      ]
    },
    {
      "cell_type": "code",
      "source": [
        "# 遍历从 1 到 context_size（包含 context_size）的整数，实现滑动窗口的效果\n",
        "for i in range(1, context_size + 1):\n",
        "    # 截取从序列起始到索引 i 的子序列，作为模型的输入上下文\n",
        "    # 随着 i 增大，上下文长度从 1 逐渐增加到 context_size\n",
        "    context = enc_sample[:i]\n",
        "    # 选取索引 i 位置的元素，作为模型需要预测的目标\n",
        "    desired = enc_sample[i]\n",
        "    # 打印当前的输入上下文和对应的预测目标，方便观察滑动窗口过程\n",
        "    print(context, \"----->\", desired)"
      ],
      "metadata": {
        "id": "w5io2t2pcANs",
        "colab": {
          "base_uri": "https://localhost:8080/"
        },
        "outputId": "908d1066-1f3d-4ccb-e303-bef1accb1a89"
      },
      "execution_count": 34,
      "outputs": [
        {
          "output_type": "stream",
          "name": "stdout",
          "text": [
            "[290] -----> 4920\n",
            "[290, 4920] -----> 2241\n",
            "[290, 4920, 2241] -----> 287\n",
            "[290, 4920, 2241, 287] -----> 257\n"
          ]
        }
      ]
    },
    {
      "cell_type": "code",
      "source": [
        "for i in range(1, context_size+1):\n",
        "  context = enc_sample[:i]\n",
        "  desired = enc_sample[i]\n",
        "  print(tokenizer.decode(context), \"---->\", tokenizer.decode([desired]))"
      ],
      "metadata": {
        "id": "kmcto7GmcCDI",
        "colab": {
          "base_uri": "https://localhost:8080/"
        },
        "outputId": "092cc802-107d-4ece-e94c-4c248454fddb"
      },
      "execution_count": 35,
      "outputs": [
        {
          "output_type": "stream",
          "name": "stdout",
          "text": [
            " and ---->  established\n",
            " and established ---->  himself\n",
            " and established himself ---->  in\n",
            " and established himself in ---->  a\n"
          ]
        }
      ]
    },
    {
      "cell_type": "code",
      "source": [
        "pip install torch"
      ],
      "metadata": {
        "id": "8-WwMymBcESx",
        "colab": {
          "base_uri": "https://localhost:8080/"
        },
        "outputId": "7070fdbc-c94e-4953-f7c7-7cd4428493b9"
      },
      "execution_count": 36,
      "outputs": [
        {
          "output_type": "stream",
          "name": "stdout",
          "text": [
            "Requirement already satisfied: torch in /usr/local/lib/python3.11/dist-packages (2.6.0+cu124)\n",
            "Requirement already satisfied: filelock in /usr/local/lib/python3.11/dist-packages (from torch) (3.18.0)\n",
            "Requirement already satisfied: typing-extensions>=4.10.0 in /usr/local/lib/python3.11/dist-packages (from torch) (4.14.1)\n",
            "Requirement already satisfied: networkx in /usr/local/lib/python3.11/dist-packages (from torch) (3.5)\n",
            "Requirement already satisfied: jinja2 in /usr/local/lib/python3.11/dist-packages (from torch) (3.1.6)\n",
            "Requirement already satisfied: fsspec in /usr/local/lib/python3.11/dist-packages (from torch) (2025.3.0)\n",
            "Requirement already satisfied: nvidia-cuda-nvrtc-cu12==12.4.127 in /usr/local/lib/python3.11/dist-packages (from torch) (12.4.127)\n",
            "Requirement already satisfied: nvidia-cuda-runtime-cu12==12.4.127 in /usr/local/lib/python3.11/dist-packages (from torch) (12.4.127)\n",
            "Requirement already satisfied: nvidia-cuda-cupti-cu12==12.4.127 in /usr/local/lib/python3.11/dist-packages (from torch) (12.4.127)\n",
            "Requirement already satisfied: nvidia-cudnn-cu12==9.1.0.70 in /usr/local/lib/python3.11/dist-packages (from torch) (9.1.0.70)\n",
            "Requirement already satisfied: nvidia-cublas-cu12==12.4.5.8 in /usr/local/lib/python3.11/dist-packages (from torch) (12.4.5.8)\n",
            "Requirement already satisfied: nvidia-cufft-cu12==11.2.1.3 in /usr/local/lib/python3.11/dist-packages (from torch) (11.2.1.3)\n",
            "Requirement already satisfied: nvidia-curand-cu12==10.3.5.147 in /usr/local/lib/python3.11/dist-packages (from torch) (10.3.5.147)\n",
            "Requirement already satisfied: nvidia-cusolver-cu12==11.6.1.9 in /usr/local/lib/python3.11/dist-packages (from torch) (11.6.1.9)\n",
            "Requirement already satisfied: nvidia-cusparse-cu12==12.3.1.170 in /usr/local/lib/python3.11/dist-packages (from torch) (12.3.1.170)\n",
            "Requirement already satisfied: nvidia-cusparselt-cu12==0.6.2 in /usr/local/lib/python3.11/dist-packages (from torch) (0.6.2)\n",
            "Requirement already satisfied: nvidia-nccl-cu12==2.21.5 in /usr/local/lib/python3.11/dist-packages (from torch) (2.21.5)\n",
            "Requirement already satisfied: nvidia-nvtx-cu12==12.4.127 in /usr/local/lib/python3.11/dist-packages (from torch) (12.4.127)\n",
            "Requirement already satisfied: nvidia-nvjitlink-cu12==12.4.127 in /usr/local/lib/python3.11/dist-packages (from torch) (12.4.127)\n",
            "Requirement already satisfied: triton==3.2.0 in /usr/local/lib/python3.11/dist-packages (from torch) (3.2.0)\n",
            "Requirement already satisfied: sympy==1.13.1 in /usr/local/lib/python3.11/dist-packages (from torch) (1.13.1)\n",
            "Requirement already satisfied: mpmath<1.4,>=1.1.0 in /usr/local/lib/python3.11/dist-packages (from sympy==1.13.1->torch) (1.3.0)\n",
            "Requirement already satisfied: MarkupSafe>=2.0 in /usr/local/lib/python3.11/dist-packages (from jinja2->torch) (3.0.2)\n"
          ]
        }
      ]
    },
    {
      "cell_type": "code",
      "source": [
        "# Dataset：一个抽象基类，用于定义自定义数据集\n",
        "# DataLoader：用于将 Dataset 包装成一个可迭代的数据加载器，方便在训练时高效地获取数据批次\n",
        "import torch\n",
        "from torch.utils.data import Dataset, DataLoader\n",
        "\n",
        "# 定义一个名为 GPTDatasetV1 的数据集类，继承自 PyTorch 的 Dataset 类\n",
        "class GPTDatasetV1(Dataset):\n",
        "    # 初始化方法，用于创建数据集对象时设置参数和初始化数据\n",
        "    # txt: 原始文本数据\n",
        "    # tokenizer: 分词器，用于将文本转换为 token IDs\n",
        "    # max_length: 每个输入块（input chunk）的最大长度\n",
        "    # stride: 滑动窗口的步长，控制每次窗口移动的距离\n",
        "    def __init__(self, txt, tokenizer, max_length, stride):\n",
        "        # 初始化存储输入 token IDs 的列表\n",
        "        self.input_ids = []\n",
        "        # 初始化存储目标 token IDs 的列表\n",
        "        self.target_ids = []\n",
        "\n",
        "        # 使用分词器对整个文本进行编码，得到 token IDs 序列\n",
        "        # tokenizer.encode 方法会同时完成分词和转换为 token IDs 的操作\n",
        "        token_ids = tokenizer.encode(txt)  # Tokenizes the entire text（对整个文本进行分词）\n",
        "\n",
        "        # 滑动窗口遍历 token_ids 序列，生成输入块和目标块\n",
        "        # 遍历的起始位置从 0 开始，结束位置为 len(token_ids) - max_length（保证窗口不越界），步长为 stride\n",
        "        for i in range(0, len(token_ids) - max_length, stride):\n",
        "            # 截取从 i 开始，长度为 max_length 的子序列作为输入块\n",
        "            input_chunk = token_ids[i:i + max_length]\n",
        "            # 截取从 i + 1 开始，长度为 max_length 的子序列作为目标块（输入块右移一位，用于预测下一个词）\n",
        "            target_chunk = token_ids[i + 1:i + max_length + 1]\n",
        "\n",
        "            # 将输入块转换为 PyTorch 张量，并添加到 input_ids 列表中\n",
        "            self.input_ids.append(torch.tensor(input_chunk))\n",
        "            # 将目标块转换为 PyTorch 张量，并添加到 target_ids 列表中\n",
        "            self.target_ids.append(torch.tensor(target_chunk))\n",
        "\n",
        "    # 用于返回数据集的样本数量，PyTorch 的 Dataset 类需要实现的方法\n",
        "    def __len__(self):\n",
        "        # 返回输入数据的数量，即 input_ids 列表的长度\n",
        "        return len(self.input_ids)  # Returns the total number of rows in the dataset（返回数据集中行的总数）\n",
        "\n",
        "    # 用于根据索引 idx 获取数据集中的一个样本（输入和对应的目标），PyTorch 的 Dataset 类需要实现的方法\n",
        "    def __getitem__(self, idx):\n",
        "        # 返回指定索引 idx 对应的输入张量和目标张量\n",
        "        return self.input_ids[idx], self.target_ids[idx]  # Returns a single row from the dataset（从数据集中返回一行数据）"
      ],
      "metadata": {
        "id": "rtl6LZwHcI5e"
      },
      "execution_count": 37,
      "outputs": []
    },
    {
      "cell_type": "code",
      "source": [
        "import tiktoken\n",
        "def create_dataloader_v1(txt,\n",
        "             batch_size=4,\n",
        "             max_length=256,\n",
        "             stride=128,\n",
        "             shuffle=True,\n",
        "             drop_last=True,\n",
        "             num_workers=0):\n",
        "    # 初始化分词器，使用 tiktoken 库的 get_encoding 方法获取 \"gpt2\" 对应的编码方式\n",
        "    # 分词器用于将文本转换为模型可处理的 token\n",
        "    tokenizer = tiktoken.get_encoding(\"gpt2\")\n",
        "\n",
        "    # 创建数据集实例，传入原始文本、分词器、最大长度、滑动步长等参数\n",
        "    # 该数据集类（GPTDatasetV1）需提前定义好，用于处理文本数据并生成输入 - 目标对\n",
        "    # 创建数据集\n",
        "    dataset = GPTDatasetV1(txt, tokenizer, max_length, stride)\n",
        "\n",
        "    # 使用 PyTorch 的 DataLoader 包装数据集，方便模型训练时按批次加载数据\n",
        "    dataloader = DataLoader(\n",
        "        dataset,  # 传入数据集对象\n",
        "        batch_size=batch_size,  # 每个批次的样本数量\n",
        "        shuffle=shuffle,  # 是否打乱数据顺序，True 表示训练时打乱增加随机性\n",
        "        drop_last=drop_last,\n",
        "        # 若最后一个批次样本数量不足 batch_size，是否丢弃该批次，避免训练时因批次不规整导致损失异常波动\n",
        "        num_workers=num_workers\n",
        "        # 用于数据预处理的 CPU 进程数，0 表示在主进程中进行预处理\n",
        "    )\n",
        "\n",
        "    return dataloader"
      ],
      "metadata": {
        "id": "dJiATZLocNeL"
      },
      "execution_count": 38,
      "outputs": []
    },
    {
      "cell_type": "code",
      "source": [
        "with open(\"the-verdict.txt\", \"r\", encoding=\"utf-8\") as f:\n",
        "    raw_text = f.read()\n",
        "\n",
        "dataloader = create_dataloader_v1(\n",
        "    raw_text, batch_size=1, max_length=4, stride=1, shuffle=False\n",
        ")\n",
        "# 迭代器\n",
        "data_iter = iter(dataloader)\n",
        "first_batch = next(data_iter)\n",
        "print(first_batch)"
      ],
      "metadata": {
        "id": "4RoXQ0lGcSGB",
        "colab": {
          "base_uri": "https://localhost:8080/"
        },
        "outputId": "f0e0f93d-5e0d-4a85-a40f-a1a681f97934"
      },
      "execution_count": 39,
      "outputs": [
        {
          "output_type": "stream",
          "name": "stdout",
          "text": [
            "[tensor([[  40,  367, 2885, 1464]]), tensor([[ 367, 2885, 1464, 1807]])]\n"
          ]
        }
      ]
    },
    {
      "cell_type": "code",
      "source": [
        "second_batch = next(data_iter)\n",
        "print(second_batch)"
      ],
      "metadata": {
        "id": "9HAYEuHKcWMV",
        "colab": {
          "base_uri": "https://localhost:8080/"
        },
        "outputId": "1794d2ce-576d-47a2-897c-6ce069f0f9de"
      },
      "execution_count": 40,
      "outputs": [
        {
          "output_type": "stream",
          "name": "stdout",
          "text": [
            "[tensor([[ 367, 2885, 1464, 1807]]), tensor([[2885, 1464, 1807, 3619]])]\n"
          ]
        }
      ]
    },
    {
      "cell_type": "code",
      "source": [
        "dataloader = create_dataloader_v1(\n",
        "    raw_text, batch_size=8, max_length=4, stride=4, shuffle=False\n",
        ")\n",
        "data_iter = iter(dataloader)\n",
        "inputs, targets = next(data_iter)\n",
        "print(\"Inputs:\\n\", inputs)\n",
        "print(\"\\nTargets:\\n\", targets)"
      ],
      "metadata": {
        "id": "EjAJ5v9ScgZs",
        "colab": {
          "base_uri": "https://localhost:8080/"
        },
        "outputId": "1723489b-7015-4daf-b223-3fc3bb559e36"
      },
      "execution_count": 41,
      "outputs": [
        {
          "output_type": "stream",
          "name": "stdout",
          "text": [
            "Inputs:\n",
            " tensor([[   40,   367,  2885,  1464],\n",
            "        [ 1807,  3619,   402,   271],\n",
            "        [10899,  2138,   257,  7026],\n",
            "        [15632,   438,  2016,   257],\n",
            "        [  922,  5891,  1576,   438],\n",
            "        [  568,   340,   373,   645],\n",
            "        [ 1049,  5975,   284,   502],\n",
            "        [  284,  3285,   326,    11]])\n",
            "\n",
            "Targets:\n",
            " tensor([[  367,  2885,  1464,  1807],\n",
            "        [ 3619,   402,   271, 10899],\n",
            "        [ 2138,   257,  7026, 15632],\n",
            "        [  438,  2016,   257,   922],\n",
            "        [ 5891,  1576,   438,   568],\n",
            "        [  340,   373,   645,  1049],\n",
            "        [ 5975,   284,   502,   284],\n",
            "        [ 3285,   326,    11,   287]])\n"
          ]
        }
      ]
    },
    {
      "cell_type": "markdown",
      "source": [
        "## 2.7 Creating token embeddings"
      ],
      "metadata": {
        "id": "1N9MY5X0gVWW"
      }
    },
    {
      "cell_type": "code",
      "source": [
        "# 词汇表的索引\n",
        "input_ids = torch.tensor([2, 3, 5, 1])"
      ],
      "metadata": {
        "id": "UxKST0_ActGZ"
      },
      "execution_count": 42,
      "outputs": []
    },
    {
      "cell_type": "code",
      "source": [
        "vocab_size = 6\n",
        "output_dim = 3"
      ],
      "metadata": {
        "id": "rtUaNlw6dA4-"
      },
      "execution_count": 43,
      "outputs": []
    },
    {
      "cell_type": "code",
      "source": [
        "torch.manual_seed(123)\n",
        "embedding_layer = torch.nn.Embedding(vocab_size, output_dim)\n",
        "print(embedding_layer.weight)"
      ],
      "metadata": {
        "id": "1aljD7ojczAa",
        "colab": {
          "base_uri": "https://localhost:8080/"
        },
        "outputId": "bb143070-c0b3-4087-c88e-16f47a075697"
      },
      "execution_count": 44,
      "outputs": [
        {
          "output_type": "stream",
          "name": "stdout",
          "text": [
            "Parameter containing:\n",
            "tensor([[ 0.3374, -0.1778, -0.1690],\n",
            "        [ 0.9178,  1.5810,  1.3010],\n",
            "        [ 1.2753, -0.2010, -0.1606],\n",
            "        [-0.4015,  0.9666, -1.1481],\n",
            "        [-1.1589,  0.3255, -0.6315],\n",
            "        [-2.8400, -0.7849, -1.4096]], requires_grad=True)\n"
          ]
        }
      ]
    },
    {
      "cell_type": "code",
      "source": [
        "print(embedding_layer(torch.tensor([3])))"
      ],
      "metadata": {
        "id": "wFhyZylFc7Nd",
        "colab": {
          "base_uri": "https://localhost:8080/"
        },
        "outputId": "2a4dae94-e703-4e29-f608-a14685c02e38"
      },
      "execution_count": 45,
      "outputs": [
        {
          "output_type": "stream",
          "name": "stdout",
          "text": [
            "tensor([[-0.4015,  0.9666, -1.1481]], grad_fn=<EmbeddingBackward0>)\n"
          ]
        }
      ]
    },
    {
      "cell_type": "code",
      "source": [
        " print(embedding_layer(input_ids))"
      ],
      "metadata": {
        "id": "eu0E7zWcdGXK",
        "colab": {
          "base_uri": "https://localhost:8080/"
        },
        "outputId": "8a0682c2-34ae-431b-aab0-d9b7aa52e8a1"
      },
      "execution_count": 46,
      "outputs": [
        {
          "output_type": "stream",
          "name": "stdout",
          "text": [
            "tensor([[ 1.2753, -0.2010, -0.1606],\n",
            "        [-0.4015,  0.9666, -1.1481],\n",
            "        [-2.8400, -0.7849, -1.4096],\n",
            "        [ 0.9178,  1.5810,  1.3010]], grad_fn=<EmbeddingBackward0>)\n"
          ]
        }
      ]
    },
    {
      "cell_type": "markdown",
      "source": [
        "## 2.8 Encoding word positions"
      ],
      "metadata": {
        "id": "2A0CXlDcgrXn"
      }
    },
    {
      "cell_type": "code",
      "source": [
        "vocab_size = 50257\n",
        "output_dim = 256\n",
        "token_embedding_layer = torch.nn.Embedding(vocab_size, output_dim)\n",
        "max_length = 4\n",
        "dataloader = create_dataloader_v1(\n",
        "    raw_text, batch_size=8, max_length=max_length,stride=max_length, shuffle=False\n",
        ")\n",
        "data_iter = iter(dataloader)\n",
        "inputs, targets = next(data_iter)\n",
        "print(\"Token IDs:\\n\", inputs)\n",
        "# 8是 batch_size（每个批次的样本数 ）\n",
        "# 4是 max_length（每个样本包含的 token 数量 ）\n",
        "print(\"\\nInputs shape:\\n\", inputs.shape)"
      ],
      "metadata": {
        "id": "dnJ2D3GEdMCo",
        "colab": {
          "base_uri": "https://localhost:8080/"
        },
        "outputId": "9e6b3baa-0be1-4792-9b29-0474078d42c5"
      },
      "execution_count": 47,
      "outputs": [
        {
          "output_type": "stream",
          "name": "stdout",
          "text": [
            "Token IDs:\n",
            " tensor([[   40,   367,  2885,  1464],\n",
            "        [ 1807,  3619,   402,   271],\n",
            "        [10899,  2138,   257,  7026],\n",
            "        [15632,   438,  2016,   257],\n",
            "        [  922,  5891,  1576,   438],\n",
            "        [  568,   340,   373,   645],\n",
            "        [ 1049,  5975,   284,   502],\n",
            "        [  284,  3285,   326,    11]])\n",
            "\n",
            "Inputs shape:\n",
            " torch.Size([8, 4])\n"
          ]
        }
      ]
    },
    {
      "cell_type": "code",
      "source": [
        "token_embeddings = token_embedding_layer(inputs)\n",
        "print(token_embeddings.shape)"
      ],
      "metadata": {
        "id": "CK-KU_SDeewa",
        "colab": {
          "base_uri": "https://localhost:8080/"
        },
        "outputId": "d190a2c5-ce06-4fa6-ccf5-6e1d0073fbed"
      },
      "execution_count": 48,
      "outputs": [
        {
          "output_type": "stream",
          "name": "stdout",
          "text": [
            "torch.Size([8, 4, 256])\n"
          ]
        }
      ]
    },
    {
      "cell_type": "code",
      "source": [
        "context_length = max_length\n",
        "# 创建一个 PyTorch 嵌入层，专门用于生成位置嵌入\n",
        "pos_embedding_layer = torch.nn.Embedding(context_length, output_dim)\n",
        "# 生成从 0 到 context_length-1 的位置索引序列 嵌入\n",
        "pos_embeddings = pos_embedding_layer(torch.arange(context_length))\n",
        "print(pos_embeddings.shape)"
      ],
      "metadata": {
        "id": "RoaIXTjYejlV",
        "colab": {
          "base_uri": "https://localhost:8080/"
        },
        "outputId": "61a53183-e27b-4d0b-b25f-fde44e858940"
      },
      "execution_count": 49,
      "outputs": [
        {
          "output_type": "stream",
          "name": "stdout",
          "text": [
            "torch.Size([4, 256])\n"
          ]
        }
      ]
    },
    {
      "cell_type": "code",
      "source": [
        "input_embeddings = token_embeddings + pos_embeddings\n",
        "print(input_embeddings.shape)"
      ],
      "metadata": {
        "id": "TtaSsKaGenb3",
        "colab": {
          "base_uri": "https://localhost:8080/"
        },
        "outputId": "e63fdcac-aa6b-40f2-ed1d-e62a3258c18e"
      },
      "execution_count": 50,
      "outputs": [
        {
          "output_type": "stream",
          "name": "stdout",
          "text": [
            "torch.Size([8, 4, 256])\n"
          ]
        }
      ]
    },
    {
      "cell_type": "markdown",
      "source": [
        "# 3 Coding attention mechanisms"
      ],
      "metadata": {
        "id": "UzIQFEwvfNUB"
      }
    },
    {
      "cell_type": "markdown",
      "source": [
        "## 3.1 The problem with modeling long sequences"
      ],
      "metadata": {
        "id": "3-le9mQRg5zZ"
      }
    },
    {
      "cell_type": "markdown",
      "source": [
        "## 3.2 Capturing data dependencies with attention mechanisms"
      ],
      "metadata": {
        "id": "aaEiQctGIVeU"
      }
    },
    {
      "cell_type": "markdown",
      "source": [
        "##  3.3 Attending to different parts of the input with self-attention"
      ],
      "metadata": {
        "id": "9gAc2g5GIe8n"
      }
    },
    {
      "cell_type": "markdown",
      "source": [
        "###  3.3.1 A simple self-attention mechanism without trainable weights"
      ],
      "metadata": {
        "id": "6832aipFIkSU"
      }
    },
    {
      "cell_type": "code",
      "source": [
        "import torch\n",
        "# 每个子列表代表一个词（或 token）的嵌入向量\n",
        "inputs = torch.tensor(\n",
        "    [\n",
        "        [0.43, 0.15, 0.89],  # Your (x^1)\n",
        "        [0.55, 0.87, 0.66],  # journey (x^2)\n",
        "        [0.57, 0.85, 0.64],  # starts (x^3)\n",
        "        [0.22, 0.58, 0.33],  # with (x^4)\n",
        "        [0.77, 0.25, 0.10],  # one (x^5)\n",
        "        [0.05, 0.80, 0.55]   # step (x^6)\n",
        "    ]\n",
        ")"
      ],
      "metadata": {
        "id": "BuoLin0OfTFp"
      },
      "execution_count": 51,
      "outputs": []
    },
    {
      "cell_type": "code",
      "source": [
        "# 获取第二个输入token作为查询向量（索引从0开始，所以inputs[1]是第二个元素）\n",
        "query = inputs[1]\n",
        "\n",
        "# 创建一个空张量，用于存储注意力分数，形状为(inputs.shape[0],)\n",
        "# inputs.shape[0]表示输入张量的第一个维度大小（即token的数量）\n",
        "attn_scores_2 = torch.empty(inputs.shape[0])\n",
        "\n",
        "# 遍历输入张量中的每个token\n",
        "# i是当前token的索引，x_i是当前token的嵌入向量\n",
        "for i, x_i in enumerate(inputs):\n",
        "    # 计算当前token与查询向量的点积，作为注意力分数\n",
        "    # torch.dot()用于计算两个向量的点积\n",
        "    attn_scores_2[i] = torch.dot(x_i, query)\n",
        "\n",
        "# 打印注意力分数\n",
        "print(attn_scores_2)"
      ],
      "metadata": {
        "id": "YwqyOICWfXq_",
        "colab": {
          "base_uri": "https://localhost:8080/"
        },
        "outputId": "3c3e893a-68aa-4510-dbc5-98a3124b2023"
      },
      "execution_count": 52,
      "outputs": [
        {
          "output_type": "stream",
          "name": "stdout",
          "text": [
            "tensor([0.9544, 1.4950, 1.4754, 0.8434, 0.7070, 1.0865])\n"
          ]
        }
      ]
    },
    {
      "cell_type": "code",
      "source": [
        "# 计算注意力权重：将注意力分数除以所有分数的总和，实现归一化\n",
        "attn_weights_2_tmp = attn_scores_2 / attn_scores_2.sum()\n",
        "\n",
        "# 打印注意力权重\n",
        "print(\"Attention weights:\", attn_weights_2_tmp)\n",
        "\n",
        "# 打印注意力权重的总和，验证是否归一化（理论上应为1）\n",
        "print(\"Sum:\", attn_weights_2_tmp.sum())"
      ],
      "metadata": {
        "id": "iQ_UGYyBJCDr",
        "colab": {
          "base_uri": "https://localhost:8080/"
        },
        "outputId": "522a5bba-95c5-4058-f771-0c6602d19d74"
      },
      "execution_count": 53,
      "outputs": [
        {
          "output_type": "stream",
          "name": "stdout",
          "text": [
            "Attention weights: tensor([0.1455, 0.2278, 0.2249, 0.1285, 0.1077, 0.1656])\n",
            "Sum: tensor(1.0000)\n"
          ]
        }
      ]
    },
    {
      "cell_type": "code",
      "source": [
        "def softmax_naive(x):\n",
        "    \"\"\"\n",
        "    手动实现softmax函数\n",
        "    Args:\n",
        "        x: 输入张量\n",
        "    Returns:\n",
        "        经过softmax处理后的张量\n",
        "    \"\"\"\n",
        "    # 计算输入张量的指数值\n",
        "    exp_x = torch.exp(x)\n",
        "    # 计算指数值的和（按第0维求和）\n",
        "    sum_exp_x = exp_x.sum(dim=0)\n",
        "    # 返回softmax结果：每个元素的指数值除以总和\n",
        "    return exp_x / sum_exp_x\n",
        "\n",
        "# 使用手动实现的softmax函数计算注意力权重\n",
        "attn_weights_2_naive = softmax_naive(attn_scores_2)\n",
        "\n",
        "# 打印注意力权重\n",
        "print(\"Attention weights:\", attn_weights_2_naive)\n",
        "\n",
        "# 打印注意力权重的总和，验证是否归一化（理论上应为1）\n",
        "print(\"Sum:\", attn_weights_2_naive.sum())"
      ],
      "metadata": {
        "id": "RJSaL0v8JQvs",
        "colab": {
          "base_uri": "https://localhost:8080/"
        },
        "outputId": "692d6613-a5d4-40a6-c146-40b3d17568da"
      },
      "execution_count": 54,
      "outputs": [
        {
          "output_type": "stream",
          "name": "stdout",
          "text": [
            "Attention weights: tensor([0.1385, 0.2379, 0.2333, 0.1240, 0.1082, 0.1581])\n",
            "Sum: tensor(1.)\n"
          ]
        }
      ]
    },
    {
      "cell_type": "code",
      "source": [
        "# 使用PyTorch内置的softmax函数计算注意力权重\n",
        "# dim=0表示在第0维上进行softmax操作\n",
        "attn_weights_2 = torch.softmax(attn_scores_2, dim=0)\n",
        "\n",
        "# 打印注意力权重\n",
        "print(\"Attention weights:\", attn_weights_2)\n",
        "\n",
        "# 打印注意力权重的总和，验证是否归一化（理论上应为1）\n",
        "print(\"Sum:\", attn_weights_2.sum())"
      ],
      "metadata": {
        "id": "z4LQHSjQJczQ",
        "colab": {
          "base_uri": "https://localhost:8080/"
        },
        "outputId": "18b93b3f-7d98-4122-c90d-bc06667ffe0b"
      },
      "execution_count": 55,
      "outputs": [
        {
          "output_type": "stream",
          "name": "stdout",
          "text": [
            "Attention weights: tensor([0.1385, 0.2379, 0.2333, 0.1240, 0.1082, 0.1581])\n",
            "Sum: tensor(1.)\n"
          ]
        }
      ]
    },
    {
      "cell_type": "code",
      "source": [
        "# 获取第二个输入token作为查询向量（索引从0开始，所以inputs[1]是第二个元素）\n",
        "query = inputs[1]\n",
        "\n",
        "# 创建一个与查询向量形状相同的零张量，用于存储上下文向量\n",
        "context_vec_2 = torch.zeros(query.shape)\n",
        "\n",
        "# 遍历输入张量中的每个token\n",
        "# i是当前token的索引，x_i是当前token的嵌入向量\n",
        "for i, x_i in enumerate(inputs):\n",
        "    # 将当前token的嵌入向量乘以对应的注意力权重，并累加到上下文向量中\n",
        "    context_vec_2 += attn_weights_2[i] * x_i\n",
        "\n",
        "# 打印计算得到的上下文向量\n",
        "print(context_vec_2)"
      ],
      "metadata": {
        "id": "lVu77QelJm2R",
        "colab": {
          "base_uri": "https://localhost:8080/"
        },
        "outputId": "86d0075e-120f-40c6-9d3f-2f335b527c75"
      },
      "execution_count": 56,
      "outputs": [
        {
          "output_type": "stream",
          "name": "stdout",
          "text": [
            "tensor([0.4419, 0.6515, 0.5683])\n"
          ]
        }
      ]
    },
    {
      "cell_type": "markdown",
      "source": [
        "###  3.3.2 Computing attention weights for all input tokens"
      ],
      "metadata": {
        "id": "FF8Tt-nVKl-5"
      }
    },
    {
      "cell_type": "code",
      "source": [
        "# 创建一个形状为(6, 6)的空张量，用于存储注意力分数\n",
        "attn_scores = torch.empty(6, 6)\n",
        "\n",
        "# 遍历输入张量中的每个token（作为键，i是索引，x_i是嵌入向量）\n",
        "for i, x_i in enumerate(inputs):\n",
        "    # 遍历输入张量中的每个token（作为查询，j是索引，x_j是嵌入向量）\n",
        "    for j, x_j in enumerate(inputs):\n",
        "        # 计算当前键（x_i）和查询（x_j）的点积，作为注意力分数\n",
        "        attn_scores[i, j] = torch.dot(x_i, x_j)\n",
        "\n",
        "# 打印注意力分数矩阵\n",
        "print(attn_scores)"
      ],
      "metadata": {
        "id": "vh4d-_lmKVlp",
        "colab": {
          "base_uri": "https://localhost:8080/"
        },
        "outputId": "b50b9deb-8e66-463d-ce5f-43fdd3e231ca"
      },
      "execution_count": 57,
      "outputs": [
        {
          "output_type": "stream",
          "name": "stdout",
          "text": [
            "tensor([[0.9995, 0.9544, 0.9422, 0.4753, 0.4576, 0.6310],\n",
            "        [0.9544, 1.4950, 1.4754, 0.8434, 0.7070, 1.0865],\n",
            "        [0.9422, 1.4754, 1.4570, 0.8296, 0.7154, 1.0605],\n",
            "        [0.4753, 0.8434, 0.8296, 0.4937, 0.3474, 0.6565],\n",
            "        [0.4576, 0.7070, 0.7154, 0.3474, 0.6654, 0.2935],\n",
            "        [0.6310, 1.0865, 1.0605, 0.6565, 0.2935, 0.9450]])\n"
          ]
        }
      ]
    },
    {
      "cell_type": "code",
      "source": [
        "# 使用矩阵乘法计算自注意力分数矩阵\n",
        "# inputs.T 表示inputs的转置\n",
        "attn_scores = inputs @ inputs.T\n",
        "\n",
        "# 打印注意力分数矩阵\n",
        "print(attn_scores)\n",
        "# 确保前一个矩阵的列数 = 后一个矩阵的行数"
      ],
      "metadata": {
        "id": "TM0KnPMlKyrB",
        "colab": {
          "base_uri": "https://localhost:8080/"
        },
        "outputId": "155716f4-573b-476b-eb40-152e2fad4f33"
      },
      "execution_count": 58,
      "outputs": [
        {
          "output_type": "stream",
          "name": "stdout",
          "text": [
            "tensor([[0.9995, 0.9544, 0.9422, 0.4753, 0.4576, 0.6310],\n",
            "        [0.9544, 1.4950, 1.4754, 0.8434, 0.7070, 1.0865],\n",
            "        [0.9422, 1.4754, 1.4570, 0.8296, 0.7154, 1.0605],\n",
            "        [0.4753, 0.8434, 0.8296, 0.4937, 0.3474, 0.6565],\n",
            "        [0.4576, 0.7070, 0.7154, 0.3474, 0.6654, 0.2935],\n",
            "        [0.6310, 1.0865, 1.0605, 0.6565, 0.2935, 0.9450]])\n"
          ]
        }
      ]
    },
    {
      "cell_type": "code",
      "source": [
        "# 对注意力分数矩阵进行softmax归一化\n",
        "# dim=-1表示在最后一个维度上进行softmax操作\n",
        "attn_weights = torch.softmax(attn_scores, dim=-1)\n",
        "\n",
        "# 打印归一化后的注意力权重矩阵\n",
        "print(attn_weights)"
      ],
      "metadata": {
        "id": "LPwvd5_pK_KP",
        "colab": {
          "base_uri": "https://localhost:8080/"
        },
        "outputId": "f92c7976-1167-4c49-da3c-f48eea89fa94"
      },
      "execution_count": 59,
      "outputs": [
        {
          "output_type": "stream",
          "name": "stdout",
          "text": [
            "tensor([[0.2098, 0.2006, 0.1981, 0.1242, 0.1220, 0.1452],\n",
            "        [0.1385, 0.2379, 0.2333, 0.1240, 0.1082, 0.1581],\n",
            "        [0.1390, 0.2369, 0.2326, 0.1242, 0.1108, 0.1565],\n",
            "        [0.1435, 0.2074, 0.2046, 0.1462, 0.1263, 0.1720],\n",
            "        [0.1526, 0.1958, 0.1975, 0.1367, 0.1879, 0.1295],\n",
            "        [0.1385, 0.2184, 0.2128, 0.1420, 0.0988, 0.1896]])\n"
          ]
        }
      ]
    },
    {
      "cell_type": "code",
      "source": [
        "# 手动计算第二行的和（假设这是softmax后的注意力权重）\n",
        "row_2_sum = sum([0.1385, 0.2379, 0.2333, 0.1240, 0.1082, 0.1581])\n",
        "\n",
        "# 打印手动计算的第二行和\n",
        "print(\"Row 2 sum:\", row_2_sum)\n",
        "\n",
        "# 使用PyTorch的sum函数计算每行的和\n",
        "# dim=-1表示在最后一个维度（行）上求和\n",
        "print(\"All row sums:\", attn_weights.sum(dim=-1))"
      ],
      "metadata": {
        "id": "l5F_3V6NLH-Q",
        "colab": {
          "base_uri": "https://localhost:8080/"
        },
        "outputId": "a2fe0295-681e-4510-9af8-8be56faa5fb4"
      },
      "execution_count": 60,
      "outputs": [
        {
          "output_type": "stream",
          "name": "stdout",
          "text": [
            "Row 2 sum: 1.0\n",
            "All row sums: tensor([1.0000, 1.0000, 1.0000, 1.0000, 1.0000, 1.0000])\n"
          ]
        }
      ]
    },
    {
      "cell_type": "code",
      "source": [
        "# 使用矩阵乘法计算所有上下文向量\n",
        "# attn_weights是注意力权重矩阵\n",
        "# inputs是原始输入嵌入向量\n",
        "all_context_vecs = attn_weights @ inputs\n",
        "\n",
        "# 打印计算得到的所有上下文向量\n",
        "print(all_context_vecs)"
      ],
      "metadata": {
        "id": "WDbL69t3LoSy",
        "colab": {
          "base_uri": "https://localhost:8080/"
        },
        "outputId": "152f59c8-9b07-46e6-e9b2-8c691924f174"
      },
      "execution_count": 61,
      "outputs": [
        {
          "output_type": "stream",
          "name": "stdout",
          "text": [
            "tensor([[0.4421, 0.5931, 0.5790],\n",
            "        [0.4419, 0.6515, 0.5683],\n",
            "        [0.4431, 0.6496, 0.5671],\n",
            "        [0.4304, 0.6298, 0.5510],\n",
            "        [0.4671, 0.5910, 0.5266],\n",
            "        [0.4177, 0.6503, 0.5645]])\n"
          ]
        }
      ]
    },
    {
      "cell_type": "code",
      "source": [
        "print(\"Previous 2nd context vector:\", context_vec_2)"
      ],
      "metadata": {
        "id": "VWIeKmrsLwf-",
        "colab": {
          "base_uri": "https://localhost:8080/"
        },
        "outputId": "8bbb7bda-398c-4586-ded9-ef6b2f935dc7"
      },
      "execution_count": 62,
      "outputs": [
        {
          "output_type": "stream",
          "name": "stdout",
          "text": [
            "Previous 2nd context vector: tensor([0.4419, 0.6515, 0.5683])\n"
          ]
        }
      ]
    },
    {
      "cell_type": "markdown",
      "source": [
        "##  3.4 Implementing self-attention with trainable weights"
      ],
      "metadata": {
        "id": "jm0MkQo7L04o"
      }
    },
    {
      "cell_type": "markdown",
      "source": [
        "###  3.4.1 Computing the attention weights step by step"
      ],
      "metadata": {
        "id": "QvM1ctFkMkSL"
      }
    },
    {
      "cell_type": "code",
      "source": [
        "# 获取输入张量的第二个元素（索引从0开始，所以inputs[1]是第二个元素）\n",
        "x_2 = inputs[1]\n",
        "\n",
        "# 获取输入嵌入的维度（假设inputs是一个二维张量，inputs.shape[1]表示列数）\n",
        "d_in = inputs.shape[1]\n",
        "\n",
        "# 定义输出嵌入的维度\n",
        "d_out = 2"
      ],
      "metadata": {
        "id": "vA0AMlZhLzJY"
      },
      "execution_count": 63,
      "outputs": []
    },
    {
      "cell_type": "code",
      "source": [
        "# 设置随机种子，确保结果可复现\n",
        "torch.manual_seed(123)\n",
        "\n",
        "# 初始化查询(Query)线性变换矩阵\n",
        "# d_in是输入维度，d_out是输出维度\n",
        "# requires_grad=False表示该矩阵不需要梯度更新\n",
        "W_query = torch.nn.Parameter(torch.rand(d_in, d_out), requires_grad=False)\n",
        "\n",
        "# 初始化键(Key)线性变换矩阵\n",
        "W_key = torch.nn.Parameter(torch.rand(d_in, d_out), requires_grad=False)\n",
        "\n",
        "# 初始化值(Value)线性变换矩阵\n",
        "W_value = torch.nn.Parameter(torch.rand(d_in, d_out), requires_grad=False)"
      ],
      "metadata": {
        "id": "sg0Kk0GiMunu"
      },
      "execution_count": 64,
      "outputs": []
    },
    {
      "cell_type": "code",
      "source": [
        "# 计算查询向量的线性变换结果\n",
        "# x_2是输入向量，W_query是查询线性变换矩阵\n",
        "query_2 = x_2 @ W_query\n",
        "\n",
        "# 计算键向量的线性变换结果\n",
        "# x_2是输入向量，W_key是键线性变换矩阵\n",
        "key_2 = x_2 @ W_key\n",
        "\n",
        "# 计算值向量的线性变换结果\n",
        "# x_2是输入向量，W_value是值线性变换矩阵\n",
        "value_2 = x_2 @ W_value\n",
        "\n",
        "# 打印查询向量的线性变换结果\n",
        "print(query_2)"
      ],
      "metadata": {
        "id": "4nDfLMaXM0_v",
        "colab": {
          "base_uri": "https://localhost:8080/"
        },
        "outputId": "74bacc85-458f-4b77-ccd5-1aac0010e169"
      },
      "execution_count": 65,
      "outputs": [
        {
          "output_type": "stream",
          "name": "stdout",
          "text": [
            "tensor([0.4306, 1.4551])\n"
          ]
        }
      ]
    },
    {
      "cell_type": "code",
      "source": [
        "# 计算所有输入向量的键表示\n",
        "# inputs是输入张量，W_key是键线性变换矩阵\n",
        "keys = inputs @ W_key\n",
        "\n",
        "# 计算所有输入向量的值表示\n",
        "# inputs是输入张量，W_value是值线性变换矩阵\n",
        "values = inputs @ W_value\n",
        "\n",
        "# 打印键表示的形状\n",
        "print(\"Keys.shape:\", keys.shape)\n",
        "\n",
        "# 打印值表示的形状\n",
        "print(\"Values.shape:\", values.shape)"
      ],
      "metadata": {
        "id": "ZfuwQsyNM6tl",
        "colab": {
          "base_uri": "https://localhost:8080/"
        },
        "outputId": "f9cf8feb-64ab-429b-964c-6c8eb419a510"
      },
      "execution_count": 66,
      "outputs": [
        {
          "output_type": "stream",
          "name": "stdout",
          "text": [
            "Keys.shape: torch.Size([6, 2])\n",
            "Values.shape: torch.Size([6, 2])\n"
          ]
        }
      ]
    },
    {
      "cell_type": "code",
      "source": [
        "# 获取键张量中的第二个元素（索引从0开始，所以keys[1]是第二个元素）\n",
        "keys_2 = keys[1]\n",
        "\n",
        "# 计算查询向量和键向量的点积，作为注意力分数\n",
        "attn_score_22 = query_2.dot(keys_2)\n",
        "\n",
        "# 打印计算得到的注意力分数\n",
        "print(attn_score_22)"
      ],
      "metadata": {
        "id": "qwP-3jShNHhm",
        "colab": {
          "base_uri": "https://localhost:8080/"
        },
        "outputId": "8275a34a-6c32-48e1-fd55-bd710c30fbf0"
      },
      "execution_count": 67,
      "outputs": [
        {
          "output_type": "stream",
          "name": "stdout",
          "text": [
            "tensor(1.8524)\n"
          ]
        }
      ]
    },
    {
      "cell_type": "code",
      "source": [
        "# 计算单个查询向量与所有键向量的注意力分数\n",
        "# query_2是查询向量，keys.T是键张量的转置\n",
        "attn_scores_2 = query_2 @ keys.T\n",
        "\n",
        "# 打印计算得到的注意力分数\n",
        "print(attn_scores_2)"
      ],
      "metadata": {
        "id": "_ggzDYF7PqMA",
        "colab": {
          "base_uri": "https://localhost:8080/"
        },
        "outputId": "d12440e5-34d1-4124-90a2-5ab30dd8d20d"
      },
      "execution_count": 68,
      "outputs": [
        {
          "output_type": "stream",
          "name": "stdout",
          "text": [
            "tensor([1.2705, 1.8524, 1.8111, 1.0795, 0.5577, 1.5440])\n"
          ]
        }
      ]
    },
    {
      "cell_type": "code",
      "source": [
        "# 获取键向量的最后一个维度大小（即键的维度）\n",
        "d_k = keys.shape[-1]\n",
        "\n",
        "# 计算缩放的注意力权重\n",
        "# attn_scores_2是原始注意力分数\n",
        "# d_k**0.5是缩放因子，用于防止梯度消失\n",
        "attn_weights_2 = torch.softmax(attn_scores_2 / (d_k**0.5), dim=-1)\n",
        "\n",
        "# 打印计算得到的注意力权重\n",
        "print(attn_weights_2)"
      ],
      "metadata": {
        "id": "Qg2xnAHBPzMx",
        "colab": {
          "base_uri": "https://localhost:8080/"
        },
        "outputId": "647ab595-91c0-433b-cb8e-006c8734b335"
      },
      "execution_count": 69,
      "outputs": [
        {
          "output_type": "stream",
          "name": "stdout",
          "text": [
            "tensor([0.1500, 0.2264, 0.2199, 0.1311, 0.0906, 0.1820])\n"
          ]
        }
      ]
    },
    {
      "cell_type": "code",
      "source": [
        "# 计算上下文向量\n",
        "# attn_weights_2是注意力权重\n",
        "# values是值张量\n",
        "context_vec_2 = attn_weights_2 @ values\n",
        "\n",
        "# 打印计算得到的上下文向量\n",
        "print(context_vec_2)"
      ],
      "metadata": {
        "id": "vyHKQGpfQO2k",
        "colab": {
          "base_uri": "https://localhost:8080/"
        },
        "outputId": "727dac36-cfba-44dc-fdfa-7c726058c705"
      },
      "execution_count": 70,
      "outputs": [
        {
          "output_type": "stream",
          "name": "stdout",
          "text": [
            "tensor([0.3061, 0.8210])\n"
          ]
        }
      ]
    },
    {
      "cell_type": "markdown",
      "source": [
        "### 3.4.2 Implementing a compact self-attention Python class"
      ],
      "metadata": {
        "id": "IDOfijhLTbp3"
      }
    },
    {
      "cell_type": "code",
      "source": [
        "import torch.nn as nn\n",
        "\n",
        "class SelfAttention_v1(nn.Module):\n",
        "  # __call__\n",
        "    def __init__(self, d_in, d_out):\n",
        "        super().__init__()\n",
        "        # 初始化查询(Query)线性变换矩阵\n",
        "        self.W_query = nn.Parameter(torch.rand(d_in, d_out))\n",
        "        # 初始化键(Key)线性变换矩阵\n",
        "        self.W_key = nn.Parameter(torch.rand(d_in, d_out))\n",
        "        # 初始化值(Value)线性变换矩阵\n",
        "        self.W_value = nn.Parameter(torch.rand(d_in, d_out))\n",
        "\n",
        "    def forward(self, x):\n",
        "        # 计算所有输入向量的键表示\n",
        "        keys = x @ self.W_key\n",
        "        # 计算所有输入向量的查询表示\n",
        "        queries = x @ self.W_query\n",
        "        # 计算所有输入向量的值表示\n",
        "        values = x @ self.W_value\n",
        "\n",
        "        # 计算注意力分数\n",
        "        attn_scores = queries @ keys.T\n",
        "\n",
        "        # 计算缩放的注意力权重\n",
        "        attn_weights = torch.softmax(\n",
        "            attn_scores / (keys.shape[-1]**0.5),\n",
        "            dim=-1\n",
        "        )\n",
        "\n",
        "        # 计算上下文向量\n",
        "        context_vec = attn_weights @ values\n",
        "\n",
        "        # 返回上下文向量\n",
        "        return context_vec"
      ],
      "metadata": {
        "id": "SmL4WV-JTasz"
      },
      "execution_count": 71,
      "outputs": []
    },
    {
      "cell_type": "code",
      "source": [
        "# 设置随机种子，确保结果可复现\n",
        "torch.manual_seed(123)\n",
        "\n",
        "# 实例化自注意力模块\n",
        "# d_in是输入维度，d_out是输出维度\n",
        "sa_v1 = SelfAttention_v1(d_in, d_out)\n",
        "\n",
        "print(sa_v1(inputs))"
      ],
      "metadata": {
        "id": "JZJDceXgTnq6",
        "colab": {
          "base_uri": "https://localhost:8080/"
        },
        "outputId": "9dcafa45-01f9-4b2c-c5e5-6899407297b6"
      },
      "execution_count": 72,
      "outputs": [
        {
          "output_type": "stream",
          "name": "stdout",
          "text": [
            "tensor([[0.2996, 0.8053],\n",
            "        [0.3061, 0.8210],\n",
            "        [0.3058, 0.8203],\n",
            "        [0.2948, 0.7939],\n",
            "        [0.2927, 0.7891],\n",
            "        [0.2990, 0.8040]], grad_fn=<MmBackward0>)\n"
          ]
        }
      ]
    },
    {
      "cell_type": "code",
      "source": [
        "class SelfAttention_v2(nn.Module):\n",
        "    def __init__(self, d_in, d_out, qkv_bias=False):\n",
        "        super().__init__()\n",
        "        # 定义查询(Query)线性层\n",
        "        self.W_query = nn.Linear(d_in, d_out, bias=qkv_bias)\n",
        "        # 定义键(Key)线性层\n",
        "        self.W_key = nn.Linear(d_in, d_out, bias=qkv_bias)\n",
        "        # 定义值(Value)线性层\n",
        "        self.W_value = nn.Linear(d_in, d_out, bias=qkv_bias)\n",
        "\n",
        "    def forward(self, x):\n",
        "        # 计算所有输入向量的键表示\n",
        "        keys = self.W_key(x)\n",
        "        # 计算所有输入向量的查询表示\n",
        "        queries = self.W_query(x)\n",
        "        # 计算所有输入向量的值表示\n",
        "        values = self.W_value(x)\n",
        "\n",
        "        # 计算注意力分数\n",
        "        attn_scores = queries @ keys.T\n",
        "\n",
        "        # 计算缩放的注意力权重\n",
        "        attn_weights = torch.softmax(\n",
        "            attn_scores / (keys.shape[-1]**0.5),\n",
        "            dim=-1\n",
        "        )\n",
        "\n",
        "        # 计算上下文向量\n",
        "        context_vec = attn_weights @ values\n",
        "\n",
        "        # 返回上下文向量\n",
        "        return context_vec"
      ],
      "metadata": {
        "id": "8phheiFyT8kN"
      },
      "execution_count": 73,
      "outputs": []
    },
    {
      "cell_type": "code",
      "source": [
        "torch.manual_seed(789)\n",
        "sa_v2 = SelfAttention_v2(d_in, d_out)\n",
        "print(sa_v2(inputs))"
      ],
      "metadata": {
        "id": "waufOHzJUQ9B",
        "colab": {
          "base_uri": "https://localhost:8080/"
        },
        "outputId": "f8268ebe-a4f4-4320-ba8b-012d38e35db7"
      },
      "execution_count": 74,
      "outputs": [
        {
          "output_type": "stream",
          "name": "stdout",
          "text": [
            "tensor([[-0.0739,  0.0713],\n",
            "        [-0.0748,  0.0703],\n",
            "        [-0.0749,  0.0702],\n",
            "        [-0.0760,  0.0685],\n",
            "        [-0.0763,  0.0679],\n",
            "        [-0.0754,  0.0693]], grad_fn=<MmBackward0>)\n"
          ]
        }
      ]
    },
    {
      "cell_type": "markdown",
      "source": [
        " ## 3.5 Hiding future words with causal attention"
      ],
      "metadata": {
        "id": "4CZn6R2gU1F6"
      }
    },
    {
      "cell_type": "markdown",
      "source": [
        "###  3.5.1 Applying a causal attention mask"
      ],
      "metadata": {
        "id": "bI7Cx3WhU6W0"
      }
    },
    {
      "cell_type": "code",
      "source": [
        "# 计算查询向量\n",
        "# sa_v2.W_query是查询线性层\n",
        "# inputs是输入张量\n",
        "queries = sa_v2.W_query(inputs)\n",
        "\n",
        "# 计算键向量\n",
        "# sa_v2.W_key是键线性层\n",
        "# inputs是输入张量\n",
        "keys = sa_v2.W_key(inputs)\n",
        "\n",
        "# 计算注意力分数\n",
        "# queries是查询矩阵，keys.T是键矩阵的转置\n",
        "attn_scores = queries @ keys.T\n",
        "\n",
        "# 计算缩放的注意力权重\n",
        "# attn_scores是原始注意力分数\n",
        "# keys.shape[-1]**0.5是缩放因子，用于防止梯度消失\n",
        "attn_weights = torch.softmax(attn_scores / (keys.shape[-1]**0.5), dim=-1)\n",
        "\n",
        "# 打印计算得到的注意力权重\n",
        "print(attn_weights)"
      ],
      "metadata": {
        "id": "SrwYn8_XUdgU",
        "colab": {
          "base_uri": "https://localhost:8080/"
        },
        "outputId": "248070c0-7025-4b5f-8a3b-9ffb576dc56a"
      },
      "execution_count": 75,
      "outputs": [
        {
          "output_type": "stream",
          "name": "stdout",
          "text": [
            "tensor([[0.1921, 0.1646, 0.1652, 0.1550, 0.1721, 0.1510],\n",
            "        [0.2041, 0.1659, 0.1662, 0.1496, 0.1665, 0.1477],\n",
            "        [0.2036, 0.1659, 0.1662, 0.1498, 0.1664, 0.1480],\n",
            "        [0.1869, 0.1667, 0.1668, 0.1571, 0.1661, 0.1564],\n",
            "        [0.1830, 0.1669, 0.1670, 0.1588, 0.1658, 0.1585],\n",
            "        [0.1935, 0.1663, 0.1666, 0.1542, 0.1666, 0.1529]],\n",
            "       grad_fn=<SoftmaxBackward0>)\n"
          ]
        }
      ]
    },
    {
      "cell_type": "code",
      "source": [
        "# 获取注意力分数矩阵的行数（即上下文长度）\n",
        "context_length = attn_scores.shape[0]\n",
        "\n",
        "# 创建一个下三角掩码\n",
        "# torch.ones(context_length, context_length) 创建一个全1矩阵\n",
        "# torch.tril(...) 提取矩阵的下三角部分\n",
        "mask_simple = torch.tril(torch.ones(context_length, context_length))\n",
        "\n",
        "# 打印创建的掩码\n",
        "print(mask_simple)"
      ],
      "metadata": {
        "id": "hlrU4rWRWsVf",
        "colab": {
          "base_uri": "https://localhost:8080/"
        },
        "outputId": "2229b107-6fed-4754-a864-0d699e8690c4"
      },
      "execution_count": 76,
      "outputs": [
        {
          "output_type": "stream",
          "name": "stdout",
          "text": [
            "tensor([[1., 0., 0., 0., 0., 0.],\n",
            "        [1., 1., 0., 0., 0., 0.],\n",
            "        [1., 1., 1., 0., 0., 0.],\n",
            "        [1., 1., 1., 1., 0., 0.],\n",
            "        [1., 1., 1., 1., 1., 0.],\n",
            "        [1., 1., 1., 1., 1., 1.]])\n"
          ]
        }
      ]
    },
    {
      "cell_type": "code",
      "source": [
        "# 将注意力权重与掩码相乘\n",
        "# attn_weights是原始注意力权重\n",
        "# mask_simple是下三角掩码\n",
        "masked_simple = attn_weights * mask_simple\n",
        "\n",
        "# 打印掩码后的注意力权重\n",
        "print(masked_simple)"
      ],
      "metadata": {
        "id": "bezLWW0eXCEX",
        "colab": {
          "base_uri": "https://localhost:8080/"
        },
        "outputId": "7304f74d-232b-444e-95db-904b0538cd7f"
      },
      "execution_count": 77,
      "outputs": [
        {
          "output_type": "stream",
          "name": "stdout",
          "text": [
            "tensor([[0.1921, 0.0000, 0.0000, 0.0000, 0.0000, 0.0000],\n",
            "        [0.2041, 0.1659, 0.0000, 0.0000, 0.0000, 0.0000],\n",
            "        [0.2036, 0.1659, 0.1662, 0.0000, 0.0000, 0.0000],\n",
            "        [0.1869, 0.1667, 0.1668, 0.1571, 0.0000, 0.0000],\n",
            "        [0.1830, 0.1669, 0.1670, 0.1588, 0.1658, 0.0000],\n",
            "        [0.1935, 0.1663, 0.1666, 0.1542, 0.1666, 0.1529]],\n",
            "       grad_fn=<MulBackward0>)\n"
          ]
        }
      ]
    },
    {
      "cell_type": "code",
      "source": [
        "# 计算每行的和\n",
        "# masked_simple是掩码后的注意力权重\n",
        "# dim=-1表示在最后一个维度（行）上求和\n",
        "# keepdim=True表示保持维度\n",
        "row_sums = masked_simple.sum(dim=-1, keepdim=True)\n",
        "\n",
        "# 对掩码后的注意力权重进行归一化\n",
        "# masked_simple / row_sums 将每行的元素除以该行的和\n",
        "masked_simple_norm = masked_simple / row_sums\n",
        "\n",
        "# 打印归一化后的注意力权重\n",
        "print(masked_simple_norm)"
      ],
      "metadata": {
        "id": "yukCuASnXH63",
        "colab": {
          "base_uri": "https://localhost:8080/"
        },
        "outputId": "67807650-97d1-4406-cd45-9d6fcfa38939"
      },
      "execution_count": 78,
      "outputs": [
        {
          "output_type": "stream",
          "name": "stdout",
          "text": [
            "tensor([[1.0000, 0.0000, 0.0000, 0.0000, 0.0000, 0.0000],\n",
            "        [0.5517, 0.4483, 0.0000, 0.0000, 0.0000, 0.0000],\n",
            "        [0.3800, 0.3097, 0.3103, 0.0000, 0.0000, 0.0000],\n",
            "        [0.2758, 0.2460, 0.2462, 0.2319, 0.0000, 0.0000],\n",
            "        [0.2175, 0.1983, 0.1984, 0.1888, 0.1971, 0.0000],\n",
            "        [0.1935, 0.1663, 0.1666, 0.1542, 0.1666, 0.1529]],\n",
            "       grad_fn=<DivBackward0>)\n"
          ]
        }
      ]
    },
    {
      "cell_type": "code",
      "source": [
        "# 创建一个上三角掩码，对角线以上的元素为1\n",
        "# torch.ones(context_length, context_length) 创建一个全1矩阵\n",
        "# torch.triu(..., diagonal=1) 提取矩阵的上三角部分（不包括对角线）\n",
        "mask = torch.triu(torch.ones(context_length, context_length), diagonal=1)\n",
        "\n",
        "# 将注意力分数矩阵中对应掩码为1的位置填充为负无穷\n",
        "# attn_scores.masked_fill(mask.bool(), -torch.inf) 将掩码位置填充为负无穷\n",
        "masked = attn_scores.masked_fill(mask.bool(), -torch.inf)\n",
        "\n",
        "# 打印掩码后的注意力分数\n",
        "print(masked)"
      ],
      "metadata": {
        "id": "y2oCmmotXOZM",
        "colab": {
          "base_uri": "https://localhost:8080/"
        },
        "outputId": "b5fa6534-d429-4190-e400-6a6b8a150308"
      },
      "execution_count": 79,
      "outputs": [
        {
          "output_type": "stream",
          "name": "stdout",
          "text": [
            "tensor([[0.2899,   -inf,   -inf,   -inf,   -inf,   -inf],\n",
            "        [0.4656, 0.1723,   -inf,   -inf,   -inf,   -inf],\n",
            "        [0.4594, 0.1703, 0.1731,   -inf,   -inf,   -inf],\n",
            "        [0.2642, 0.1024, 0.1036, 0.0186,   -inf,   -inf],\n",
            "        [0.2183, 0.0874, 0.0882, 0.0177, 0.0786,   -inf],\n",
            "        [0.3408, 0.1270, 0.1290, 0.0198, 0.1290, 0.0078]],\n",
            "       grad_fn=<MaskedFillBackward0>)\n"
          ]
        }
      ]
    },
    {
      "cell_type": "code",
      "source": [
        "# 计算缩放的注意力权重\n",
        "# masked是掩码后的注意力分数\n",
        "# keys.shape[-1]**0.5是缩放因子，用于防止梯度消失\n",
        "# dim=1表示在第二个维度（列）上进行softmax\n",
        "attn_weights = torch.softmax(masked / (keys.shape[-1]**0.5), dim=1)\n",
        "\n",
        "# 打印计算得到的注意力权重\n",
        "print(attn_weights)"
      ],
      "metadata": {
        "id": "Llf-di35XUi5",
        "colab": {
          "base_uri": "https://localhost:8080/"
        },
        "outputId": "2c1407c6-b154-464f-8144-37ff2492bf79"
      },
      "execution_count": 80,
      "outputs": [
        {
          "output_type": "stream",
          "name": "stdout",
          "text": [
            "tensor([[1.0000, 0.0000, 0.0000, 0.0000, 0.0000, 0.0000],\n",
            "        [0.5517, 0.4483, 0.0000, 0.0000, 0.0000, 0.0000],\n",
            "        [0.3800, 0.3097, 0.3103, 0.0000, 0.0000, 0.0000],\n",
            "        [0.2758, 0.2460, 0.2462, 0.2319, 0.0000, 0.0000],\n",
            "        [0.2175, 0.1983, 0.1984, 0.1888, 0.1971, 0.0000],\n",
            "        [0.1935, 0.1663, 0.1666, 0.1542, 0.1666, 0.1529]],\n",
            "       grad_fn=<SoftmaxBackward0>)\n"
          ]
        }
      ]
    },
    {
      "cell_type": "markdown",
      "source": [
        "###  3.5.2 Masking additional attention weights with dropout"
      ],
      "metadata": {
        "id": "E0QpQIjaXjYV"
      }
    },
    {
      "cell_type": "code",
      "source": [
        "torch.manual_seed(123)\n",
        "dropout = torch.nn.Dropout(0.5)\n",
        "# torch.ones(*size)，用于生成指定形状的全 1 张量\n",
        "example = torch.ones(6, 6)\n",
        "print(dropout(example))"
      ],
      "metadata": {
        "id": "fVMyF_V1Xf5v",
        "colab": {
          "base_uri": "https://localhost:8080/"
        },
        "outputId": "74fe3828-2ac2-4820-8b43-b36eedcd019a"
      },
      "execution_count": 81,
      "outputs": [
        {
          "output_type": "stream",
          "name": "stdout",
          "text": [
            "tensor([[2., 2., 2., 2., 2., 2.],\n",
            "        [0., 2., 0., 0., 0., 0.],\n",
            "        [0., 0., 2., 0., 2., 0.],\n",
            "        [2., 2., 0., 0., 0., 2.],\n",
            "        [2., 0., 0., 0., 0., 2.],\n",
            "        [0., 2., 0., 0., 0., 0.]])\n"
          ]
        }
      ]
    },
    {
      "cell_type": "code",
      "source": [
        "torch.manual_seed(123)\n",
        "print(dropout(attn_weights))"
      ],
      "metadata": {
        "id": "RG9NEOSLXypA",
        "colab": {
          "base_uri": "https://localhost:8080/"
        },
        "outputId": "6a7c0e42-2299-46c4-99dc-1b242b3c1755"
      },
      "execution_count": 82,
      "outputs": [
        {
          "output_type": "stream",
          "name": "stdout",
          "text": [
            "tensor([[2.0000, 0.0000, 0.0000, 0.0000, 0.0000, 0.0000],\n",
            "        [0.0000, 0.8966, 0.0000, 0.0000, 0.0000, 0.0000],\n",
            "        [0.0000, 0.0000, 0.6206, 0.0000, 0.0000, 0.0000],\n",
            "        [0.5517, 0.4921, 0.0000, 0.0000, 0.0000, 0.0000],\n",
            "        [0.4350, 0.0000, 0.0000, 0.0000, 0.0000, 0.0000],\n",
            "        [0.0000, 0.3327, 0.0000, 0.0000, 0.0000, 0.0000]],\n",
            "       grad_fn=<MulBackward0>)\n"
          ]
        }
      ]
    },
    {
      "cell_type": "markdown",
      "source": [
        "###  3.5.3 Implementing a compact causal attention class"
      ],
      "metadata": {
        "id": "8YwMn_oUYGJz"
      }
    },
    {
      "cell_type": "code",
      "source": [
        "# 将两个输入张量沿第一个维度（批量维度）堆叠\n",
        "# dim=0表示沿第一个维度堆叠\n",
        "# torch.stack：新增维度进行堆叠，维度数会增加 1\n",
        "batch = torch.stack((inputs, inputs), dim=0)\n",
        "\n",
        "# 打印堆叠后的张量形状\n",
        "print(batch.shape)"
      ],
      "metadata": {
        "id": "ywQHttVtYFO-",
        "colab": {
          "base_uri": "https://localhost:8080/"
        },
        "outputId": "cde79722-bb73-4f98-ff4e-533c2a2fb101"
      },
      "execution_count": 83,
      "outputs": [
        {
          "output_type": "stream",
          "name": "stdout",
          "text": [
            "torch.Size([2, 6, 3])\n"
          ]
        }
      ]
    },
    {
      "cell_type": "code",
      "source": [
        "import torch\n",
        "import torch.nn as nn\n",
        "\n",
        "class CausalAttention(nn.Module):\n",
        "    def __init__(self, d_in, d_out, context_length, dropout, qkv_bias=False):\n",
        "        super().__init__()\n",
        "        self.d_out = d_out\n",
        "        # nn.Linear == y = x·W^T + b\n",
        "        # 定义查询(Query)线性层\n",
        "        self.W_query = nn.Linear(d_in, d_out, bias=qkv_bias)\n",
        "        # 定义键(Key)线性层\n",
        "        self.W_key = nn.Linear(d_in, d_out, bias=qkv_bias)\n",
        "        # 定义值(Value)线性层\n",
        "        self.W_value = nn.Linear(d_in, d_out, bias=qkv_bias)\n",
        "        # 定义Dropout层\n",
        "        self.dropout = nn.Dropout(dropout)\n",
        "\n",
        "        # 注册一个缓冲区，存储因果掩码\n",
        "        self.register_buffer(\n",
        "            'mask',\n",
        "            torch.triu(torch.ones(context_length, context_length), diagonal=1)\n",
        "        )\n",
        "\n",
        "    def forward(self, x):\n",
        "        # 获取输入张量的形状\n",
        "        b, num_tokens, d_in = x.shape\n",
        "\n",
        "        # 计算所有输入向量的键表示\n",
        "        keys = self.W_key(x)\n",
        "        # 计算所有输入向量的查询表示\n",
        "        queries = self.W_query(x)\n",
        "        # 计算所有输入向量的值表示\n",
        "        values = self.W_value(x)\n",
        "\n",
        "        # 计算注意力分数\n",
        "        attn_scores = queries @ keys.transpose(1, 2)\n",
        "\n",
        "        # 应用因果掩码\n",
        "        attn_scores.masked_fill_(\n",
        "            self.mask[:num_tokens, :num_tokens].bool(), -torch.inf\n",
        "        )\n",
        "\n",
        "        # 计算缩放的注意力权重\n",
        "        attn_weights = torch.softmax(\n",
        "            attn_scores / (keys.shape[-1]**0.5),\n",
        "            dim=-1\n",
        "        )\n",
        "\n",
        "        # 应用Dropout\n",
        "        attn_weights = self.dropout(attn_weights)\n",
        "\n",
        "        # 计算上下文向量\n",
        "        context_vec = attn_weights @ values\n",
        "\n",
        "        # 返回上下文向量\n",
        "        return context_vec"
      ],
      "metadata": {
        "id": "bI_wTyGtZBIR"
      },
      "execution_count": 84,
      "outputs": []
    },
    {
      "cell_type": "code",
      "source": [
        "# 设置随机种子，确保结果可复现\n",
        "torch.manual_seed(123)\n",
        "\n",
        "# 获取批量输入的上下文长度\n",
        "# batch.shape[1]获取第二个维度的大小（即上下文长度）\n",
        "context_length = batch.shape[1]\n",
        "\n",
        "# 实例化因果自注意力模块\n",
        "# d_in是输入维度，d_out是输出维度\n",
        "# context_length是上下文长度\n",
        "# 0.0表示不使用Dropout\n",
        "ca = CausalAttention(d_in, d_out, context_length, 0.0)\n",
        "\n",
        "# 计算因果自注意力模块的输出\n",
        "# batch是输入张量\n",
        "context_vecs = ca(batch)\n",
        "\n",
        "# 打印输出张量的形状\n",
        "print(\"context_vecs.shape:\", context_vecs.shape)"
      ],
      "metadata": {
        "id": "kEH2NtnxZQLN",
        "colab": {
          "base_uri": "https://localhost:8080/"
        },
        "outputId": "e92012be-0809-4cb8-f1eb-acd9b6e8b05d"
      },
      "execution_count": 85,
      "outputs": [
        {
          "output_type": "stream",
          "name": "stdout",
          "text": [
            "context_vecs.shape: torch.Size([2, 6, 2])\n"
          ]
        }
      ]
    },
    {
      "cell_type": "markdown",
      "source": [
        "##  3.6 Extending single-head attention to multi-head attention"
      ],
      "metadata": {
        "id": "QgM8yPngsM1v"
      }
    },
    {
      "cell_type": "markdown",
      "source": [
        "###  3.6.1 Stacking multiple single-head attention layers"
      ],
      "metadata": {
        "id": "9MJt-1RQse6S"
      }
    },
    {
      "cell_type": "code",
      "source": [
        "import torch\n",
        "import torch.nn as nn\n",
        "\n",
        "class MultiHeadAttention(nn.Module):\n",
        "    def __init__(self, d_in, d_out, context_length, dropout, num_heads, qkv_bias=False):\n",
        "        super().__init__()\n",
        "        # 创建多个因果自注意力头\n",
        "        self.heads = nn.ModuleList([\n",
        "            CausalAttention(d_in, d_out, context_length, dropout, qkv_bias)\n",
        "            for _ in range(num_heads)\n",
        "        ])\n",
        "\n",
        "    def forward(self, x):\n",
        "        # 对每个自注意力头的输出进行拼接\n",
        "        # head(x) 调用每个自注意力头的前向传播方法\n",
        "        # torch.cat(..., dim=-1) 沿最后一个维度拼接\n",
        "        return torch.cat([head(x) for head in self.heads], dim=-1)"
      ],
      "metadata": {
        "id": "KlQHilzTZayF"
      },
      "execution_count": 86,
      "outputs": []
    },
    {
      "cell_type": "code",
      "source": [
        "# 设置随机种子，确保结果可复现\n",
        "torch.manual_seed(123)\n",
        "\n",
        "# 获取批量输入的上下文长度\n",
        "# batch是输入张量，假设形状为(2, 6, 3)\n",
        "# batch.shape[1]获取第二个维度的大小（即上下文长度）\n",
        "context_length = batch.shape[1]\n",
        "\n",
        "# 定义输入和输出维度\n",
        "d_in, d_out = 3, 2\n",
        "\n",
        "# 实例化多头自注意力模块\n",
        "# d_in是输入维度，d_out是输出维度\n",
        "# context_length是上下文长度\n",
        "# 0.0表示不使用Dropout\n",
        "# num_heads=2表示使用2个注意力头\n",
        "mha = MultiHeadAttention(d_in, d_out, context_length, 0.0, num_heads=2)\n",
        "\n",
        "# 计算多头自注意力模块的输出\n",
        "# batch是输入张量\n",
        "context_vecs = mha(batch)\n",
        "\n",
        "# 打印输出张量及其形状\n",
        "print(context_vecs)\n",
        "print(\"context_vecs.shape:\", context_vecs.shape)"
      ],
      "metadata": {
        "id": "60zL5Fxesshz",
        "colab": {
          "base_uri": "https://localhost:8080/"
        },
        "outputId": "7fc30669-6307-45b3-b253-5ecdb4b7770f"
      },
      "execution_count": 87,
      "outputs": [
        {
          "output_type": "stream",
          "name": "stdout",
          "text": [
            "tensor([[[-0.4519,  0.2216,  0.4772,  0.1063],\n",
            "         [-0.5874,  0.0058,  0.5891,  0.3257],\n",
            "         [-0.6300, -0.0632,  0.6202,  0.3860],\n",
            "         [-0.5675, -0.0843,  0.5478,  0.3589],\n",
            "         [-0.5526, -0.0981,  0.5321,  0.3428],\n",
            "         [-0.5299, -0.1081,  0.5077,  0.3493]],\n",
            "\n",
            "        [[-0.4519,  0.2216,  0.4772,  0.1063],\n",
            "         [-0.5874,  0.0058,  0.5891,  0.3257],\n",
            "         [-0.6300, -0.0632,  0.6202,  0.3860],\n",
            "         [-0.5675, -0.0843,  0.5478,  0.3589],\n",
            "         [-0.5526, -0.0981,  0.5321,  0.3428],\n",
            "         [-0.5299, -0.1081,  0.5077,  0.3493]]], grad_fn=<CatBackward0>)\n",
            "context_vecs.shape: torch.Size([2, 6, 4])\n"
          ]
        }
      ]
    },
    {
      "cell_type": "markdown",
      "source": [
        "###  3.6.2 Implementing multi-head attention with weight splits"
      ],
      "metadata": {
        "id": "90_C0Zi-txc9"
      }
    },
    {
      "cell_type": "code",
      "source": [
        "import torch\n",
        "import torch.nn as nn\n",
        "\n",
        "class MultiHeadAttention(nn.Module):\n",
        "    def __init__(self, d_in, d_out, context_length, dropout, num_heads, qkv_bias=False):\n",
        "        super().__init__()\n",
        "        # 确保输出维度可以被注意力头数整除\n",
        "        assert d_out % num_heads == 0, \"d_out must be divisible by num_heads\"\n",
        "\n",
        "        self.d_out = d_out\n",
        "        self.num_heads = num_heads\n",
        "        self.head_dim = d_out // num_heads\n",
        "\n",
        "        # 定义查询(Query)、键(Key)、值(Value)线性层\n",
        "        self.W_query = nn.Linear(d_in, d_out, bias=qkv_bias)\n",
        "        self.W_key = nn.Linear(d_in, d_out, bias=qkv_bias)\n",
        "        self.W_value = nn.Linear(d_in, d_out, bias=qkv_bias)\n",
        "\n",
        "        # 定义输出投影线性层\n",
        "        self.out_proj = nn.Linear(d_out, d_out)\n",
        "\n",
        "        # 定义Dropout层\n",
        "        self.dropout = nn.Dropout(dropout)\n",
        "\n",
        "        # 注册因果掩码\n",
        "        self.register_buffer(\n",
        "            'mask',\n",
        "            torch.triu(torch.ones(context_length, context_length), diagonal=1)\n",
        "        )\n",
        "\n",
        "    def forward(self, x):\n",
        "        # 获取输入张量的形状\n",
        "        b, num_tokens, d_in = x.shape\n",
        "\n",
        "        # 计算查询、键、值\n",
        "        keys = self.W_key(x)\n",
        "        queries = self.W_query(x)\n",
        "        values = self.W_value(x)\n",
        "\n",
        "        # 重塑张量以适应多头注意力\n",
        "        keys = keys.view(b, num_tokens, self.num_heads, self.head_dim)\n",
        "        values = values.view(b, num_tokens, self.num_heads, self.head_dim)\n",
        "        queries = queries.view(b, num_tokens, self.num_heads, self.head_dim)\n",
        "\n",
        "        # 调整维度顺序\n",
        "        keys = keys.transpose(1, 2)\n",
        "        queries = queries.transpose(1, 2)\n",
        "        values = values.transpose(1, 2)\n",
        "\n",
        "        # 计算注意力分数\n",
        "        attn_scores = queries @ keys.transpose(2, 3)\n",
        "\n",
        "        # 应用因果掩码\n",
        "        mask_bool = self.mask.bool()[:num_tokens, :num_tokens]\n",
        "        attn_scores.masked_fill_(mask_bool, -torch.inf)\n",
        "\n",
        "        # 计算缩放的注意力权重\n",
        "        attn_weights = torch.softmax(\n",
        "            attn_scores / (keys.shape[-1]**0.5),\n",
        "            dim=-1\n",
        "        )\n",
        "\n",
        "        # 应用Dropout\n",
        "        attn_weights = self.dropout(attn_weights)\n",
        "\n",
        "        # 计算上下文向量\n",
        "        context_vec = (attn_weights @ values).transpose(1, 2)\n",
        "\n",
        "        # 重塑张量并应用输出投影\n",
        "        context_vec = context_vec.contiguous().view(b, num_tokens, self.d_out)\n",
        "        context_vec = self.out_proj(context_vec)\n",
        "\n",
        "        # 返回上下文向量\n",
        "        return context_vec"
      ],
      "metadata": {
        "id": "Vk-dLwIws0jz"
      },
      "execution_count": 88,
      "outputs": []
    },
    {
      "cell_type": "code",
      "source": [
        "# 创建一个四维张量\n",
        "# 形状为 (1, 2, 3, 4)\n",
        "# 第一个维度：批量大小为1\n",
        "# 第二个维度：注意力头数为2\n",
        "# 第三个维度：token数量为3\n",
        "# 第四个维度：每个头的维度为4\n",
        "a = torch.tensor([[[[0.2745, 0.6584, 0.2775, 0.8573],\n",
        "           [0.8993, 0.0390, 0.9268, 0.7388],\n",
        "           [0.7179, 0.7058, 0.9156, 0.4340]],\n",
        "\n",
        "           [[0.0772, 0.3565, 0.1479, 0.5331],\n",
        "           [0.4066, 0.2318, 0.4545, 0.9737],\n",
        "           [0.4606, 0.5159, 0.4220, 0.5786]]]])"
      ],
      "metadata": {
        "id": "So1DktMouA0m"
      },
      "execution_count": 89,
      "outputs": []
    },
    {
      "cell_type": "code",
      "source": [
        "print(a @ a.transpose(2, 3))"
      ],
      "metadata": {
        "id": "ZeUpFGKauJrR",
        "colab": {
          "base_uri": "https://localhost:8080/"
        },
        "outputId": "0d527441-b498-42e2-a626-482d291b9041"
      },
      "execution_count": 90,
      "outputs": [
        {
          "output_type": "stream",
          "name": "stdout",
          "text": [
            "tensor([[[[1.3208, 1.1631, 1.2879],\n",
            "          [1.1631, 2.2150, 1.8424],\n",
            "          [1.2879, 1.8424, 2.0402]],\n",
            "\n",
            "         [[0.4391, 0.7003, 0.5903],\n",
            "          [0.7003, 1.3737, 1.0620],\n",
            "          [0.5903, 1.0620, 0.9912]]]])\n"
          ]
        }
      ]
    },
    {
      "cell_type": "code",
      "source": [
        "# 提取第一个注意力头\n",
        "# a是输入张量，形状为(1, 2, 3, 4)\n",
        "# a[0, 0, :, :] 提取第一个样本、第一个头、所有标记、所有维度\n",
        "first_head = a[0, 0, :, :]\n",
        "\n",
        "# 计算第一个注意力头的自注意力分数\n",
        "# first_head @ first_head.T 计算第一个头的查询和键的点积\n",
        "first_res = first_head @ first_head.T\n",
        "\n",
        "# 打印第一个头的自注意力分数\n",
        "print(\"First head:\\n\", first_res)\n",
        "\n",
        "# 提取第二个注意力头\n",
        "# a[0, 1, :, :] 提取第一个样本、第二个头、所有标记、所有维度\n",
        "second_head = a[0, 1, :, :]\n",
        "\n",
        "# 计算第二个注意力头的自注意力分数\n",
        "# second_head @ second_head.T 计算第二个头的查询和键的点积\n",
        "second_res = second_head @ second_head.T\n",
        "\n",
        "# 打印第二个头的自注意力分数\n",
        "print(\"\\nSecond head:\\n\", second_res)"
      ],
      "metadata": {
        "id": "k2_qBm-ruL1p",
        "colab": {
          "base_uri": "https://localhost:8080/"
        },
        "outputId": "d64b96e0-66ab-4002-f8c6-10a26429f347"
      },
      "execution_count": 91,
      "outputs": [
        {
          "output_type": "stream",
          "name": "stdout",
          "text": [
            "First head:\n",
            " tensor([[1.3208, 1.1631, 1.2879],\n",
            "        [1.1631, 2.2150, 1.8424],\n",
            "        [1.2879, 1.8424, 2.0402]])\n",
            "\n",
            "Second head:\n",
            " tensor([[0.4391, 0.7003, 0.5903],\n",
            "        [0.7003, 1.3737, 1.0620],\n",
            "        [0.5903, 1.0620, 0.9912]])\n"
          ]
        }
      ]
    },
    {
      "cell_type": "code",
      "source": [
        "# 设置随机种子，确保结果可复现\n",
        "torch.manual_seed(123)\n",
        "\n",
        "# 获取批量输入的上下文长度和输入维度\n",
        "# batch是输入张量，假设形状为(2, 6, 3)\n",
        "# batch.shape[1]获取第二个维度的大小（即上下文长度）\n",
        "# batch.shape[2]获取第三个维度的大小（即输入维度）\n",
        "batch_size, context_length, d_in = batch.shape\n",
        "\n",
        "# 定义输出维度\n",
        "d_out = 2\n",
        "\n",
        "# 实例化多头自注意力模块\n",
        "# d_in是输入维度，d_out是输出维度\n",
        "# context_length是上下文长度\n",
        "# 0.0表示不使用Dropout\n",
        "# num_heads=2表示使用2个注意力头\n",
        "mha = MultiHeadAttention(d_in, d_out, context_length, 0.0, num_heads=2)\n",
        "\n",
        "# 计算多头自注意力模块的输出\n",
        "# batch是输入张量\n",
        "context_vecs = mha(batch)\n",
        "\n",
        "# 打印输出张量的形状\n",
        "print(context_vecs)\n",
        "print(\"context_vecs.shape:\", context_vecs.shape)"
      ],
      "metadata": {
        "id": "gbFhZ2z7uWEh",
        "colab": {
          "base_uri": "https://localhost:8080/"
        },
        "outputId": "46e746bd-a2d7-4e06-cbbb-b15d78ab6f15"
      },
      "execution_count": 92,
      "outputs": [
        {
          "output_type": "stream",
          "name": "stdout",
          "text": [
            "tensor([[[0.3190, 0.4858],\n",
            "         [0.2943, 0.3897],\n",
            "         [0.2856, 0.3593],\n",
            "         [0.2693, 0.3873],\n",
            "         [0.2639, 0.3928],\n",
            "         [0.2575, 0.4028]],\n",
            "\n",
            "        [[0.3190, 0.4858],\n",
            "         [0.2943, 0.3897],\n",
            "         [0.2856, 0.3593],\n",
            "         [0.2693, 0.3873],\n",
            "         [0.2639, 0.3928],\n",
            "         [0.2575, 0.4028]]], grad_fn=<ViewBackward0>)\n",
            "context_vecs.shape: torch.Size([2, 6, 2])\n"
          ]
        }
      ]
    },
    {
      "cell_type": "markdown",
      "source": [
        "# 4 Implementing a GPT model from scratch to generate text"
      ],
      "metadata": {
        "id": "M-mz4p-jupzu"
      }
    },
    {
      "cell_type": "markdown",
      "source": [
        "## 4.1 Coding an LLM architecture"
      ],
      "metadata": {
        "id": "s3LHoTCx9gvj"
      }
    },
    {
      "cell_type": "code",
      "source": [
        "# 定义一个名为GPT_CONFIG_124M的字典，用于配置一个1.24亿参数规模的GPT模型\n",
        "GPT_CONFIG_124M = {\n",
        "    \"vocab_size\": 50257,  # 词汇表大小，即模型能够识别的不同单词或标记的数量\n",
        "    \"context_length\": 1024,  # 上下文长度，指模型在处理文本时能够考虑的最大单词数量\n",
        "    \"emb_dim\": 768,  # 嵌入维度，即每个单词或标记被转换为的向量空间的维度\n",
        "    \"n_heads\": 12,  # 注意力头的数量，即模型在处理注意力机制时使用的并行注意力头的数量\n",
        "    \"n_layers\": 12,  # 层数，即模型中Transformer层的数量\n",
        "    \"drop_rate\": 0.1,  # 丢弃率，即在训练过程中随机丢弃神经元的比例\n",
        "    \"qkv_bias\": False  # 查询-键-值偏置，指是否在计算注意力机制时使用偏置\n",
        "}"
      ],
      "metadata": {
        "id": "T7sW7upzutaX"
      },
      "execution_count": 93,
      "outputs": []
    },
    {
      "cell_type": "code",
      "source": [
        "import torch\n",
        "import torch.nn as nn\n",
        "\n",
        "# 定义一个简化版的GPT模型\n",
        "class DummyGPTModel(nn.Module):\n",
        "    def __init__(self, cfg):\n",
        "        super().__init__()\n",
        "        # 标记嵌入层，将输入标记转换为向量表示\n",
        "        self.tok_emb = nn.Embedding(cfg[\"vocab_size\"], cfg[\"emb_dim\"])\n",
        "        # 位置嵌入层，为每个位置添加位置信息\n",
        "        self.pos_emb = nn.Embedding(cfg[\"context_length\"], cfg[\"emb_dim\"])\n",
        "        # 嵌入层后的Dropout层，用于防止过拟合\n",
        "        self.drop_emb = nn.Dropout(cfg[\"drop_rate\"])\n",
        "        # Transformer块序列，使用占位符类DummyTransformerBlock\n",
        "        self.trf_blocks = nn.Sequential(\n",
        "            *[DummyTransformerBlock(cfg) for _ in range(cfg[\"n_layers\"])]\n",
        "        )\n",
        "        # 最终的层归一化，使用占位符类DummyLayerNorm\n",
        "        self.final_norm = DummyLayerNorm(cfg[\"emb_dim\"])\n",
        "        # 输出头，将处理后的向量映射回词汇表大小\n",
        "        self.out_head = nn.Linear(cfg[\"emb_dim\"], cfg[\"vocab_size\"], bias=False)\n",
        "\n",
        "    def forward(self, in_idx):\n",
        "        # 获取输入张量的形状\n",
        "        batch_size, seq_len = in_idx.shape\n",
        "        # 计算标记嵌入\n",
        "        tok_embeds = self.tok_emb(in_idx)\n",
        "        # 计算位置嵌入\n",
        "        pos_embeds = self.pos_emb(\n",
        "            torch.arange(seq_len, device=in_idx.device)\n",
        "        )\n",
        "        # 标记嵌入和位置嵌入相加\n",
        "        x = tok_embeds + pos_embeds\n",
        "        # 应用Dropout\n",
        "        x = self.drop_emb(x)\n",
        "        # 通过Transformer块\n",
        "        x = self.trf_blocks(x)\n",
        "        # 应用层归一化\n",
        "        x = self.final_norm(x)\n",
        "        # 计算输出logits\n",
        "        logits = self.out_head(x)\n",
        "        # 返回logits\n",
        "        return logits\n",
        "\n",
        "# 占位符类，实际应用中会被真实的Transformer块替换\n",
        "class DummyTransformerBlock(nn.Module):\n",
        "    def __init__(self, cfg):\n",
        "        super().__init__()\n",
        "\n",
        "    def forward(self, x):\n",
        "        return x\n",
        "\n",
        "# 占位符类，实际应用中会被真实的层归一化替换\n",
        "class DummyLayerNorm(nn.Module):\n",
        "    def __init__(self, normalized_shape, eps=1e-5):\n",
        "        super().__init__()\n",
        "\n",
        "    def forward(self, x):\n",
        "        return x"
      ],
      "metadata": {
        "id": "U8t9YY3z920U"
      },
      "execution_count": 94,
      "outputs": []
    },
    {
      "cell_type": "code",
      "source": [
        "# torch.Size([2, 4])\n",
        "# 第一个维度 2 表示批次大小（\n",
        "# 第二个维度 4 表示每个文本被分成 4 个 token\n",
        "import tiktoken\n",
        "import torch\n",
        "\n",
        "tokenizer = tiktoken.get_encoding(\"gpt2\")\n",
        "batch = []\n",
        "txt1 = \"Every effort moves you\"\n",
        "txt2 = \"Every day holds a\"\n",
        "batch.append(torch.tensor(tokenizer.encode(txt1)))\n",
        "batch.append(torch.tensor(tokenizer.encode(txt2)))\n",
        "batch = torch.stack(batch, dim=0)\n",
        "print(batch)"
      ],
      "metadata": {
        "id": "5UUxScBL-JBy",
        "colab": {
          "base_uri": "https://localhost:8080/"
        },
        "outputId": "a45acb73-13a6-4e65-9658-24a06d274aea"
      },
      "execution_count": 95,
      "outputs": [
        {
          "output_type": "stream",
          "name": "stdout",
          "text": [
            "tensor([[6109, 3626, 6100,  345],\n",
            "        [6109, 1110, 6622,  257]])\n"
          ]
        }
      ]
    },
    {
      "cell_type": "code",
      "source": [
        "# 设置随机种子，确保结果可复现\n",
        "torch.manual_seed(123)\n",
        "\n",
        "# 实例化DummyGPTModel模型\n",
        "# GPT_CONFIG_124M是配置字典\n",
        "model = DummyGPTModel(GPT_CONFIG_124M)\n",
        "\n",
        "# 计算模型的输出\n",
        "# batch是输入张量\n",
        "logits = model(batch)\n",
        "\n",
        "# 打印输出张量的形状\n",
        "print(\"Output shape:\", logits.shape)\n",
        "\n",
        "# 打印输出张量\n",
        "# logits = [batch_size, seq_len, vocab_size]\n",
        "print(logits)"
      ],
      "metadata": {
        "id": "U4MHXAuP-Wi2",
        "colab": {
          "base_uri": "https://localhost:8080/"
        },
        "outputId": "95bfc69f-d939-4b4a-8908-261b83a23da2"
      },
      "execution_count": 96,
      "outputs": [
        {
          "output_type": "stream",
          "name": "stdout",
          "text": [
            "Output shape: torch.Size([2, 4, 50257])\n",
            "tensor([[[-0.9289,  0.2748, -0.7557,  ..., -1.6070,  0.2702, -0.5888],\n",
            "         [-0.4476,  0.1726,  0.5354,  ..., -0.3932,  1.5285,  0.8557],\n",
            "         [ 0.5680,  1.6053, -0.2155,  ...,  1.1624,  0.1380,  0.7425],\n",
            "         [ 0.0447,  2.4787, -0.8843,  ...,  1.3219, -0.0864, -0.5856]],\n",
            "\n",
            "        [[-1.5474, -0.0542, -1.0571,  ..., -1.8061, -0.4494, -0.6747],\n",
            "         [-0.8422,  0.8243, -0.1098,  ..., -0.1434,  0.2079,  1.2046],\n",
            "         [ 0.1355,  1.1858, -0.1453,  ...,  0.0869, -0.1590,  0.1552],\n",
            "         [ 0.1666, -0.8138,  0.2307,  ...,  2.5035, -0.3055, -0.3083]]],\n",
            "       grad_fn=<UnsafeViewBackward0>)\n"
          ]
        }
      ]
    },
    {
      "cell_type": "markdown",
      "source": [
        "## 4.2 Normalizing activations with layer normalization"
      ],
      "metadata": {
        "id": "9j4wwCJ7-kxH"
      }
    },
    {
      "cell_type": "code",
      "source": [
        "# 设置随机种子，确保结果可复现\n",
        "torch.manual_seed(123)\n",
        "\n",
        "# 创建一个随机张量，形状为(2, 5)\n",
        "# 表示2个训练样本，每个样本有5个特征\n",
        "batch_example = torch.randn(2, 5)\n",
        "\n",
        "# 定义一个神经网络层序列\n",
        "# 包含一个线性层和一个ReLU激活函数\n",
        "layer = nn.Sequential(nn.Linear(5, 6), nn.ReLU())\n",
        "\n",
        "# 对输入张量进行前向传播\n",
        "out = layer(batch_example)\n",
        "\n",
        "# 打印输出结果\n",
        "print(out)"
      ],
      "metadata": {
        "id": "XecJClw6-gbT",
        "colab": {
          "base_uri": "https://localhost:8080/"
        },
        "outputId": "2a3e3019-d369-4899-dbe2-a320f8d80b8e"
      },
      "execution_count": 97,
      "outputs": [
        {
          "output_type": "stream",
          "name": "stdout",
          "text": [
            "tensor([[0.2260, 0.3470, 0.0000, 0.2216, 0.0000, 0.0000],\n",
            "        [0.2133, 0.2394, 0.0000, 0.5198, 0.3297, 0.0000]],\n",
            "       grad_fn=<ReluBackward0>)\n"
          ]
        }
      ]
    },
    {
      "cell_type": "code",
      "source": [
        "# 计算张量的均值，沿最后一个维度，保持维度\n",
        "mean = out.mean(dim=-1, keepdim=True)\n",
        "\n",
        "# 计算张量的方差，沿最后一个维度，保持维度\n",
        "var = out.var(dim=-1, keepdim=True)\n",
        "\n",
        "# 打印均值\n",
        "print(\"Mean:\\n\", mean)\n",
        "\n",
        "# 打印方差\n",
        "print(\"Variance:\\n\", var)"
      ],
      "metadata": {
        "id": "YTAzEIKl-0PS",
        "colab": {
          "base_uri": "https://localhost:8080/"
        },
        "outputId": "02977107-a38b-4a4f-8bc1-7ec268cfa959"
      },
      "execution_count": 98,
      "outputs": [
        {
          "output_type": "stream",
          "name": "stdout",
          "text": [
            "Mean:\n",
            " tensor([[0.1324],\n",
            "        [0.2170]], grad_fn=<MeanBackward1>)\n",
            "Variance:\n",
            " tensor([[0.0231],\n",
            "        [0.0398]], grad_fn=<VarBackward0>)\n"
          ]
        }
      ]
    },
    {
      "cell_type": "code",
      "source": [
        "# 对张量进行归一化处理\n",
        "# (out - mean) 减去均值\n",
        "# torch.sqrt(var) 计算方差的平方根\n",
        "out_norm = (out - mean) / torch.sqrt(var)\n",
        "\n",
        "# 重新计算归一化后的均值\n",
        "mean = out_norm.mean(dim=-1, keepdim=True)\n",
        "\n",
        "# 重新计算归一化后的方差\n",
        "var = out_norm.var(dim=-1, keepdim=True)\n",
        "\n",
        "# 打印归一化后的张量\n",
        "print(\"Normalized layer outputs:\\n\", out_norm)\n",
        "\n",
        "# 打印归一化后的均值\n",
        "print(\"Mean:\\n\", mean)\n",
        "\n",
        "# 打印归一化后的方差\n",
        "print(\"Variance:\\n\", var)"
      ],
      "metadata": {
        "id": "btpX0GvB-67X",
        "colab": {
          "base_uri": "https://localhost:8080/"
        },
        "outputId": "ab8c914d-1c87-498a-88fa-2f7e47d49576"
      },
      "execution_count": 99,
      "outputs": [
        {
          "output_type": "stream",
          "name": "stdout",
          "text": [
            "Normalized layer outputs:\n",
            " tensor([[ 0.6159,  1.4126, -0.8719,  0.5872, -0.8719, -0.8719],\n",
            "        [-0.0189,  0.1121, -1.0876,  1.5173,  0.5647, -1.0876]],\n",
            "       grad_fn=<DivBackward0>)\n",
            "Mean:\n",
            " tensor([[9.9341e-09],\n",
            "        [1.9868e-08]], grad_fn=<MeanBackward1>)\n",
            "Variance:\n",
            " tensor([[1.0000],\n",
            "        [1.0000]], grad_fn=<VarBackward0>)\n"
          ]
        }
      ]
    },
    {
      "cell_type": "code",
      "source": [
        "# 设置PyTorch的打印选项，禁用科学计数法\n",
        "torch.set_printoptions(sci_mode=False)\n",
        "\n",
        "# 打印均值\n",
        "print(\"Mean:\\n\", mean)\n",
        "\n",
        "# 打印方差\n",
        "print(\"Variance:\\n\", var)"
      ],
      "metadata": {
        "id": "MF2NxM5p_Bt9",
        "colab": {
          "base_uri": "https://localhost:8080/"
        },
        "outputId": "6fa49105-bfe2-4762-9ace-1b1370158f78"
      },
      "execution_count": 100,
      "outputs": [
        {
          "output_type": "stream",
          "name": "stdout",
          "text": [
            "Mean:\n",
            " tensor([[    0.0000],\n",
            "        [    0.0000]], grad_fn=<MeanBackward1>)\n",
            "Variance:\n",
            " tensor([[1.0000],\n",
            "        [1.0000]], grad_fn=<VarBackward0>)\n"
          ]
        }
      ]
    },
    {
      "cell_type": "code",
      "source": [
        "import torch\n",
        "import torch.nn as nn\n",
        "\n",
        "class LayerNorm(nn.Module):\n",
        "    def __init__(self, emb_dim):\n",
        "        super().__init__()\n",
        "        # 数值稳定性参数\n",
        "        self.eps = 1e-5\n",
        "        # 缩放参数，初始化为全1\n",
        "        self.scale = nn.Parameter(torch.ones(emb_dim))\n",
        "        # 偏移参数，初始化为全0\n",
        "        self.shift = nn.Parameter(torch.zeros(emb_dim))\n",
        "\n",
        "    def forward(self, x):\n",
        "        # 计算输入张量的均值，沿最后一个维度，保持维度\n",
        "        mean = x.mean(dim=-1, keepdim=True)\n",
        "        # 计算输入张量的方差，沿最后一个维度，保持维度\n",
        "        var = x.var(dim=-1, keepdim=True, unbiased=False)\n",
        "        # 归一化操作\n",
        "        # (x - mean) 减去均值\n",
        "        # torch.sqrt(var + self.eps) 计算方差的平方根，并加上数值稳定性参数\n",
        "        norm = (x - mean) / torch.sqrt(var + self.eps)\n",
        "        # 应用缩放和偏移\n",
        "        return self.scale * norm + self.shift"
      ],
      "metadata": {
        "id": "Yj2lqssb_HeN"
      },
      "execution_count": 101,
      "outputs": []
    },
    {
      "cell_type": "code",
      "source": [
        "# 实例化自定义的层归一化模块，嵌入维度为5\n",
        "ln = LayerNorm(emb_dim=5)\n",
        "\n",
        "# 对输入张量进行层归一化\n",
        "out_ln = ln(batch_example)\n",
        "\n",
        "# 计算归一化后的均值，沿最后一个维度，保持维度\n",
        "mean = out_ln.mean(dim=-1, keepdim=True)\n",
        "\n",
        "# 计算归一化后的方差，沿最后一个维度，保持维度\n",
        "var = out_ln.var(dim=-1, unbiased=False, keepdim=True)\n",
        "\n",
        "# 打印归一化后的均值\n",
        "print(\"Mean:\\n\", mean)\n",
        "\n",
        "# 打印归一化后的方差\n",
        "print(\"Variance:\\n\", var)"
      ],
      "metadata": {
        "id": "4h5rjh1k_Q2z",
        "colab": {
          "base_uri": "https://localhost:8080/"
        },
        "outputId": "763522f9-525a-45d0-9271-cf9984f39399"
      },
      "execution_count": 102,
      "outputs": [
        {
          "output_type": "stream",
          "name": "stdout",
          "text": [
            "Mean:\n",
            " tensor([[    -0.0000],\n",
            "        [     0.0000]], grad_fn=<MeanBackward1>)\n",
            "Variance:\n",
            " tensor([[1.0000],\n",
            "        [1.0000]], grad_fn=<VarBackward0>)\n"
          ]
        }
      ]
    },
    {
      "cell_type": "markdown",
      "source": [
        "##  4.3 Implementing a feed forward network with GELU activations"
      ],
      "metadata": {
        "id": "f6793NHG_Z_4"
      }
    },
    {
      "cell_type": "code",
      "source": [
        "import torch\n",
        "import torch.nn as nn\n",
        "\n",
        "class GELU(nn.Module):\n",
        "    def __init__(self):\n",
        "        super().__init__()\n",
        "\n",
        "    def forward(self, x):\n",
        "        return 0.5 * x * (1 + torch.tanh(\n",
        "            torch.sqrt(torch.tensor(2.0 / torch.pi)) *\n",
        "            (x + 0.044715 * torch.pow(x, 3))\n",
        "        ))"
      ],
      "metadata": {
        "id": "ICBthErt_X-G"
      },
      "execution_count": 103,
      "outputs": []
    },
    {
      "cell_type": "code",
      "source": [
        "import matplotlib.pyplot as plt\n",
        "# 实例化GELU和ReLU激活函数\n",
        "gelu, relu = GELU(), nn.ReLU()\n",
        "# 创建100个样本数据点，范围从-3到3\n",
        "x = torch.linspace(-3, 3, 100)\n",
        "y_gelu, y_relu = gelu(x), relu(x)\n",
        "plt.figure(figsize=(8, 3))\n",
        "# 遍历GELU和ReLU的输出及标签\n",
        "for i, (y, label) in enumerate(zip([y_gelu, y_relu], [\"GELU\", \"ReLU\"]), 1):\n",
        "    plt.subplot(1, 2, i)\n",
        "    plt.plot(x, y)\n",
        "    plt.title(f\"{label} activation function\")\n",
        "    plt.xlabel(\"x\")\n",
        "    plt.ylabel(f\"{label}(x)\")\n",
        "    plt.grid(True)\n",
        "# 调整子图布局\n",
        "plt.tight_layout()\n",
        "# 显示图像\n",
        "plt.show()"
      ],
      "metadata": {
        "id": "-DG_BwNV_mkw",
        "colab": {
          "base_uri": "https://localhost:8080/",
          "height": 248
        },
        "outputId": "8e19a9eb-8208-4620-ddc5-1f34a4b411e3"
      },
      "execution_count": 104,
      "outputs": [
        {
          "output_type": "display_data",
          "data": {
            "text/plain": [
              "<Figure size 800x300 with 2 Axes>"
            ],
            "image/png": "[encoded data removed]"
          },
          "metadata": {}
        }
      ]
    },
    {
      "cell_type": "code",
      "source": [
        "import torch\n",
        "import torch.nn as nn\n",
        "\n",
        "class FeedForward(nn.Module):\n",
        "    def __init__(self, cfg):\n",
        "        super().__init__()\n",
        "        # 定义前馈神经网络的层序列\n",
        "        self.layers = nn.Sequential(\n",
        "            # 第一个线性层，输入维度为emb_dim，输出维度为4*emb_dim\n",
        "            nn.Linear(cfg[\"emb_dim\"], 4 * cfg[\"emb_dim\"]),\n",
        "            # GELU激活函数\n",
        "            GELU(),\n",
        "            # 第二个线性层，输入维度为4*emb_dim，输出维度为emb_dim\n",
        "            nn.Linear(4 * cfg[\"emb_dim\"], cfg[\"emb_dim\"]),\n",
        "        )\n",
        "\n",
        "    def forward(self, x):\n",
        "        # 前向传播，将输入张量通过层序列\n",
        "        return self.layers(x)"
      ],
      "metadata": {
        "id": "Xj-6GbWDAJj-"
      },
      "execution_count": 105,
      "outputs": []
    },
    {
      "cell_type": "code",
      "source": [
        "# 实例化前馈神经网络模块，使用GPT_CONFIG_124M配置\n",
        "ffn = FeedForward(GPT_CONFIG_124M)\n",
        "\n",
        "# 创建一个随机张量，形状为(2, 3, 768)\n",
        "# 表示批量大小为2，序列长度为3，嵌入维度为768\n",
        "x = torch.rand(2, 3, 768)\n",
        "\n",
        "# 对输入张量进行前向传播\n",
        "out = ffn(x)\n",
        "\n",
        "# 打印输出张量的形状\n",
        "print(out.shape)"
      ],
      "metadata": {
        "id": "BMRuTid4AXVV",
        "colab": {
          "base_uri": "https://localhost:8080/"
        },
        "outputId": "10370a4e-832f-4f1e-c1b7-115fe7c83319"
      },
      "execution_count": 106,
      "outputs": [
        {
          "output_type": "stream",
          "name": "stdout",
          "text": [
            "torch.Size([2, 3, 768])\n"
          ]
        }
      ]
    },
    {
      "cell_type": "markdown",
      "source": [
        "##  4.4 Adding shortcut connections"
      ],
      "metadata": {
        "id": "YgIBf7pgAfFr"
      }
    },
    {
      "cell_type": "code",
      "source": [
        "import torch\n",
        "import torch.nn as nn\n",
        "\n",
        "class ExampleDeepNeuralNetwork(nn.Module):\n",
        "    def __init__(self, layer_sizes, use_shortcut):\n",
        "        super().__init__()\n",
        "        # 是否使用残差连接\n",
        "        self.use_shortcut = use_shortcut\n",
        "        # 定义神经网络的层列表\n",
        "        self.layers = nn.ModuleList([\n",
        "            # 第一层：线性层 + GELU激活函数\n",
        "            nn.Sequential(nn.Linear(layer_sizes[0], layer_sizes[1]), GELU()),\n",
        "            # 第二层：线性层 + GELU激活函数\n",
        "            nn.Sequential(nn.Linear(layer_sizes[1], layer_sizes[2]), GELU()),\n",
        "            # 第三层：线性层 + GELU激活函数\n",
        "            nn.Sequential(nn.Linear(layer_sizes[2], layer_sizes[3]), GELU()),\n",
        "            # 第四层：线性层 + GELU激活函数\n",
        "            nn.Sequential(nn.Linear(layer_sizes[3], layer_sizes[4]), GELU()),\n",
        "            # 第五层：线性层 + GELU激活函数\n",
        "            nn.Sequential(nn.Linear(layer_sizes[4], layer_sizes[5]), GELU())\n",
        "        ])\n",
        "\n",
        "    def forward(self, x):\n",
        "        # 遍历每一层\n",
        "        for layer in self.layers:\n",
        "            # 计算当前层的输出\n",
        "            layer_output = layer(x)\n",
        "            # 如果使用残差连接且输入和输出形状一致\n",
        "            if self.use_shortcut and x.shape == layer_output.shape:\n",
        "                # 应用残差连接，输入加上当前层的输出\n",
        "                x = x + layer_output\n",
        "            else:\n",
        "                # 否则，直接使用当前层的输出\n",
        "                x = layer_output\n",
        "        # 返回最终的输出\n",
        "        return x"
      ],
      "metadata": {
        "id": "IR0d6mdHAdpd"
      },
      "execution_count": 107,
      "outputs": []
    },
    {
      "cell_type": "code",
      "source": [
        "import torch\n",
        "import torch.nn as nn\n",
        "\n",
        "# 定义神经网络的层大小\n",
        "layer_sizes = [3, 3, 3, 3, 3, 1]\n",
        "\n",
        "# 创建一个样本输入张量\n",
        "sample_input = torch.tensor([[1., 0., -1.]])\n",
        "\n",
        "# 设置随机种子，确保结果可复现\n",
        "torch.manual_seed(123)\n",
        "\n",
        "# 实例化不使用残差连接的深度神经网络模型\n",
        "model_without_shortcut = ExampleDeepNeuralNetwork(\n",
        "    layer_sizes, use_shortcut=False\n",
        ")"
      ],
      "metadata": {
        "id": "Z0joUA0MAsXc"
      },
      "execution_count": 108,
      "outputs": []
    },
    {
      "cell_type": "code",
      "source": [
        "import torch\n",
        "import torch.nn as nn\n",
        "\n",
        "def print_gradients(model, x):\n",
        "    # 前向传播，计算模型的输出\n",
        "    output = model(x)\n",
        "    # 定义目标张量\n",
        "    target = torch.tensor([[0.]])\n",
        "    # 定义均方误差损失函数\n",
        "    loss = nn.MSELoss()\n",
        "    # 计算损失\n",
        "    loss = loss(output, target)\n",
        "    # 反向传播，计算梯度\n",
        "    loss.backward()\n",
        "\n",
        "    # 遍历模型的所有参数\n",
        "    for name, param in model.named_parameters():\n",
        "        # 如果参数名称包含'weight'\n",
        "        if 'weight' in name:\n",
        "            # 打印参数的梯度均值\n",
        "            print(f\"{name} has gradient mean of {param.grad.abs().mean().item()}\")"
      ],
      "metadata": {
        "id": "YWGjKRreA4fa"
      },
      "execution_count": 109,
      "outputs": []
    },
    {
      "cell_type": "code",
      "source": [
        "print_gradients(model_without_shortcut, sample_input)"
      ],
      "metadata": {
        "id": "aJvXpA4vBCU-",
        "colab": {
          "base_uri": "https://localhost:8080/"
        },
        "outputId": "5e82a43e-b7ea-4989-f13e-19abb6fe6845"
      },
      "execution_count": 110,
      "outputs": [
        {
          "output_type": "stream",
          "name": "stdout",
          "text": [
            "layers.0.0.weight has gradient mean of 0.00020173587836325169\n",
            "layers.1.0.weight has gradient mean of 0.00012011159560643137\n",
            "layers.2.0.weight has gradient mean of 0.0007152040489017963\n",
            "layers.3.0.weight has gradient mean of 0.0013988736318424344\n",
            "layers.4.0.weight has gradient mean of 0.005049645435065031\n"
          ]
        }
      ]
    },
    {
      "cell_type": "code",
      "source": [
        "import torch\n",
        "import torch.nn as nn\n",
        "\n",
        "# 设置随机种子，确保结果可复现\n",
        "torch.manual_seed(123)\n",
        "\n",
        "# 实例化使用残差连接的深度神经网络模型\n",
        "model_with_shortcut = ExampleDeepNeuralNetwork(\n",
        "    layer_sizes, use_shortcut=True\n",
        ")\n",
        "\n",
        "# 计算模型的梯度并打印参数的梯度均值\n",
        "print_gradients(model_with_shortcut, sample_input)"
      ],
      "metadata": {
        "id": "JFgWan7wBTeS",
        "colab": {
          "base_uri": "https://localhost:8080/"
        },
        "outputId": "725d22c2-9d8e-4b76-d442-9a554b278e0f"
      },
      "execution_count": 111,
      "outputs": [
        {
          "output_type": "stream",
          "name": "stdout",
          "text": [
            "layers.0.0.weight has gradient mean of 0.22169798612594604\n",
            "layers.1.0.weight has gradient mean of 0.20694111287593842\n",
            "layers.2.0.weight has gradient mean of 0.3289700150489807\n",
            "layers.3.0.weight has gradient mean of 0.26657330989837646\n",
            "layers.4.0.weight has gradient mean of 1.3258544206619263\n"
          ]
        }
      ]
    },
    {
      "cell_type": "markdown",
      "source": [
        "## 4.5  Connecting attention and linear layers in a transformer block"
      ],
      "metadata": {
        "id": "PsfCueNVBc-r"
      }
    },
    {
      "cell_type": "code",
      "source": [
        "import torch\n",
        "import torch.nn as nn\n",
        "# import MultiHeadAttention\n",
        "\n",
        "class TransformerBlock(nn.Module):\n",
        "    def __init__(self, cfg):\n",
        "        super().__init__()\n",
        "        # 定义多头注意力模块\n",
        "        self.att = MultiHeadAttention(\n",
        "            d_in=cfg[\"emb_dim\"],\n",
        "            d_out=cfg[\"emb_dim\"],\n",
        "            context_length=cfg[\"context_length\"],\n",
        "            num_heads=cfg[\"n_heads\"],\n",
        "            dropout=cfg[\"drop_rate\"],\n",
        "            qkv_bias=cfg[\"qkv_bias\"]\n",
        "        )\n",
        "        # 定义前馈神经网络模块\n",
        "        self.ff = FeedForward(cfg)\n",
        "        # 定义层归一化模块\n",
        "        self.norm1 = LayerNorm(cfg[\"emb_dim\"])\n",
        "        self.norm2 = LayerNorm(cfg[\"emb_dim\"])\n",
        "        # 定义dropout模块\n",
        "        self.drop_shortcut = nn.Dropout(cfg[\"drop_rate\"])\n",
        "\n",
        "    def forward(self, x):\n",
        "        # 保存原始输入作为残差连接\n",
        "        shortcut = x\n",
        "        # 应用层归一化\n",
        "        x = self.norm1(x)\n",
        "        # 应用多头注意力\n",
        "        x = self.att(x)\n",
        "        # 应用dropout\n",
        "        x = self.drop_shortcut(x)\n",
        "        # 应用残差连接\n",
        "        x = x + shortcut\n",
        "\n",
        "        # 保存当前输入作为残差连接\n",
        "        shortcut = x\n",
        "        # 应用层归一化\n",
        "        x = self.norm2(x)\n",
        "        # 应用前馈神经网络\n",
        "        x = self.ff(x)\n",
        "        # 应用dropout\n",
        "        x = self.drop_shortcut(x)\n",
        "        # 应用残差连接\n",
        "        x = x + shortcut\n",
        "\n",
        "        # 返回最终的输出\n",
        "        return x"
      ],
      "metadata": {
        "id": "f7gbi-qEBb4i"
      },
      "execution_count": 112,
      "outputs": []
    },
    {
      "cell_type": "code",
      "source": [
        "import torch\n",
        "import torch.nn as nn\n",
        "\n",
        "# 设置随机种子，确保结果可复现\n",
        "torch.manual_seed(123)\n",
        "\n",
        "# 创建一个随机张量，形状为(2, 4, 768)\n",
        "# 表示批量大小为2，序列长度为4，嵌入维度为768\n",
        "x = torch.rand(2, 4, 768)\n",
        "\n",
        "# 实例化Transformer块，使用GPT_CONFIG_124M配置\n",
        "block = TransformerBlock(GPT_CONFIG_124M)\n",
        "\n",
        "# 对输入张量进行前向传播\n",
        "output = block(x)\n",
        "\n",
        "# 打印输入张量的形状\n",
        "print(\"Input shape:\", x.shape)\n",
        "\n",
        "# 打印输出张量的形状\n",
        "print(\"Output shape:\", output.shape)"
      ],
      "metadata": {
        "id": "Xkar0FS4COJC",
        "colab": {
          "base_uri": "https://localhost:8080/"
        },
        "outputId": "1d87d695-8484-460e-dc04-9a1bab7d2688"
      },
      "execution_count": 113,
      "outputs": [
        {
          "output_type": "stream",
          "name": "stdout",
          "text": [
            "Input shape: torch.Size([2, 4, 768])\n",
            "Output shape: torch.Size([2, 4, 768])\n"
          ]
        }
      ]
    },
    {
      "cell_type": "markdown",
      "source": [
        "## 4.6 Coding the GPT model"
      ],
      "metadata": {
        "id": "naifOlW1CZ58"
      }
    },
    {
      "cell_type": "code",
      "source": [
        "import torch\n",
        "import torch.nn as nn\n",
        "\n",
        "class GPTModel(nn.Module):\n",
        "    def __init__(self, cfg):\n",
        "        super().__init__()\n",
        "        # 定义词嵌入层\n",
        "        self.tok_emb = nn.Embedding(cfg[\"vocab_size\"], cfg[\"emb_dim\"])\n",
        "        # 定义位置嵌入层\n",
        "        self.pos_emb = nn.Embedding(cfg[\"context_length\"], cfg[\"emb_dim\"])\n",
        "        # 定义dropout层\n",
        "        self.drop_emb = nn.Dropout(cfg[\"drop_rate\"])\n",
        "\n",
        "        # 定义Transformer块序列\n",
        "        self.trf_blocks = nn.Sequential(\n",
        "            *[TransformerBlock(cfg) for _ in range(cfg[\"n_layers\"])]\n",
        "        )\n",
        "\n",
        "        # 定义最终的层归一化\n",
        "        self.final_norm = LayerNorm(cfg[\"emb_dim\"])\n",
        "        # 定义输出头\n",
        "        self.out_head = nn.Linear(\n",
        "            cfg[\"emb_dim\"], cfg[\"vocab_size\"], bias=False\n",
        "        )\n",
        "\n",
        "    def forward(self, in_idx):\n",
        "        # 获取输入的批量大小和序列长度\n",
        "        batch_size, seq_len = in_idx.shape\n",
        "        # 计算词嵌入\n",
        "        tok_embeds = self.tok_emb(in_idx)\n",
        "        # 计算位置嵌入\n",
        "        pos_embeds = self.pos_emb(\n",
        "            torch.arange(seq_len, device=in_idx.device)\n",
        "        )\n",
        "        # 词嵌入加上位置嵌入\n",
        "        x = tok_embeds + pos_embeds\n",
        "        # 应用dropout\n",
        "        x = self.drop_emb(x)\n",
        "        # 通过Transformer块序列\n",
        "        x = self.trf_blocks(x)\n",
        "        # 应用最终的层归一化\n",
        "        x = self.final_norm(x)\n",
        "        # 计算输出logits\n",
        "        logits = self.out_head(x)\n",
        "        # 返回logits\n",
        "        return logits"
      ],
      "metadata": {
        "id": "cQO_qsvsCYIj"
      },
      "execution_count": 114,
      "outputs": []
    },
    {
      "cell_type": "code",
      "source": [
        "import torch\n",
        "import torch.nn as nn\n",
        "\n",
        "# 设置随机种子，确保结果可复现\n",
        "torch.manual_seed(123)\n",
        "\n",
        "# 实例化GPT模型，使用GPT_CONFIG_124M配置\n",
        "model = GPTModel(GPT_CONFIG_124M)\n",
        "\n",
        "# 对输入批次进行前向传播\n",
        "out = model(batch)\n",
        "\n",
        "# 打印输入批次\n",
        "print(\"Input batch:\\n\", batch)\n",
        "\n",
        "# 打印输出形状\n",
        "print(\"Output shape:\", out.shape)\n",
        "\n",
        "# 打印输出结果\n",
        "print(out)"
      ],
      "metadata": {
        "id": "JDf02z7mClog",
        "colab": {
          "base_uri": "https://localhost:8080/"
        },
        "outputId": "8172b6bb-2580-4d57-e520-61753ee4523e"
      },
      "execution_count": 115,
      "outputs": [
        {
          "output_type": "stream",
          "name": "stdout",
          "text": [
            "Input batch:\n",
            " tensor([[6109, 3626, 6100,  345],\n",
            "        [6109, 1110, 6622,  257]])\n",
            "Output shape: torch.Size([2, 4, 50257])\n",
            "tensor([[[ 0.1381,  0.0077, -0.1963,  ..., -0.0222, -0.1060,  0.1717],\n",
            "         [ 0.3865, -0.8408, -0.6564,  ..., -0.5163,  0.2369, -0.3357],\n",
            "         [ 0.6989, -0.1829, -0.1631,  ...,  0.1472, -0.6504, -0.0056],\n",
            "         [-0.4290,  0.1669, -0.1258,  ...,  1.1579,  0.5303, -0.5549]],\n",
            "\n",
            "        [[ 0.1094, -0.2894, -0.1467,  ..., -0.0557,  0.2911, -0.2824],\n",
            "         [ 0.0882, -0.3552, -0.3527,  ...,  1.2930,  0.0053,  0.1898],\n",
            "         [ 0.6091,  0.4702, -0.4094,  ...,  0.7688,  0.3787, -0.1974],\n",
            "         [-0.0612, -0.0737,  0.4751,  ...,  1.2463, -0.3834,  0.0609]]],\n",
            "       grad_fn=<UnsafeViewBackward0>)\n"
          ]
        }
      ]
    },
    {
      "cell_type": "code",
      "source": [
        "import torch\n",
        "import torch.nn as nn\n",
        "\n",
        "# 计算模型的总参数数量\n",
        "total_params = sum(p.numel() for p in model.parameters())\n",
        "\n",
        "# 打印总参数数量\n",
        "print(f\"Total number of parameters: {total_params:,}\")"
      ],
      "metadata": {
        "id": "G63ouwWmCse5",
        "colab": {
          "base_uri": "https://localhost:8080/"
        },
        "outputId": "657d2f6d-4f3c-4b1b-f8c6-74111213e2f7"
      },
      "execution_count": 116,
      "outputs": [
        {
          "output_type": "stream",
          "name": "stdout",
          "text": [
            "Total number of parameters: 163,009,536\n"
          ]
        }
      ]
    },
    {
      "cell_type": "code",
      "source": [
        "import torch\n",
        "import torch.nn as nn\n",
        "\n",
        "# 打印词嵌入层的权重形状\n",
        "print(\"Token embedding layer shape:\", model.tok_emb.weight.shape)\n",
        "\n",
        "# 打印输出层的权重形状\n",
        "print(\"Output layer shape:\", model.out_head.weight.shape)"
      ],
      "metadata": {
        "id": "-eEeaZOmC4fx",
        "colab": {
          "base_uri": "https://localhost:8080/"
        },
        "outputId": "1683900a-0274-4e93-8e72-242b3426d82e"
      },
      "execution_count": 117,
      "outputs": [
        {
          "output_type": "stream",
          "name": "stdout",
          "text": [
            "Token embedding layer shape: torch.Size([50257, 768])\n",
            "Output layer shape: torch.Size([50257, 768])\n"
          ]
        }
      ]
    },
    {
      "cell_type": "code",
      "source": [
        "import torch\n",
        "import torch.nn as nn\n",
        "\n",
        "# 计算考虑权重绑定后的可训练参数数量\n",
        "total_params_gpt2 = (\n",
        "    total_params - sum(p.numel() for p in model.out_head.parameters())\n",
        ")\n",
        "\n",
        "# 打印结果\n",
        "print(f\"Number of trainable parameters \"\n",
        "      f\"considering weight tying: {total_params_gpt2:,}\")"
      ],
      "metadata": {
        "id": "yskcA-xMC-bw",
        "colab": {
          "base_uri": "https://localhost:8080/"
        },
        "outputId": "207b22eb-c574-4f37-efde-572dc7ef370f"
      },
      "execution_count": 118,
      "outputs": [
        {
          "output_type": "stream",
          "name": "stdout",
          "text": [
            "Number of trainable parameters considering weight tying: 124,412,160\n"
          ]
        }
      ]
    },
    {
      "cell_type": "code",
      "source": [
        "import torch\n",
        "import torch.nn as nn\n",
        "\n",
        "# 计算模型的总大小（字节）\n",
        "total_size_bytes = total_params * 4\n",
        "\n",
        "# 将总大小转换为兆字节\n",
        "total_size_mb = total_size_bytes / (1024 * 1024)\n",
        "\n",
        "# 打印模型的总大小\n",
        "print(f\"Total size of the model: {total_size_mb:.2f} MB\")"
      ],
      "metadata": {
        "id": "3DhKkaipDIeE",
        "colab": {
          "base_uri": "https://localhost:8080/"
        },
        "outputId": "223fa641-0817-447f-c9e7-da8ee5cf12a0"
      },
      "execution_count": 119,
      "outputs": [
        {
          "output_type": "stream",
          "name": "stdout",
          "text": [
            "Total size of the model: 621.83 MB\n"
          ]
        }
      ]
    },
    {
      "cell_type": "markdown",
      "source": [
        "## 4.7  Generating text"
      ],
      "metadata": {
        "id": "Z3cLZjP0DRZ-"
      }
    },
    {
      "cell_type": "code",
      "source": [
        "import torch\n",
        "import torch.nn as nn\n",
        "\n",
        "def generate_text_simple(model, idx, max_new_tokens, context_size):\n",
        "    # 裁剪当前上下文，使其不超过支持的上下文大小\n",
        "    for _ in range(max_new_tokens):\n",
        "        idx_cond = idx[:, -context_size:]\n",
        "        with torch.no_grad():\n",
        "            # 获取模型的输出logits\n",
        "            logits = model(idx_cond)\n",
        "        # 聚焦于最后一个时间步\n",
        "        logits = logits[:, -1, :]\n",
        "        # 将logits转换为概率\n",
        "        probs = torch.softmax(logits, dim=-1)\n",
        "        # 采样下一个token的索引\n",
        "        idx_next = torch.argmax(probs, dim=-1, keepdim=True)\n",
        "        # 将采样的token索引添加到运行序列中\n",
        "        idx = torch.cat((idx, idx_next), dim=1)\n",
        "    # 返回生成的序列\n",
        "    return idx"
      ],
      "metadata": {
        "id": "ycPDwPNFDPy_"
      },
      "execution_count": 120,
      "outputs": []
    },
    {
      "cell_type": "code",
      "source": [
        "from transformers import AutoTokenizer\n",
        "\n",
        "# 定义起始文本\n",
        "start_context = \"Hello, I am\"\n",
        "\n",
        "# 使用分词器对起始文本进行编码\n",
        "encoded = tokenizer.encode(start_context)\n",
        "\n",
        "# 打印编码结果\n",
        "print(\"encoded:\", encoded)\n",
        "\n",
        "# 将编码结果转换为张量，并添加批次维度\n",
        "encoded_tensor = torch.tensor(encoded).unsqueeze(0)\n",
        "\n",
        "# 打印张量的形状\n",
        "print(\"encoded_tensor.shape:\", encoded_tensor.shape)"
      ],
      "metadata": {
        "id": "0MbxN4A0DdA1",
        "colab": {
          "base_uri": "https://localhost:8080/"
        },
        "outputId": "98e67e1a-4682-49a8-acbe-8070f810085c"
      },
      "execution_count": 121,
      "outputs": [
        {
          "output_type": "stream",
          "name": "stdout",
          "text": [
            "encoded: [15496, 11, 314, 716]\n",
            "encoded_tensor.shape: torch.Size([1, 4])\n"
          ]
        }
      ]
    },
    {
      "cell_type": "code",
      "source": [
        "import torch\n",
        "import torch.nn as nn\n",
        "\n",
        "# 将模型设置为评估模式，禁用dropout\n",
        "model.eval()\n",
        "\n",
        "# 使用简单的文本生成函数生成新的文本序列\n",
        "out = generate_text_simple(\n",
        "    model=model,\n",
        "    idx=encoded_tensor,\n",
        "    max_new_tokens=6,\n",
        "    context_size=GPT_CONFIG_124M[\"context_length\"]\n",
        ")\n",
        "\n",
        "# 打印生成的序列\n",
        "print(\"Output:\", out)\n",
        "\n",
        "# 打印生成的序列长度\n",
        "print(\"Output length:\", len(out[0]))"
      ],
      "metadata": {
        "id": "oNeTgrCmDk8N",
        "colab": {
          "base_uri": "https://localhost:8080/"
        },
        "outputId": "dddb8af9-6a72-435f-d105-96af8e9743f0"
      },
      "execution_count": 122,
      "outputs": [
        {
          "output_type": "stream",
          "name": "stdout",
          "text": [
            "Output: tensor([[15496,    11,   314,   716, 27018, 24086, 47843, 30961, 42348,  7267]])\n",
            "Output length: 10\n"
          ]
        }
      ]
    },
    {
      "cell_type": "code",
      "source": [
        "from transformers import AutoTokenizer\n",
        "\n",
        "# 将生成的张量转换为列表，并移除批次维度\n",
        "decoded_text = tokenizer.decode(out.squeeze(0).tolist())\n",
        "\n",
        "# 打印解码后的文本\n",
        "print(decoded_text)"
      ],
      "metadata": {
        "id": "NR06CA_8DuQK",
        "colab": {
          "base_uri": "https://localhost:8080/"
        },
        "outputId": "5abf490f-3d41-425d-dc2a-661bc71f9387"
      },
      "execution_count": 123,
      "outputs": [
        {
          "output_type": "stream",
          "name": "stdout",
          "text": [
            "Hello, I am Featureiman Byeswickattribute argue\n"
          ]
        }
      ]
    },
    {
      "cell_type": "markdown",
      "source": [
        "# 5 Pretraining on unlabeled data"
      ],
      "metadata": {
        "id": "yWZVe8EpD112"
      }
    },
    {
      "cell_type": "markdown",
      "source": [
        "## 5.1  Evaluating generative text models"
      ],
      "metadata": {
        "id": "BHT12MQ9D8zw"
      }
    },
    {
      "cell_type": "markdown",
      "source": [
        "### 5.1.1 Using GPT to generate text"
      ],
      "metadata": {
        "id": "xvYKsF-PEBJE"
      }
    },
    {
      "cell_type": "code",
      "source": [
        "import torch\n",
        "# from chapter04 import GPTModel\n",
        "\n",
        "# 定义GPT模型的配置\n",
        "GPT_CONFIG_124M = {\n",
        "    \"vocab_size\": 50257,\n",
        "    \"context_length\": 256,\n",
        "    \"emb_dim\": 768,\n",
        "    \"n_heads\": 12,\n",
        "    \"n_layers\": 12,\n",
        "    \"drop_rate\": 0.1,\n",
        "    \"qkv_bias\": False\n",
        "}\n",
        "\n",
        "# 设置随机种子，确保结果可复现\n",
        "torch.manual_seed(123)\n",
        "\n",
        "# 实例化GPT模型，使用GPT_CONFIG_124M配置\n",
        "model = GPTModel(GPT_CONFIG_124M)\n",
        "\n",
        "# 将模型设置为评估模式，禁用dropout\n",
        "model.eval()"
      ],
      "metadata": {
        "id": "9MpakNcLD0MS",
        "colab": {
          "base_uri": "https://localhost:8080/"
        },
        "outputId": "92c7d3a3-942c-49c7-f655-e58ebee455e7"
      },
      "execution_count": 124,
      "outputs": [
        {
          "output_type": "execute_result",
          "data": {
            "text/plain": [
              "GPTModel(\n",
              "  (tok_emb): Embedding(50257, 768)\n",
              "  (pos_emb): Embedding(256, 768)\n",
              "  (drop_emb): Dropout(p=0.1, inplace=False)\n",
              "  (trf_blocks): Sequential(\n",
              "    (0): TransformerBlock(\n",
              "      (att): MultiHeadAttention(\n",
              "        (W_query): Linear(in_features=768, out_features=768, bias=False)\n",
              "        (W_key): Linear(in_features=768, out_features=768, bias=False)\n",
              "        (W_value): Linear(in_features=768, out_features=768, bias=False)\n",
              "        (out_proj): Linear(in_features=768, out_features=768, bias=True)\n",
              "        (dropout): Dropout(p=0.1, inplace=False)\n",
              "      )\n",
              "      (ff): FeedForward(\n",
              "        (layers): Sequential(\n",
              "          (0): Linear(in_features=768, out_features=3072, bias=True)\n",
              "          (1): GELU()\n",
              "          (2): Linear(in_features=3072, out_features=768, bias=True)\n",
              "        )\n",
              "      )\n",
              "      (norm1): LayerNorm()\n",
              "      (norm2): LayerNorm()\n",
              "      (drop_shortcut): Dropout(p=0.1, inplace=False)\n",
              "    )\n",
              "    (1): TransformerBlock(\n",
              "      (att): MultiHeadAttention(\n",
              "        (W_query): Linear(in_features=768, out_features=768, bias=False)\n",
              "        (W_key): Linear(in_features=768, out_features=768, bias=False)\n",
              "        (W_value): Linear(in_features=768, out_features=768, bias=False)\n",
              "        (out_proj): Linear(in_features=768, out_features=768, bias=True)\n",
              "        (dropout): Dropout(p=0.1, inplace=False)\n",
              "      )\n",
              "      (ff): FeedForward(\n",
              "        (layers): Sequential(\n",
              "          (0): Linear(in_features=768, out_features=3072, bias=True)\n",
              "          (1): GELU()\n",
              "          (2): Linear(in_features=3072, out_features=768, bias=True)\n",
              "        )\n",
              "      )\n",
              "      (norm1): LayerNorm()\n",
              "      (norm2): LayerNorm()\n",
              "      (drop_shortcut): Dropout(p=0.1, inplace=False)\n",
              "    )\n",
              "    (2): TransformerBlock(\n",
              "      (att): MultiHeadAttention(\n",
              "        (W_query): Linear(in_features=768, out_features=768, bias=False)\n",
              "        (W_key): Linear(in_features=768, out_features=768, bias=False)\n",
              "        (W_value): Linear(in_features=768, out_features=768, bias=False)\n",
              "        (out_proj): Linear(in_features=768, out_features=768, bias=True)\n",
              "        (dropout): Dropout(p=0.1, inplace=False)\n",
              "      )\n",
              "      (ff): FeedForward(\n",
              "        (layers): Sequential(\n",
              "          (0): Linear(in_features=768, out_features=3072, bias=True)\n",
              "          (1): GELU()\n",
              "          (2): Linear(in_features=3072, out_features=768, bias=True)\n",
              "        )\n",
              "      )\n",
              "      (norm1): LayerNorm()\n",
              "      (norm2): LayerNorm()\n",
              "      (drop_shortcut): Dropout(p=0.1, inplace=False)\n",
              "    )\n",
              "    (3): TransformerBlock(\n",
              "      (att): MultiHeadAttention(\n",
              "        (W_query): Linear(in_features=768, out_features=768, bias=False)\n",
              "        (W_key): Linear(in_features=768, out_features=768, bias=False)\n",
              "        (W_value): Linear(in_features=768, out_features=768, bias=False)\n",
              "        (out_proj): Linear(in_features=768, out_features=768, bias=True)\n",
              "        (dropout): Dropout(p=0.1, inplace=False)\n",
              "      )\n",
              "      (ff): FeedForward(\n",
              "        (layers): Sequential(\n",
              "          (0): Linear(in_features=768, out_features=3072, bias=True)\n",
              "          (1): GELU()\n",
              "          (2): Linear(in_features=3072, out_features=768, bias=True)\n",
              "        )\n",
              "      )\n",
              "      (norm1): LayerNorm()\n",
              "      (norm2): LayerNorm()\n",
              "      (drop_shortcut): Dropout(p=0.1, inplace=False)\n",
              "    )\n",
              "    (4): TransformerBlock(\n",
              "      (att): MultiHeadAttention(\n",
              "        (W_query): Linear(in_features=768, out_features=768, bias=False)\n",
              "        (W_key): Linear(in_features=768, out_features=768, bias=False)\n",
              "        (W_value): Linear(in_features=768, out_features=768, bias=False)\n",
              "        (out_proj): Linear(in_features=768, out_features=768, bias=True)\n",
              "        (dropout): Dropout(p=0.1, inplace=False)\n",
              "      )\n",
              "      (ff): FeedForward(\n",
              "        (layers): Sequential(\n",
              "          (0): Linear(in_features=768, out_features=3072, bias=True)\n",
              "          (1): GELU()\n",
              "          (2): Linear(in_features=3072, out_features=768, bias=True)\n",
              "        )\n",
              "      )\n",
              "      (norm1): LayerNorm()\n",
              "      (norm2): LayerNorm()\n",
              "      (drop_shortcut): Dropout(p=0.1, inplace=False)\n",
              "    )\n",
              "    (5): TransformerBlock(\n",
              "      (att): MultiHeadAttention(\n",
              "        (W_query): Linear(in_features=768, out_features=768, bias=False)\n",
              "        (W_key): Linear(in_features=768, out_features=768, bias=False)\n",
              "        (W_value): Linear(in_features=768, out_features=768, bias=False)\n",
              "        (out_proj): Linear(in_features=768, out_features=768, bias=True)\n",
              "        (dropout): Dropout(p=0.1, inplace=False)\n",
              "      )\n",
              "      (ff): FeedForward(\n",
              "        (layers): Sequential(\n",
              "          (0): Linear(in_features=768, out_features=3072, bias=True)\n",
              "          (1): GELU()\n",
              "          (2): Linear(in_features=3072, out_features=768, bias=True)\n",
              "        )\n",
              "      )\n",
              "      (norm1): LayerNorm()\n",
              "      (norm2): LayerNorm()\n",
              "      (drop_shortcut): Dropout(p=0.1, inplace=False)\n",
              "    )\n",
              "    (6): TransformerBlock(\n",
              "      (att): MultiHeadAttention(\n",
              "        (W_query): Linear(in_features=768, out_features=768, bias=False)\n",
              "        (W_key): Linear(in_features=768, out_features=768, bias=False)\n",
              "        (W_value): Linear(in_features=768, out_features=768, bias=False)\n",
              "        (out_proj): Linear(in_features=768, out_features=768, bias=True)\n",
              "        (dropout): Dropout(p=0.1, inplace=False)\n",
              "      )\n",
              "      (ff): FeedForward(\n",
              "        (layers): Sequential(\n",
              "          (0): Linear(in_features=768, out_features=3072, bias=True)\n",
              "          (1): GELU()\n",
              "          (2): Linear(in_features=3072, out_features=768, bias=True)\n",
              "        )\n",
              "      )\n",
              "      (norm1): LayerNorm()\n",
              "      (norm2): LayerNorm()\n",
              "      (drop_shortcut): Dropout(p=0.1, inplace=False)\n",
              "    )\n",
              "    (7): TransformerBlock(\n",
              "      (att): MultiHeadAttention(\n",
              "        (W_query): Linear(in_features=768, out_features=768, bias=False)\n",
              "        (W_key): Linear(in_features=768, out_features=768, bias=False)\n",
              "        (W_value): Linear(in_features=768, out_features=768, bias=False)\n",
              "        (out_proj): Linear(in_features=768, out_features=768, bias=True)\n",
              "        (dropout): Dropout(p=0.1, inplace=False)\n",
              "      )\n",
              "      (ff): FeedForward(\n",
              "        (layers): Sequential(\n",
              "          (0): Linear(in_features=768, out_features=3072, bias=True)\n",
              "          (1): GELU()\n",
              "          (2): Linear(in_features=3072, out_features=768, bias=True)\n",
              "        )\n",
              "      )\n",
              "      (norm1): LayerNorm()\n",
              "      (norm2): LayerNorm()\n",
              "      (drop_shortcut): Dropout(p=0.1, inplace=False)\n",
              "    )\n",
              "    (8): TransformerBlock(\n",
              "      (att): MultiHeadAttention(\n",
              "        (W_query): Linear(in_features=768, out_features=768, bias=False)\n",
              "        (W_key): Linear(in_features=768, out_features=768, bias=False)\n",
              "        (W_value): Linear(in_features=768, out_features=768, bias=False)\n",
              "        (out_proj): Linear(in_features=768, out_features=768, bias=True)\n",
              "        (dropout): Dropout(p=0.1, inplace=False)\n",
              "      )\n",
              "      (ff): FeedForward(\n",
              "        (layers): Sequential(\n",
              "          (0): Linear(in_features=768, out_features=3072, bias=True)\n",
              "          (1): GELU()\n",
              "          (2): Linear(in_features=3072, out_features=768, bias=True)\n",
              "        )\n",
              "      )\n",
              "      (norm1): LayerNorm()\n",
              "      (norm2): LayerNorm()\n",
              "      (drop_shortcut): Dropout(p=0.1, inplace=False)\n",
              "    )\n",
              "    (9): TransformerBlock(\n",
              "      (att): MultiHeadAttention(\n",
              "        (W_query): Linear(in_features=768, out_features=768, bias=False)\n",
              "        (W_key): Linear(in_features=768, out_features=768, bias=False)\n",
              "        (W_value): Linear(in_features=768, out_features=768, bias=False)\n",
              "        (out_proj): Linear(in_features=768, out_features=768, bias=True)\n",
              "        (dropout): Dropout(p=0.1, inplace=False)\n",
              "      )\n",
              "      (ff): FeedForward(\n",
              "        (layers): Sequential(\n",
              "          (0): Linear(in_features=768, out_features=3072, bias=True)\n",
              "          (1): GELU()\n",
              "          (2): Linear(in_features=3072, out_features=768, bias=True)\n",
              "        )\n",
              "      )\n",
              "      (norm1): LayerNorm()\n",
              "      (norm2): LayerNorm()\n",
              "      (drop_shortcut): Dropout(p=0.1, inplace=False)\n",
              "    )\n",
              "    (10): TransformerBlock(\n",
              "      (att): MultiHeadAttention(\n",
              "        (W_query): Linear(in_features=768, out_features=768, bias=False)\n",
              "        (W_key): Linear(in_features=768, out_features=768, bias=False)\n",
              "        (W_value): Linear(in_features=768, out_features=768, bias=False)\n",
              "        (out_proj): Linear(in_features=768, out_features=768, bias=True)\n",
              "        (dropout): Dropout(p=0.1, inplace=False)\n",
              "      )\n",
              "      (ff): FeedForward(\n",
              "        (layers): Sequential(\n",
              "          (0): Linear(in_features=768, out_features=3072, bias=True)\n",
              "          (1): GELU()\n",
              "          (2): Linear(in_features=3072, out_features=768, bias=True)\n",
              "        )\n",
              "      )\n",
              "      (norm1): LayerNorm()\n",
              "      (norm2): LayerNorm()\n",
              "      (drop_shortcut): Dropout(p=0.1, inplace=False)\n",
              "    )\n",
              "    (11): TransformerBlock(\n",
              "      (att): MultiHeadAttention(\n",
              "        (W_query): Linear(in_features=768, out_features=768, bias=False)\n",
              "        (W_key): Linear(in_features=768, out_features=768, bias=False)\n",
              "        (W_value): Linear(in_features=768, out_features=768, bias=False)\n",
              "        (out_proj): Linear(in_features=768, out_features=768, bias=True)\n",
              "        (dropout): Dropout(p=0.1, inplace=False)\n",
              "      )\n",
              "      (ff): FeedForward(\n",
              "        (layers): Sequential(\n",
              "          (0): Linear(in_features=768, out_features=3072, bias=True)\n",
              "          (1): GELU()\n",
              "          (2): Linear(in_features=3072, out_features=768, bias=True)\n",
              "        )\n",
              "      )\n",
              "      (norm1): LayerNorm()\n",
              "      (norm2): LayerNorm()\n",
              "      (drop_shortcut): Dropout(p=0.1, inplace=False)\n",
              "    )\n",
              "  )\n",
              "  (final_norm): LayerNorm()\n",
              "  (out_head): Linear(in_features=768, out_features=50257, bias=False)\n",
              ")"
            ]
          },
          "metadata": {},
          "execution_count": 124
        }
      ]
    },
    {
      "cell_type": "code",
      "source": [
        "import torch\n",
        "import tiktoken\n",
        "# from chapter04 import generate_text_simple\n",
        "\n",
        "def text_to_token_ids(text, tokenizer):\n",
        "    # 将文本编码为token索引\n",
        "    encoded = tokenizer.encode(text, allowed_special={'<|endoftext|>'})\n",
        "    # 转换为张量并添加批次维度\n",
        "    encoded_tensor = torch.tensor(encoded).unsqueeze(0)\n",
        "    return encoded_tensor\n",
        "\n",
        "def token_ids_to_text(token_ids, tokenizer):\n",
        "    # 移除批次维度\n",
        "    flat = token_ids.squeeze(0)\n",
        "    # 将token索引解码为文本\n",
        "    return tokenizer.decode(flat.tolist())\n",
        "\n",
        "# 定义起始文本\n",
        "start_context = \"Every effort moves you\"\n",
        "\n",
        "# 加载GPT-2的分词器\n",
        "tokenizer = tiktoken.get_encoding(\"gpt2\")\n",
        "\n",
        "# 生成新的文本序列\n",
        "token_ids = generate_text_simple(\n",
        "    model=model,\n",
        "    idx=text_to_token_ids(start_context, tokenizer),\n",
        "    max_new_tokens=10,\n",
        "    context_size=GPT_CONFIG_124M[\"context_length\"]\n",
        ")\n",
        "\n",
        "# 将生成的token索引转换回文本并打印\n",
        "print(\"Output text:\\n\", token_ids_to_text(token_ids, tokenizer))"
      ],
      "metadata": {
        "id": "tHn2oA7jEWHD",
        "colab": {
          "base_uri": "https://localhost:8080/"
        },
        "outputId": "f6af549d-cd03-4339-9b0d-327b775f95fc"
      },
      "execution_count": 125,
      "outputs": [
        {
          "output_type": "stream",
          "name": "stdout",
          "text": [
            "Output text:\n",
            " Every effort moves you rentingetic wasnم refres RexMeCHicular stren\n"
          ]
        }
      ]
    },
    {
      "cell_type": "markdown",
      "source": [
        "### 5.1.2  Calculating the text generation loss"
      ],
      "metadata": {
        "id": "HrsiJk3yEllq"
      }
    },
    {
      "cell_type": "code",
      "source": [
        "inputs = torch.tensor([[16833, 3626, 6100],   # [\"every effort moves\",\n",
        "             [40,    1107, 588]])   #  \"I really like\"]"
      ],
      "metadata": {
        "id": "4VfrhrbHEn9x"
      },
      "execution_count": 126,
      "outputs": []
    },
    {
      "cell_type": "code",
      "source": [
        "targets = torch.tensor([[3626, 6100, 345  ],  # [\" effort moves you\",\n",
        "             [1107, 588, 11311]])  #  \" really like chocolate\"]"
      ],
      "metadata": {
        "id": "p_6V1rkrEuta"
      },
      "execution_count": 127,
      "outputs": []
    },
    {
      "cell_type": "code",
      "source": [
        "import torch\n",
        "import torch.nn as nn\n",
        "\n",
        "# 禁用梯度跟踪，提高性能并减少内存占用\n",
        "with torch.no_grad():\n",
        "    # 获取模型的输出logits\n",
        "    logits = model(inputs)\n",
        "    # 将logits转换为概率分布\n",
        "    probs = torch.softmax(logits, dim=-1)\n",
        "    # 打印概率分布的形状\n",
        "    print(probs.shape)"
      ],
      "metadata": {
        "id": "Dh5PaiaPE3VO",
        "colab": {
          "base_uri": "https://localhost:8080/"
        },
        "outputId": "79f3c7a3-946c-4dd1-b30b-04e6459e5146"
      },
      "execution_count": 128,
      "outputs": [
        {
          "output_type": "stream",
          "name": "stdout",
          "text": [
            "torch.Size([2, 3, 50257])\n"
          ]
        }
      ]
    },
    {
      "cell_type": "code",
      "source": [
        "import torch\n",
        "import torch.nn as nn\n",
        "\n",
        "# 从概率分布中获取每个位置的最可能token索引\n",
        "token_ids = torch.argmax(probs, dim=-1, keepdim=True)\n",
        "\n",
        "# 打印token索引\n",
        "print(\"Token IDs:\\n\", token_ids)"
      ],
      "metadata": {
        "id": "4Kuz3GtIE_bJ",
        "colab": {
          "base_uri": "https://localhost:8080/"
        },
        "outputId": "4b2acfa5-d2e0-4757-c424-85b27762c45b"
      },
      "execution_count": 129,
      "outputs": [
        {
          "output_type": "stream",
          "name": "stdout",
          "text": [
            "Token IDs:\n",
            " tensor([[[16657],\n",
            "         [  339],\n",
            "         [42826]],\n",
            "\n",
            "        [[49906],\n",
            "         [29669],\n",
            "         [41751]]])\n"
          ]
        }
      ]
    },
    {
      "cell_type": "code",
      "source": [
        "import torch\n",
        "import torch.nn as nn\n",
        "\n",
        "# 打印目标批次的第一个样本\n",
        "print(f\"Targets batch 1: {token_ids_to_text(targets[0], tokenizer)}\")\n",
        "\n",
        "# 打印生成的token索引的第一个样本\n",
        "print(f\"Outputs batch 1: {token_ids_to_text(token_ids[0].flatten(), tokenizer)}\")"
      ],
      "metadata": {
        "id": "CHx09veMFHZ1",
        "colab": {
          "base_uri": "https://localhost:8080/"
        },
        "outputId": "a4b2fa9a-ef9d-409f-a791-c3799ac9290c"
      },
      "execution_count": 130,
      "outputs": [
        {
          "output_type": "stream",
          "name": "stdout",
          "text": [
            "Targets batch 1:  effort moves you\n",
            "Outputs batch 1:  Armed heNetflix\n"
          ]
        }
      ]
    },
    {
      "cell_type": "code",
      "source": [
        "import torch\n",
        "import torch.nn as nn\n",
        "\n",
        "# 定义文本索引\n",
        "text_idx = 0\n",
        "\n",
        "# 计算目标token在概率分布中的概率值\n",
        "target_probas_1 = probs[text_idx, [0, 1, 2], targets[text_idx]]\n",
        "\n",
        "# 打印结果\n",
        "print(\"Text 1:\", target_probas_1)\n",
        "\n",
        "# 定义文本索引\n",
        "text_idx = 1\n",
        "\n",
        "# 计算目标token在概率分布中的概率值\n",
        "target_probas_2 = probs[text_idx, [0, 1, 2], targets[text_idx]]\n",
        "\n",
        "# 打印结果\n",
        "print(\"Text 2:\", target_probas_2)"
      ],
      "metadata": {
        "id": "J-KOqYkjFNWY",
        "colab": {
          "base_uri": "https://localhost:8080/"
        },
        "outputId": "60092031-895d-43f4-d05e-0cd52bf10933"
      },
      "execution_count": 131,
      "outputs": [
        {
          "output_type": "stream",
          "name": "stdout",
          "text": [
            "Text 1: tensor([    0.0001,     0.0000,     0.0000])\n",
            "Text 2: tensor([    0.0000,     0.0001,     0.0000])\n"
          ]
        }
      ]
    },
    {
      "cell_type": "code",
      "source": [
        "import torch\n",
        "import torch.nn as nn\n",
        "\n",
        "# 计算目标token概率的对数\n",
        "log_probas = torch.log(torch.cat((target_probas_1, target_probas_2)))\n",
        "\n",
        "# 打印结果\n",
        "print(log_probas)"
      ],
      "metadata": {
        "id": "Q9PEZM36KPaF",
        "colab": {
          "base_uri": "https://localhost:8080/"
        },
        "outputId": "22a1b78c-d01c-4ed0-d051-f0e527ee6792"
      },
      "execution_count": 132,
      "outputs": [
        {
          "output_type": "stream",
          "name": "stdout",
          "text": [
            "tensor([ -9.5042, -10.3796, -11.3677, -11.4798,  -9.7764, -12.2561])\n"
          ]
        }
      ]
    },
    {
      "cell_type": "code",
      "source": [
        "# 计算对数概率的平均值\n",
        "avg_log_probas = torch.mean(log_probas)\n",
        "\n",
        "# 打印结果\n",
        "print(avg_log_probas)"
      ],
      "metadata": {
        "id": "uY-pBo7yK0rB",
        "colab": {
          "base_uri": "https://localhost:8080/"
        },
        "outputId": "a818ce53-5806-417d-d27e-3c7f9866b41e"
      },
      "execution_count": 133,
      "outputs": [
        {
          "output_type": "stream",
          "name": "stdout",
          "text": [
            "tensor(-10.7940)\n"
          ]
        }
      ]
    },
    {
      "cell_type": "code",
      "source": [
        "# 将平均对数概率取反\n",
        "neg_avg_log_probas = avg_log_probas * -1\n",
        "\n",
        "# 打印结果\n",
        "print(neg_avg_log_probas)"
      ],
      "metadata": {
        "id": "Xt_KzyKXLNqL",
        "colab": {
          "base_uri": "https://localhost:8080/"
        },
        "outputId": "397d5855-ed42-4d5f-f7d1-f1d6e0bebb06"
      },
      "execution_count": 134,
      "outputs": [
        {
          "output_type": "stream",
          "name": "stdout",
          "text": [
            "tensor(10.7940)\n"
          ]
        }
      ]
    },
    {
      "cell_type": "code",
      "source": [
        "print(\"Logits shape:\", logits.shape)\n",
        "print(\"Targets shape:\", targets.shape)"
      ],
      "metadata": {
        "id": "NjvkmlYYLVA4",
        "colab": {
          "base_uri": "https://localhost:8080/"
        },
        "outputId": "6f666c74-a5f6-4a3d-88b7-6d4ecbeeebb8"
      },
      "execution_count": 135,
      "outputs": [
        {
          "output_type": "stream",
          "name": "stdout",
          "text": [
            "Logits shape: torch.Size([2, 3, 50257])\n",
            "Targets shape: torch.Size([2, 3])\n"
          ]
        }
      ]
    },
    {
      "cell_type": "code",
      "source": [
        "import torch\n",
        "import torch.nn as nn\n",
        "\n",
        "# 将logits张量展平\n",
        "logits_flat = logits.flatten(0, 1)\n",
        "\n",
        "# 将targets张量展平\n",
        "targets_flat = targets.flatten()\n",
        "\n",
        "# 打印展平后的logits形状\n",
        "print(\"Flattened logits:\", logits_flat.shape)\n",
        "\n",
        "# 打印展平后的targets形状\n",
        "print(\"Flattened targets:\", targets_flat.shape)"
      ],
      "metadata": {
        "id": "T-n5iq9xLYo8",
        "colab": {
          "base_uri": "https://localhost:8080/"
        },
        "outputId": "0c9bcaf7-c7d6-4d0f-840c-1b8b388d9860"
      },
      "execution_count": 136,
      "outputs": [
        {
          "output_type": "stream",
          "name": "stdout",
          "text": [
            "Flattened logits: torch.Size([6, 50257])\n",
            "Flattened targets: torch.Size([6])\n"
          ]
        }
      ]
    },
    {
      "cell_type": "code",
      "source": [
        "# 计算交叉熵损失\n",
        "loss = torch.nn.functional.cross_entropy(logits_flat, targets_flat)\n",
        "print(loss)"
      ],
      "metadata": {
        "id": "UvLEjQzQLgXQ",
        "colab": {
          "base_uri": "https://localhost:8080/"
        },
        "outputId": "ca35811a-f4b3-4d7d-8f2a-d1220773c663"
      },
      "execution_count": 137,
      "outputs": [
        {
          "output_type": "stream",
          "name": "stdout",
          "text": [
            "tensor(10.7940)\n"
          ]
        }
      ]
    },
    {
      "cell_type": "markdown",
      "source": [
        "### 5.1.3  Calculating the training and validation set losses"
      ],
      "metadata": {
        "id": "XaRiLNAUOR1j"
      }
    },
    {
      "cell_type": "code",
      "source": [
        "# 定义文件路径\n",
        "file_path = \"the-verdict.txt\"\n",
        "\n",
        "# 以只读模式打开文件，指定编码为UTF-8\n",
        "with open(file_path, \"r\", encoding=\"utf-8\") as file:\n",
        "    # 读取文件内容\n",
        "    text_data = file.read()"
      ],
      "metadata": {
        "id": "5GpWRTzPLpJi"
      },
      "execution_count": 138,
      "outputs": []
    },
    {
      "cell_type": "code",
      "source": [
        "# 计算文本数据的字符总数\n",
        "total_characters = len(text_data)\n",
        "\n",
        "# 计算文本数据的token总数\n",
        "total_tokens = len(tokenizer.encode(text_data))\n",
        "\n",
        "# 打印字符总数\n",
        "print(\"Characters:\", total_characters)\n",
        "\n",
        "# 打印token总数\n",
        "print(\"Tokens:\", total_tokens)"
      ],
      "metadata": {
        "id": "yuw58i3lOdan",
        "colab": {
          "base_uri": "https://localhost:8080/"
        },
        "outputId": "7fd4e389-5b50-4c0e-d075-9e5160845b1e"
      },
      "execution_count": 139,
      "outputs": [
        {
          "output_type": "stream",
          "name": "stdout",
          "text": [
            "Characters: 20479\n",
            "Tokens: 5145\n"
          ]
        }
      ]
    },
    {
      "cell_type": "code",
      "source": [
        "# 定义训练集比例\n",
        "train_ratio = 0.90\n",
        "\n",
        "# 计算分割索引\n",
        "split_idx = int(train_ratio * len(text_data))\n",
        "\n",
        "# 分割为训练集和验证集\n",
        "train_data = text_data[:split_idx]\n",
        "val_data = text_data[split_idx:]"
      ],
      "metadata": {
        "id": "mVHuEoahOkRq"
      },
      "execution_count": 140,
      "outputs": []
    },
    {
      "cell_type": "code",
      "source": [
        "# from chapter02 import create_dataloader_v1\n",
        "\n",
        "# 设置随机种子，确保结果可复现\n",
        "torch.manual_seed(123)\n",
        "\n",
        "# 创建训练集的数据加载器\n",
        "train_loader = create_dataloader_v1(\n",
        "    train_data,\n",
        "    batch_size=2,\n",
        "    max_length=GPT_CONFIG_124M[\"context_length\"],\n",
        "    stride=GPT_CONFIG_124M[\"context_length\"],\n",
        "    drop_last=True,\n",
        "    shuffle=True,\n",
        "    num_workers=0\n",
        ")\n",
        "\n",
        "# 创建验证集的数据加载器\n",
        "val_loader = create_dataloader_v1(\n",
        "    val_data,\n",
        "    batch_size=2,\n",
        "    max_length=GPT_CONFIG_124M[\"context_length\"],\n",
        "    stride=GPT_CONFIG_124M[\"context_length\"],\n",
        "    drop_last=False,\n",
        "    shuffle=False,\n",
        "    num_workers=0\n",
        ")"
      ],
      "metadata": {
        "id": "QPe6PdvmOqVB"
      },
      "execution_count": 141,
      "outputs": []
    },
    {
      "cell_type": "code",
      "source": [
        "# 打印训练集数据加载器的批次形状\n",
        "print(\"Train loader:\")\n",
        "for x, y in train_loader:\n",
        "    print(x.shape, y.shape)\n",
        "\n",
        "# 打印验证集数据加载器的批次形状\n",
        "print(\"\\nValidation loader:\")\n",
        "for x, y in val_loader:\n",
        "    print(x.shape, y.shape)"
      ],
      "metadata": {
        "id": "mVALvrljPAfJ",
        "colab": {
          "base_uri": "https://localhost:8080/"
        },
        "outputId": "0437b136-1cbb-40f7-eed7-7ce3a32544b1"
      },
      "execution_count": 142,
      "outputs": [
        {
          "output_type": "stream",
          "name": "stdout",
          "text": [
            "Train loader:\n",
            "torch.Size([2, 256]) torch.Size([2, 256])\n",
            "torch.Size([2, 256]) torch.Size([2, 256])\n",
            "torch.Size([2, 256]) torch.Size([2, 256])\n",
            "torch.Size([2, 256]) torch.Size([2, 256])\n",
            "torch.Size([2, 256]) torch.Size([2, 256])\n",
            "torch.Size([2, 256]) torch.Size([2, 256])\n",
            "torch.Size([2, 256]) torch.Size([2, 256])\n",
            "torch.Size([2, 256]) torch.Size([2, 256])\n",
            "torch.Size([2, 256]) torch.Size([2, 256])\n",
            "\n",
            "Validation loader:\n",
            "torch.Size([2, 256]) torch.Size([2, 256])\n"
          ]
        }
      ]
    },
    {
      "cell_type": "code",
      "source": [
        "def calc_loss_batch(input_batch, target_batch, model, device):\n",
        "    # 将输入数据和目标数据移动到指定设备（如GPU）\n",
        "    input_batch = input_batch.to(device)\n",
        "    target_batch = target_batch.to(device)\n",
        "\n",
        "    # 获取模型的输出logits\n",
        "    logits = model(input_batch)\n",
        "\n",
        "    # 计算交叉熵损失\n",
        "    loss = torch.nn.functional.cross_entropy(\n",
        "        logits.flatten(0, 1),  # 展平logits张量\n",
        "        target_batch.flatten()  # 展平目标张量\n",
        "    )\n",
        "\n",
        "    # 返回损失\n",
        "    return loss"
      ],
      "metadata": {
        "id": "nR9xDf1DPIPv"
      },
      "execution_count": 143,
      "outputs": []
    },
    {
      "cell_type": "code",
      "source": [
        "def calc_loss_loader(data_loader, model, device, num_batches=None):\n",
        "    # 初始化总损失\n",
        "    total_loss = 0\n",
        "\n",
        "    # 处理空数据加载器的情况\n",
        "    if len(data_loader) == 0:\n",
        "        return float(\"nan\")\n",
        "\n",
        "    # 确定要处理的批次数量\n",
        "    if num_batches is None:\n",
        "        num_batches = len(data_loader)\n",
        "    else:\n",
        "        num_batches = min(num_batches, len(data_loader))\n",
        "\n",
        "    # 遍历数据加载器中的批次\n",
        "    for i, (input_batch, target_batch) in enumerate(data_loader):\n",
        "        if i < num_batches:\n",
        "            # 计算单个批次的损失\n",
        "            loss = calc_loss_batch(input_batch, target_batch, model, device)\n",
        "            # 累加损失\n",
        "            total_loss += loss.item()\n",
        "        else:\n",
        "            break\n",
        "\n",
        "    # 返回平均损失\n",
        "    return total_loss / num_batches"
      ],
      "metadata": {
        "id": "Kiv_cbpwf-o9"
      },
      "execution_count": 144,
      "outputs": []
    },
    {
      "cell_type": "code",
      "source": [
        "import torch\n",
        "# 检查是否有CUDA支持的GPU，否则使用CPU\n",
        "device = torch.device(\"cuda\") if torch.cuda.is_available() else \"cpu\"\n",
        "\n",
        "# 将模型移动到指定设备\n",
        "model.to(device)\n",
        "\n",
        "# 禁用梯度跟踪，提高性能并减少内存占用\n",
        "with torch.no_grad():\n",
        "    # 计算训练集的损失\n",
        "    train_loss = calc_loss_loader(train_loader, model, device)\n",
        "    # 计算验证集的损失\n",
        "    val_loss = calc_loss_loader(val_loader, model, device)\n",
        "\n",
        "# 打印训练集损失\n",
        "print(\"Training loss:\", train_loss)\n",
        "# 打印验证集损失\n",
        "print(\"Validation loss:\", val_loss)"
      ],
      "metadata": {
        "id": "toSzmlBLgIi2",
        "colab": {
          "base_uri": "https://localhost:8080/"
        },
        "outputId": "322cf635-7a02-4a34-c646-974bcbc41971"
      },
      "execution_count": 145,
      "outputs": [
        {
          "output_type": "stream",
          "name": "stdout",
          "text": [
            "Training loss: 10.987583584255642\n",
            "Validation loss: 10.98110580444336\n"
          ]
        }
      ]
    },
    {
      "cell_type": "markdown",
      "source": [
        "## 5.2  Training an LLM"
      ],
      "metadata": {
        "id": "3Q-KF-FXYqVB"
      }
    },
    {
      "cell_type": "code",
      "source": [
        "def train_model_simple(\n",
        "    model, train_loader, val_loader,\n",
        "    optimizer, device, num_epochs,\n",
        "    eval_freq, eval_iter, start_context, tokenizer\n",
        "):\n",
        "    # 初始化损失列表和token统计\n",
        "    train_losses, val_losses, track_tokens_seen = [], [], []\n",
        "    tokens_seen, global_step = 0, -1\n",
        "\n",
        "    # 主训练循环\n",
        "    for epoch in range(num_epochs):\n",
        "        # 设置模型为训练模式\n",
        "        model.train()\n",
        "        # 遍历训练集\n",
        "        for input_batch, target_batch in train_loader:\n",
        "            # 更新全局步数\n",
        "            global_step += 1\n",
        "            # 重置梯度\n",
        "            optimizer.zero_grad()\n",
        "            # 计算损失\n",
        "            loss = calc_loss_batch(input_batch, target_batch, model, device)\n",
        "            # 反向传播\n",
        "            loss.backward()\n",
        "            # 更新模型参数\n",
        "            optimizer.step()\n",
        "            # 更新已处理的token数\n",
        "            tokens_seen += input_batch.numel()\n",
        "\n",
        "            # 定期评估模型\n",
        "            if global_step % eval_freq == 0:\n",
        "                # 评估模型\n",
        "                train_loss, val_loss = evaluate_model(\n",
        "                    model, train_loader, val_loader, device, eval_iter\n",
        "                )\n",
        "                # 记录损失\n",
        "                train_losses.append(train_loss)\n",
        "                val_losses.append(val_loss)\n",
        "                track_tokens_seen.append(tokens_seen)\n",
        "                # 打印损失\n",
        "                print(f\"Ep {epoch+1} (Step {global_step:06d}): \"\n",
        "                      f\"Train loss {train_loss:.3f}, \"\n",
        "                      f\"Val loss {val_loss:.3f}\")\n",
        "\n",
        "        # 生成并打印示例文本\n",
        "        generate_and_print_sample(\n",
        "            model, tokenizer, device, start_context\n",
        "        )\n",
        "\n",
        "    # 返回训练历史\n",
        "    return train_losses, val_losses, track_tokens_seen"
      ],
      "metadata": {
        "id": "iCAsa56bgQPj"
      },
      "execution_count": 146,
      "outputs": []
    },
    {
      "cell_type": "code",
      "source": [
        "def evaluate_model(model, train_loader, val_loader, device, eval_iter):\n",
        "    # 禁用梯度计算，提高性能并减少内存占用\n",
        "    with torch.no_grad():\n",
        "        # 计算训练集的损失\n",
        "        train_loss = calc_loss_loader(\n",
        "            train_loader, model, device, num_batches=eval_iter\n",
        "        )\n",
        "        # 计算验证集的损失\n",
        "        val_loss = calc_loss_loader(\n",
        "            val_loader, model, device, num_batches=eval_iter\n",
        "        )\n",
        "\n",
        "    # 设置模型为评估模式\n",
        "    model.eval()\n",
        "\n",
        "    # 返回训练集和验证集的损失\n",
        "    return train_loss, val_loss"
      ],
      "metadata": {
        "id": "dnDTitZpY6Hy"
      },
      "execution_count": 147,
      "outputs": []
    },
    {
      "cell_type": "code",
      "source": [
        "def generate_and_print_sample(model, tokenizer, device, start_context):\n",
        "    # 设置模型为评估模式\n",
        "    model.eval()\n",
        "\n",
        "    # 获取模型的上下文大小\n",
        "    context_size = model.pos_emb.weight.shape[0]\n",
        "\n",
        "    # 将起始文本编码为token ID\n",
        "    encoded = text_to_token_ids(start_context, tokenizer).to(device)\n",
        "\n",
        "    # 禁用梯度计算\n",
        "    with torch.no_grad():\n",
        "        # 生成文本\n",
        "        token_ids = generate_text_simple(\n",
        "            model=model,\n",
        "            idx=encoded,\n",
        "            max_new_tokens=50,\n",
        "            context_size=context_size\n",
        "        )\n",
        "\n",
        "    # 将token ID解码为文本\n",
        "    decoded_text = token_ids_to_text(token_ids, tokenizer)\n",
        "\n",
        "    # 打印生成的文本（去除换行符）\n",
        "    print(decoded_text.replace(\"\\n\", \" \"))\n",
        "\n",
        "    # 设置模型为训练模式\n",
        "    model.train()"
      ],
      "metadata": {
        "id": "B7HBOCA4ZH-0"
      },
      "execution_count": 148,
      "outputs": []
    },
    {
      "cell_type": "code",
      "source": [
        "# 设置随机种子，确保结果可复现\n",
        "torch.manual_seed(123)\n",
        "\n",
        "# 初始化模型\n",
        "model = GPTModel(GPT_CONFIG_124M)\n",
        "\n",
        "# 将模型移动到指定设备（如GPU）\n",
        "model.to(device)\n",
        "\n",
        "# 初始化优化器\n",
        "optimizer = torch.optim.AdamW(\n",
        "    model.parameters(),\n",
        "    lr=0.0004,\n",
        "    weight_decay=0.1\n",
        ")\n",
        "\n",
        "# 定义训练轮次\n",
        "num_epochs = 10\n",
        "\n",
        "# 开始训练模型\n",
        "train_losses, val_losses, tokens_seen = train_model_simple(\n",
        "    model,\n",
        "    train_loader,\n",
        "    val_loader,\n",
        "    optimizer,\n",
        "    device,\n",
        "    num_epochs=num_epochs,\n",
        "    eval_freq=5,\n",
        "    eval_iter=5,\n",
        "    start_context=\"Every effort moves you\",\n",
        "    tokenizer=tokenizer\n",
        ")"
      ],
      "metadata": {
        "id": "6NT7RVSGZSsp",
        "colab": {
          "base_uri": "https://localhost:8080/"
        },
        "outputId": "8bd45107-c5e9-4010-d712-91c5017931ee"
      },
      "execution_count": 149,
      "outputs": [
        {
          "output_type": "stream",
          "name": "stdout",
          "text": [
            "Ep 1 (Step 000000): Train loss 9.831, Val loss 9.968\n",
            "Ep 1 (Step 000005): Train loss 7.981, Val loss 8.328\n",
            "Every effort moves you,,,,,,,,,,,,.                                     \n",
            "Ep 2 (Step 000010): Train loss 6.776, Val loss 7.069\n",
            "Ep 2 (Step 000015): Train loss 6.076, Val loss 6.575\n",
            "Every effort moves you, and, and, and, and, and, and, and. \", and, and, and, and, and, and the, and, and, and, and, and, and, and, and, and, and\n",
            "Ep 3 (Step 000020): Train loss 5.495, Val loss 6.632\n",
            "Ep 3 (Step 000025): Train loss 5.154, Val loss 6.349\n",
            "Every effort moves you                                                  \n",
            "Ep 4 (Step 000030): Train loss 4.532, Val loss 6.341\n",
            "Ep 4 (Step 000035): Train loss 3.964, Val loss 6.153\n",
            "Every effort moves you know it was, and I felt--I to the picture. \"Oh, I was a little--and, I had been, and I was his the, and I had been the, and of his pictures--and it's the of\n",
            "Ep 5 (Step 000040): Train loss 3.999, Val loss 6.133\n",
            "Every effort moves you know it was not that, and in a little the fact of the of a little: \"Yes, with a little of the fact, in the of his pictures--I had always--his, and of Jack's \"There, I was his\n",
            "Ep 6 (Step 000045): Train loss 3.312, Val loss 6.129\n",
            "Ep 6 (Step 000050): Train loss 2.501, Val loss 6.130\n",
            "Every effort moves you know,\" was not that my dear, and he had been the his painting.                                  \n",
            "Ep 7 (Step 000055): Train loss 2.239, Val loss 6.175\n",
            "Ep 7 (Step 000060): Train loss 1.490, Val loss 6.227\n",
            "Every effort moves you?\"  \"Yes--I glanced after him, so a little: \"There: make yourself comfortable--and here are the cigars you like.\"    \"I had been the honour being _mine_--because he didn't want\n",
            "Ep 8 (Step 000065): Train loss 1.298, Val loss 6.246\n",
            "Ep 8 (Step 000070): Train loss 0.836, Val loss 6.278\n",
            "Every effort moves you?\"  \"Yes--quite insensible to the fact with a laugh: \"Yes--and by me!\"  He laughed again, and threw back his head to look up at the honour being _mine_--oh, and in his\n",
            "Ep 9 (Step 000075): Train loss 0.847, Val loss 6.318\n",
            "Ep 9 (Step 000080): Train loss 0.463, Val loss 6.437\n",
            "Every effort moves you?\"  \"Yes--quite insensible to the fact with equanimity.        He laughed again, and threw back his head to look up at the sketch of the donkey. \"There were days when I\n",
            "Ep 10 (Step 000085): Train loss 0.517, Val loss 6.418\n",
            "Every effort moves you?\"  \"Yes--quite insensible to the irony. She wanted him vindicated--and by me!\"  He laughed again, and threw back his head to look up at the sketch of the donkey. \"There were days when I\n"
          ]
        }
      ]
    },
    {
      "cell_type": "code",
      "source": [
        "import matplotlib.pyplot as plt\n",
        "from matplotlib.ticker import MaxNLocator\n",
        "\n",
        "def plot_losses(epochs_seen, tokens_seen, train_losses, val_losses):\n",
        "    # 创建图形和子图\n",
        "    fig, ax1 = plt.subplots(figsize=(5, 3))\n",
        "\n",
        "    # 绘制训练损失和验证损失随训练轮次的变化\n",
        "    ax1.plot(epochs_seen, train_losses, label=\"Training loss\")\n",
        "    ax1.plot(epochs_seen, val_losses, linestyle=\"--\", label=\"Validation loss\")\n",
        "\n",
        "    # 设置x轴标签\n",
        "    ax1.set_xlabel(\"Epochs\")\n",
        "    # 设置y轴标签\n",
        "    ax1.set_ylabel(\"Loss\")\n",
        "    # 设置图例位置\n",
        "    ax1.legend(loc=\"upper right\")\n",
        "    # 设置x轴为整数刻度\n",
        "    ax1.xaxis.set_major_locator(MaxNLocator(integer=True))\n",
        "\n",
        "    # 创建第二个x轴，共享y轴\n",
        "    ax2 = ax1.twiny()\n",
        "    # 绘制处理token数的不可见曲线，用于对齐刻度\n",
        "    ax2.plot(tokens_seen, train_losses, alpha=0)\n",
        "    # 设置第二个x轴标签\n",
        "    ax2.set_xlabel(\"Tokens seen\")\n",
        "\n",
        "    # 自动调整子图布局\n",
        "    fig.tight_layout()\n",
        "    # 显示图形\n",
        "    plt.show()\n",
        "\n",
        "# 创建训练轮次的张量\n",
        "epochs_tensor = torch.linspace(0, num_epochs, len(train_losses))\n",
        "\n",
        "# 调用plot_losses函数绘制损失曲线\n",
        "plot_losses(epochs_tensor, tokens_seen, train_losses, val_losses)"
      ],
      "metadata": {
        "id": "1CgtUDOJZaSQ",
        "colab": {
          "base_uri": "https://localhost:8080/",
          "height": 307
        },
        "outputId": "53094d29-74dd-4b24-d50f-fa54628e42c6"
      },
      "execution_count": 150,
      "outputs": [
        {
          "output_type": "display_data",
          "data": {
            "text/plain": [
              "<Figure size 500x300 with 2 Axes>"
            ],
            "image/png": "[encoded data removed]"
          },
          "metadata": {}
        }
      ]
    },
    {
      "cell_type": "markdown",
      "source": [
        "## 5.3 Decoding strategies to control randomness"
      ],
      "metadata": {
        "id": "-1J-OtuqfFFo"
      }
    },
    {
      "cell_type": "code",
      "source": [
        "# 将模型移动到CPU\n",
        "model.to(\"cpu\")\n",
        "\n",
        "# 设置模型为评估模式\n",
        "model.eval()"
      ],
      "metadata": {
        "id": "2-6ZZyErfDQm",
        "colab": {
          "base_uri": "https://localhost:8080/"
        },
        "outputId": "0d1b57ea-3850-4fb5-bda3-6e7cc94f1513"
      },
      "execution_count": 151,
      "outputs": [
        {
          "output_type": "execute_result",
          "data": {
            "text/plain": [
              "GPTModel(\n",
              "  (tok_emb): Embedding(50257, 768)\n",
              "  (pos_emb): Embedding(256, 768)\n",
              "  (drop_emb): Dropout(p=0.1, inplace=False)\n",
              "  (trf_blocks): Sequential(\n",
              "    (0): TransformerBlock(\n",
              "      (att): MultiHeadAttention(\n",
              "        (W_query): Linear(in_features=768, out_features=768, bias=False)\n",
              "        (W_key): Linear(in_features=768, out_features=768, bias=False)\n",
              "        (W_value): Linear(in_features=768, out_features=768, bias=False)\n",
              "        (out_proj): Linear(in_features=768, out_features=768, bias=True)\n",
              "        (dropout): Dropout(p=0.1, inplace=False)\n",
              "      )\n",
              "      (ff): FeedForward(\n",
              "        (layers): Sequential(\n",
              "          (0): Linear(in_features=768, out_features=3072, bias=True)\n",
              "          (1): GELU()\n",
              "          (2): Linear(in_features=3072, out_features=768, bias=True)\n",
              "        )\n",
              "      )\n",
              "      (norm1): LayerNorm()\n",
              "      (norm2): LayerNorm()\n",
              "      (drop_shortcut): Dropout(p=0.1, inplace=False)\n",
              "    )\n",
              "    (1): TransformerBlock(\n",
              "      (att): MultiHeadAttention(\n",
              "        (W_query): Linear(in_features=768, out_features=768, bias=False)\n",
              "        (W_key): Linear(in_features=768, out_features=768, bias=False)\n",
              "        (W_value): Linear(in_features=768, out_features=768, bias=False)\n",
              "        (out_proj): Linear(in_features=768, out_features=768, bias=True)\n",
              "        (dropout): Dropout(p=0.1, inplace=False)\n",
              "      )\n",
              "      (ff): FeedForward(\n",
              "        (layers): Sequential(\n",
              "          (0): Linear(in_features=768, out_features=3072, bias=True)\n",
              "          (1): GELU()\n",
              "          (2): Linear(in_features=3072, out_features=768, bias=True)\n",
              "        )\n",
              "      )\n",
              "      (norm1): LayerNorm()\n",
              "      (norm2): LayerNorm()\n",
              "      (drop_shortcut): Dropout(p=0.1, inplace=False)\n",
              "    )\n",
              "    (2): TransformerBlock(\n",
              "      (att): MultiHeadAttention(\n",
              "        (W_query): Linear(in_features=768, out_features=768, bias=False)\n",
              "        (W_key): Linear(in_features=768, out_features=768, bias=False)\n",
              "        (W_value): Linear(in_features=768, out_features=768, bias=False)\n",
              "        (out_proj): Linear(in_features=768, out_features=768, bias=True)\n",
              "        (dropout): Dropout(p=0.1, inplace=False)\n",
              "      )\n",
              "      (ff): FeedForward(\n",
              "        (layers): Sequential(\n",
              "          (0): Linear(in_features=768, out_features=3072, bias=True)\n",
              "          (1): GELU()\n",
              "          (2): Linear(in_features=3072, out_features=768, bias=True)\n",
              "        )\n",
              "      )\n",
              "      (norm1): LayerNorm()\n",
              "      (norm2): LayerNorm()\n",
              "      (drop_shortcut): Dropout(p=0.1, inplace=False)\n",
              "    )\n",
              "    (3): TransformerBlock(\n",
              "      (att): MultiHeadAttention(\n",
              "        (W_query): Linear(in_features=768, out_features=768, bias=False)\n",
              "        (W_key): Linear(in_features=768, out_features=768, bias=False)\n",
              "        (W_value): Linear(in_features=768, out_features=768, bias=False)\n",
              "        (out_proj): Linear(in_features=768, out_features=768, bias=True)\n",
              "        (dropout): Dropout(p=0.1, inplace=False)\n",
              "      )\n",
              "      (ff): FeedForward(\n",
              "        (layers): Sequential(\n",
              "          (0): Linear(in_features=768, out_features=3072, bias=True)\n",
              "          (1): GELU()\n",
              "          (2): Linear(in_features=3072, out_features=768, bias=True)\n",
              "        )\n",
              "      )\n",
              "      (norm1): LayerNorm()\n",
              "      (norm2): LayerNorm()\n",
              "      (drop_shortcut): Dropout(p=0.1, inplace=False)\n",
              "    )\n",
              "    (4): TransformerBlock(\n",
              "      (att): MultiHeadAttention(\n",
              "        (W_query): Linear(in_features=768, out_features=768, bias=False)\n",
              "        (W_key): Linear(in_features=768, out_features=768, bias=False)\n",
              "        (W_value): Linear(in_features=768, out_features=768, bias=False)\n",
              "        (out_proj): Linear(in_features=768, out_features=768, bias=True)\n",
              "        (dropout): Dropout(p=0.1, inplace=False)\n",
              "      )\n",
              "      (ff): FeedForward(\n",
              "        (layers): Sequential(\n",
              "          (0): Linear(in_features=768, out_features=3072, bias=True)\n",
              "          (1): GELU()\n",
              "          (2): Linear(in_features=3072, out_features=768, bias=True)\n",
              "        )\n",
              "      )\n",
              "      (norm1): LayerNorm()\n",
              "      (norm2): LayerNorm()\n",
              "      (drop_shortcut): Dropout(p=0.1, inplace=False)\n",
              "    )\n",
              "    (5): TransformerBlock(\n",
              "      (att): MultiHeadAttention(\n",
              "        (W_query): Linear(in_features=768, out_features=768, bias=False)\n",
              "        (W_key): Linear(in_features=768, out_features=768, bias=False)\n",
              "        (W_value): Linear(in_features=768, out_features=768, bias=False)\n",
              "        (out_proj): Linear(in_features=768, out_features=768, bias=True)\n",
              "        (dropout): Dropout(p=0.1, inplace=False)\n",
              "      )\n",
              "      (ff): FeedForward(\n",
              "        (layers): Sequential(\n",
              "          (0): Linear(in_features=768, out_features=3072, bias=True)\n",
              "          (1): GELU()\n",
              "          (2): Linear(in_features=3072, out_features=768, bias=True)\n",
              "        )\n",
              "      )\n",
              "      (norm1): LayerNorm()\n",
              "      (norm2): LayerNorm()\n",
              "      (drop_shortcut): Dropout(p=0.1, inplace=False)\n",
              "    )\n",
              "    (6): TransformerBlock(\n",
              "      (att): MultiHeadAttention(\n",
              "        (W_query): Linear(in_features=768, out_features=768, bias=False)\n",
              "        (W_key): Linear(in_features=768, out_features=768, bias=False)\n",
              "        (W_value): Linear(in_features=768, out_features=768, bias=False)\n",
              "        (out_proj): Linear(in_features=768, out_features=768, bias=True)\n",
              "        (dropout): Dropout(p=0.1, inplace=False)\n",
              "      )\n",
              "      (ff): FeedForward(\n",
              "        (layers): Sequential(\n",
              "          (0): Linear(in_features=768, out_features=3072, bias=True)\n",
              "          (1): GELU()\n",
              "          (2): Linear(in_features=3072, out_features=768, bias=True)\n",
              "        )\n",
              "      )\n",
              "      (norm1): LayerNorm()\n",
              "      (norm2): LayerNorm()\n",
              "      (drop_shortcut): Dropout(p=0.1, inplace=False)\n",
              "    )\n",
              "    (7): TransformerBlock(\n",
              "      (att): MultiHeadAttention(\n",
              "        (W_query): Linear(in_features=768, out_features=768, bias=False)\n",
              "        (W_key): Linear(in_features=768, out_features=768, bias=False)\n",
              "        (W_value): Linear(in_features=768, out_features=768, bias=False)\n",
              "        (out_proj): Linear(in_features=768, out_features=768, bias=True)\n",
              "        (dropout): Dropout(p=0.1, inplace=False)\n",
              "      )\n",
              "      (ff): FeedForward(\n",
              "        (layers): Sequential(\n",
              "          (0): Linear(in_features=768, out_features=3072, bias=True)\n",
              "          (1): GELU()\n",
              "          (2): Linear(in_features=3072, out_features=768, bias=True)\n",
              "        )\n",
              "      )\n",
              "      (norm1): LayerNorm()\n",
              "      (norm2): LayerNorm()\n",
              "      (drop_shortcut): Dropout(p=0.1, inplace=False)\n",
              "    )\n",
              "    (8): TransformerBlock(\n",
              "      (att): MultiHeadAttention(\n",
              "        (W_query): Linear(in_features=768, out_features=768, bias=False)\n",
              "        (W_key): Linear(in_features=768, out_features=768, bias=False)\n",
              "        (W_value): Linear(in_features=768, out_features=768, bias=False)\n",
              "        (out_proj): Linear(in_features=768, out_features=768, bias=True)\n",
              "        (dropout): Dropout(p=0.1, inplace=False)\n",
              "      )\n",
              "      (ff): FeedForward(\n",
              "        (layers): Sequential(\n",
              "          (0): Linear(in_features=768, out_features=3072, bias=True)\n",
              "          (1): GELU()\n",
              "          (2): Linear(in_features=3072, out_features=768, bias=True)\n",
              "        )\n",
              "      )\n",
              "      (norm1): LayerNorm()\n",
              "      (norm2): LayerNorm()\n",
              "      (drop_shortcut): Dropout(p=0.1, inplace=False)\n",
              "    )\n",
              "    (9): TransformerBlock(\n",
              "      (att): MultiHeadAttention(\n",
              "        (W_query): Linear(in_features=768, out_features=768, bias=False)\n",
              "        (W_key): Linear(in_features=768, out_features=768, bias=False)\n",
              "        (W_value): Linear(in_features=768, out_features=768, bias=False)\n",
              "        (out_proj): Linear(in_features=768, out_features=768, bias=True)\n",
              "        (dropout): Dropout(p=0.1, inplace=False)\n",
              "      )\n",
              "      (ff): FeedForward(\n",
              "        (layers): Sequential(\n",
              "          (0): Linear(in_features=768, out_features=3072, bias=True)\n",
              "          (1): GELU()\n",
              "          (2): Linear(in_features=3072, out_features=768, bias=True)\n",
              "        )\n",
              "      )\n",
              "      (norm1): LayerNorm()\n",
              "      (norm2): LayerNorm()\n",
              "      (drop_shortcut): Dropout(p=0.1, inplace=False)\n",
              "    )\n",
              "    (10): TransformerBlock(\n",
              "      (att): MultiHeadAttention(\n",
              "        (W_query): Linear(in_features=768, out_features=768, bias=False)\n",
              "        (W_key): Linear(in_features=768, out_features=768, bias=False)\n",
              "        (W_value): Linear(in_features=768, out_features=768, bias=False)\n",
              "        (out_proj): Linear(in_features=768, out_features=768, bias=True)\n",
              "        (dropout): Dropout(p=0.1, inplace=False)\n",
              "      )\n",
              "      (ff): FeedForward(\n",
              "        (layers): Sequential(\n",
              "          (0): Linear(in_features=768, out_features=3072, bias=True)\n",
              "          (1): GELU()\n",
              "          (2): Linear(in_features=3072, out_features=768, bias=True)\n",
              "        )\n",
              "      )\n",
              "      (norm1): LayerNorm()\n",
              "      (norm2): LayerNorm()\n",
              "      (drop_shortcut): Dropout(p=0.1, inplace=False)\n",
              "    )\n",
              "    (11): TransformerBlock(\n",
              "      (att): MultiHeadAttention(\n",
              "        (W_query): Linear(in_features=768, out_features=768, bias=False)\n",
              "        (W_key): Linear(in_features=768, out_features=768, bias=False)\n",
              "        (W_value): Linear(in_features=768, out_features=768, bias=False)\n",
              "        (out_proj): Linear(in_features=768, out_features=768, bias=True)\n",
              "        (dropout): Dropout(p=0.1, inplace=False)\n",
              "      )\n",
              "      (ff): FeedForward(\n",
              "        (layers): Sequential(\n",
              "          (0): Linear(in_features=768, out_features=3072, bias=True)\n",
              "          (1): GELU()\n",
              "          (2): Linear(in_features=3072, out_features=768, bias=True)\n",
              "        )\n",
              "      )\n",
              "      (norm1): LayerNorm()\n",
              "      (norm2): LayerNorm()\n",
              "      (drop_shortcut): Dropout(p=0.1, inplace=False)\n",
              "    )\n",
              "  )\n",
              "  (final_norm): LayerNorm()\n",
              "  (out_head): Linear(in_features=768, out_features=50257, bias=False)\n",
              ")"
            ]
          },
          "metadata": {},
          "execution_count": 151
        }
      ]
    },
    {
      "cell_type": "code",
      "source": [
        "# 获取GPT-2分词器\n",
        "tokenizer = tiktoken.get_encoding(\"gpt2\")\n",
        "\n",
        "# 生成文本\n",
        "token_ids = generate_text_simple(\n",
        "    model=model,\n",
        "    idx=text_to_token_ids(\"Every effort moves you\", tokenizer),\n",
        "    max_new_tokens=25,\n",
        "    context_size=GPT_CONFIG_124M[\"context_length\"]\n",
        ")\n",
        "\n",
        "# 将生成的token ID解码为文本并打印\n",
        "print(\"Output text:\\n\", token_ids_to_text(token_ids, tokenizer))"
      ],
      "metadata": {
        "id": "hPrI9Sg8fYZB",
        "colab": {
          "base_uri": "https://localhost:8080/"
        },
        "outputId": "0a036916-58c7-4431-eacc-b1cc6615b660"
      },
      "execution_count": 152,
      "outputs": [
        {
          "output_type": "stream",
          "name": "stdout",
          "text": [
            "Output text:\n",
            " Every effort moves you?\"\n",
            "\n",
            "\"Yes--quite insensible to the irony. She wanted him vindicated--and by me!\"\n",
            "\n",
            "\n"
          ]
        }
      ]
    },
    {
      "cell_type": "markdown",
      "source": [
        "### 5.3.1  Temperature scaling"
      ],
      "metadata": {
        "id": "LcjelCp9fpzJ"
      }
    },
    {
      "cell_type": "code",
      "source": [
        "# 定义词汇表\n",
        "vocab = {\n",
        "    \"closer\": 0,\n",
        "    \"every\": 1,\n",
        "    \"effort\": 2,\n",
        "    \"forward\": 3,\n",
        "    \"inches\": 4,\n",
        "    \"moves\": 5,\n",
        "    \"pizza\": 6,\n",
        "    \"toward\": 7,\n",
        "    \"you\": 8,\n",
        "}\n",
        "\n",
        "# 定义反向词汇表\n",
        "inverse_vocab = {v: k for k, v in vocab.items()}"
      ],
      "metadata": {
        "id": "Hxza83y7fh7z"
      },
      "execution_count": 153,
      "outputs": []
    },
    {
      "cell_type": "code",
      "source": [
        "# 定义下一个token的logits张量\n",
        "next_token_logits = torch.tensor([4.51, 0.89, -1.90, 6.75, 1.63, -1.62, -1.89, 6.28, 1.79])"
      ],
      "metadata": {
        "id": "S-S6FVhifvBn"
      },
      "execution_count": 154,
      "outputs": []
    },
    {
      "cell_type": "code",
      "source": [
        "# 将logits转换为概率分布\n",
        "probs = torch.softmax(next_token_logits, dim=0)\n",
        "\n",
        "# 选择概率最高的token的索引\n",
        "next_token_id = torch.argmax(probs).item()\n",
        "\n",
        "# 将token索引转换为单词并打印\n",
        "print(inverse_vocab[next_token_id])"
      ],
      "metadata": {
        "id": "7wMJzpe9f3Ra",
        "colab": {
          "base_uri": "https://localhost:8080/"
        },
        "outputId": "4e1602df-b0bd-4d02-ba16-41a0a9d7d34f"
      },
      "execution_count": 155,
      "outputs": [
        {
          "output_type": "stream",
          "name": "stdout",
          "text": [
            "forward\n"
          ]
        }
      ]
    },
    {
      "cell_type": "code",
      "source": [
        "# 设置随机种子，确保结果可复现\n",
        "torch.manual_seed(123)\n",
        "\n",
        "# 从概率分布中随机选择一个token\n",
        "next_token_id = torch.multinomial(probs, num_samples=1).item()\n",
        "\n",
        "# 将token索引转换为单词并打印\n",
        "print(inverse_vocab[next_token_id])"
      ],
      "metadata": {
        "id": "KcGjVxVlf_72",
        "colab": {
          "base_uri": "https://localhost:8080/"
        },
        "outputId": "7af0e2d6-2d4a-4a71-d72f-687d5247c67e"
      },
      "execution_count": 156,
      "outputs": [
        {
          "output_type": "stream",
          "name": "stdout",
          "text": [
            "toward\n"
          ]
        }
      ]
    },
    {
      "cell_type": "code",
      "source": [
        "def print_sampled_tokens(probs):\n",
        "    # 设置随机种子，确保结果可复现\n",
        "    torch.manual_seed(123)\n",
        "\n",
        "    # 从概率分布中采样1000个token\n",
        "    sample = [torch.multinomial(probs, num_samples=1).item() for _ in range(1000)]\n",
        "\n",
        "    # 计算每个token的频率\n",
        "    sampled_ids = torch.bincount(torch.tensor(sample))\n",
        "\n",
        "    # 打印每个token的频率和对应的单词\n",
        "    for i, freq in enumerate(sampled_ids):\n",
        "        print(f\"{freq} x {inverse_vocab[i]}\")\n",
        "\n",
        "# 调用函数\n",
        "print_sampled_tokens(probs)"
      ],
      "metadata": {
        "id": "0BID4MPvgHs9",
        "colab": {
          "base_uri": "https://localhost:8080/"
        },
        "outputId": "2cf1898e-d28f-4c79-e248-7d71ce85673b"
      },
      "execution_count": 157,
      "outputs": [
        {
          "output_type": "stream",
          "name": "stdout",
          "text": [
            "71 x closer\n",
            "2 x every\n",
            "0 x effort\n",
            "544 x forward\n",
            "2 x inches\n",
            "1 x moves\n",
            "0 x pizza\n",
            "376 x toward\n",
            "4 x you\n"
          ]
        }
      ]
    },
    {
      "cell_type": "code",
      "source": [
        "def softmax_with_temperature(logits, temperature):\n",
        "    # 对logits进行缩放\n",
        "    scaled_logits = logits / temperature\n",
        "    # 计算带温度参数的softmax概率分布\n",
        "    return torch.softmax(scaled_logits, dim=0)"
      ],
      "metadata": {
        "id": "y08QWUnghN3I"
      },
      "execution_count": 158,
      "outputs": []
    },
    {
      "cell_type": "code",
      "source": [
        "# 定义不同的温度参数，用于控制softmax的输出分布\n",
        "# 温度为1时接近原始分布，0.1时分布更集中（高置信度），5时分布更平坦（低置信度）\n",
        "temperatures = [1, 0.1, 5]\n",
        "\n",
        "# 对每个温度参数，使用带温度的softmax函数计算概率分布\n",
        "# scaled_probas将存储不同温度下的概率分布列表\n",
        "scaled_probas = [softmax_with_temperature(next_token_logits, T) for T in temperatures]\n",
        "\n",
        "# 生成x轴的位置坐标，用于绘制柱状图\n",
        "# x的长度等于词汇表的大小，每个位置对应一个词汇\n",
        "x = torch.arange(len(vocab))\n",
        "\n",
        "# 定义柱状图的宽度，用于控制不同温度下柱状图的间距\n",
        "bar_width = 0.15\n",
        "\n",
        "# 创建一个图形和子图对象，设置图形大小为5x3英寸\n",
        "fig, ax = plt.subplots(figsize=(5, 3))\n",
        "\n",
        "# 遍历每个温度参数及其索引\n",
        "for i, T in enumerate(temperatures):\n",
        "    # 绘制当前温度下的概率分布柱状图\n",
        "    # x + i * bar_width：计算每个温度下柱状图的x轴位置\n",
        "    # scaled_probas[i]：当前温度下的概率分布，作为柱状图的高度\n",
        "    # bar_width：柱状图的宽度\n",
        "    # label：为当前温度的柱状图添加图例标签\n",
        "    rects = ax.bar(\n",
        "        x + i * bar_width,\n",
        "        scaled_probas[i],\n",
        "        bar_width,\n",
        "        label=f\"Temperature = {T}\"\n",
        "    )\n",
        "\n",
        "# 设置y轴的标签为\"Probability\"，表示y轴显示的是概率值\n",
        "ax.set_ylabel('Probability')\n",
        "\n",
        "# 设置x轴的刻度位置，与x的长度对应\n",
        "ax.set_xticks(x)\n",
        "\n",
        "# 设置x轴的刻度标签为词汇表中的单词，旋转90度以避免重叠\n",
        "ax.set_xticklabels(vocab.keys(), rotation=90)\n",
        "\n",
        "# 显示图例，解释不同颜色柱状图对应的温度参数\n",
        "ax.legend()\n",
        "\n",
        "# 自动调整子图布局，确保所有元素都能正确显示\n",
        "plt.tight_layout()\n",
        "\n",
        "# 显示绘制的图形\n",
        "plt.show()"
      ],
      "metadata": {
        "id": "yj4qDgR3hYiL",
        "colab": {
          "base_uri": "https://localhost:8080/",
          "height": 307
        },
        "outputId": "17665568-d4e3-4f11-f1d3-d1ecce6b33d2"
      },
      "execution_count": 159,
      "outputs": [
        {
          "output_type": "display_data",
          "data": {
            "text/plain": [
              "<Figure size 500x300 with 1 Axes>"
            ],
            "image/png": "[encoded data removed]"
          },
          "metadata": {}
        }
      ]
    },
    {
      "cell_type": "markdown",
      "source": [
        "### 5.3.2  Top-k sampling"
      ],
      "metadata": {
        "id": "LIxnquCXiIsK"
      }
    },
    {
      "cell_type": "code",
      "source": [
        "# 定义要获取的top token数量\n",
        "top_k = 3\n",
        "\n",
        "# 获取概率最高的前k个token的logits和位置\n",
        "top_logits, top_pos = torch.topk(next_token_logits, top_k)\n",
        "\n",
        "# 打印概率最高的前k个token的logits\n",
        "print(\"Top logits:\", top_logits)\n",
        "\n",
        "# 打印概率最高的前k个token的位置\n",
        "print(\"Top positions:\", top_pos)"
      ],
      "metadata": {
        "id": "LClKsZB7hfXF",
        "colab": {
          "base_uri": "https://localhost:8080/"
        },
        "outputId": "4ff3ceaf-0ff4-4bd2-ab81-49daa21ead82"
      },
      "execution_count": 160,
      "outputs": [
        {
          "output_type": "stream",
          "name": "stdout",
          "text": [
            "Top logits: tensor([6.7500, 6.2800, 4.5100])\n",
            "Top positions: tensor([3, 7, 0])\n"
          ]
        }
      ]
    },
    {
      "cell_type": "code",
      "source": [
        "# torch.where 是 PyTorch 中用于根据条件选择元素的函数\n",
        "# 使用torch.where函数将低于top_logits[-1]的logits设置为-∞\n",
        "new_logits = torch.where(\n",
        "    # 条件：logits小于top_logits中的最小值\n",
        "    condition=next_token_logits < top_logits[-1],\n",
        "    # 满足条件时，设置为-∞\n",
        "    input=torch.tensor(float('-inf')),\n",
        "    # 不满足条件时，保留原logits\n",
        "    other=next_token_logits\n",
        ")\n",
        "\n",
        "# 打印处理后的logits\n",
        "print(new_logits)"
      ],
      "metadata": {
        "id": "Q2mWu7S4iQ7-",
        "colab": {
          "base_uri": "https://localhost:8080/"
        },
        "outputId": "d96f7ab5-bac1-4024-bb70-fb6fdf15813a"
      },
      "execution_count": 161,
      "outputs": [
        {
          "output_type": "stream",
          "name": "stdout",
          "text": [
            "tensor([4.5100,   -inf,   -inf, 6.7500,   -inf,   -inf,   -inf, 6.2800,   -inf])\n"
          ]
        }
      ]
    },
    {
      "cell_type": "code",
      "source": [
        "# 对处理后的logits应用softmax函数，生成概率分布\n",
        "topk_probas = torch.softmax(new_logits, dim=0)\n",
        "\n",
        "# 打印生成的概率分布\n",
        "print(topk_probas)"
      ],
      "metadata": {
        "id": "WM1Tgdf0iWj-",
        "colab": {
          "base_uri": "https://localhost:8080/"
        },
        "outputId": "e0cfe2de-e900-4498-cc2b-de8fefb1d883"
      },
      "execution_count": 162,
      "outputs": [
        {
          "output_type": "stream",
          "name": "stdout",
          "text": [
            "tensor([0.0615, 0.0000, 0.0000, 0.5775, 0.0000, 0.0000, 0.0000, 0.3610, 0.0000])\n"
          ]
        }
      ]
    },
    {
      "cell_type": "markdown",
      "source": [
        "### 5.3.3 Modifying the text generation function"
      ],
      "metadata": {
        "id": "LDiCrxfuid0a"
      }
    },
    {
      "cell_type": "code",
      "source": [
        "def generate(\n",
        "    model, idx, max_new_tokens, context_size,\n",
        "    temperature=0.0, top_k=None, eos_id=None\n",
        "):\n",
        "    # 生成指定数量的新token\n",
        "    for _ in range(max_new_tokens):\n",
        "        # 截取最后context_size个token作为条件\n",
        "        idx_cond = idx[:, -context_size:]\n",
        "\n",
        "        # 禁用梯度计算\n",
        "        with torch.no_grad():\n",
        "            # 获取模型的预测logits\n",
        "            logits = model(idx_cond)\n",
        "\n",
        "        # 只关注最后一个时间步的预测\n",
        "        logits = logits[:, -1, :]\n",
        "\n",
        "        # 如果指定了top_k，应用top_k采样\n",
        "        if top_k is not None:\n",
        "            # 获取top_k的logits和位置\n",
        "            top_logits, _ = torch.topk(logits, top_k)\n",
        "            # 获取top_k中的最小值\n",
        "            min_val = top_logits[:, -1]\n",
        "            # 将低于最小值的logits设置为-∞\n",
        "            logits = torch.where(\n",
        "                logits < min_val[:, None],\n",
        "                torch.tensor(float('-inf')).to(logits.device),\n",
        "                logits\n",
        "            )\n",
        "\n",
        "        # 如果温度大于0，应用温度缩放\n",
        "        if temperature > 0.0:\n",
        "            # 对logits进行温度缩放\n",
        "            logits = logits / temperature\n",
        "            # 转换为概率分布\n",
        "            probs = torch.softmax(logits, dim=-1)\n",
        "            # 从概率分布中采样\n",
        "            idx_next = torch.multinomial(probs, num_samples=1)\n",
        "        else:\n",
        "            # 否则，使用贪婪解码\n",
        "            idx_next = torch.argmax(logits, dim=-1, keepdim=True)\n",
        "\n",
        "        # 如果生成了结束token，提前停止生成\n",
        "        if idx_next == eos_id:\n",
        "            break\n",
        "\n",
        "        # 将新生成的token添加到序列中\n",
        "        idx = torch.cat((idx, idx_next), dim=1)\n",
        "\n",
        "    # 返回生成的序列\n",
        "    return idx"
      ],
      "metadata": {
        "id": "J5zmS9hYibrY"
      },
      "execution_count": 163,
      "outputs": []
    },
    {
      "cell_type": "code",
      "source": [
        "# 设置随机种子，确保结果可复现\n",
        "torch.manual_seed(123)\n",
        "\n",
        "# 生成文本\n",
        "token_ids = generate(\n",
        "    model=model,\n",
        "    idx=text_to_token_ids(\"Every effort moves you\", tokenizer),\n",
        "    max_new_tokens=15,\n",
        "    context_size=GPT_CONFIG_124M[\"context_length\"],\n",
        "    top_k=25,\n",
        "    temperature=1.4\n",
        ")\n",
        "\n",
        "# 将生成的token ID解码为文本并打印\n",
        "print(\"Output text:\\n\", token_ids_to_text(token_ids, tokenizer))"
      ],
      "metadata": {
        "id": "hBoeWg76iq96",
        "colab": {
          "base_uri": "https://localhost:8080/"
        },
        "outputId": "be281333-9e52-473a-d91d-e1b098af4a22"
      },
      "execution_count": 164,
      "outputs": [
        {
          "output_type": "stream",
          "name": "stdout",
          "text": [
            "Output text:\n",
            " Every effort moves you know I meant to a little wild--I was such struck by his last\n"
          ]
        }
      ]
    },
    {
      "cell_type": "markdown",
      "source": [
        "## 5.4  Loading and saving model weights in PyTorch"
      ],
      "metadata": {
        "id": "SuLwtl70iz8_"
      }
    },
    {
      "cell_type": "code",
      "source": [
        "torch.save(model.state_dict(), \"model.pth\")"
      ],
      "metadata": {
        "id": "zve4ktPGiwXf"
      },
      "execution_count": 165,
      "outputs": []
    },
    {
      "cell_type": "code",
      "source": [
        "# 初始化GPT模型\n",
        "model = GPTModel(GPT_CONFIG_124M)\n",
        "\n",
        "# 加载预训练的模型权重\n",
        "model.load_state_dict(torch.load(\"model.pth\", map_location=device))\n",
        "\n",
        "# 设置模型为评估模式\n",
        "model.eval()"
      ],
      "metadata": {
        "id": "YZlHah7Ei463",
        "colab": {
          "base_uri": "https://localhost:8080/"
        },
        "outputId": "7b526a8d-7d3e-4c41-97d8-6fb6ef01590a"
      },
      "execution_count": 166,
      "outputs": [
        {
          "output_type": "execute_result",
          "data": {
            "text/plain": [
              "GPTModel(\n",
              "  (tok_emb): Embedding(50257, 768)\n",
              "  (pos_emb): Embedding(256, 768)\n",
              "  (drop_emb): Dropout(p=0.1, inplace=False)\n",
              "  (trf_blocks): Sequential(\n",
              "    (0): TransformerBlock(\n",
              "      (att): MultiHeadAttention(\n",
              "        (W_query): Linear(in_features=768, out_features=768, bias=False)\n",
              "        (W_key): Linear(in_features=768, out_features=768, bias=False)\n",
              "        (W_value): Linear(in_features=768, out_features=768, bias=False)\n",
              "        (out_proj): Linear(in_features=768, out_features=768, bias=True)\n",
              "        (dropout): Dropout(p=0.1, inplace=False)\n",
              "      )\n",
              "      (ff): FeedForward(\n",
              "        (layers): Sequential(\n",
              "          (0): Linear(in_features=768, out_features=3072, bias=True)\n",
              "          (1): GELU()\n",
              "          (2): Linear(in_features=3072, out_features=768, bias=True)\n",
              "        )\n",
              "      )\n",
              "      (norm1): LayerNorm()\n",
              "      (norm2): LayerNorm()\n",
              "      (drop_shortcut): Dropout(p=0.1, inplace=False)\n",
              "    )\n",
              "    (1): TransformerBlock(\n",
              "      (att): MultiHeadAttention(\n",
              "        (W_query): Linear(in_features=768, out_features=768, bias=False)\n",
              "        (W_key): Linear(in_features=768, out_features=768, bias=False)\n",
              "        (W_value): Linear(in_features=768, out_features=768, bias=False)\n",
              "        (out_proj): Linear(in_features=768, out_features=768, bias=True)\n",
              "        (dropout): Dropout(p=0.1, inplace=False)\n",
              "      )\n",
              "      (ff): FeedForward(\n",
              "        (layers): Sequential(\n",
              "          (0): Linear(in_features=768, out_features=3072, bias=True)\n",
              "          (1): GELU()\n",
              "          (2): Linear(in_features=3072, out_features=768, bias=True)\n",
              "        )\n",
              "      )\n",
              "      (norm1): LayerNorm()\n",
              "      (norm2): LayerNorm()\n",
              "      (drop_shortcut): Dropout(p=0.1, inplace=False)\n",
              "    )\n",
              "    (2): TransformerBlock(\n",
              "      (att): MultiHeadAttention(\n",
              "        (W_query): Linear(in_features=768, out_features=768, bias=False)\n",
              "        (W_key): Linear(in_features=768, out_features=768, bias=False)\n",
              "        (W_value): Linear(in_features=768, out_features=768, bias=False)\n",
              "        (out_proj): Linear(in_features=768, out_features=768, bias=True)\n",
              "        (dropout): Dropout(p=0.1, inplace=False)\n",
              "      )\n",
              "      (ff): FeedForward(\n",
              "        (layers): Sequential(\n",
              "          (0): Linear(in_features=768, out_features=3072, bias=True)\n",
              "          (1): GELU()\n",
              "          (2): Linear(in_features=3072, out_features=768, bias=True)\n",
              "        )\n",
              "      )\n",
              "      (norm1): LayerNorm()\n",
              "      (norm2): LayerNorm()\n",
              "      (drop_shortcut): Dropout(p=0.1, inplace=False)\n",
              "    )\n",
              "    (3): TransformerBlock(\n",
              "      (att): MultiHeadAttention(\n",
              "        (W_query): Linear(in_features=768, out_features=768, bias=False)\n",
              "        (W_key): Linear(in_features=768, out_features=768, bias=False)\n",
              "        (W_value): Linear(in_features=768, out_features=768, bias=False)\n",
              "        (out_proj): Linear(in_features=768, out_features=768, bias=True)\n",
              "        (dropout): Dropout(p=0.1, inplace=False)\n",
              "      )\n",
              "      (ff): FeedForward(\n",
              "        (layers): Sequential(\n",
              "          (0): Linear(in_features=768, out_features=3072, bias=True)\n",
              "          (1): GELU()\n",
              "          (2): Linear(in_features=3072, out_features=768, bias=True)\n",
              "        )\n",
              "      )\n",
              "      (norm1): LayerNorm()\n",
              "      (norm2): LayerNorm()\n",
              "      (drop_shortcut): Dropout(p=0.1, inplace=False)\n",
              "    )\n",
              "    (4): TransformerBlock(\n",
              "      (att): MultiHeadAttention(\n",
              "        (W_query): Linear(in_features=768, out_features=768, bias=False)\n",
              "        (W_key): Linear(in_features=768, out_features=768, bias=False)\n",
              "        (W_value): Linear(in_features=768, out_features=768, bias=False)\n",
              "        (out_proj): Linear(in_features=768, out_features=768, bias=True)\n",
              "        (dropout): Dropout(p=0.1, inplace=False)\n",
              "      )\n",
              "      (ff): FeedForward(\n",
              "        (layers): Sequential(\n",
              "          (0): Linear(in_features=768, out_features=3072, bias=True)\n",
              "          (1): GELU()\n",
              "          (2): Linear(in_features=3072, out_features=768, bias=True)\n",
              "        )\n",
              "      )\n",
              "      (norm1): LayerNorm()\n",
              "      (norm2): LayerNorm()\n",
              "      (drop_shortcut): Dropout(p=0.1, inplace=False)\n",
              "    )\n",
              "    (5): TransformerBlock(\n",
              "      (att): MultiHeadAttention(\n",
              "        (W_query): Linear(in_features=768, out_features=768, bias=False)\n",
              "        (W_key): Linear(in_features=768, out_features=768, bias=False)\n",
              "        (W_value): Linear(in_features=768, out_features=768, bias=False)\n",
              "        (out_proj): Linear(in_features=768, out_features=768, bias=True)\n",
              "        (dropout): Dropout(p=0.1, inplace=False)\n",
              "      )\n",
              "      (ff): FeedForward(\n",
              "        (layers): Sequential(\n",
              "          (0): Linear(in_features=768, out_features=3072, bias=True)\n",
              "          (1): GELU()\n",
              "          (2): Linear(in_features=3072, out_features=768, bias=True)\n",
              "        )\n",
              "      )\n",
              "      (norm1): LayerNorm()\n",
              "      (norm2): LayerNorm()\n",
              "      (drop_shortcut): Dropout(p=0.1, inplace=False)\n",
              "    )\n",
              "    (6): TransformerBlock(\n",
              "      (att): MultiHeadAttention(\n",
              "        (W_query): Linear(in_features=768, out_features=768, bias=False)\n",
              "        (W_key): Linear(in_features=768, out_features=768, bias=False)\n",
              "        (W_value): Linear(in_features=768, out_features=768, bias=False)\n",
              "        (out_proj): Linear(in_features=768, out_features=768, bias=True)\n",
              "        (dropout): Dropout(p=0.1, inplace=False)\n",
              "      )\n",
              "      (ff): FeedForward(\n",
              "        (layers): Sequential(\n",
              "          (0): Linear(in_features=768, out_features=3072, bias=True)\n",
              "          (1): GELU()\n",
              "          (2): Linear(in_features=3072, out_features=768, bias=True)\n",
              "        )\n",
              "      )\n",
              "      (norm1): LayerNorm()\n",
              "      (norm2): LayerNorm()\n",
              "      (drop_shortcut): Dropout(p=0.1, inplace=False)\n",
              "    )\n",
              "    (7): TransformerBlock(\n",
              "      (att): MultiHeadAttention(\n",
              "        (W_query): Linear(in_features=768, out_features=768, bias=False)\n",
              "        (W_key): Linear(in_features=768, out_features=768, bias=False)\n",
              "        (W_value): Linear(in_features=768, out_features=768, bias=False)\n",
              "        (out_proj): Linear(in_features=768, out_features=768, bias=True)\n",
              "        (dropout): Dropout(p=0.1, inplace=False)\n",
              "      )\n",
              "      (ff): FeedForward(\n",
              "        (layers): Sequential(\n",
              "          (0): Linear(in_features=768, out_features=3072, bias=True)\n",
              "          (1): GELU()\n",
              "          (2): Linear(in_features=3072, out_features=768, bias=True)\n",
              "        )\n",
              "      )\n",
              "      (norm1): LayerNorm()\n",
              "      (norm2): LayerNorm()\n",
              "      (drop_shortcut): Dropout(p=0.1, inplace=False)\n",
              "    )\n",
              "    (8): TransformerBlock(\n",
              "      (att): MultiHeadAttention(\n",
              "        (W_query): Linear(in_features=768, out_features=768, bias=False)\n",
              "        (W_key): Linear(in_features=768, out_features=768, bias=False)\n",
              "        (W_value): Linear(in_features=768, out_features=768, bias=False)\n",
              "        (out_proj): Linear(in_features=768, out_features=768, bias=True)\n",
              "        (dropout): Dropout(p=0.1, inplace=False)\n",
              "      )\n",
              "      (ff): FeedForward(\n",
              "        (layers): Sequential(\n",
              "          (0): Linear(in_features=768, out_features=3072, bias=True)\n",
              "          (1): GELU()\n",
              "          (2): Linear(in_features=3072, out_features=768, bias=True)\n",
              "        )\n",
              "      )\n",
              "      (norm1): LayerNorm()\n",
              "      (norm2): LayerNorm()\n",
              "      (drop_shortcut): Dropout(p=0.1, inplace=False)\n",
              "    )\n",
              "    (9): TransformerBlock(\n",
              "      (att): MultiHeadAttention(\n",
              "        (W_query): Linear(in_features=768, out_features=768, bias=False)\n",
              "        (W_key): Linear(in_features=768, out_features=768, bias=False)\n",
              "        (W_value): Linear(in_features=768, out_features=768, bias=False)\n",
              "        (out_proj): Linear(in_features=768, out_features=768, bias=True)\n",
              "        (dropout): Dropout(p=0.1, inplace=False)\n",
              "      )\n",
              "      (ff): FeedForward(\n",
              "        (layers): Sequential(\n",
              "          (0): Linear(in_features=768, out_features=3072, bias=True)\n",
              "          (1): GELU()\n",
              "          (2): Linear(in_features=3072, out_features=768, bias=True)\n",
              "        )\n",
              "      )\n",
              "      (norm1): LayerNorm()\n",
              "      (norm2): LayerNorm()\n",
              "      (drop_shortcut): Dropout(p=0.1, inplace=False)\n",
              "    )\n",
              "    (10): TransformerBlock(\n",
              "      (att): MultiHeadAttention(\n",
              "        (W_query): Linear(in_features=768, out_features=768, bias=False)\n",
              "        (W_key): Linear(in_features=768, out_features=768, bias=False)\n",
              "        (W_value): Linear(in_features=768, out_features=768, bias=False)\n",
              "        (out_proj): Linear(in_features=768, out_features=768, bias=True)\n",
              "        (dropout): Dropout(p=0.1, inplace=False)\n",
              "      )\n",
              "      (ff): FeedForward(\n",
              "        (layers): Sequential(\n",
              "          (0): Linear(in_features=768, out_features=3072, bias=True)\n",
              "          (1): GELU()\n",
              "          (2): Linear(in_features=3072, out_features=768, bias=True)\n",
              "        )\n",
              "      )\n",
              "      (norm1): LayerNorm()\n",
              "      (norm2): LayerNorm()\n",
              "      (drop_shortcut): Dropout(p=0.1, inplace=False)\n",
              "    )\n",
              "    (11): TransformerBlock(\n",
              "      (att): MultiHeadAttention(\n",
              "        (W_query): Linear(in_features=768, out_features=768, bias=False)\n",
              "        (W_key): Linear(in_features=768, out_features=768, bias=False)\n",
              "        (W_value): Linear(in_features=768, out_features=768, bias=False)\n",
              "        (out_proj): Linear(in_features=768, out_features=768, bias=True)\n",
              "        (dropout): Dropout(p=0.1, inplace=False)\n",
              "      )\n",
              "      (ff): FeedForward(\n",
              "        (layers): Sequential(\n",
              "          (0): Linear(in_features=768, out_features=3072, bias=True)\n",
              "          (1): GELU()\n",
              "          (2): Linear(in_features=3072, out_features=768, bias=True)\n",
              "        )\n",
              "      )\n",
              "      (norm1): LayerNorm()\n",
              "      (norm2): LayerNorm()\n",
              "      (drop_shortcut): Dropout(p=0.1, inplace=False)\n",
              "    )\n",
              "  )\n",
              "  (final_norm): LayerNorm()\n",
              "  (out_head): Linear(in_features=768, out_features=50257, bias=False)\n",
              ")"
            ]
          },
          "metadata": {},
          "execution_count": 166
        }
      ]
    },
    {
      "cell_type": "code",
      "source": [
        "# 保存模型和优化器的状态\n",
        "torch.save({\n",
        "    # 模型的状态字典\n",
        "    \"model_state_dict\": model.state_dict(),\n",
        "    # 优化器的状态字典\n",
        "    \"optimizer_state_dict\": optimizer.state_dict(),\n",
        "}, \"model_and_optimizer.pth\")"
      ],
      "metadata": {
        "id": "gAYoO1QZjQDM"
      },
      "execution_count": 167,
      "outputs": []
    },
    {
      "cell_type": "code",
      "source": [
        "# 加载保存的模型和优化器状态\n",
        "checkpoint = torch.load(\"model_and_optimizer.pth\", map_location=device)\n",
        "\n",
        "# 初始化GPT模型\n",
        "model = GPTModel(GPT_CONFIG_124M)\n",
        "\n",
        "# 加载模型的状态字典\n",
        "model.load_state_dict(checkpoint[\"model_state_dict\"])\n",
        "\n",
        "# 初始化优化器\n",
        "optimizer = torch.optim.AdamW(model.parameters(), lr=5e-4, weight_decay=0.1)\n",
        "\n",
        "# 加载优化器的状态字典\n",
        "optimizer.load_state_dict(checkpoint[\"optimizer_state_dict\"])\n",
        "\n",
        "# 设置模型为训练模式\n",
        "model.train()"
      ],
      "metadata": {
        "id": "3_-0ksQhjXBl",
        "colab": {
          "base_uri": "https://localhost:8080/"
        },
        "outputId": "da40d05f-91c7-484c-d98a-b646032e0941"
      },
      "execution_count": 168,
      "outputs": [
        {
          "output_type": "execute_result",
          "data": {
            "text/plain": [
              "GPTModel(\n",
              "  (tok_emb): Embedding(50257, 768)\n",
              "  (pos_emb): Embedding(256, 768)\n",
              "  (drop_emb): Dropout(p=0.1, inplace=False)\n",
              "  (trf_blocks): Sequential(\n",
              "    (0): TransformerBlock(\n",
              "      (att): MultiHeadAttention(\n",
              "        (W_query): Linear(in_features=768, out_features=768, bias=False)\n",
              "        (W_key): Linear(in_features=768, out_features=768, bias=False)\n",
              "        (W_value): Linear(in_features=768, out_features=768, bias=False)\n",
              "        (out_proj): Linear(in_features=768, out_features=768, bias=True)\n",
              "        (dropout): Dropout(p=0.1, inplace=False)\n",
              "      )\n",
              "      (ff): FeedForward(\n",
              "        (layers): Sequential(\n",
              "          (0): Linear(in_features=768, out_features=3072, bias=True)\n",
              "          (1): GELU()\n",
              "          (2): Linear(in_features=3072, out_features=768, bias=True)\n",
              "        )\n",
              "      )\n",
              "      (norm1): LayerNorm()\n",
              "      (norm2): LayerNorm()\n",
              "      (drop_shortcut): Dropout(p=0.1, inplace=False)\n",
              "    )\n",
              "    (1): TransformerBlock(\n",
              "      (att): MultiHeadAttention(\n",
              "        (W_query): Linear(in_features=768, out_features=768, bias=False)\n",
              "        (W_key): Linear(in_features=768, out_features=768, bias=False)\n",
              "        (W_value): Linear(in_features=768, out_features=768, bias=False)\n",
              "        (out_proj): Linear(in_features=768, out_features=768, bias=True)\n",
              "        (dropout): Dropout(p=0.1, inplace=False)\n",
              "      )\n",
              "      (ff): FeedForward(\n",
              "        (layers): Sequential(\n",
              "          (0): Linear(in_features=768, out_features=3072, bias=True)\n",
              "          (1): GELU()\n",
              "          (2): Linear(in_features=3072, out_features=768, bias=True)\n",
              "        )\n",
              "      )\n",
              "      (norm1): LayerNorm()\n",
              "      (norm2): LayerNorm()\n",
              "      (drop_shortcut): Dropout(p=0.1, inplace=False)\n",
              "    )\n",
              "    (2): TransformerBlock(\n",
              "      (att): MultiHeadAttention(\n",
              "        (W_query): Linear(in_features=768, out_features=768, bias=False)\n",
              "        (W_key): Linear(in_features=768, out_features=768, bias=False)\n",
              "        (W_value): Linear(in_features=768, out_features=768, bias=False)\n",
              "        (out_proj): Linear(in_features=768, out_features=768, bias=True)\n",
              "        (dropout): Dropout(p=0.1, inplace=False)\n",
              "      )\n",
              "      (ff): FeedForward(\n",
              "        (layers): Sequential(\n",
              "          (0): Linear(in_features=768, out_features=3072, bias=True)\n",
              "          (1): GELU()\n",
              "          (2): Linear(in_features=3072, out_features=768, bias=True)\n",
              "        )\n",
              "      )\n",
              "      (norm1): LayerNorm()\n",
              "      (norm2): LayerNorm()\n",
              "      (drop_shortcut): Dropout(p=0.1, inplace=False)\n",
              "    )\n",
              "    (3): TransformerBlock(\n",
              "      (att): MultiHeadAttention(\n",
              "        (W_query): Linear(in_features=768, out_features=768, bias=False)\n",
              "        (W_key): Linear(in_features=768, out_features=768, bias=False)\n",
              "        (W_value): Linear(in_features=768, out_features=768, bias=False)\n",
              "        (out_proj): Linear(in_features=768, out_features=768, bias=True)\n",
              "        (dropout): Dropout(p=0.1, inplace=False)\n",
              "      )\n",
              "      (ff): FeedForward(\n",
              "        (layers): Sequential(\n",
              "          (0): Linear(in_features=768, out_features=3072, bias=True)\n",
              "          (1): GELU()\n",
              "          (2): Linear(in_features=3072, out_features=768, bias=True)\n",
              "        )\n",
              "      )\n",
              "      (norm1): LayerNorm()\n",
              "      (norm2): LayerNorm()\n",
              "      (drop_shortcut): Dropout(p=0.1, inplace=False)\n",
              "    )\n",
              "    (4): TransformerBlock(\n",
              "      (att): MultiHeadAttention(\n",
              "        (W_query): Linear(in_features=768, out_features=768, bias=False)\n",
              "        (W_key): Linear(in_features=768, out_features=768, bias=False)\n",
              "        (W_value): Linear(in_features=768, out_features=768, bias=False)\n",
              "        (out_proj): Linear(in_features=768, out_features=768, bias=True)\n",
              "        (dropout): Dropout(p=0.1, inplace=False)\n",
              "      )\n",
              "      (ff): FeedForward(\n",
              "        (layers): Sequential(\n",
              "          (0): Linear(in_features=768, out_features=3072, bias=True)\n",
              "          (1): GELU()\n",
              "          (2): Linear(in_features=3072, out_features=768, bias=True)\n",
              "        )\n",
              "      )\n",
              "      (norm1): LayerNorm()\n",
              "      (norm2): LayerNorm()\n",
              "      (drop_shortcut): Dropout(p=0.1, inplace=False)\n",
              "    )\n",
              "    (5): TransformerBlock(\n",
              "      (att): MultiHeadAttention(\n",
              "        (W_query): Linear(in_features=768, out_features=768, bias=False)\n",
              "        (W_key): Linear(in_features=768, out_features=768, bias=False)\n",
              "        (W_value): Linear(in_features=768, out_features=768, bias=False)\n",
              "        (out_proj): Linear(in_features=768, out_features=768, bias=True)\n",
              "        (dropout): Dropout(p=0.1, inplace=False)\n",
              "      )\n",
              "      (ff): FeedForward(\n",
              "        (layers): Sequential(\n",
              "          (0): Linear(in_features=768, out_features=3072, bias=True)\n",
              "          (1): GELU()\n",
              "          (2): Linear(in_features=3072, out_features=768, bias=True)\n",
              "        )\n",
              "      )\n",
              "      (norm1): LayerNorm()\n",
              "      (norm2): LayerNorm()\n",
              "      (drop_shortcut): Dropout(p=0.1, inplace=False)\n",
              "    )\n",
              "    (6): TransformerBlock(\n",
              "      (att): MultiHeadAttention(\n",
              "        (W_query): Linear(in_features=768, out_features=768, bias=False)\n",
              "        (W_key): Linear(in_features=768, out_features=768, bias=False)\n",
              "        (W_value): Linear(in_features=768, out_features=768, bias=False)\n",
              "        (out_proj): Linear(in_features=768, out_features=768, bias=True)\n",
              "        (dropout): Dropout(p=0.1, inplace=False)\n",
              "      )\n",
              "      (ff): FeedForward(\n",
              "        (layers): Sequential(\n",
              "          (0): Linear(in_features=768, out_features=3072, bias=True)\n",
              "          (1): GELU()\n",
              "          (2): Linear(in_features=3072, out_features=768, bias=True)\n",
              "        )\n",
              "      )\n",
              "      (norm1): LayerNorm()\n",
              "      (norm2): LayerNorm()\n",
              "      (drop_shortcut): Dropout(p=0.1, inplace=False)\n",
              "    )\n",
              "    (7): TransformerBlock(\n",
              "      (att): MultiHeadAttention(\n",
              "        (W_query): Linear(in_features=768, out_features=768, bias=False)\n",
              "        (W_key): Linear(in_features=768, out_features=768, bias=False)\n",
              "        (W_value): Linear(in_features=768, out_features=768, bias=False)\n",
              "        (out_proj): Linear(in_features=768, out_features=768, bias=True)\n",
              "        (dropout): Dropout(p=0.1, inplace=False)\n",
              "      )\n",
              "      (ff): FeedForward(\n",
              "        (layers): Sequential(\n",
              "          (0): Linear(in_features=768, out_features=3072, bias=True)\n",
              "          (1): GELU()\n",
              "          (2): Linear(in_features=3072, out_features=768, bias=True)\n",
              "        )\n",
              "      )\n",
              "      (norm1): LayerNorm()\n",
              "      (norm2): LayerNorm()\n",
              "      (drop_shortcut): Dropout(p=0.1, inplace=False)\n",
              "    )\n",
              "    (8): TransformerBlock(\n",
              "      (att): MultiHeadAttention(\n",
              "        (W_query): Linear(in_features=768, out_features=768, bias=False)\n",
              "        (W_key): Linear(in_features=768, out_features=768, bias=False)\n",
              "        (W_value): Linear(in_features=768, out_features=768, bias=False)\n",
              "        (out_proj): Linear(in_features=768, out_features=768, bias=True)\n",
              "        (dropout): Dropout(p=0.1, inplace=False)\n",
              "      )\n",
              "      (ff): FeedForward(\n",
              "        (layers): Sequential(\n",
              "          (0): Linear(in_features=768, out_features=3072, bias=True)\n",
              "          (1): GELU()\n",
              "          (2): Linear(in_features=3072, out_features=768, bias=True)\n",
              "        )\n",
              "      )\n",
              "      (norm1): LayerNorm()\n",
              "      (norm2): LayerNorm()\n",
              "      (drop_shortcut): Dropout(p=0.1, inplace=False)\n",
              "    )\n",
              "    (9): TransformerBlock(\n",
              "      (att): MultiHeadAttention(\n",
              "        (W_query): Linear(in_features=768, out_features=768, bias=False)\n",
              "        (W_key): Linear(in_features=768, out_features=768, bias=False)\n",
              "        (W_value): Linear(in_features=768, out_features=768, bias=False)\n",
              "        (out_proj): Linear(in_features=768, out_features=768, bias=True)\n",
              "        (dropout): Dropout(p=0.1, inplace=False)\n",
              "      )\n",
              "      (ff): FeedForward(\n",
              "        (layers): Sequential(\n",
              "          (0): Linear(in_features=768, out_features=3072, bias=True)\n",
              "          (1): GELU()\n",
              "          (2): Linear(in_features=3072, out_features=768, bias=True)\n",
              "        )\n",
              "      )\n",
              "      (norm1): LayerNorm()\n",
              "      (norm2): LayerNorm()\n",
              "      (drop_shortcut): Dropout(p=0.1, inplace=False)\n",
              "    )\n",
              "    (10): TransformerBlock(\n",
              "      (att): MultiHeadAttention(\n",
              "        (W_query): Linear(in_features=768, out_features=768, bias=False)\n",
              "        (W_key): Linear(in_features=768, out_features=768, bias=False)\n",
              "        (W_value): Linear(in_features=768, out_features=768, bias=False)\n",
              "        (out_proj): Linear(in_features=768, out_features=768, bias=True)\n",
              "        (dropout): Dropout(p=0.1, inplace=False)\n",
              "      )\n",
              "      (ff): FeedForward(\n",
              "        (layers): Sequential(\n",
              "          (0): Linear(in_features=768, out_features=3072, bias=True)\n",
              "          (1): GELU()\n",
              "          (2): Linear(in_features=3072, out_features=768, bias=True)\n",
              "        )\n",
              "      )\n",
              "      (norm1): LayerNorm()\n",
              "      (norm2): LayerNorm()\n",
              "      (drop_shortcut): Dropout(p=0.1, inplace=False)\n",
              "    )\n",
              "    (11): TransformerBlock(\n",
              "      (att): MultiHeadAttention(\n",
              "        (W_query): Linear(in_features=768, out_features=768, bias=False)\n",
              "        (W_key): Linear(in_features=768, out_features=768, bias=False)\n",
              "        (W_value): Linear(in_features=768, out_features=768, bias=False)\n",
              "        (out_proj): Linear(in_features=768, out_features=768, bias=True)\n",
              "        (dropout): Dropout(p=0.1, inplace=False)\n",
              "      )\n",
              "      (ff): FeedForward(\n",
              "        (layers): Sequential(\n",
              "          (0): Linear(in_features=768, out_features=3072, bias=True)\n",
              "          (1): GELU()\n",
              "          (2): Linear(in_features=3072, out_features=768, bias=True)\n",
              "        )\n",
              "      )\n",
              "      (norm1): LayerNorm()\n",
              "      (norm2): LayerNorm()\n",
              "      (drop_shortcut): Dropout(p=0.1, inplace=False)\n",
              "    )\n",
              "  )\n",
              "  (final_norm): LayerNorm()\n",
              "  (out_head): Linear(in_features=768, out_features=50257, bias=False)\n",
              ")"
            ]
          },
          "metadata": {},
          "execution_count": 168
        }
      ]
    },
    {
      "cell_type": "markdown",
      "source": [
        "## 5.5  Loading pretrained weights from OpenAI"
      ],
      "metadata": {
        "id": "d9R1GbYLj39T"
      }
    },
    {
      "cell_type": "code",
      "source": [
        "pip install tensorflow>=2.15.0  tqdm>=4.66"
      ],
      "metadata": {
        "id": "GpECNcYGj0hF"
      },
      "execution_count": 169,
      "outputs": []
    },
    {
      "cell_type": "code",
      "source": [
        "# 导入urllib.request模块，用于处理URL请求\n",
        "import urllib.request\n",
        "\n",
        "# 定义要下载的文件的URL\n",
        "url = (\n",
        "    \"https://raw.githubusercontent.com/rasbt/\"\n",
        "    \"LLMs-from-scratch/main/ch05/\"\n",
        "    \"01_main-chapter-code/gpt_download.py\"\n",
        ")\n",
        "\n",
        "# 从URL中提取文件名\n",
        "filename = url.split('/')[-1]\n",
        "\n",
        "# 下载文件并保存到本地\n",
        "urllib.request.urlretrieve(url, filename)"
      ],
      "metadata": {
        "id": "HLSuakjjj-Bh",
        "colab": {
          "base_uri": "https://localhost:8080/"
        },
        "outputId": "e6773068-793e-4a3b-f6c2-379ef9a5c196"
      },
      "execution_count": 170,
      "outputs": [
        {
          "output_type": "execute_result",
          "data": {
            "text/plain": [
              "('gpt_download.py', <http.client.HTTPMessage at 0x7834a9698e50>)"
            ]
          },
          "metadata": {},
          "execution_count": 170
        }
      ]
    },
    {
      "cell_type": "code",
      "source": [
        "# 从gpt_download模块中导入download_and_load_gpt2函数\n",
        "from gpt_download import download_and_load_gpt2\n",
        "\n",
        "# 下载并加载GPT-2模型的设置和参数\n",
        "settings, params = download_and_load_gpt2(\n",
        "    model_size=\"124M\",  # 指定模型大小为124M\n",
        "    models_dir=\"gpt2\"    # 指定模型保存的目录为gpt2\n",
        ")"
      ],
      "metadata": {
        "id": "2sZ16r-ukFfi",
        "colab": {
          "base_uri": "https://localhost:8080/"
        },
        "outputId": "3c2fef1c-704c-4cea-ba17-41a2cdc226b0"
      },
      "execution_count": 171,
      "outputs": [
        {
          "output_type": "stream",
          "name": "stdout",
          "text": [
            "File already exists and is up-to-date: gpt2/124M/checkpoint\n",
            "File already exists and is up-to-date: gpt2/124M/encoder.json\n",
            "File already exists and is up-to-date: gpt2/124M/hparams.json\n",
            "File already exists and is up-to-date: gpt2/124M/model.ckpt.data-00000-of-00001\n",
            "File already exists and is up-to-date: gpt2/124M/model.ckpt.index\n",
            "File already exists and is up-to-date: gpt2/124M/model.ckpt.meta\n",
            "File already exists and is up-to-date: gpt2/124M/vocab.bpe\n"
          ]
        }
      ]
    },
    {
      "cell_type": "code",
      "source": [
        "print(\"Settings:\", settings)\n",
        "print(\"Parameter dictionary keys:\", params.keys())"
      ],
      "metadata": {
        "id": "sSduHwxwkMBT",
        "colab": {
          "base_uri": "https://localhost:8080/"
        },
        "outputId": "65fde712-2143-4f96-92c7-a7eb5bb9d7b1"
      },
      "execution_count": 172,
      "outputs": [
        {
          "output_type": "stream",
          "name": "stdout",
          "text": [
            "Settings: {'n_vocab': 50257, 'n_ctx': 1024, 'n_embd': 768, 'n_head': 12, 'n_layer': 12}\n",
            "Parameter dictionary keys: dict_keys(['blocks', 'b', 'g', 'wpe', 'wte'])\n"
          ]
        }
      ]
    },
    {
      "cell_type": "code",
      "source": [
        "print(params[\"wte\"])\n",
        "print(\"Token embedding weight tensor dimensions:\", params[\"wte\"].shape)"
      ],
      "metadata": {
        "id": "FuXMfndYkYJE",
        "colab": {
          "base_uri": "https://localhost:8080/"
        },
        "outputId": "94ee43fa-cd6a-44a3-ccb1-83dd6afb39a1"
      },
      "execution_count": 173,
      "outputs": [
        {
          "output_type": "stream",
          "name": "stdout",
          "text": [
            "[[-0.11010301 -0.03926672  0.03310751 ... -0.1363697   0.01506208\n",
            "   0.04531523]\n",
            " [ 0.04034033 -0.04861503  0.04624869 ...  0.08605453  0.00253983\n",
            "   0.04318958]\n",
            " [-0.12746179  0.04793796  0.18410145 ...  0.08991534 -0.12972379\n",
            "  -0.08785918]\n",
            " ...\n",
            " [-0.04453601 -0.05483596  0.01225674 ...  0.10435229  0.09783269\n",
            "  -0.06952604]\n",
            " [ 0.1860082   0.01665728  0.04611587 ... -0.09625227  0.07847701\n",
            "  -0.02245961]\n",
            " [ 0.05135201 -0.02768905  0.0499369  ...  0.00704835  0.15519823\n",
            "   0.12067825]]\n",
            "Token embedding weight tensor dimensions: (50257, 768)\n"
          ]
        }
      ]
    },
    {
      "cell_type": "code",
      "source": [
        "model_configs = {\n",
        "    # GPT-2 Small 模型配置\n",
        "    \"gpt2-small (124M)\": {\"emb_dim\": 768, \"n_layers\": 12, \"n_heads\": 12},\n",
        "    # GPT-2 Medium 模型配置\n",
        "    \"gpt2-medium (355M)\": {\"emb_dim\": 1024, \"n_layers\": 24, \"n_heads\": 16},\n",
        "    # GPT-2 Large 模型配置\n",
        "    \"gpt2-large (774M)\": {\"emb_dim\": 1280, \"n_layers\": 36, \"n_heads\": 20},\n",
        "    # GPT-2 XL 模型配置\n",
        "    \"gpt2-xl (1558M)\": {\"emb_dim\": 1600, \"n_layers\": 48, \"n_heads\": 25},\n",
        "}"
      ],
      "metadata": {
        "id": "c8q9wZ2ckffR"
      },
      "execution_count": 174,
      "outputs": []
    },
    {
      "cell_type": "code",
      "source": [
        "# 定义模型名称\n",
        "model_name = \"gpt2-small (124M)\"\n",
        "\n",
        "NEW_CONFIG = GPT_CONFIG_124M.copy()\n",
        "\n",
        "# 更新新的配置字典，添加指定模型的配置信息\n",
        "NEW_CONFIG.update(model_configs[model_name])"
      ],
      "metadata": {
        "id": "ucTyGBLhkl7g"
      },
      "execution_count": 175,
      "outputs": []
    },
    {
      "cell_type": "code",
      "source": [
        "NEW_CONFIG.update({\"context_length\": 1024})"
      ],
      "metadata": {
        "id": "FeReezFnkrrg"
      },
      "execution_count": 176,
      "outputs": []
    },
    {
      "cell_type": "code",
      "source": [
        "NEW_CONFIG.update({\"qkv_bias\": True})"
      ],
      "metadata": {
        "id": "ULClUfcukueT"
      },
      "execution_count": 177,
      "outputs": []
    },
    {
      "cell_type": "code",
      "source": [
        "# 使用新的配置创建 GPT 模型\n",
        "# NEW_CONFIG\n",
        "gpt = GPTModel(NEW_CONFIG)\n",
        "\n",
        "# 设置模型为评估模式\n",
        "gpt.eval()"
      ],
      "metadata": {
        "id": "bLcChPabkxOW",
        "colab": {
          "base_uri": "https://localhost:8080/"
        },
        "outputId": "7093dd12-617f-413e-d721-42cefe696c7e"
      },
      "execution_count": 178,
      "outputs": [
        {
          "output_type": "execute_result",
          "data": {
            "text/plain": [
              "GPTModel(\n",
              "  (tok_emb): Embedding(50257, 768)\n",
              "  (pos_emb): Embedding(1024, 768)\n",
              "  (drop_emb): Dropout(p=0.1, inplace=False)\n",
              "  (trf_blocks): Sequential(\n",
              "    (0): TransformerBlock(\n",
              "      (att): MultiHeadAttention(\n",
              "        (W_query): Linear(in_features=768, out_features=768, bias=True)\n",
              "        (W_key): Linear(in_features=768, out_features=768, bias=True)\n",
              "        (W_value): Linear(in_features=768, out_features=768, bias=True)\n",
              "        (out_proj): Linear(in_features=768, out_features=768, bias=True)\n",
              "        (dropout): Dropout(p=0.1, inplace=False)\n",
              "      )\n",
              "      (ff): FeedForward(\n",
              "        (layers): Sequential(\n",
              "          (0): Linear(in_features=768, out_features=3072, bias=True)\n",
              "          (1): GELU()\n",
              "          (2): Linear(in_features=3072, out_features=768, bias=True)\n",
              "        )\n",
              "      )\n",
              "      (norm1): LayerNorm()\n",
              "      (norm2): LayerNorm()\n",
              "      (drop_shortcut): Dropout(p=0.1, inplace=False)\n",
              "    )\n",
              "    (1): TransformerBlock(\n",
              "      (att): MultiHeadAttention(\n",
              "        (W_query): Linear(in_features=768, out_features=768, bias=True)\n",
              "        (W_key): Linear(in_features=768, out_features=768, bias=True)\n",
              "        (W_value): Linear(in_features=768, out_features=768, bias=True)\n",
              "        (out_proj): Linear(in_features=768, out_features=768, bias=True)\n",
              "        (dropout): Dropout(p=0.1, inplace=False)\n",
              "      )\n",
              "      (ff): FeedForward(\n",
              "        (layers): Sequential(\n",
              "          (0): Linear(in_features=768, out_features=3072, bias=True)\n",
              "          (1): GELU()\n",
              "          (2): Linear(in_features=3072, out_features=768, bias=True)\n",
              "        )\n",
              "      )\n",
              "      (norm1): LayerNorm()\n",
              "      (norm2): LayerNorm()\n",
              "      (drop_shortcut): Dropout(p=0.1, inplace=False)\n",
              "    )\n",
              "    (2): TransformerBlock(\n",
              "      (att): MultiHeadAttention(\n",
              "        (W_query): Linear(in_features=768, out_features=768, bias=True)\n",
              "        (W_key): Linear(in_features=768, out_features=768, bias=True)\n",
              "        (W_value): Linear(in_features=768, out_features=768, bias=True)\n",
              "        (out_proj): Linear(in_features=768, out_features=768, bias=True)\n",
              "        (dropout): Dropout(p=0.1, inplace=False)\n",
              "      )\n",
              "      (ff): FeedForward(\n",
              "        (layers): Sequential(\n",
              "          (0): Linear(in_features=768, out_features=3072, bias=True)\n",
              "          (1): GELU()\n",
              "          (2): Linear(in_features=3072, out_features=768, bias=True)\n",
              "        )\n",
              "      )\n",
              "      (norm1): LayerNorm()\n",
              "      (norm2): LayerNorm()\n",
              "      (drop_shortcut): Dropout(p=0.1, inplace=False)\n",
              "    )\n",
              "    (3): TransformerBlock(\n",
              "      (att): MultiHeadAttention(\n",
              "        (W_query): Linear(in_features=768, out_features=768, bias=True)\n",
              "        (W_key): Linear(in_features=768, out_features=768, bias=True)\n",
              "        (W_value): Linear(in_features=768, out_features=768, bias=True)\n",
              "        (out_proj): Linear(in_features=768, out_features=768, bias=True)\n",
              "        (dropout): Dropout(p=0.1, inplace=False)\n",
              "      )\n",
              "      (ff): FeedForward(\n",
              "        (layers): Sequential(\n",
              "          (0): Linear(in_features=768, out_features=3072, bias=True)\n",
              "          (1): GELU()\n",
              "          (2): Linear(in_features=3072, out_features=768, bias=True)\n",
              "        )\n",
              "      )\n",
              "      (norm1): LayerNorm()\n",
              "      (norm2): LayerNorm()\n",
              "      (drop_shortcut): Dropout(p=0.1, inplace=False)\n",
              "    )\n",
              "    (4): TransformerBlock(\n",
              "      (att): MultiHeadAttention(\n",
              "        (W_query): Linear(in_features=768, out_features=768, bias=True)\n",
              "        (W_key): Linear(in_features=768, out_features=768, bias=True)\n",
              "        (W_value): Linear(in_features=768, out_features=768, bias=True)\n",
              "        (out_proj): Linear(in_features=768, out_features=768, bias=True)\n",
              "        (dropout): Dropout(p=0.1, inplace=False)\n",
              "      )\n",
              "      (ff): FeedForward(\n",
              "        (layers): Sequential(\n",
              "          (0): Linear(in_features=768, out_features=3072, bias=True)\n",
              "          (1): GELU()\n",
              "          (2): Linear(in_features=3072, out_features=768, bias=True)\n",
              "        )\n",
              "      )\n",
              "      (norm1): LayerNorm()\n",
              "      (norm2): LayerNorm()\n",
              "      (drop_shortcut): Dropout(p=0.1, inplace=False)\n",
              "    )\n",
              "    (5): TransformerBlock(\n",
              "      (att): MultiHeadAttention(\n",
              "        (W_query): Linear(in_features=768, out_features=768, bias=True)\n",
              "        (W_key): Linear(in_features=768, out_features=768, bias=True)\n",
              "        (W_value): Linear(in_features=768, out_features=768, bias=True)\n",
              "        (out_proj): Linear(in_features=768, out_features=768, bias=True)\n",
              "        (dropout): Dropout(p=0.1, inplace=False)\n",
              "      )\n",
              "      (ff): FeedForward(\n",
              "        (layers): Sequential(\n",
              "          (0): Linear(in_features=768, out_features=3072, bias=True)\n",
              "          (1): GELU()\n",
              "          (2): Linear(in_features=3072, out_features=768, bias=True)\n",
              "        )\n",
              "      )\n",
              "      (norm1): LayerNorm()\n",
              "      (norm2): LayerNorm()\n",
              "      (drop_shortcut): Dropout(p=0.1, inplace=False)\n",
              "    )\n",
              "    (6): TransformerBlock(\n",
              "      (att): MultiHeadAttention(\n",
              "        (W_query): Linear(in_features=768, out_features=768, bias=True)\n",
              "        (W_key): Linear(in_features=768, out_features=768, bias=True)\n",
              "        (W_value): Linear(in_features=768, out_features=768, bias=True)\n",
              "        (out_proj): Linear(in_features=768, out_features=768, bias=True)\n",
              "        (dropout): Dropout(p=0.1, inplace=False)\n",
              "      )\n",
              "      (ff): FeedForward(\n",
              "        (layers): Sequential(\n",
              "          (0): Linear(in_features=768, out_features=3072, bias=True)\n",
              "          (1): GELU()\n",
              "          (2): Linear(in_features=3072, out_features=768, bias=True)\n",
              "        )\n",
              "      )\n",
              "      (norm1): LayerNorm()\n",
              "      (norm2): LayerNorm()\n",
              "      (drop_shortcut): Dropout(p=0.1, inplace=False)\n",
              "    )\n",
              "    (7): TransformerBlock(\n",
              "      (att): MultiHeadAttention(\n",
              "        (W_query): Linear(in_features=768, out_features=768, bias=True)\n",
              "        (W_key): Linear(in_features=768, out_features=768, bias=True)\n",
              "        (W_value): Linear(in_features=768, out_features=768, bias=True)\n",
              "        (out_proj): Linear(in_features=768, out_features=768, bias=True)\n",
              "        (dropout): Dropout(p=0.1, inplace=False)\n",
              "      )\n",
              "      (ff): FeedForward(\n",
              "        (layers): Sequential(\n",
              "          (0): Linear(in_features=768, out_features=3072, bias=True)\n",
              "          (1): GELU()\n",
              "          (2): Linear(in_features=3072, out_features=768, bias=True)\n",
              "        )\n",
              "      )\n",
              "      (norm1): LayerNorm()\n",
              "      (norm2): LayerNorm()\n",
              "      (drop_shortcut): Dropout(p=0.1, inplace=False)\n",
              "    )\n",
              "    (8): TransformerBlock(\n",
              "      (att): MultiHeadAttention(\n",
              "        (W_query): Linear(in_features=768, out_features=768, bias=True)\n",
              "        (W_key): Linear(in_features=768, out_features=768, bias=True)\n",
              "        (W_value): Linear(in_features=768, out_features=768, bias=True)\n",
              "        (out_proj): Linear(in_features=768, out_features=768, bias=True)\n",
              "        (dropout): Dropout(p=0.1, inplace=False)\n",
              "      )\n",
              "      (ff): FeedForward(\n",
              "        (layers): Sequential(\n",
              "          (0): Linear(in_features=768, out_features=3072, bias=True)\n",
              "          (1): GELU()\n",
              "          (2): Linear(in_features=3072, out_features=768, bias=True)\n",
              "        )\n",
              "      )\n",
              "      (norm1): LayerNorm()\n",
              "      (norm2): LayerNorm()\n",
              "      (drop_shortcut): Dropout(p=0.1, inplace=False)\n",
              "    )\n",
              "    (9): TransformerBlock(\n",
              "      (att): MultiHeadAttention(\n",
              "        (W_query): Linear(in_features=768, out_features=768, bias=True)\n",
              "        (W_key): Linear(in_features=768, out_features=768, bias=True)\n",
              "        (W_value): Linear(in_features=768, out_features=768, bias=True)\n",
              "        (out_proj): Linear(in_features=768, out_features=768, bias=True)\n",
              "        (dropout): Dropout(p=0.1, inplace=False)\n",
              "      )\n",
              "      (ff): FeedForward(\n",
              "        (layers): Sequential(\n",
              "          (0): Linear(in_features=768, out_features=3072, bias=True)\n",
              "          (1): GELU()\n",
              "          (2): Linear(in_features=3072, out_features=768, bias=True)\n",
              "        )\n",
              "      )\n",
              "      (norm1): LayerNorm()\n",
              "      (norm2): LayerNorm()\n",
              "      (drop_shortcut): Dropout(p=0.1, inplace=False)\n",
              "    )\n",
              "    (10): TransformerBlock(\n",
              "      (att): MultiHeadAttention(\n",
              "        (W_query): Linear(in_features=768, out_features=768, bias=True)\n",
              "        (W_key): Linear(in_features=768, out_features=768, bias=True)\n",
              "        (W_value): Linear(in_features=768, out_features=768, bias=True)\n",
              "        (out_proj): Linear(in_features=768, out_features=768, bias=True)\n",
              "        (dropout): Dropout(p=0.1, inplace=False)\n",
              "      )\n",
              "      (ff): FeedForward(\n",
              "        (layers): Sequential(\n",
              "          (0): Linear(in_features=768, out_features=3072, bias=True)\n",
              "          (1): GELU()\n",
              "          (2): Linear(in_features=3072, out_features=768, bias=True)\n",
              "        )\n",
              "      )\n",
              "      (norm1): LayerNorm()\n",
              "      (norm2): LayerNorm()\n",
              "      (drop_shortcut): Dropout(p=0.1, inplace=False)\n",
              "    )\n",
              "    (11): TransformerBlock(\n",
              "      (att): MultiHeadAttention(\n",
              "        (W_query): Linear(in_features=768, out_features=768, bias=True)\n",
              "        (W_key): Linear(in_features=768, out_features=768, bias=True)\n",
              "        (W_value): Linear(in_features=768, out_features=768, bias=True)\n",
              "        (out_proj): Linear(in_features=768, out_features=768, bias=True)\n",
              "        (dropout): Dropout(p=0.1, inplace=False)\n",
              "      )\n",
              "      (ff): FeedForward(\n",
              "        (layers): Sequential(\n",
              "          (0): Linear(in_features=768, out_features=3072, bias=True)\n",
              "          (1): GELU()\n",
              "          (2): Linear(in_features=3072, out_features=768, bias=True)\n",
              "        )\n",
              "      )\n",
              "      (norm1): LayerNorm()\n",
              "      (norm2): LayerNorm()\n",
              "      (drop_shortcut): Dropout(p=0.1, inplace=False)\n",
              "    )\n",
              "  )\n",
              "  (final_norm): LayerNorm()\n",
              "  (out_head): Linear(in_features=768, out_features=50257, bias=False)\n",
              ")"
            ]
          },
          "metadata": {},
          "execution_count": 178
        }
      ]
    },
    {
      "cell_type": "code",
      "source": [
        "def assign(left, right):\n",
        "    # 检查左侧和右侧张量的形状是否一致\n",
        "    if left.shape != right.shape:\n",
        "        # 如果形状不一致，抛出 ValueError 异常\n",
        "        raise ValueError(f\"Shape mismatch. Left: {left.shape}, Right: {right.shape}\")\n",
        "\n",
        "    # 将右侧张量转换为 Parameter 类型并返回\n",
        "    return torch.nn.Parameter(torch.tensor(right))"
      ],
      "metadata": {
        "id": "1Ip_-3c5k1IU"
      },
      "execution_count": 179,
      "outputs": []
    },
    {
      "cell_type": "code",
      "source": [
        "import numpy as np\n",
        "\n",
        "def load_weights_into_gpt(gpt, params):\n",
        "    # 加载位置嵌入权重\n",
        "    gpt.pos_emb.weight = assign(gpt.pos_emb.weight, params[\"wpe\"])\n",
        "    # 加载词嵌入权重\n",
        "    gpt.tok_emb.weight = assign(gpt.tok_emb.weight, params[\"wte\"])\n",
        "\n",
        "    # 遍历每个 Transformer 块\n",
        "    for b in range(len(params[\"blocks\"])):\n",
        "        # 分割注意力权重为查询、键和值三部分\n",
        "        q_w, k_w, v_w = np.split(params[\"blocks\"][b][\"attn\"][\"c_attn\"][\"w\"], 3, axis=-1)\n",
        "        # 加载查询权重\n",
        "        gpt.trf_blocks[b].att.W_query.weight = assign(\n",
        "            gpt.trf_blocks[b].att.W_query.weight, q_w.T)\n",
        "        # 加载键权重\n",
        "        gpt.trf_blocks[b].att.W_key.weight = assign(\n",
        "            gpt.trf_blocks[b].att.W_key.weight, k_w.T)\n",
        "        # 加载值权重\n",
        "        gpt.trf_blocks[b].att.W_value.weight = assign(\n",
        "            gpt.trf_blocks[b].att.W_value.weight, v_w.T)\n",
        "\n",
        "        # 分割注意力偏置为查询、键和值三部分\n",
        "        q_b, k_b, v_b = np.split(params[\"blocks\"][b][\"attn\"][\"c_attn\"][\"b\"], 3, axis=-1)\n",
        "        # 加载查询偏置\n",
        "        gpt.trf_blocks[b].att.W_query.bias = assign(\n",
        "            gpt.trf_blocks[b].att.W_query.bias, q_b)\n",
        "        # 加载键偏置\n",
        "        gpt.trf_blocks[b].att.W_key.bias = assign(\n",
        "            gpt.trf_blocks[b].att.W_key.bias, k_b)\n",
        "        # 加载值偏置\n",
        "        gpt.trf_blocks[b].att.W_value.bias = assign(\n",
        "            gpt.trf_blocks[b].att.W_value.bias, v_b)\n",
        "\n",
        "        # 加载输出投影权重\n",
        "        gpt.trf_blocks[b].att.out_proj.weight = assign(\n",
        "            gpt.trf_blocks[b].att.out_proj.weight,\n",
        "            params[\"blocks\"][b][\"attn\"][\"c_proj\"][\"w\"].T)\n",
        "        # 加载输出投影偏置\n",
        "        gpt.trf_blocks[b].att.out_proj.bias = assign(\n",
        "            gpt.trf_blocks[b].att.out_proj.bias,\n",
        "            params[\"blocks\"][b][\"attn\"][\"c_proj\"][\"b\"])\n",
        "\n",
        "        # 加载前馈网络第一层权重\n",
        "        gpt.trf_blocks[b].ff.layers[0].weight = assign(\n",
        "            gpt.trf_blocks[b].ff.layers[0].weight,\n",
        "            params[\"blocks\"][b][\"mlp\"][\"c_fc\"][\"w\"].T)\n",
        "        # 加载前馈网络第一层偏置\n",
        "        gpt.trf_blocks[b].ff.layers[0].bias = assign(\n",
        "            gpt.trf_blocks[b].ff.layers[0].bias,\n",
        "            params[\"blocks\"][b][\"mlp\"][\"c_fc\"][\"b\"])\n",
        "        # 加载前馈网络第二层权重\n",
        "        gpt.trf_blocks[b].ff.layers[2].weight = assign(\n",
        "            gpt.trf_blocks[b].ff.layers[2].weight,\n",
        "            params[\"blocks\"][b][\"mlp\"][\"c_proj\"][\"w\"].T)\n",
        "        # 加载前馈网络第二层偏置\n",
        "        gpt.trf_blocks[b].ff.layers[2].bias = assign(\n",
        "            gpt.trf_blocks[b].ff.layers[2].bias,\n",
        "            params[\"blocks\"][b][\"mlp\"][\"c_proj\"][\"b\"])\n",
        "\n",
        "        # 加载第一层归一化的缩放参数\n",
        "        gpt.trf_blocks[b].norm1.scale = assign(\n",
        "            gpt.trf_blocks[b].norm1.scale,\n",
        "            params[\"blocks\"][b][\"ln_1\"][\"g\"])\n",
        "        # 加载第一层归一化的移位参数\n",
        "        gpt.trf_blocks[b].norm1.shift = assign(\n",
        "            gpt.trf_blocks[b].norm1.shift,\n",
        "            params[\"blocks\"][b][\"ln_1\"][\"b\"])\n",
        "        # 加载第二层归一化的缩放参数\n",
        "        gpt.trf_blocks[b].norm2.scale = assign(\n",
        "            gpt.trf_blocks[b].norm2.scale,\n",
        "            params[\"blocks\"][b][\"ln_2\"][\"g\"])\n",
        "        # 加载第二层归一化的移位参数\n",
        "        gpt.trf_blocks[b].norm2.shift = assign(\n",
        "            gpt.trf_blocks[b].norm2.shift,\n",
        "            params[\"blocks\"][b][\"ln_2\"][\"b\"])\n",
        "\n",
        "    # 加载最终归一化的缩放参数\n",
        "    gpt.final_norm.scale = assign(gpt.final_norm.scale, params[\"g\"])\n",
        "    # 加载最终归一化的移位参数\n",
        "    gpt.final_norm.shift = assign(gpt.final_norm.shift, params[\"b\"])\n",
        "    # 加载输出头权重（权重绑定）\n",
        "    gpt.out_head.weight = assign(gpt.out_head.weight, params[\"wte\"])"
      ],
      "metadata": {
        "id": "SiuTqh6cmRwT"
      },
      "execution_count": 180,
      "outputs": []
    },
    {
      "cell_type": "code",
      "source": [
        "load_weights_into_gpt(gpt, params)\n",
        "gpt.to(device)"
      ],
      "metadata": {
        "id": "vopcdJzTmjMx",
        "colab": {
          "base_uri": "https://localhost:8080/"
        },
        "outputId": "a6819bf9-5c2e-4d10-c7cb-dc6ff5c14f4e"
      },
      "execution_count": 181,
      "outputs": [
        {
          "output_type": "execute_result",
          "data": {
            "text/plain": [
              "GPTModel(\n",
              "  (tok_emb): Embedding(50257, 768)\n",
              "  (pos_emb): Embedding(1024, 768)\n",
              "  (drop_emb): Dropout(p=0.1, inplace=False)\n",
              "  (trf_blocks): Sequential(\n",
              "    (0): TransformerBlock(\n",
              "      (att): MultiHeadAttention(\n",
              "        (W_query): Linear(in_features=768, out_features=768, bias=True)\n",
              "        (W_key): Linear(in_features=768, out_features=768, bias=True)\n",
              "        (W_value): Linear(in_features=768, out_features=768, bias=True)\n",
              "        (out_proj): Linear(in_features=768, out_features=768, bias=True)\n",
              "        (dropout): Dropout(p=0.1, inplace=False)\n",
              "      )\n",
              "      (ff): FeedForward(\n",
              "        (layers): Sequential(\n",
              "          (0): Linear(in_features=768, out_features=3072, bias=True)\n",
              "          (1): GELU()\n",
              "          (2): Linear(in_features=3072, out_features=768, bias=True)\n",
              "        )\n",
              "      )\n",
              "      (norm1): LayerNorm()\n",
              "      (norm2): LayerNorm()\n",
              "      (drop_shortcut): Dropout(p=0.1, inplace=False)\n",
              "    )\n",
              "    (1): TransformerBlock(\n",
              "      (att): MultiHeadAttention(\n",
              "        (W_query): Linear(in_features=768, out_features=768, bias=True)\n",
              "        (W_key): Linear(in_features=768, out_features=768, bias=True)\n",
              "        (W_value): Linear(in_features=768, out_features=768, bias=True)\n",
              "        (out_proj): Linear(in_features=768, out_features=768, bias=True)\n",
              "        (dropout): Dropout(p=0.1, inplace=False)\n",
              "      )\n",
              "      (ff): FeedForward(\n",
              "        (layers): Sequential(\n",
              "          (0): Linear(in_features=768, out_features=3072, bias=True)\n",
              "          (1): GELU()\n",
              "          (2): Linear(in_features=3072, out_features=768, bias=True)\n",
              "        )\n",
              "      )\n",
              "      (norm1): LayerNorm()\n",
              "      (norm2): LayerNorm()\n",
              "      (drop_shortcut): Dropout(p=0.1, inplace=False)\n",
              "    )\n",
              "    (2): TransformerBlock(\n",
              "      (att): MultiHeadAttention(\n",
              "        (W_query): Linear(in_features=768, out_features=768, bias=True)\n",
              "        (W_key): Linear(in_features=768, out_features=768, bias=True)\n",
              "        (W_value): Linear(in_features=768, out_features=768, bias=True)\n",
              "        (out_proj): Linear(in_features=768, out_features=768, bias=True)\n",
              "        (dropout): Dropout(p=0.1, inplace=False)\n",
              "      )\n",
              "      (ff): FeedForward(\n",
              "        (layers): Sequential(\n",
              "          (0): Linear(in_features=768, out_features=3072, bias=True)\n",
              "          (1): GELU()\n",
              "          (2): Linear(in_features=3072, out_features=768, bias=True)\n",
              "        )\n",
              "      )\n",
              "      (norm1): LayerNorm()\n",
              "      (norm2): LayerNorm()\n",
              "      (drop_shortcut): Dropout(p=0.1, inplace=False)\n",
              "    )\n",
              "    (3): TransformerBlock(\n",
              "      (att): MultiHeadAttention(\n",
              "        (W_query): Linear(in_features=768, out_features=768, bias=True)\n",
              "        (W_key): Linear(in_features=768, out_features=768, bias=True)\n",
              "        (W_value): Linear(in_features=768, out_features=768, bias=True)\n",
              "        (out_proj): Linear(in_features=768, out_features=768, bias=True)\n",
              "        (dropout): Dropout(p=0.1, inplace=False)\n",
              "      )\n",
              "      (ff): FeedForward(\n",
              "        (layers): Sequential(\n",
              "          (0): Linear(in_features=768, out_features=3072, bias=True)\n",
              "          (1): GELU()\n",
              "          (2): Linear(in_features=3072, out_features=768, bias=True)\n",
              "        )\n",
              "      )\n",
              "      (norm1): LayerNorm()\n",
              "      (norm2): LayerNorm()\n",
              "      (drop_shortcut): Dropout(p=0.1, inplace=False)\n",
              "    )\n",
              "    (4): TransformerBlock(\n",
              "      (att): MultiHeadAttention(\n",
              "        (W_query): Linear(in_features=768, out_features=768, bias=True)\n",
              "        (W_key): Linear(in_features=768, out_features=768, bias=True)\n",
              "        (W_value): Linear(in_features=768, out_features=768, bias=True)\n",
              "        (out_proj): Linear(in_features=768, out_features=768, bias=True)\n",
              "        (dropout): Dropout(p=0.1, inplace=False)\n",
              "      )\n",
              "      (ff): FeedForward(\n",
              "        (layers): Sequential(\n",
              "          (0): Linear(in_features=768, out_features=3072, bias=True)\n",
              "          (1): GELU()\n",
              "          (2): Linear(in_features=3072, out_features=768, bias=True)\n",
              "        )\n",
              "      )\n",
              "      (norm1): LayerNorm()\n",
              "      (norm2): LayerNorm()\n",
              "      (drop_shortcut): Dropout(p=0.1, inplace=False)\n",
              "    )\n",
              "    (5): TransformerBlock(\n",
              "      (att): MultiHeadAttention(\n",
              "        (W_query): Linear(in_features=768, out_features=768, bias=True)\n",
              "        (W_key): Linear(in_features=768, out_features=768, bias=True)\n",
              "        (W_value): Linear(in_features=768, out_features=768, bias=True)\n",
              "        (out_proj): Linear(in_features=768, out_features=768, bias=True)\n",
              "        (dropout): Dropout(p=0.1, inplace=False)\n",
              "      )\n",
              "      (ff): FeedForward(\n",
              "        (layers): Sequential(\n",
              "          (0): Linear(in_features=768, out_features=3072, bias=True)\n",
              "          (1): GELU()\n",
              "          (2): Linear(in_features=3072, out_features=768, bias=True)\n",
              "        )\n",
              "      )\n",
              "      (norm1): LayerNorm()\n",
              "      (norm2): LayerNorm()\n",
              "      (drop_shortcut): Dropout(p=0.1, inplace=False)\n",
              "    )\n",
              "    (6): TransformerBlock(\n",
              "      (att): MultiHeadAttention(\n",
              "        (W_query): Linear(in_features=768, out_features=768, bias=True)\n",
              "        (W_key): Linear(in_features=768, out_features=768, bias=True)\n",
              "        (W_value): Linear(in_features=768, out_features=768, bias=True)\n",
              "        (out_proj): Linear(in_features=768, out_features=768, bias=True)\n",
              "        (dropout): Dropout(p=0.1, inplace=False)\n",
              "      )\n",
              "      (ff): FeedForward(\n",
              "        (layers): Sequential(\n",
              "          (0): Linear(in_features=768, out_features=3072, bias=True)\n",
              "          (1): GELU()\n",
              "          (2): Linear(in_features=3072, out_features=768, bias=True)\n",
              "        )\n",
              "      )\n",
              "      (norm1): LayerNorm()\n",
              "      (norm2): LayerNorm()\n",
              "      (drop_shortcut): Dropout(p=0.1, inplace=False)\n",
              "    )\n",
              "    (7): TransformerBlock(\n",
              "      (att): MultiHeadAttention(\n",
              "        (W_query): Linear(in_features=768, out_features=768, bias=True)\n",
              "        (W_key): Linear(in_features=768, out_features=768, bias=True)\n",
              "        (W_value): Linear(in_features=768, out_features=768, bias=True)\n",
              "        (out_proj): Linear(in_features=768, out_features=768, bias=True)\n",
              "        (dropout): Dropout(p=0.1, inplace=False)\n",
              "      )\n",
              "      (ff): FeedForward(\n",
              "        (layers): Sequential(\n",
              "          (0): Linear(in_features=768, out_features=3072, bias=True)\n",
              "          (1): GELU()\n",
              "          (2): Linear(in_features=3072, out_features=768, bias=True)\n",
              "        )\n",
              "      )\n",
              "      (norm1): LayerNorm()\n",
              "      (norm2): LayerNorm()\n",
              "      (drop_shortcut): Dropout(p=0.1, inplace=False)\n",
              "    )\n",
              "    (8): TransformerBlock(\n",
              "      (att): MultiHeadAttention(\n",
              "        (W_query): Linear(in_features=768, out_features=768, bias=True)\n",
              "        (W_key): Linear(in_features=768, out_features=768, bias=True)\n",
              "        (W_value): Linear(in_features=768, out_features=768, bias=True)\n",
              "        (out_proj): Linear(in_features=768, out_features=768, bias=True)\n",
              "        (dropout): Dropout(p=0.1, inplace=False)\n",
              "      )\n",
              "      (ff): FeedForward(\n",
              "        (layers): Sequential(\n",
              "          (0): Linear(in_features=768, out_features=3072, bias=True)\n",
              "          (1): GELU()\n",
              "          (2): Linear(in_features=3072, out_features=768, bias=True)\n",
              "        )\n",
              "      )\n",
              "      (norm1): LayerNorm()\n",
              "      (norm2): LayerNorm()\n",
              "      (drop_shortcut): Dropout(p=0.1, inplace=False)\n",
              "    )\n",
              "    (9): TransformerBlock(\n",
              "      (att): MultiHeadAttention(\n",
              "        (W_query): Linear(in_features=768, out_features=768, bias=True)\n",
              "        (W_key): Linear(in_features=768, out_features=768, bias=True)\n",
              "        (W_value): Linear(in_features=768, out_features=768, bias=True)\n",
              "        (out_proj): Linear(in_features=768, out_features=768, bias=True)\n",
              "        (dropout): Dropout(p=0.1, inplace=False)\n",
              "      )\n",
              "      (ff): FeedForward(\n",
              "        (layers): Sequential(\n",
              "          (0): Linear(in_features=768, out_features=3072, bias=True)\n",
              "          (1): GELU()\n",
              "          (2): Linear(in_features=3072, out_features=768, bias=True)\n",
              "        )\n",
              "      )\n",
              "      (norm1): LayerNorm()\n",
              "      (norm2): LayerNorm()\n",
              "      (drop_shortcut): Dropout(p=0.1, inplace=False)\n",
              "    )\n",
              "    (10): TransformerBlock(\n",
              "      (att): MultiHeadAttention(\n",
              "        (W_query): Linear(in_features=768, out_features=768, bias=True)\n",
              "        (W_key): Linear(in_features=768, out_features=768, bias=True)\n",
              "        (W_value): Linear(in_features=768, out_features=768, bias=True)\n",
              "        (out_proj): Linear(in_features=768, out_features=768, bias=True)\n",
              "        (dropout): Dropout(p=0.1, inplace=False)\n",
              "      )\n",
              "      (ff): FeedForward(\n",
              "        (layers): Sequential(\n",
              "          (0): Linear(in_features=768, out_features=3072, bias=True)\n",
              "          (1): GELU()\n",
              "          (2): Linear(in_features=3072, out_features=768, bias=True)\n",
              "        )\n",
              "      )\n",
              "      (norm1): LayerNorm()\n",
              "      (norm2): LayerNorm()\n",
              "      (drop_shortcut): Dropout(p=0.1, inplace=False)\n",
              "    )\n",
              "    (11): TransformerBlock(\n",
              "      (att): MultiHeadAttention(\n",
              "        (W_query): Linear(in_features=768, out_features=768, bias=True)\n",
              "        (W_key): Linear(in_features=768, out_features=768, bias=True)\n",
              "        (W_value): Linear(in_features=768, out_features=768, bias=True)\n",
              "        (out_proj): Linear(in_features=768, out_features=768, bias=True)\n",
              "        (dropout): Dropout(p=0.1, inplace=False)\n",
              "      )\n",
              "      (ff): FeedForward(\n",
              "        (layers): Sequential(\n",
              "          (0): Linear(in_features=768, out_features=3072, bias=True)\n",
              "          (1): GELU()\n",
              "          (2): Linear(in_features=3072, out_features=768, bias=True)\n",
              "        )\n",
              "      )\n",
              "      (norm1): LayerNorm()\n",
              "      (norm2): LayerNorm()\n",
              "      (drop_shortcut): Dropout(p=0.1, inplace=False)\n",
              "    )\n",
              "  )\n",
              "  (final_norm): LayerNorm()\n",
              "  (out_head): Linear(in_features=768, out_features=50257, bias=False)\n",
              ")"
            ]
          },
          "metadata": {},
          "execution_count": 181
        }
      ]
    },
    {
      "cell_type": "code",
      "source": [
        "# 设置随机种子，确保结果可复现\n",
        "torch.manual_seed(123)\n",
        "\n",
        "# 生成文本\n",
        "token_ids = generate(\n",
        "    model=gpt,  # 使用的模型\n",
        "    idx=text_to_token_ids(\"Every effort moves you\", tokenizer).to(device),  # 输入文本的token ID\n",
        "    max_new_tokens=25,  # 生成的最大新token数\n",
        "    context_size=NEW_CONFIG[\"context_length\"],  # 上下文长度\n",
        "    top_k=50,  # top_k采样的k值\n",
        "    temperature=1.5  # 温度参数\n",
        ")\n",
        "\n",
        "# 将生成的token ID解码为文本并打印\n",
        "print(\"Output text:\\n\", token_ids_to_text(token_ids, tokenizer))"
      ],
      "metadata": {
        "id": "32ldVU5Pml-0",
        "colab": {
          "base_uri": "https://localhost:8080/"
        },
        "outputId": "b3699b99-b3a7-41d4-ef95-9b7ee4b98897"
      },
      "execution_count": 182,
      "outputs": [
        {
          "output_type": "stream",
          "name": "stdout",
          "text": [
            "Output text:\n",
            " Every effort moves you toward an equal share for each vote plus half. Inequality is often not an accurate representation of human worth; to know the\n"
          ]
        }
      ]
    },
    {
      "cell_type": "markdown",
      "source": [
        "# 6 Fine-tuning for classification"
      ],
      "metadata": {
        "id": "CprsxBJHnbYf"
      }
    },
    {
      "cell_type": "markdown",
      "source": [
        "## 6.1  Different categories of fine-tuning"
      ],
      "metadata": {
        "id": "ANkYMYifLzwP"
      }
    },
    {
      "cell_type": "markdown",
      "source": [
        "## 6.2  Preparing the dataset"
      ],
      "metadata": {
        "id": "zLf1Up8EL31c"
      }
    },
    {
      "cell_type": "code",
      "source": [
        "import urllib.request\n",
        "import zipfile\n",
        "import os\n",
        "from pathlib import Path\n",
        "\n",
        "# 定义数据集的 URL 和路径\n",
        "url = \"https://archive.ics.uci.edu/static/public/228/sms+spam+collection.zip\"\n",
        "zip_path = \"sms_spam_collection.zip\"\n",
        "extracted_path = \"sms_spam_collection\"\n",
        "data_file_path = Path(extracted_path) / \"SMSSpamCollection.tsv\"\n",
        "\n",
        "def download_and_unzip_spam_data(url, zip_path, extracted_path, data_file_path):\n",
        "    # 检查数据文件是否已存在\n",
        "    if data_file_path.exists():\n",
        "        print(f\"{data_file_path} already exists. Skipping download and extraction.\")\n",
        "        return\n",
        "\n",
        "    # 下载数据集\n",
        "    with urllib.request.urlopen(url) as response:\n",
        "        with open(zip_path, \"wb\") as out_file:\n",
        "            out_file.write(response.read())\n",
        "\n",
        "    # 解压数据集\n",
        "    with zipfile.ZipFile(zip_path, \"r\") as zip_ref:\n",
        "        zip_ref.extractall(extracted_path)\n",
        "\n",
        "    # 重命名文件并添加 .tsv 扩展名\n",
        "    original_file_path = Path(extracted_path) / \"SMSSpamCollection\"\n",
        "    os.rename(original_file_path, data_file_path)\n",
        "\n",
        "    print(f\"File downloaded and saved as {data_file_path}\")\n",
        "\n",
        "# 调用函数下载并解压数据集\n",
        "download_and_unzip_spam_data(url, zip_path, extracted_path, data_file_path)"
      ],
      "metadata": {
        "id": "VvnPRJCsmxQL",
        "colab": {
          "base_uri": "https://localhost:8080/"
        },
        "outputId": "708e3041-afe3-46de-9438-5a57a01db9b6"
      },
      "execution_count": 183,
      "outputs": [
        {
          "output_type": "stream",
          "name": "stdout",
          "text": [
            "sms_spam_collection/SMSSpamCollection.tsv already exists. Skipping download and extraction.\n"
          ]
        }
      ]
    },
    {
      "cell_type": "code",
      "source": [
        "import pandas as pd\n",
        "\n",
        "# 读取数据集\n",
        "df = pd.read_csv(\n",
        "    data_file_path,  # 数据集文件路径\n",
        "    sep=\"\\t\",        # 分隔符为制表符\n",
        "    header=None,     # 文件没有表头\n",
        "    names=[\"Label\", \"Text\"]  # 指定列名\n",
        ")\n",
        "\n",
        "# 显示 DataFrame\n",
        "df"
      ],
      "metadata": {
        "id": "6BFtfmhyMFRO",
        "colab": {
          "base_uri": "https://localhost:8080/",
          "height": 423
        },
        "outputId": "51580fa5-d6de-4835-e1ec-52ce1b7710ff"
      },
      "execution_count": 184,
      "outputs": [
        {
          "output_type": "execute_result",
          "data": {
            "text/plain": [
              "     Label                                               Text\n",
              "0      ham  Go until jurong point, crazy.. Available only ...\n",
              "1      ham                      Ok lar... Joking wif u oni...\n",
              "2     spam  Free entry in 2 a wkly comp to win FA Cup fina...\n",
              "3      ham  U dun say so early hor... U c already then say...\n",
              "4      ham  Nah I don't think he goes to usf, he lives aro...\n",
              "...    ...                                                ...\n",
              "5567  spam  This is the 2nd time we have tried 2 contact u...\n",
              "5568   ham               Will ü b going to esplanade fr home?\n",
              "5569   ham  Pity, * was in mood for that. So...any other s...\n",
              "5570   ham  The guy did some bitching but I acted like i'd...\n",
              "5571   ham                         Rofl. Its true to its name\n",
              "\n",
              "[5572 rows x 2 columns]"
            ],
            "text/html": [
              "\n",
              "  <div id=\"df-e878678d-fadf-4aaa-9065-62e348d51c4b\" class=\"colab-df-container\">\n",
              "    <div>\n",
              "<style scoped>\n",
              "    .dataframe tbody tr th:only-of-type {\n",
              "        vertical-align: middle;\n",
              "    }\n",
              "\n",
              "    .dataframe tbody tr th {\n",
              "        vertical-align: top;\n",
              "    }\n",
              "\n",
              "    .dataframe thead th {\n",
              "        text-align: right;\n",
              "    }\n",
              "</style>\n",
              "<table border=\"1\" class=\"dataframe\">\n",
              "  <thead>\n",
              "    <tr style=\"text-align: right;\">\n",
              "      <th></th>\n",
              "      <th>Label</th>\n",
              "      <th>Text</th>\n",
              "    </tr>\n",
              "  </thead>\n",
              "  <tbody>\n",
              "    <tr>\n",
              "      <th>0</th>\n",
              "      <td>ham</td>\n",
              "      <td>Go until jurong point, crazy.. Available only ...</td>\n",
              "    </tr>\n",
              "    <tr>\n",
              "      <th>1</th>\n",
              "      <td>ham</td>\n",
              "      <td>Ok lar... Joking wif u oni...</td>\n",
              "    </tr>\n",
              "    <tr>\n",
              "      <th>2</th>\n",
              "      <td>spam</td>\n",
              "      <td>Free entry in 2 a wkly comp to win FA Cup fina...</td>\n",
              "    </tr>\n",
              "    <tr>\n",
              "      <th>3</th>\n",
              "      <td>ham</td>\n",
              "      <td>U dun say so early hor... U c already then say...</td>\n",
              "    </tr>\n",
              "    <tr>\n",
              "      <th>4</th>\n",
              "      <td>ham</td>\n",
              "      <td>Nah I don't think he goes to usf, he lives aro...</td>\n",
              "    </tr>\n",
              "    <tr>\n",
              "      <th>...</th>\n",
              "      <td>...</td>\n",
              "      <td>...</td>\n",
              "    </tr>\n",
              "    <tr>\n",
              "      <th>5567</th>\n",
              "      <td>spam</td>\n",
              "      <td>This is the 2nd time we have tried 2 contact u...</td>\n",
              "    </tr>\n",
              "    <tr>\n",
              "      <th>5568</th>\n",
              "      <td>ham</td>\n",
              "      <td>Will ü b going to esplanade fr home?</td>\n",
              "    </tr>\n",
              "    <tr>\n",
              "      <th>5569</th>\n",
              "      <td>ham</td>\n",
              "      <td>Pity, * was in mood for that. So...any other s...</td>\n",
              "    </tr>\n",
              "    <tr>\n",
              "      <th>5570</th>\n",
              "      <td>ham</td>\n",
              "      <td>The guy did some bitching but I acted like i'd...</td>\n",
              "    </tr>\n",
              "    <tr>\n",
              "      <th>5571</th>\n",
              "      <td>ham</td>\n",
              "      <td>Rofl. Its true to its name</td>\n",
              "    </tr>\n",
              "  </tbody>\n",
              "</table>\n",
              "<p>5572 rows × 2 columns</p>\n",
              "</div>\n",
              "    <div class=\"colab-df-buttons\">\n",
              "\n",
              "  <div class=\"colab-df-container\">\n",
              "    <button class=\"colab-df-convert\" onclick=\"convertToInteractive('df-e878678d-fadf-4aaa-9065-62e348d51c4b')\"\n",
              "            title=\"Convert this dataframe to an interactive table.\"\n",
              "            style=\"display:none;\">\n",
              "\n",
              "  <svg xmlns=\"http://www.w3.org/2000/svg\" height=\"24px\" viewBox=\"0 -960 960 960\">\n",
              "    <path d=\"M120-120v-720h720v720H120Zm60-500h600v-160H180v160Zm220 220h160v-160H400v160Zm0 220h160v-160H400v160ZM180-400h160v-160H180v160Zm440 0h160v-160H620v160ZM180-180h160v-160H180v160Zm440 0h160v-160H620v160Z\"/>\n",
              "  </svg>\n",
              "    </button>\n",
              "\n",
              "  <style>\n",
              "    .colab-df-container {\n",
              "      display:flex;\n",
              "      gap: 12px;\n",
              "    }\n",
              "\n",
              "    .colab-df-convert {\n",
              "      background-color: #E8F0FE;\n",
              "      border: none;\n",
              "      border-radius: 50%;\n",
              "      cursor: pointer;\n",
              "      display: none;\n",
              "      fill: #1967D2;\n",
              "      height: 32px;\n",
              "      padding: 0 0 0 0;\n",
              "      width: 32px;\n",
              "    }\n",
              "\n",
              "    .colab-df-convert:hover {\n",
              "      background-color: #E2EBFA;\n",
              "      box-shadow: 0px 1px 2px rgba(60, 64, 67, 0.3), 0px 1px 3px 1px rgba(60, 64, 67, 0.15);\n",
              "      fill: #174EA6;\n",
              "    }\n",
              "\n",
              "    .colab-df-buttons div {\n",
              "      margin-bottom: 4px;\n",
              "    }\n",
              "\n",
              "    [theme=dark] .colab-df-convert {\n",
              "      background-color: #3B4455;\n",
              "      fill: #D2E3FC;\n",
              "    }\n",
              "\n",
              "    [theme=dark] .colab-df-convert:hover {\n",
              "      background-color: #434B5C;\n",
              "      box-shadow: 0px 1px 3px 1px rgba(0, 0, 0, 0.15);\n",
              "      filter: drop-shadow(0px 1px 2px rgba(0, 0, 0, 0.3));\n",
              "      fill: #FFFFFF;\n",
              "    }\n",
              "  </style>\n",
              "\n",
              "    <script>\n",
              "      const buttonEl =\n",
              "        document.querySelector('#df-e878678d-fadf-4aaa-9065-62e348d51c4b button.colab-df-convert');\n",
              "      buttonEl.style.display =\n",
              "        google.colab.kernel.accessAllowed ? 'block' : 'none';\n",
              "\n",
              "      async function convertToInteractive(key) {\n",
              "        const element = document.querySelector('#df-e878678d-fadf-4aaa-9065-62e348d51c4b');\n",
              "        const dataTable =\n",
              "          await google.colab.kernel.invokeFunction('convertToInteractive',\n",
              "                                                    [key], {});\n",
              "        if (!dataTable) return;\n",
              "\n",
              "        const docLinkHtml = 'Like what you see? Visit the ' +\n",
              "          '<a target=\"_blank\" href=https://colab.research.google.com/notebooks/data_table.ipynb>data table notebook</a>'\n",
              "          + ' to learn more about interactive tables.';\n",
              "        element.innerHTML = '';\n",
              "        dataTable['output_type'] = 'display_data';\n",
              "        await google.colab.output.renderOutput(dataTable, element);\n",
              "        const docLink = document.createElement('div');\n",
              "        docLink.innerHTML = docLinkHtml;\n",
              "        element.appendChild(docLink);\n",
              "      }\n",
              "    </script>\n",
              "  </div>\n",
              "\n",
              "\n",
              "    <div id=\"df-0e3e4d5c-3a3d-454e-a23c-c1ef73fe26f0\">\n",
              "      <button class=\"colab-df-quickchart\" onclick=\"quickchart('df-0e3e4d5c-3a3d-454e-a23c-c1ef73fe26f0')\"\n",
              "                title=\"Suggest charts\"\n",
              "                style=\"display:none;\">\n",
              "\n",
              "<svg xmlns=\"http://www.w3.org/2000/svg\" height=\"24px\"viewBox=\"0 0 24 24\"\n",
              "     width=\"24px\">\n",
              "    <g>\n",
              "        <path d=\"M19 3H5c-1.1 0-2 .9-2 2v14c0 1.1.9 2 2 2h14c1.1 0 2-.9 2-2V5c0-1.1-.9-2-2-2zM9 17H7v-7h2v7zm4 0h-2V7h2v10zm4 0h-2v-4h2v4z\"/>\n",
              "    </g>\n",
              "</svg>\n",
              "      </button>\n",
              "\n",
              "<style>\n",
              "  .colab-df-quickchart {\n",
              "      --bg-color: #E8F0FE;\n",
              "      --fill-color: #1967D2;\n",
              "      --hover-bg-color: #E2EBFA;\n",
              "      --hover-fill-color: #174EA6;\n",
              "      --disabled-fill-color: #AAA;\n",
              "      --disabled-bg-color: #DDD;\n",
              "  }\n",
              "\n",
              "  [theme=dark] .colab-df-quickchart {\n",
              "      --bg-color: #3B4455;\n",
              "      --fill-color: #D2E3FC;\n",
              "      --hover-bg-color: #434B5C;\n",
              "      --hover-fill-color: #FFFFFF;\n",
              "      --disabled-bg-color: #3B4455;\n",
              "      --disabled-fill-color: #666;\n",
              "  }\n",
              "\n",
              "  .colab-df-quickchart {\n",
              "    background-color: var(--bg-color);\n",
              "    border: none;\n",
              "    border-radius: 50%;\n",
              "    cursor: pointer;\n",
              "    display: none;\n",
              "    fill: var(--fill-color);\n",
              "    height: 32px;\n",
              "    padding: 0;\n",
              "    width: 32px;\n",
              "  }\n",
              "\n",
              "  .colab-df-quickchart:hover {\n",
              "    background-color: var(--hover-bg-color);\n",
              "    box-shadow: 0 1px 2px rgba(60, 64, 67, 0.3), 0 1px 3px 1px rgba(60, 64, 67, 0.15);\n",
              "    fill: var(--button-hover-fill-color);\n",
              "  }\n",
              "\n",
              "  .colab-df-quickchart-complete:disabled,\n",
              "  .colab-df-quickchart-complete:disabled:hover {\n",
              "    background-color: var(--disabled-bg-color);\n",
              "    fill: var(--disabled-fill-color);\n",
              "    box-shadow: none;\n",
              "  }\n",
              "\n",
              "  .colab-df-spinner {\n",
              "    border: 2px solid var(--fill-color);\n",
              "    border-color: transparent;\n",
              "    border-bottom-color: var(--fill-color);\n",
              "    animation:\n",
              "      spin 1s steps(1) infinite;\n",
              "  }\n",
              "\n",
              "  @keyframes spin {\n",
              "    0% {\n",
              "      border-color: transparent;\n",
              "      border-bottom-color: var(--fill-color);\n",
              "      border-left-color: var(--fill-color);\n",
              "    }\n",
              "    20% {\n",
              "      border-color: transparent;\n",
              "      border-left-color: var(--fill-color);\n",
              "      border-top-color: var(--fill-color);\n",
              "    }\n",
              "    30% {\n",
              "      border-color: transparent;\n",
              "      border-left-color: var(--fill-color);\n",
              "      border-top-color: var(--fill-color);\n",
              "      border-right-color: var(--fill-color);\n",
              "    }\n",
              "    40% {\n",
              "      border-color: transparent;\n",
              "      border-right-color: var(--fill-color);\n",
              "      border-top-color: var(--fill-color);\n",
              "    }\n",
              "    60% {\n",
              "      border-color: transparent;\n",
              "      border-right-color: var(--fill-color);\n",
              "    }\n",
              "    80% {\n",
              "      border-color: transparent;\n",
              "      border-right-color: var(--fill-color);\n",
              "      border-bottom-color: var(--fill-color);\n",
              "    }\n",
              "    90% {\n",
              "      border-color: transparent;\n",
              "      border-bottom-color: var(--fill-color);\n",
              "    }\n",
              "  }\n",
              "</style>\n",
              "\n",
              "      <script>\n",
              "        async function quickchart(key) {\n",
              "          const quickchartButtonEl =\n",
              "            document.querySelector('#' + key + ' button');\n",
              "          quickchartButtonEl.disabled = true;  // To prevent multiple clicks.\n",
              "          quickchartButtonEl.classList.add('colab-df-spinner');\n",
              "          try {\n",
              "            const charts = await google.colab.kernel.invokeFunction(\n",
              "                'suggestCharts', [key], {});\n",
              "          } catch (error) {\n",
              "            console.error('Error during call to suggestCharts:', error);\n",
              "          }\n",
              "          quickchartButtonEl.classList.remove('colab-df-spinner');\n",
              "          quickchartButtonEl.classList.add('colab-df-quickchart-complete');\n",
              "        }\n",
              "        (() => {\n",
              "          let quickchartButtonEl =\n",
              "            document.querySelector('#df-0e3e4d5c-3a3d-454e-a23c-c1ef73fe26f0 button');\n",
              "          quickchartButtonEl.style.display =\n",
              "            google.colab.kernel.accessAllowed ? 'block' : 'none';\n",
              "        })();\n",
              "      </script>\n",
              "    </div>\n",
              "\n",
              "  <div id=\"id_626a8f71-b9fc-4228-9be2-15df7bd89901\">\n",
              "    <style>\n",
              "      .colab-df-generate {\n",
              "        background-color: #E8F0FE;\n",
              "        border: none;\n",
              "        border-radius: 50%;\n",
              "        cursor: pointer;\n",
              "        display: none;\n",
              "        fill: #1967D2;\n",
              "        height: 32px;\n",
              "        padding: 0 0 0 0;\n",
              "        width: 32px;\n",
              "      }\n",
              "\n",
              "      .colab-df-generate:hover {\n",
              "        background-color: #E2EBFA;\n",
              "        box-shadow: 0px 1px 2px rgba(60, 64, 67, 0.3), 0px 1px 3px 1px rgba(60, 64, 67, 0.15);\n",
              "        fill: #174EA6;\n",
              "      }\n",
              "\n",
              "      [theme=dark] .colab-df-generate {\n",
              "        background-color: #3B4455;\n",
              "        fill: #D2E3FC;\n",
              "      }\n",
              "\n",
              "      [theme=dark] .colab-df-generate:hover {\n",
              "        background-color: #434B5C;\n",
              "        box-shadow: 0px 1px 3px 1px rgba(0, 0, 0, 0.15);\n",
              "        filter: drop-shadow(0px 1px 2px rgba(0, 0, 0, 0.3));\n",
              "        fill: #FFFFFF;\n",
              "      }\n",
              "    </style>\n",
              "    <button class=\"colab-df-generate\" onclick=\"generateWithVariable('df')\"\n",
              "            title=\"Generate code using this dataframe.\"\n",
              "            style=\"display:none;\">\n",
              "\n",
              "  <svg xmlns=\"http://www.w3.org/2000/svg\" height=\"24px\"viewBox=\"0 0 24 24\"\n",
              "       width=\"24px\">\n",
              "    <path d=\"M7,19H8.4L18.45,9,17,7.55,7,17.6ZM5,21V16.75L18.45,3.32a2,2,0,0,1,2.83,0l1.4,1.43a1.91,1.91,0,0,1,.58,1.4,1.91,1.91,0,0,1-.58,1.4L9.25,21ZM18.45,9,17,7.55Zm-12,3A5.31,5.31,0,0,0,4.9,8.1,5.31,5.31,0,0,0,1,6.5,5.31,5.31,0,0,0,4.9,4.9,5.31,5.31,0,0,0,6.5,1,5.31,5.31,0,0,0,8.1,4.9,5.31,5.31,0,0,0,12,6.5,5.46,5.46,0,0,0,6.5,12Z\"/>\n",
              "  </svg>\n",
              "    </button>\n",
              "    <script>\n",
              "      (() => {\n",
              "      const buttonEl =\n",
              "        document.querySelector('#id_626a8f71-b9fc-4228-9be2-15df7bd89901 button.colab-df-generate');\n",
              "      buttonEl.style.display =\n",
              "        google.colab.kernel.accessAllowed ? 'block' : 'none';\n",
              "\n",
              "      buttonEl.onclick = () => {\n",
              "        google.colab.notebook.generateWithVariable('df');\n",
              "      }\n",
              "      })();\n",
              "    </script>\n",
              "  </div>\n",
              "\n",
              "    </div>\n",
              "  </div>\n"
            ],
            "application/vnd.google.colaboratory.intrinsic+json": {
              "type": "dataframe",
              "variable_name": "df",
              "summary": "{\n  \"name\": \"df\",\n  \"rows\": 5572,\n  \"fields\": [\n    {\n      \"column\": \"Label\",\n      \"properties\": {\n        \"dtype\": \"category\",\n        \"num_unique_values\": 2,\n        \"samples\": [\n          \"spam\",\n          \"ham\"\n        ],\n        \"semantic_type\": \"\",\n        \"description\": \"\"\n      }\n    },\n    {\n      \"column\": \"Text\",\n      \"properties\": {\n        \"dtype\": \"string\",\n        \"num_unique_values\": 5169,\n        \"samples\": [\n          \"K, makes sense, btw carlos is being difficult so you guys are gonna smoke while I go pick up the second batch and get gas\",\n          \"URGENT! Your mobile No *********** WON a \\u00a32,000 Bonus Caller Prize on 02/06/03! This is the 2nd attempt to reach YOU! Call 09066362220 ASAP! BOX97N7QP, 150ppm\"\n        ],\n        \"semantic_type\": \"\",\n        \"description\": \"\"\n      }\n    }\n  ]\n}"
            }
          },
          "metadata": {},
          "execution_count": 184
        }
      ]
    },
    {
      "cell_type": "code",
      "source": [
        "print(df[\"Label\"].value_counts())"
      ],
      "metadata": {
        "id": "W9Km1CGDMOfh",
        "colab": {
          "base_uri": "https://localhost:8080/"
        },
        "outputId": "f58d2d81-93b5-4232-faf7-d3befc7cca9c"
      },
      "execution_count": 185,
      "outputs": [
        {
          "output_type": "stream",
          "name": "stdout",
          "text": [
            "Label\n",
            "ham     4825\n",
            "spam     747\n",
            "Name: count, dtype: int64\n"
          ]
        }
      ]
    },
    {
      "cell_type": "code",
      "source": [
        "def create_balanced_dataset(df):\n",
        "    # 计算 \"spam\" 类别的样本数量\n",
        "    num_spam = df[df[\"Label\"] == \"spam\"].shape[0]\n",
        "\n",
        "    # 随机采样 \"ham\" 类别的样本，数量与 \"spam\" 类别相同\n",
        "    ham_subset = df[df[\"Label\"] == \"ham\"].sample(\n",
        "        num_spam,  # 采样数量\n",
        "        random_state=123  # 随机种子，确保结果可复现\n",
        "    )\n",
        "\n",
        "    # 合并采样后的 \"ham\" 子集和 \"spam\" 类别\n",
        "    balanced_df = pd.concat([\n",
        "        ham_subset,  # 采样后的 \"ham\" 子集\n",
        "        df[df[\"Label\"] == \"spam\"]  # \"spam\" 类别\n",
        "    ])\n",
        "\n",
        "    # 返回平衡的数据集\n",
        "    return balanced_df\n",
        "\n",
        "# 创建平衡的数据集\n",
        "balanced_df = create_balanced_dataset(df)\n",
        "\n",
        "# 打印每个类别的样本数量\n",
        "print(balanced_df[\"Label\"].value_counts())"
      ],
      "metadata": {
        "id": "sSLLGqgYMR9K",
        "colab": {
          "base_uri": "https://localhost:8080/"
        },
        "outputId": "b1443fab-d7a6-4bdb-d856-c23f8cf4060f"
      },
      "execution_count": 186,
      "outputs": [
        {
          "output_type": "stream",
          "name": "stdout",
          "text": [
            "Label\n",
            "ham     747\n",
            "spam    747\n",
            "Name: count, dtype: int64\n"
          ]
        }
      ]
    },
    {
      "cell_type": "code",
      "source": [
        "# 将 \"Label\" 列中的类别标签映射为数字\n",
        "balanced_df[\"Label\"] = balanced_df[\"Label\"].map({\"ham\": 0, \"spam\": 1})"
      ],
      "metadata": {
        "id": "i_Gbt5FoMY01"
      },
      "execution_count": 187,
      "outputs": []
    },
    {
      "cell_type": "code",
      "source": [
        "def random_split(df, train_frac, validation_frac):\n",
        "    # 打乱数据集\n",
        "    df = df.sample(frac=1, random_state=123).reset_index(drop=True)\n",
        "\n",
        "    # 计算分割索引\n",
        "    train_end = int(len(df) * train_frac)\n",
        "    validation_end = train_end + int(len(df) * validation_frac)\n",
        "\n",
        "    # 分割数据集\n",
        "    train_df = df[:train_end]\n",
        "    validation_df = df[train_end:validation_end]\n",
        "    test_df = df[validation_end:]\n",
        "\n",
        "    # 返回分割后的数据集\n",
        "    return train_df, validation_df, test_df\n",
        "\n",
        "# 分割数据集\n",
        "train_df, validation_df, test_df = random_split(balanced_df, 0.7, 0.1)"
      ],
      "metadata": {
        "id": "M1w6CG-WMh_b"
      },
      "execution_count": 188,
      "outputs": []
    },
    {
      "cell_type": "code",
      "source": [
        "# 将训练集保存为 CSV 文件\n",
        "train_df.to_csv(\"train.csv\", index=None)\n",
        "\n",
        "# 将验证集保存为 CSV 文件\n",
        "validation_df.to_csv(\"validation.csv\", index=None)\n",
        "\n",
        "# 将测试集保存为 CSV 文件\n",
        "test_df.to_csv(\"test.csv\", index=None)"
      ],
      "metadata": {
        "id": "BOGSa5Z9MotG"
      },
      "execution_count": 189,
      "outputs": []
    },
    {
      "cell_type": "markdown",
      "source": [
        "## 6.3  Creating data loaders"
      ],
      "metadata": {
        "id": "cOuHFzsxMvKR"
      }
    },
    {
      "cell_type": "code",
      "source": [
        "import tiktoken\n",
        "\n",
        "# 获取 GPT-2 的分词器\n",
        "tokenizer = tiktoken.get_encoding(\"gpt2\")\n",
        "\n",
        "# 编码特殊文本 `<|endoftext|>`\n",
        "print(tokenizer.encode(\"<|endoftext|>\", allowed_special={\"<|endoftext|>\"}))"
      ],
      "metadata": {
        "id": "pzeQw2RcMuHS",
        "colab": {
          "base_uri": "https://localhost:8080/"
        },
        "outputId": "93f2fba0-b35f-4696-c2a5-4ce85c784e60"
      },
      "execution_count": 190,
      "outputs": [
        {
          "output_type": "stream",
          "name": "stdout",
          "text": [
            "[50256]\n"
          ]
        }
      ]
    },
    {
      "cell_type": "code",
      "source": [
        "import torch\n",
        "from torch.utils.data import Dataset\n",
        "\n",
        "class SpamDataset(Dataset):\n",
        "    def __init__(self, csv_file, tokenizer, max_length=None, pad_token_id=50256):\n",
        "        # 读取 CSV 文件\n",
        "        self.data = pd.read_csv(csv_file)\n",
        "\n",
        "        # 编码文本\n",
        "        self.encoded_texts = [\n",
        "            tokenizer.encode(text) for text in self.data[\"Text\"]\n",
        "        ]\n",
        "\n",
        "        # 确定最大长度\n",
        "        if max_length is None:\n",
        "            self.max_length = self._longest_encoded_length()\n",
        "        else:\n",
        "            self.max_length = max_length\n",
        "\n",
        "        # 截断和填充文本\n",
        "        self.encoded_texts = [\n",
        "            encoded_text[:self.max_length]\n",
        "            for encoded_text in self.encoded_texts\n",
        "        ]\n",
        "        self.encoded_texts = [\n",
        "            encoded_text + [pad_token_id] * (self.max_length - len(encoded_text))\n",
        "            for encoded_text in self.encoded_texts\n",
        "        ]\n",
        "\n",
        "    def __getitem__(self, index):\n",
        "        # 获取编码后的文本和标签\n",
        "        encoded = self.encoded_texts[index]\n",
        "        label = self.data.iloc[index][\"Label\"]\n",
        "        return (\n",
        "            torch.tensor(encoded, dtype=torch.long),\n",
        "            torch.tensor(label, dtype=torch.long)\n",
        "        )\n",
        "\n",
        "    def __len__(self):\n",
        "        # 返回数据集的大小\n",
        "        return len(self.data)\n",
        "\n",
        "    def _longest_encoded_length(self):\n",
        "        # 计算最长编码文本的长度\n",
        "        max_length = 0\n",
        "        for encoded_text in self.encoded_texts:\n",
        "            encoded_length = len(encoded_text)\n",
        "            if encoded_length > max_length:\n",
        "                max_length = encoded_length\n",
        "        return max_length"
      ],
      "metadata": {
        "id": "6oIjSfy5M2tq"
      },
      "execution_count": 191,
      "outputs": []
    },
    {
      "cell_type": "code",
      "source": [
        "train_dataset = SpamDataset(\n",
        "    csv_file=\"train.csv\",  # 训练集 CSV 文件路径\n",
        "    max_length=None,       # 最大长度（None 表示自动计算）\n",
        "    tokenizer=tokenizer    # 分词器\n",
        ")"
      ],
      "metadata": {
        "id": "f-NVHCvtNBS2"
      },
      "execution_count": 192,
      "outputs": []
    },
    {
      "cell_type": "code",
      "source": [
        "print(train_dataset.max_length)"
      ],
      "metadata": {
        "id": "wzEkt2HCNIrs",
        "colab": {
          "base_uri": "https://localhost:8080/"
        },
        "outputId": "6b1739b6-b17d-443d-fb2c-36c09ccab5ab"
      },
      "execution_count": 193,
      "outputs": [
        {
          "output_type": "stream",
          "name": "stdout",
          "text": [
            "120\n"
          ]
        }
      ]
    },
    {
      "cell_type": "code",
      "source": [
        "# 创建验证集数据集\n",
        "val_dataset = SpamDataset(\n",
        "    csv_file=\"validation.csv\",  # 验证集 CSV 文件路径\n",
        "    max_length=train_dataset.max_length,  # 最大长度与训练集一致\n",
        "    tokenizer=tokenizer  # 分词器\n",
        ")\n",
        "\n",
        "# 创建测试集数据集\n",
        "test_dataset = SpamDataset(\n",
        "    csv_file=\"test.csv\",  # 测试集 CSV 文件路径\n",
        "    max_length=train_dataset.max_length,  # 最大长度与训练集一致\n",
        "    tokenizer=tokenizer  # 分词器\n",
        ")"
      ],
      "metadata": {
        "id": "joko52grNK5g"
      },
      "execution_count": 194,
      "outputs": []
    },
    {
      "cell_type": "code",
      "source": [
        "from torch.utils.data import DataLoader\n",
        "\n",
        "# 设置参数\n",
        "num_workers = 0  # 工作进程数，0 表示不使用多进程\n",
        "batch_size = 8  # 批大小\n",
        "torch.manual_seed(123)  # 设置随机种子，确保结果可复现\n",
        "\n",
        "# 创建训练集数据加载器\n",
        "train_loader = DataLoader(\n",
        "    dataset=train_dataset,  # 训练集数据集\n",
        "    batch_size=batch_size,  # 批大小\n",
        "    shuffle=True,  # 打乱数据\n",
        "    num_workers=num_workers,  # 工作进程数\n",
        "    drop_last=True  # 丢弃最后一个不完整的批次\n",
        ")\n",
        "\n",
        "# 创建验证集数据加载器\n",
        "val_loader = DataLoader(\n",
        "    dataset=val_dataset,  # 验证集数据集\n",
        "    batch_size=batch_size,  # 批大小\n",
        "    num_workers=num_workers,  # 工作进程数\n",
        "    drop_last=False  # 不丢弃最后一个不完整的批次\n",
        ")\n",
        "\n",
        "# 创建测试集数据加载器\n",
        "test_loader = DataLoader(\n",
        "    dataset=test_dataset,  # 测试集数据集\n",
        "    batch_size=batch_size,  # 批大小\n",
        "    num_workers=num_workers,  # 工作进程数\n",
        "    drop_last=False  # 不丢弃最后一个不完整的批次\n",
        ")"
      ],
      "metadata": {
        "id": "oTdnmz92NR1K"
      },
      "execution_count": 195,
      "outputs": []
    },
    {
      "cell_type": "code",
      "source": [
        "# 遍历训练集数据加载器\n",
        "for input_batch, target_batch in train_loader:\n",
        "    pass  # 占位符，实际代码中可以处理批次数据\n",
        "\n",
        "# 打印输入批次的维度\n",
        "print(\"Input batch dimensions:\", input_batch.shape)\n",
        "\n",
        "# 打印标签批次的维度\n",
        "print(\"Label batch dimensions\", target_batch.shape)"
      ],
      "metadata": {
        "id": "A9otRapsNZKd",
        "colab": {
          "base_uri": "https://localhost:8080/"
        },
        "outputId": "81b59922-794a-482a-f2fe-0dc5ae583019"
      },
      "execution_count": 196,
      "outputs": [
        {
          "output_type": "stream",
          "name": "stdout",
          "text": [
            "Input batch dimensions: torch.Size([8, 120])\n",
            "Label batch dimensions torch.Size([8])\n"
          ]
        }
      ]
    },
    {
      "cell_type": "code",
      "source": [
        "# 打印训练集的批次数量\n",
        "print(f\"{len(train_loader)} training batches\")\n",
        "\n",
        "# 打印验证集的批次数量\n",
        "print(f\"{len(val_loader)} validation batches\")\n",
        "\n",
        "# 打印测试集的批次数量\n",
        "print(f\"{len(test_loader)} test batches\")"
      ],
      "metadata": {
        "id": "J7HrmhujNeaP",
        "colab": {
          "base_uri": "https://localhost:8080/"
        },
        "outputId": "3088dbf5-c9c5-4740-ea6d-5a90ba673c67"
      },
      "execution_count": 197,
      "outputs": [
        {
          "output_type": "stream",
          "name": "stdout",
          "text": [
            "130 training batches\n",
            "19 validation batches\n",
            "38 test batches\n"
          ]
        }
      ]
    },
    {
      "cell_type": "markdown",
      "source": [
        "## 6.4  Initializing a model with pretrained weights"
      ],
      "metadata": {
        "id": "gJA0f_egNnGD"
      }
    },
    {
      "cell_type": "code",
      "source": [
        "# 选择的模型\n",
        "CHOOSE_MODEL = \"gpt2-small (124M)\"\n",
        "# 输入提示\n",
        "INPUT_PROMPT = \"Every effort moves\"\n",
        "\n",
        "# 基础配置\n",
        "BASE_CONFIG = {\n",
        "    \"vocab_size\": 50257,  # 词汇表大小\n",
        "    \"context_length\": 1024,  # 上下文长度\n",
        "    \"drop_rate\": 0.0,  # Dropout 率\n",
        "    \"qkv_bias\": True  # 查询-键-值偏置\n",
        "}\n",
        "\n",
        "# 模型配置\n",
        "model_configs = {\n",
        "    \"gpt2-small (124M)\": {\"emb_dim\": 768, \"n_layers\": 12, \"n_heads\": 12},\n",
        "    \"gpt2-medium (355M)\": {\"emb_dim\": 1024, \"n_layers\": 24, \"n_heads\": 16},\n",
        "    \"gpt2-large (774M)\": {\"emb_dim\": 1280, \"n_layers\": 36, \"n_heads\": 20},\n",
        "    \"gpt2-xl (1558M)\": {\"emb_dim\": 1600, \"n_layers\": 48, \"n_heads\": 25},\n",
        "}\n",
        "\n",
        "# 更新基础配置\n",
        "BASE_CONFIG.update(model_configs[CHOOSE_MODEL])"
      ],
      "metadata": {
        "id": "lFBTSxjBNl4v"
      },
      "execution_count": 198,
      "outputs": []
    },
    {
      "cell_type": "code",
      "source": [
        "# 从自定义模块导入函数\n",
        "from gpt_download import download_and_load_gpt2\n",
        "# from chapter05 import GPTModel, load_weights_into_gpt\n",
        "\n",
        "# 解析模型大小\n",
        "model_size = CHOOSE_MODEL.split(\" \")[-1].lstrip(\"(\").rstrip(\")\")\n",
        "\n",
        "# 下载并加载 GPT-2 模型\n",
        "settings, params = download_and_load_gpt2(\n",
        "  model_size=model_size, models_dir=\"gpt2\"\n",
        ")\n",
        "\n",
        "# 初始化模型\n",
        "model = GPTModel(BASE_CONFIG)\n",
        "\n",
        "# 加载权重\n",
        "load_weights_into_gpt(model, params)\n",
        "\n",
        "# 设置模型为评估模式\n",
        "model.eval()"
      ],
      "metadata": {
        "id": "cdRYlg7GNw0M",
        "colab": {
          "base_uri": "https://localhost:8080/"
        },
        "outputId": "1d99e3f9-32bd-44d2-d359-ef4d8e41a462"
      },
      "execution_count": 199,
      "outputs": [
        {
          "output_type": "stream",
          "name": "stdout",
          "text": [
            "File already exists and is up-to-date: gpt2/124M/checkpoint\n",
            "File already exists and is up-to-date: gpt2/124M/encoder.json\n",
            "File already exists and is up-to-date: gpt2/124M/hparams.json\n",
            "File already exists and is up-to-date: gpt2/124M/model.ckpt.data-00000-of-00001\n",
            "File already exists and is up-to-date: gpt2/124M/model.ckpt.index\n",
            "File already exists and is up-to-date: gpt2/124M/model.ckpt.meta\n",
            "File already exists and is up-to-date: gpt2/124M/vocab.bpe\n"
          ]
        },
        {
          "output_type": "execute_result",
          "data": {
            "text/plain": [
              "GPTModel(\n",
              "  (tok_emb): Embedding(50257, 768)\n",
              "  (pos_emb): Embedding(1024, 768)\n",
              "  (drop_emb): Dropout(p=0.0, inplace=False)\n",
              "  (trf_blocks): Sequential(\n",
              "    (0): TransformerBlock(\n",
              "      (att): MultiHeadAttention(\n",
              "        (W_query): Linear(in_features=768, out_features=768, bias=True)\n",
              "        (W_key): Linear(in_features=768, out_features=768, bias=True)\n",
              "        (W_value): Linear(in_features=768, out_features=768, bias=True)\n",
              "        (out_proj): Linear(in_features=768, out_features=768, bias=True)\n",
              "        (dropout): Dropout(p=0.0, inplace=False)\n",
              "      )\n",
              "      (ff): FeedForward(\n",
              "        (layers): Sequential(\n",
              "          (0): Linear(in_features=768, out_features=3072, bias=True)\n",
              "          (1): GELU()\n",
              "          (2): Linear(in_features=3072, out_features=768, bias=True)\n",
              "        )\n",
              "      )\n",
              "      (norm1): LayerNorm()\n",
              "      (norm2): LayerNorm()\n",
              "      (drop_shortcut): Dropout(p=0.0, inplace=False)\n",
              "    )\n",
              "    (1): TransformerBlock(\n",
              "      (att): MultiHeadAttention(\n",
              "        (W_query): Linear(in_features=768, out_features=768, bias=True)\n",
              "        (W_key): Linear(in_features=768, out_features=768, bias=True)\n",
              "        (W_value): Linear(in_features=768, out_features=768, bias=True)\n",
              "        (out_proj): Linear(in_features=768, out_features=768, bias=True)\n",
              "        (dropout): Dropout(p=0.0, inplace=False)\n",
              "      )\n",
              "      (ff): FeedForward(\n",
              "        (layers): Sequential(\n",
              "          (0): Linear(in_features=768, out_features=3072, bias=True)\n",
              "          (1): GELU()\n",
              "          (2): Linear(in_features=3072, out_features=768, bias=True)\n",
              "        )\n",
              "      )\n",
              "      (norm1): LayerNorm()\n",
              "      (norm2): LayerNorm()\n",
              "      (drop_shortcut): Dropout(p=0.0, inplace=False)\n",
              "    )\n",
              "    (2): TransformerBlock(\n",
              "      (att): MultiHeadAttention(\n",
              "        (W_query): Linear(in_features=768, out_features=768, bias=True)\n",
              "        (W_key): Linear(in_features=768, out_features=768, bias=True)\n",
              "        (W_value): Linear(in_features=768, out_features=768, bias=True)\n",
              "        (out_proj): Linear(in_features=768, out_features=768, bias=True)\n",
              "        (dropout): Dropout(p=0.0, inplace=False)\n",
              "      )\n",
              "      (ff): FeedForward(\n",
              "        (layers): Sequential(\n",
              "          (0): Linear(in_features=768, out_features=3072, bias=True)\n",
              "          (1): GELU()\n",
              "          (2): Linear(in_features=3072, out_features=768, bias=True)\n",
              "        )\n",
              "      )\n",
              "      (norm1): LayerNorm()\n",
              "      (norm2): LayerNorm()\n",
              "      (drop_shortcut): Dropout(p=0.0, inplace=False)\n",
              "    )\n",
              "    (3): TransformerBlock(\n",
              "      (att): MultiHeadAttention(\n",
              "        (W_query): Linear(in_features=768, out_features=768, bias=True)\n",
              "        (W_key): Linear(in_features=768, out_features=768, bias=True)\n",
              "        (W_value): Linear(in_features=768, out_features=768, bias=True)\n",
              "        (out_proj): Linear(in_features=768, out_features=768, bias=True)\n",
              "        (dropout): Dropout(p=0.0, inplace=False)\n",
              "      )\n",
              "      (ff): FeedForward(\n",
              "        (layers): Sequential(\n",
              "          (0): Linear(in_features=768, out_features=3072, bias=True)\n",
              "          (1): GELU()\n",
              "          (2): Linear(in_features=3072, out_features=768, bias=True)\n",
              "        )\n",
              "      )\n",
              "      (norm1): LayerNorm()\n",
              "      (norm2): LayerNorm()\n",
              "      (drop_shortcut): Dropout(p=0.0, inplace=False)\n",
              "    )\n",
              "    (4): TransformerBlock(\n",
              "      (att): MultiHeadAttention(\n",
              "        (W_query): Linear(in_features=768, out_features=768, bias=True)\n",
              "        (W_key): Linear(in_features=768, out_features=768, bias=True)\n",
              "        (W_value): Linear(in_features=768, out_features=768, bias=True)\n",
              "        (out_proj): Linear(in_features=768, out_features=768, bias=True)\n",
              "        (dropout): Dropout(p=0.0, inplace=False)\n",
              "      )\n",
              "      (ff): FeedForward(\n",
              "        (layers): Sequential(\n",
              "          (0): Linear(in_features=768, out_features=3072, bias=True)\n",
              "          (1): GELU()\n",
              "          (2): Linear(in_features=3072, out_features=768, bias=True)\n",
              "        )\n",
              "      )\n",
              "      (norm1): LayerNorm()\n",
              "      (norm2): LayerNorm()\n",
              "      (drop_shortcut): Dropout(p=0.0, inplace=False)\n",
              "    )\n",
              "    (5): TransformerBlock(\n",
              "      (att): MultiHeadAttention(\n",
              "        (W_query): Linear(in_features=768, out_features=768, bias=True)\n",
              "        (W_key): Linear(in_features=768, out_features=768, bias=True)\n",
              "        (W_value): Linear(in_features=768, out_features=768, bias=True)\n",
              "        (out_proj): Linear(in_features=768, out_features=768, bias=True)\n",
              "        (dropout): Dropout(p=0.0, inplace=False)\n",
              "      )\n",
              "      (ff): FeedForward(\n",
              "        (layers): Sequential(\n",
              "          (0): Linear(in_features=768, out_features=3072, bias=True)\n",
              "          (1): GELU()\n",
              "          (2): Linear(in_features=3072, out_features=768, bias=True)\n",
              "        )\n",
              "      )\n",
              "      (norm1): LayerNorm()\n",
              "      (norm2): LayerNorm()\n",
              "      (drop_shortcut): Dropout(p=0.0, inplace=False)\n",
              "    )\n",
              "    (6): TransformerBlock(\n",
              "      (att): MultiHeadAttention(\n",
              "        (W_query): Linear(in_features=768, out_features=768, bias=True)\n",
              "        (W_key): Linear(in_features=768, out_features=768, bias=True)\n",
              "        (W_value): Linear(in_features=768, out_features=768, bias=True)\n",
              "        (out_proj): Linear(in_features=768, out_features=768, bias=True)\n",
              "        (dropout): Dropout(p=0.0, inplace=False)\n",
              "      )\n",
              "      (ff): FeedForward(\n",
              "        (layers): Sequential(\n",
              "          (0): Linear(in_features=768, out_features=3072, bias=True)\n",
              "          (1): GELU()\n",
              "          (2): Linear(in_features=3072, out_features=768, bias=True)\n",
              "        )\n",
              "      )\n",
              "      (norm1): LayerNorm()\n",
              "      (norm2): LayerNorm()\n",
              "      (drop_shortcut): Dropout(p=0.0, inplace=False)\n",
              "    )\n",
              "    (7): TransformerBlock(\n",
              "      (att): MultiHeadAttention(\n",
              "        (W_query): Linear(in_features=768, out_features=768, bias=True)\n",
              "        (W_key): Linear(in_features=768, out_features=768, bias=True)\n",
              "        (W_value): Linear(in_features=768, out_features=768, bias=True)\n",
              "        (out_proj): Linear(in_features=768, out_features=768, bias=True)\n",
              "        (dropout): Dropout(p=0.0, inplace=False)\n",
              "      )\n",
              "      (ff): FeedForward(\n",
              "        (layers): Sequential(\n",
              "          (0): Linear(in_features=768, out_features=3072, bias=True)\n",
              "          (1): GELU()\n",
              "          (2): Linear(in_features=3072, out_features=768, bias=True)\n",
              "        )\n",
              "      )\n",
              "      (norm1): LayerNorm()\n",
              "      (norm2): LayerNorm()\n",
              "      (drop_shortcut): Dropout(p=0.0, inplace=False)\n",
              "    )\n",
              "    (8): TransformerBlock(\n",
              "      (att): MultiHeadAttention(\n",
              "        (W_query): Linear(in_features=768, out_features=768, bias=True)\n",
              "        (W_key): Linear(in_features=768, out_features=768, bias=True)\n",
              "        (W_value): Linear(in_features=768, out_features=768, bias=True)\n",
              "        (out_proj): Linear(in_features=768, out_features=768, bias=True)\n",
              "        (dropout): Dropout(p=0.0, inplace=False)\n",
              "      )\n",
              "      (ff): FeedForward(\n",
              "        (layers): Sequential(\n",
              "          (0): Linear(in_features=768, out_features=3072, bias=True)\n",
              "          (1): GELU()\n",
              "          (2): Linear(in_features=3072, out_features=768, bias=True)\n",
              "        )\n",
              "      )\n",
              "      (norm1): LayerNorm()\n",
              "      (norm2): LayerNorm()\n",
              "      (drop_shortcut): Dropout(p=0.0, inplace=False)\n",
              "    )\n",
              "    (9): TransformerBlock(\n",
              "      (att): MultiHeadAttention(\n",
              "        (W_query): Linear(in_features=768, out_features=768, bias=True)\n",
              "        (W_key): Linear(in_features=768, out_features=768, bias=True)\n",
              "        (W_value): Linear(in_features=768, out_features=768, bias=True)\n",
              "        (out_proj): Linear(in_features=768, out_features=768, bias=True)\n",
              "        (dropout): Dropout(p=0.0, inplace=False)\n",
              "      )\n",
              "      (ff): FeedForward(\n",
              "        (layers): Sequential(\n",
              "          (0): Linear(in_features=768, out_features=3072, bias=True)\n",
              "          (1): GELU()\n",
              "          (2): Linear(in_features=3072, out_features=768, bias=True)\n",
              "        )\n",
              "      )\n",
              "      (norm1): LayerNorm()\n",
              "      (norm2): LayerNorm()\n",
              "      (drop_shortcut): Dropout(p=0.0, inplace=False)\n",
              "    )\n",
              "    (10): TransformerBlock(\n",
              "      (att): MultiHeadAttention(\n",
              "        (W_query): Linear(in_features=768, out_features=768, bias=True)\n",
              "        (W_key): Linear(in_features=768, out_features=768, bias=True)\n",
              "        (W_value): Linear(in_features=768, out_features=768, bias=True)\n",
              "        (out_proj): Linear(in_features=768, out_features=768, bias=True)\n",
              "        (dropout): Dropout(p=0.0, inplace=False)\n",
              "      )\n",
              "      (ff): FeedForward(\n",
              "        (layers): Sequential(\n",
              "          (0): Linear(in_features=768, out_features=3072, bias=True)\n",
              "          (1): GELU()\n",
              "          (2): Linear(in_features=3072, out_features=768, bias=True)\n",
              "        )\n",
              "      )\n",
              "      (norm1): LayerNorm()\n",
              "      (norm2): LayerNorm()\n",
              "      (drop_shortcut): Dropout(p=0.0, inplace=False)\n",
              "    )\n",
              "    (11): TransformerBlock(\n",
              "      (att): MultiHeadAttention(\n",
              "        (W_query): Linear(in_features=768, out_features=768, bias=True)\n",
              "        (W_key): Linear(in_features=768, out_features=768, bias=True)\n",
              "        (W_value): Linear(in_features=768, out_features=768, bias=True)\n",
              "        (out_proj): Linear(in_features=768, out_features=768, bias=True)\n",
              "        (dropout): Dropout(p=0.0, inplace=False)\n",
              "      )\n",
              "      (ff): FeedForward(\n",
              "        (layers): Sequential(\n",
              "          (0): Linear(in_features=768, out_features=3072, bias=True)\n",
              "          (1): GELU()\n",
              "          (2): Linear(in_features=3072, out_features=768, bias=True)\n",
              "        )\n",
              "      )\n",
              "      (norm1): LayerNorm()\n",
              "      (norm2): LayerNorm()\n",
              "      (drop_shortcut): Dropout(p=0.0, inplace=False)\n",
              "    )\n",
              "  )\n",
              "  (final_norm): LayerNorm()\n",
              "  (out_head): Linear(in_features=768, out_features=50257, bias=False)\n",
              ")"
            ]
          },
          "metadata": {},
          "execution_count": 199
        }
      ]
    },
    {
      "cell_type": "code",
      "source": [
        "# 从自定义模块导入函数\n",
        "# from chapter04 import generate_text_simple\n",
        "# from chapter05 import text_to_token_ids, token_ids_to_text\n",
        "\n",
        "# 输入文本\n",
        "text_1 = \"Every effort moves you\"\n",
        "\n",
        "# 生成文本\n",
        "token_ids = generate_text_simple(\n",
        "    model=model,  # 使用的模型\n",
        "    idx=text_to_token_ids(text_1, tokenizer),  # 输入文本的 token ID\n",
        "    max_new_tokens=15,  # 生成的最大新 token 数\n",
        "    context_size=BASE_CONFIG[\"context_length\"]  # 上下文长度\n",
        ")\n",
        "\n",
        "# 将生成的 token ID 解码为文本并打印\n",
        "print(token_ids_to_text(token_ids, tokenizer))"
      ],
      "metadata": {
        "id": "a-w4Xtq0N4i1",
        "colab": {
          "base_uri": "https://localhost:8080/"
        },
        "outputId": "0deaa6f1-b008-4f8d-8686-cbd84560e905"
      },
      "execution_count": 200,
      "outputs": [
        {
          "output_type": "stream",
          "name": "stdout",
          "text": [
            "Every effort moves you forward.\n",
            "\n",
            "The first step is to understand the importance of your work\n"
          ]
        }
      ]
    },
    {
      "cell_type": "code",
      "source": [
        "# 输入文本\n",
        "text_2 = (\n",
        "    \"Is the following text 'spam'? Answer with 'yes' or 'no':\\n\"\n",
        "    \"You are a winner you have been specially selected to receive $1000 cash or a $2000 award.\"\n",
        ")\n",
        "\n",
        "# 生成文本\n",
        "token_ids = generate_text_simple(\n",
        "    model=model,  # 使用的模型\n",
        "    idx=text_to_token_ids(text_2, tokenizer),  # 输入文本的 token ID\n",
        "    max_new_tokens=23,  # 生成的最大新 token 数\n",
        "    context_size=BASE_CONFIG[\"context_length\"]  # 上下文长度\n",
        ")\n",
        "\n",
        "# 将生成的 token ID 解码为文本并打印\n",
        "print(token_ids_to_text(token_ids, tokenizer))"
      ],
      "metadata": {
        "id": "fg6eA-P1ZgPb",
        "colab": {
          "base_uri": "https://localhost:8080/"
        },
        "outputId": "42713d9f-c379-4c3b-b849-2e5de4fd891a"
      },
      "execution_count": 201,
      "outputs": [
        {
          "output_type": "stream",
          "name": "stdout",
          "text": [
            "Is the following text 'spam'? Answer with 'yes' or 'no':\n",
            "You are a winner you have been specially selected to receive $1000 cash or a $2000 award.\n",
            "\n",
            "You have been specially selected to receive $1000 cash or a $2000 award. You have been specially selected\n"
          ]
        }
      ]
    },
    {
      "cell_type": "markdown",
      "source": [
        "## 6.5 Adding a classification head"
      ],
      "metadata": {
        "id": "hru2311ofnjN"
      }
    },
    {
      "cell_type": "code",
      "source": [
        "print(model)"
      ],
      "metadata": {
        "colab": {
          "base_uri": "https://localhost:8080/"
        },
        "id": "FzGufsZ4cnvS",
        "outputId": "a364aef1-e60d-40e9-9167-dcfe9f60b1b1"
      },
      "execution_count": 202,
      "outputs": [
        {
          "output_type": "stream",
          "name": "stdout",
          "text": [
            "GPTModel(\n",
            "  (tok_emb): Embedding(50257, 768)\n",
            "  (pos_emb): Embedding(1024, 768)\n",
            "  (drop_emb): Dropout(p=0.0, inplace=False)\n",
            "  (trf_blocks): Sequential(\n",
            "    (0): TransformerBlock(\n",
            "      (att): MultiHeadAttention(\n",
            "        (W_query): Linear(in_features=768, out_features=768, bias=True)\n",
            "        (W_key): Linear(in_features=768, out_features=768, bias=True)\n",
            "        (W_value): Linear(in_features=768, out_features=768, bias=True)\n",
            "        (out_proj): Linear(in_features=768, out_features=768, bias=True)\n",
            "        (dropout): Dropout(p=0.0, inplace=False)\n",
            "      )\n",
            "      (ff): FeedForward(\n",
            "        (layers): Sequential(\n",
            "          (0): Linear(in_features=768, out_features=3072, bias=True)\n",
            "          (1): GELU()\n",
            "          (2): Linear(in_features=3072, out_features=768, bias=True)\n",
            "        )\n",
            "      )\n",
            "      (norm1): LayerNorm()\n",
            "      (norm2): LayerNorm()\n",
            "      (drop_shortcut): Dropout(p=0.0, inplace=False)\n",
            "    )\n",
            "    (1): TransformerBlock(\n",
            "      (att): MultiHeadAttention(\n",
            "        (W_query): Linear(in_features=768, out_features=768, bias=True)\n",
            "        (W_key): Linear(in_features=768, out_features=768, bias=True)\n",
            "        (W_value): Linear(in_features=768, out_features=768, bias=True)\n",
            "        (out_proj): Linear(in_features=768, out_features=768, bias=True)\n",
            "        (dropout): Dropout(p=0.0, inplace=False)\n",
            "      )\n",
            "      (ff): FeedForward(\n",
            "        (layers): Sequential(\n",
            "          (0): Linear(in_features=768, out_features=3072, bias=True)\n",
            "          (1): GELU()\n",
            "          (2): Linear(in_features=3072, out_features=768, bias=True)\n",
            "        )\n",
            "      )\n",
            "      (norm1): LayerNorm()\n",
            "      (norm2): LayerNorm()\n",
            "      (drop_shortcut): Dropout(p=0.0, inplace=False)\n",
            "    )\n",
            "    (2): TransformerBlock(\n",
            "      (att): MultiHeadAttention(\n",
            "        (W_query): Linear(in_features=768, out_features=768, bias=True)\n",
            "        (W_key): Linear(in_features=768, out_features=768, bias=True)\n",
            "        (W_value): Linear(in_features=768, out_features=768, bias=True)\n",
            "        (out_proj): Linear(in_features=768, out_features=768, bias=True)\n",
            "        (dropout): Dropout(p=0.0, inplace=False)\n",
            "      )\n",
            "      (ff): FeedForward(\n",
            "        (layers): Sequential(\n",
            "          (0): Linear(in_features=768, out_features=3072, bias=True)\n",
            "          (1): GELU()\n",
            "          (2): Linear(in_features=3072, out_features=768, bias=True)\n",
            "        )\n",
            "      )\n",
            "      (norm1): LayerNorm()\n",
            "      (norm2): LayerNorm()\n",
            "      (drop_shortcut): Dropout(p=0.0, inplace=False)\n",
            "    )\n",
            "    (3): TransformerBlock(\n",
            "      (att): MultiHeadAttention(\n",
            "        (W_query): Linear(in_features=768, out_features=768, bias=True)\n",
            "        (W_key): Linear(in_features=768, out_features=768, bias=True)\n",
            "        (W_value): Linear(in_features=768, out_features=768, bias=True)\n",
            "        (out_proj): Linear(in_features=768, out_features=768, bias=True)\n",
            "        (dropout): Dropout(p=0.0, inplace=False)\n",
            "      )\n",
            "      (ff): FeedForward(\n",
            "        (layers): Sequential(\n",
            "          (0): Linear(in_features=768, out_features=3072, bias=True)\n",
            "          (1): GELU()\n",
            "          (2): Linear(in_features=3072, out_features=768, bias=True)\n",
            "        )\n",
            "      )\n",
            "      (norm1): LayerNorm()\n",
            "      (norm2): LayerNorm()\n",
            "      (drop_shortcut): Dropout(p=0.0, inplace=False)\n",
            "    )\n",
            "    (4): TransformerBlock(\n",
            "      (att): MultiHeadAttention(\n",
            "        (W_query): Linear(in_features=768, out_features=768, bias=True)\n",
            "        (W_key): Linear(in_features=768, out_features=768, bias=True)\n",
            "        (W_value): Linear(in_features=768, out_features=768, bias=True)\n",
            "        (out_proj): Linear(in_features=768, out_features=768, bias=True)\n",
            "        (dropout): Dropout(p=0.0, inplace=False)\n",
            "      )\n",
            "      (ff): FeedForward(\n",
            "        (layers): Sequential(\n",
            "          (0): Linear(in_features=768, out_features=3072, bias=True)\n",
            "          (1): GELU()\n",
            "          (2): Linear(in_features=3072, out_features=768, bias=True)\n",
            "        )\n",
            "      )\n",
            "      (norm1): LayerNorm()\n",
            "      (norm2): LayerNorm()\n",
            "      (drop_shortcut): Dropout(p=0.0, inplace=False)\n",
            "    )\n",
            "    (5): TransformerBlock(\n",
            "      (att): MultiHeadAttention(\n",
            "        (W_query): Linear(in_features=768, out_features=768, bias=True)\n",
            "        (W_key): Linear(in_features=768, out_features=768, bias=True)\n",
            "        (W_value): Linear(in_features=768, out_features=768, bias=True)\n",
            "        (out_proj): Linear(in_features=768, out_features=768, bias=True)\n",
            "        (dropout): Dropout(p=0.0, inplace=False)\n",
            "      )\n",
            "      (ff): FeedForward(\n",
            "        (layers): Sequential(\n",
            "          (0): Linear(in_features=768, out_features=3072, bias=True)\n",
            "          (1): GELU()\n",
            "          (2): Linear(in_features=3072, out_features=768, bias=True)\n",
            "        )\n",
            "      )\n",
            "      (norm1): LayerNorm()\n",
            "      (norm2): LayerNorm()\n",
            "      (drop_shortcut): Dropout(p=0.0, inplace=False)\n",
            "    )\n",
            "    (6): TransformerBlock(\n",
            "      (att): MultiHeadAttention(\n",
            "        (W_query): Linear(in_features=768, out_features=768, bias=True)\n",
            "        (W_key): Linear(in_features=768, out_features=768, bias=True)\n",
            "        (W_value): Linear(in_features=768, out_features=768, bias=True)\n",
            "        (out_proj): Linear(in_features=768, out_features=768, bias=True)\n",
            "        (dropout): Dropout(p=0.0, inplace=False)\n",
            "      )\n",
            "      (ff): FeedForward(\n",
            "        (layers): Sequential(\n",
            "          (0): Linear(in_features=768, out_features=3072, bias=True)\n",
            "          (1): GELU()\n",
            "          (2): Linear(in_features=3072, out_features=768, bias=True)\n",
            "        )\n",
            "      )\n",
            "      (norm1): LayerNorm()\n",
            "      (norm2): LayerNorm()\n",
            "      (drop_shortcut): Dropout(p=0.0, inplace=False)\n",
            "    )\n",
            "    (7): TransformerBlock(\n",
            "      (att): MultiHeadAttention(\n",
            "        (W_query): Linear(in_features=768, out_features=768, bias=True)\n",
            "        (W_key): Linear(in_features=768, out_features=768, bias=True)\n",
            "        (W_value): Linear(in_features=768, out_features=768, bias=True)\n",
            "        (out_proj): Linear(in_features=768, out_features=768, bias=True)\n",
            "        (dropout): Dropout(p=0.0, inplace=False)\n",
            "      )\n",
            "      (ff): FeedForward(\n",
            "        (layers): Sequential(\n",
            "          (0): Linear(in_features=768, out_features=3072, bias=True)\n",
            "          (1): GELU()\n",
            "          (2): Linear(in_features=3072, out_features=768, bias=True)\n",
            "        )\n",
            "      )\n",
            "      (norm1): LayerNorm()\n",
            "      (norm2): LayerNorm()\n",
            "      (drop_shortcut): Dropout(p=0.0, inplace=False)\n",
            "    )\n",
            "    (8): TransformerBlock(\n",
            "      (att): MultiHeadAttention(\n",
            "        (W_query): Linear(in_features=768, out_features=768, bias=True)\n",
            "        (W_key): Linear(in_features=768, out_features=768, bias=True)\n",
            "        (W_value): Linear(in_features=768, out_features=768, bias=True)\n",
            "        (out_proj): Linear(in_features=768, out_features=768, bias=True)\n",
            "        (dropout): Dropout(p=0.0, inplace=False)\n",
            "      )\n",
            "      (ff): FeedForward(\n",
            "        (layers): Sequential(\n",
            "          (0): Linear(in_features=768, out_features=3072, bias=True)\n",
            "          (1): GELU()\n",
            "          (2): Linear(in_features=3072, out_features=768, bias=True)\n",
            "        )\n",
            "      )\n",
            "      (norm1): LayerNorm()\n",
            "      (norm2): LayerNorm()\n",
            "      (drop_shortcut): Dropout(p=0.0, inplace=False)\n",
            "    )\n",
            "    (9): TransformerBlock(\n",
            "      (att): MultiHeadAttention(\n",
            "        (W_query): Linear(in_features=768, out_features=768, bias=True)\n",
            "        (W_key): Linear(in_features=768, out_features=768, bias=True)\n",
            "        (W_value): Linear(in_features=768, out_features=768, bias=True)\n",
            "        (out_proj): Linear(in_features=768, out_features=768, bias=True)\n",
            "        (dropout): Dropout(p=0.0, inplace=False)\n",
            "      )\n",
            "      (ff): FeedForward(\n",
            "        (layers): Sequential(\n",
            "          (0): Linear(in_features=768, out_features=3072, bias=True)\n",
            "          (1): GELU()\n",
            "          (2): Linear(in_features=3072, out_features=768, bias=True)\n",
            "        )\n",
            "      )\n",
            "      (norm1): LayerNorm()\n",
            "      (norm2): LayerNorm()\n",
            "      (drop_shortcut): Dropout(p=0.0, inplace=False)\n",
            "    )\n",
            "    (10): TransformerBlock(\n",
            "      (att): MultiHeadAttention(\n",
            "        (W_query): Linear(in_features=768, out_features=768, bias=True)\n",
            "        (W_key): Linear(in_features=768, out_features=768, bias=True)\n",
            "        (W_value): Linear(in_features=768, out_features=768, bias=True)\n",
            "        (out_proj): Linear(in_features=768, out_features=768, bias=True)\n",
            "        (dropout): Dropout(p=0.0, inplace=False)\n",
            "      )\n",
            "      (ff): FeedForward(\n",
            "        (layers): Sequential(\n",
            "          (0): Linear(in_features=768, out_features=3072, bias=True)\n",
            "          (1): GELU()\n",
            "          (2): Linear(in_features=3072, out_features=768, bias=True)\n",
            "        )\n",
            "      )\n",
            "      (norm1): LayerNorm()\n",
            "      (norm2): LayerNorm()\n",
            "      (drop_shortcut): Dropout(p=0.0, inplace=False)\n",
            "    )\n",
            "    (11): TransformerBlock(\n",
            "      (att): MultiHeadAttention(\n",
            "        (W_query): Linear(in_features=768, out_features=768, bias=True)\n",
            "        (W_key): Linear(in_features=768, out_features=768, bias=True)\n",
            "        (W_value): Linear(in_features=768, out_features=768, bias=True)\n",
            "        (out_proj): Linear(in_features=768, out_features=768, bias=True)\n",
            "        (dropout): Dropout(p=0.0, inplace=False)\n",
            "      )\n",
            "      (ff): FeedForward(\n",
            "        (layers): Sequential(\n",
            "          (0): Linear(in_features=768, out_features=3072, bias=True)\n",
            "          (1): GELU()\n",
            "          (2): Linear(in_features=3072, out_features=768, bias=True)\n",
            "        )\n",
            "      )\n",
            "      (norm1): LayerNorm()\n",
            "      (norm2): LayerNorm()\n",
            "      (drop_shortcut): Dropout(p=0.0, inplace=False)\n",
            "    )\n",
            "  )\n",
            "  (final_norm): LayerNorm()\n",
            "  (out_head): Linear(in_features=768, out_features=50257, bias=False)\n",
            ")\n"
          ]
        }
      ]
    },
    {
      "cell_type": "code",
      "source": [
        "# 冻结模型的所有参数\n",
        "for param in model.parameters():\n",
        "    param.requires_grad = False"
      ],
      "metadata": {
        "id": "OnitUl0Fft3F"
      },
      "execution_count": 203,
      "outputs": []
    },
    {
      "cell_type": "code",
      "source": [
        "# 设置随机种子\n",
        "torch.manual_seed(123)\n",
        "\n",
        "# 分类类别数量\n",
        "num_classes = 2\n",
        "\n",
        "# 添加输出层\n",
        "model.out_head = torch.nn.Linear(\n",
        "    in_features=BASE_CONFIG[\"emb_dim\"],  # 输入特征维度（嵌入维度）\n",
        "    out_features=num_classes  # 输出特征维度（类别数量）\n",
        ")"
      ],
      "metadata": {
        "id": "T4Z433vCiTsY"
      },
      "execution_count": 204,
      "outputs": []
    },
    {
      "cell_type": "code",
      "source": [
        "# 解冻最后一个 Transformer 块的参数\n",
        "for param in model.trf_blocks[-1].parameters():\n",
        "    param.requires_grad = True\n",
        "\n",
        "# 解冻最终归一化层的参数\n",
        "for param in model.final_norm.parameters():\n",
        "    param.requires_grad = True"
      ],
      "metadata": {
        "id": "0yBScm7mlQ-d"
      },
      "execution_count": 205,
      "outputs": []
    },
    {
      "cell_type": "code",
      "source": [
        "# 编码输入文本\n",
        "inputs = tokenizer.encode(\"Do you have time\")\n",
        "\n",
        "# 转换为 PyTorch 张量，并添加批次维度\n",
        "inputs = torch.tensor(inputs).unsqueeze(0)\n",
        "\n",
        "# 打印输入的形状\n",
        "print(\"Inputs:\", inputs)\n",
        "print(\"Inputs dimensions:\", inputs.shape)"
      ],
      "metadata": {
        "id": "vDe1lDhVn-8m",
        "colab": {
          "base_uri": "https://localhost:8080/"
        },
        "outputId": "af4c75a0-6d37-4fa7-cc67-ae2ec1341e46"
      },
      "execution_count": 206,
      "outputs": [
        {
          "output_type": "stream",
          "name": "stdout",
          "text": [
            "Inputs: tensor([[5211,  345,  423,  640]])\n",
            "Inputs dimensions: torch.Size([1, 4])\n"
          ]
        }
      ]
    },
    {
      "cell_type": "code",
      "source": [
        "# 在不计算梯度的上下文中进行推理\n",
        "with torch.no_grad():\n",
        "    outputs = model(inputs)  # 使用模型进行推理\n",
        "\n",
        "# 打印输出结果和维度\n",
        "print(\"Outputs:\", outputs)\n",
        "print(\"Outputs dimensions:\", outputs.shape)"
      ],
      "metadata": {
        "id": "W4C-4K4ioEX7",
        "colab": {
          "base_uri": "https://localhost:8080/"
        },
        "outputId": "a9409d6a-83da-4a5b-b81d-86b5461ee4dc"
      },
      "execution_count": 207,
      "outputs": [
        {
          "output_type": "stream",
          "name": "stdout",
          "text": [
            "Outputs: tensor([[[-1.5854,  0.9904],\n",
            "         [-3.7235,  7.4548],\n",
            "         [-2.2661,  6.6049],\n",
            "         [-3.5983,  3.9902]]])\n",
            "Outputs dimensions: torch.Size([1, 4, 2])\n"
          ]
        }
      ]
    },
    {
      "cell_type": "code",
      "source": [
        "print(\"Last output token:\", outputs[:, -1, :])"
      ],
      "metadata": {
        "id": "KUU5goVRoMoE",
        "colab": {
          "base_uri": "https://localhost:8080/"
        },
        "outputId": "76b67524-c6e9-4933-9591-936302a66c2d"
      },
      "execution_count": 208,
      "outputs": [
        {
          "output_type": "stream",
          "name": "stdout",
          "text": [
            "Last output token: tensor([[-3.5983,  3.9902]])\n"
          ]
        }
      ]
    },
    {
      "cell_type": "markdown",
      "source": [
        "##  6.6 Calculating the classification loss and accuracy"
      ],
      "metadata": {
        "id": "zAiHnCawoRT9"
      }
    },
    {
      "cell_type": "code",
      "source": [
        "print(\"Last output token:\", outputs[:, -1, :])"
      ],
      "metadata": {
        "colab": {
          "base_uri": "https://localhost:8080/"
        },
        "id": "8RKQw6mgoQuJ",
        "outputId": "d24d769c-56ce-444a-ff82-6099d0f6cc31"
      },
      "execution_count": 209,
      "outputs": [
        {
          "output_type": "stream",
          "name": "stdout",
          "text": [
            "Last output token: tensor([[-3.5983,  3.9902]])\n"
          ]
        }
      ]
    },
    {
      "cell_type": "code",
      "source": [
        "# 提取最后一个时间步的输出，并应用 softmax 函数\n",
        "probas = torch.softmax(outputs[:, -1, :], dim=-1)\n",
        "\n",
        "# 预测类别标签\n",
        "label = torch.argmax(probas).item()\n",
        "\n",
        "# 打印类别标签\n",
        "print(\"Class label:\", label)"
      ],
      "metadata": {
        "id": "tD1QhrcErS3r",
        "colab": {
          "base_uri": "https://localhost:8080/"
        },
        "outputId": "2ee6703f-3211-41e6-b434-13b18ad4185a"
      },
      "execution_count": 210,
      "outputs": [
        {
          "output_type": "stream",
          "name": "stdout",
          "text": [
            "Class label: 1\n"
          ]
        }
      ]
    },
    {
      "cell_type": "code",
      "source": [
        "# 提取最后一个时间步的 logits\n",
        "logits = outputs[:, -1, :]\n",
        "\n",
        "# 预测类别标签\n",
        "label = torch.argmax(logits)\n",
        "\n",
        "# 打印类别标签\n",
        "print(\"Class label:\", label.item())"
      ],
      "metadata": {
        "id": "mGsrDlyfrZig",
        "colab": {
          "base_uri": "https://localhost:8080/"
        },
        "outputId": "dc2b0304-077e-499c-a21e-409a572e4d61"
      },
      "execution_count": 211,
      "outputs": [
        {
          "output_type": "stream",
          "name": "stdout",
          "text": [
            "Class label: 1\n"
          ]
        }
      ]
    },
    {
      "cell_type": "code",
      "source": [
        "def calc_accuracy_loader(data_loader, model, device, num_batches=None):\n",
        "    # 设置模型为评估模式\n",
        "    model.eval()\n",
        "    correct_predictions, num_examples = 0, 0\n",
        "\n",
        "    # 确定要处理的批次数量\n",
        "    if num_batches is None:\n",
        "        num_batches = len(data_loader)\n",
        "    else:\n",
        "        num_batches = min(num_batches, len(data_loader))\n",
        "\n",
        "    # 遍历数据加载器\n",
        "    for i, (input_batch, target_batch) in enumerate(data_loader):\n",
        "        if i < num_batches:\n",
        "            # 将输入和目标张量移动到指定设备\n",
        "            input_batch = input_batch.to(device)\n",
        "            target_batch = target_batch.to(device)\n",
        "\n",
        "            # 在不计算梯度的上下文中进行推理\n",
        "            with torch.no_grad():\n",
        "                # 获取模型输出\n",
        "                logits = model(input_batch)[:, -1, :]\n",
        "                # 预测类别标签\n",
        "                predicted_labels = torch.argmax(logits, dim=-1)\n",
        "\n",
        "            # 更新统计信息\n",
        "            num_examples += predicted_labels.shape[0]\n",
        "            correct_predictions += (predicted_labels == target_batch).sum().item()\n",
        "        else:\n",
        "            break\n",
        "\n",
        "    # 返回准确率\n",
        "    return correct_predictions / num_examples"
      ],
      "metadata": {
        "id": "Ds-Vqltyrd7L"
      },
      "execution_count": 212,
      "outputs": []
    },
    {
      "cell_type": "code",
      "source": [
        "# 确定设备（GPU 或 CPU）\n",
        "device = torch.device(\"cuda\" if torch.cuda.is_available() else \"cpu\")\n",
        "\n",
        "# 将模型移动到指定设备\n",
        "model.to(device)\n",
        "\n",
        "# 设置随机种子\n",
        "torch.manual_seed(123)\n",
        "\n",
        "# 计算训练集准确率\n",
        "train_accuracy = calc_accuracy_loader(\n",
        "    train_loader, model, device, num_batches=10\n",
        ")\n",
        "\n",
        "# 计算验证集准确率\n",
        "val_accuracy = calc_accuracy_loader(\n",
        "    val_loader, model, device, num_batches=10\n",
        ")\n",
        "\n",
        "# 计算测试集准确率\n",
        "test_accuracy = calc_accuracy_loader(\n",
        "    test_loader, model, device, num_batches=10\n",
        ")\n",
        "\n",
        "# 打印准确率\n",
        "print(f\"Training accuracy: {train_accuracy*100:.2f}%\")\n",
        "print(f\"Validation accuracy: {val_accuracy*100:.2f}%\")\n",
        "print(f\"Test accuracy: {test_accuracy*100:.2f}%\")"
      ],
      "metadata": {
        "id": "skh47G7grkr5",
        "colab": {
          "base_uri": "https://localhost:8080/"
        },
        "outputId": "e6b3c0b7-a9fe-4489-c5fc-0b7f26ee83ff"
      },
      "execution_count": 213,
      "outputs": [
        {
          "output_type": "stream",
          "name": "stdout",
          "text": [
            "Training accuracy: 46.25%\n",
            "Validation accuracy: 45.00%\n",
            "Test accuracy: 48.75%\n"
          ]
        }
      ]
    },
    {
      "cell_type": "code",
      "source": [
        "def calc_loss_batch(input_batch, target_batch, model, device):\n",
        "    # 将输入和目标张量移动到指定设备\n",
        "    input_batch = input_batch.to(device)\n",
        "    target_batch = target_batch.to(device)\n",
        "\n",
        "    # 获取模型输出\n",
        "    logits = model(input_batch)[:, -1, :]\n",
        "\n",
        "    # 计算交叉熵损失\n",
        "    loss = torch.nn.functional.cross_entropy(logits, target_batch)\n",
        "\n",
        "    # 返回损失\n",
        "    return loss"
      ],
      "metadata": {
        "id": "dqtaV5ICrqbi"
      },
      "execution_count": 214,
      "outputs": []
    },
    {
      "cell_type": "code",
      "source": [
        "def calc_loss_loader(data_loader, model, device, num_batches=None):\n",
        "    # 初始化总损失\n",
        "    total_loss = 0\n",
        "\n",
        "    # 处理空数据加载器\n",
        "    if len(data_loader) == 0:\n",
        "        return float(\"nan\")\n",
        "\n",
        "    # 确定要处理的批次数量\n",
        "    elif num_batches is None:\n",
        "        num_batches = len(data_loader)\n",
        "    else:\n",
        "        num_batches = min(num_batches, len(data_loader))\n",
        "\n",
        "    # 遍历数据加载器\n",
        "    for i, (input_batch, target_batch) in enumerate(data_loader):\n",
        "        if i < num_batches:\n",
        "            # 计算一个批次的损失\n",
        "            loss = calc_loss_batch(\n",
        "                input_batch, target_batch, model, device\n",
        "            )\n",
        "            # 累加损失\n",
        "            total_loss += loss.item()\n",
        "        else:\n",
        "            break\n",
        "\n",
        "    # 返回平均损失\n",
        "    return total_loss / num_batches"
      ],
      "metadata": {
        "id": "6206QxBWrxDl"
      },
      "execution_count": 215,
      "outputs": []
    },
    {
      "cell_type": "code",
      "source": [
        "# 在不计算梯度的上下文中计算损失\n",
        "with torch.no_grad():\n",
        "    # 计算训练集损失\n",
        "    train_loss = calc_loss_loader(\n",
        "        train_loader, model, device, num_batches=5\n",
        "    )\n",
        "\n",
        "    # 计算验证集损失\n",
        "    val_loss = calc_loss_loader(\n",
        "        val_loader, model, device, num_batches=5\n",
        "    )\n",
        "\n",
        "    # 计算测试集损失\n",
        "    test_loss = calc_loss_loader(\n",
        "        test_loader, model, device, num_batches=5\n",
        "    )\n",
        "\n",
        "# 打印损失\n",
        "print(f\"Training loss: {train_loss:.3f}\")\n",
        "print(f\"Validation loss: {val_loss:.3f}\")\n",
        "print(f\"Test loss: {test_loss:.3f}\")"
      ],
      "metadata": {
        "id": "eS1nFKo1r5ex",
        "colab": {
          "base_uri": "https://localhost:8080/"
        },
        "outputId": "9a7fb989-380b-47a9-db01-04cf69ab5e55"
      },
      "execution_count": 216,
      "outputs": [
        {
          "output_type": "stream",
          "name": "stdout",
          "text": [
            "Training loss: 2.453\n",
            "Validation loss: 2.583\n",
            "Test loss: 2.322\n"
          ]
        }
      ]
    },
    {
      "cell_type": "markdown",
      "source": [
        "##  6.7 Fine-tuning the model on supervised data"
      ],
      "metadata": {
        "id": "_ClAxqDRr_5x"
      }
    },
    {
      "cell_type": "code",
      "source": [
        "def train_classifier_simple(\n",
        "    model, train_loader, val_loader, optimizer, device,\n",
        "    num_epochs, eval_freq, eval_iter\n",
        "):\n",
        "    # 初始化统计信息列表\n",
        "    train_losses, val_losses, train_accs, val_accs = [], [], [], []\n",
        "    examples_seen, global_step = 0, -1\n",
        "\n",
        "    # 主训练循环\n",
        "    for epoch in range(num_epochs):\n",
        "        # 设置模型为训练模式\n",
        "        model.train()\n",
        "\n",
        "        # 遍历训练集\n",
        "        for input_batch, target_batch in train_loader:\n",
        "            # 重置梯度\n",
        "            optimizer.zero_grad()\n",
        "\n",
        "            # 计算损失\n",
        "            loss = calc_loss_batch(\n",
        "                input_batch, target_batch, model, device\n",
        "            )\n",
        "\n",
        "            # 反向传播\n",
        "            loss.backward()\n",
        "\n",
        "            # 更新参数\n",
        "            optimizer.step()\n",
        "\n",
        "            # 更新统计信息\n",
        "            examples_seen += input_batch.shape[0]\n",
        "            global_step += 1\n",
        "\n",
        "            # 评估模型\n",
        "            if global_step % eval_freq == 0:\n",
        "                # 计算训练集和验证集损失\n",
        "                train_loss, val_loss = evaluate_model(\n",
        "                    model, train_loader, val_loader, device, eval_iter\n",
        "                )\n",
        "\n",
        "                # 记录损失\n",
        "                train_losses.append(train_loss)\n",
        "                val_losses.append(val_loss)\n",
        "\n",
        "                # 打印损失\n",
        "                print(f\"Ep {epoch+1} (Step {global_step:06d}): \"\n",
        "                      f\"Train loss {train_loss:.3f}, \"\n",
        "                      f\"Val loss {val_loss:.3f}\")\n",
        "\n",
        "        # 计算准确率\n",
        "        train_accuracy = calc_accuracy_loader(\n",
        "            train_loader, model, device, num_batches=eval_iter\n",
        "        )\n",
        "        val_accuracy = calc_accuracy_loader(\n",
        "            val_loader, model, device, num_batches=eval_iter\n",
        "        )\n",
        "\n",
        "        # 打印准确率\n",
        "        print(f\"Training accuracy: {train_accuracy*100:.2f}% | \", end=\"\")\n",
        "        print(f\"Validation accuracy: {val_accuracy*100:.2f}%\")\n",
        "\n",
        "        # 记录准确率\n",
        "        train_accs.append(train_accuracy)\n",
        "        val_accs.append(val_accuracy)\n",
        "\n",
        "    # 返回统计信息\n",
        "    return train_losses, val_losses, train_accs, val_accs, examples_seen"
      ],
      "metadata": {
        "id": "YJ2asc1ur-7P"
      },
      "execution_count": 217,
      "outputs": []
    },
    {
      "cell_type": "code",
      "source": [
        "def evaluate_model(model, train_loader, val_loader, device, eval_iter):\n",
        "    # 设置模型为评估模式\n",
        "    model.eval()\n",
        "\n",
        "    # 在不计算梯度的上下文中进行评估\n",
        "    with torch.no_grad():\n",
        "        # 计算训练集损失\n",
        "        train_loss = calc_loss_loader(\n",
        "            train_loader, model, device, num_batches=eval_iter\n",
        "        )\n",
        "\n",
        "        # 计算验证集损失\n",
        "        val_loss = calc_loss_loader(\n",
        "            val_loader, model, device, num_batches=eval_iter\n",
        "        )\n",
        "\n",
        "    # 设置模型为训练模式\n",
        "    model.train()\n",
        "\n",
        "    # 返回损失\n",
        "    return train_loss, val_loss"
      ],
      "metadata": {
        "id": "-mliG3DAsJcr"
      },
      "execution_count": 218,
      "outputs": []
    },
    {
      "cell_type": "code",
      "source": [
        "import time\n",
        "\n",
        "# 记录开始时间\n",
        "start_time = time.time()\n",
        "\n",
        "# 设置随机种子\n",
        "torch.manual_seed(123)\n",
        "\n",
        "# 初始化优化器\n",
        "optimizer = torch.optim.AdamW(model.parameters(), lr=5e-5, weight_decay=0.1)\n",
        "\n",
        "# 训练轮数\n",
        "num_epochs = 5\n",
        "\n",
        "# 训练模型\n",
        "train_losses, val_losses, train_accs, val_accs, examples_seen = \\\n",
        "    train_classifier_simple(\n",
        "        model, train_loader, val_loader, optimizer, device,\n",
        "        num_epochs=num_epochs, eval_freq=50,\n",
        "        eval_iter=5\n",
        "    )\n",
        "\n",
        "# 记录结束时间\n",
        "end_time = time.time()\n",
        "\n",
        "# 计算训练时间（分钟）\n",
        "execution_time_minutes = (end_time - start_time) / 60\n",
        "\n",
        "# 打印训练时间\n",
        "print(f\"Training completed in {execution_time_minutes:.2f} minutes.\")"
      ],
      "metadata": {
        "id": "2ZtpfFzesRDU",
        "colab": {
          "base_uri": "https://localhost:8080/"
        },
        "outputId": "a6ef41e3-3185-4d34-eb6b-f3534f4dabf9"
      },
      "execution_count": 219,
      "outputs": [
        {
          "output_type": "stream",
          "name": "stdout",
          "text": [
            "Ep 1 (Step 000000): Train loss 2.153, Val loss 2.392\n",
            "Ep 1 (Step 000050): Train loss 0.617, Val loss 0.637\n",
            "Ep 1 (Step 000100): Train loss 0.523, Val loss 0.557\n",
            "Training accuracy: 70.00% | Validation accuracy: 72.50%\n",
            "Ep 2 (Step 000150): Train loss 0.561, Val loss 0.489\n",
            "Ep 2 (Step 000200): Train loss 0.419, Val loss 0.397\n",
            "Ep 2 (Step 000250): Train loss 0.409, Val loss 0.353\n",
            "Training accuracy: 82.50% | Validation accuracy: 85.00%\n",
            "Ep 3 (Step 000300): Train loss 0.333, Val loss 0.320\n",
            "Ep 3 (Step 000350): Train loss 0.340, Val loss 0.306\n",
            "Training accuracy: 90.00% | Validation accuracy: 90.00%\n",
            "Ep 4 (Step 000400): Train loss 0.136, Val loss 0.200\n",
            "Ep 4 (Step 000450): Train loss 0.153, Val loss 0.132\n",
            "Ep 4 (Step 000500): Train loss 0.222, Val loss 0.137\n",
            "Training accuracy: 100.00% | Validation accuracy: 97.50%\n",
            "Ep 5 (Step 000550): Train loss 0.207, Val loss 0.143\n",
            "Ep 5 (Step 000600): Train loss 0.083, Val loss 0.074\n",
            "Training accuracy: 100.00% | Validation accuracy: 97.50%\n",
            "Training completed in 39.91 minutes.\n"
          ]
        }
      ]
    },
    {
      "cell_type": "code",
      "source": [
        "# 导入绘图库\n",
        "import matplotlib.pyplot as plt\n",
        "import torch\n",
        "\n",
        "# 定义绘图函数\n",
        "def plot_values(\n",
        "    epochs_seen, examples_seen, train_values, val_values,\n",
        "    label=\"loss\"\n",
        "):\n",
        "    # 创建绘图窗口和子图\n",
        "    fig, ax1 = plt.subplots(figsize=(5, 3))\n",
        "\n",
        "    # 绘制训练和验证曲线\n",
        "    ax1.plot(epochs_seen, train_values, label=f\"Training {label}\")\n",
        "    ax1.plot(\n",
        "        epochs_seen, val_values, linestyle=\"--\",\n",
        "        label=f\"Validation {label}\"\n",
        "    )\n",
        "\n",
        "    # 设置坐标轴标签和图例\n",
        "    ax1.set_xlabel(\"Epochs\")\n",
        "    ax1.set_ylabel(label.capitalize())\n",
        "    ax1.legend()\n",
        "\n",
        "    # 创建第二个x轴\n",
        "    ax2 = ax1.twiny()\n",
        "    ax2.plot(examples_seen, train_values, alpha=0)\n",
        "    ax2.set_xlabel(\"Examples seen\")\n",
        "\n",
        "    # 调整布局并保存显示图表\n",
        "    fig.tight_layout()\n",
        "    plt.savefig(f\"{label}-plot.pdf\")\n",
        "    plt.show()\n",
        "\n",
        "# 生成数据并调用绘图函数\n",
        "# 假设 num_epochs 和 examples_seen 已定义，train_losses 和 val_losses 包含损失值数据\n",
        "epochs_tensor = torch.linspace(0, num_epochs, len(train_losses))\n",
        "examples_seen_tensor = torch.linspace(0, examples_seen, len(train_losses))\n",
        "plot_values(epochs_tensor, examples_seen_tensor, train_losses, val_losses)"
      ],
      "metadata": {
        "id": "O0HIFFDIsYcq",
        "outputId": "a661c723-3f5d-492f-f6b0-7f21538350fc",
        "colab": {
          "base_uri": "https://localhost:8080/",
          "height": 307
        }
      },
      "execution_count": 220,
      "outputs": [
        {
          "output_type": "display_data",
          "data": {
            "text/plain": [
              "<Figure size 500x300 with 2 Axes>"
            ],
            "image/png": "[encoded data removed]"
          },
          "metadata": {}
        }
      ]
    },
    {
      "cell_type": "code",
      "source": [
        "# 生成准确率的 epochs 和 examples seen 张量\n",
        "epochs_tensor = torch.linspace(0, num_epochs, len(train_accs))\n",
        "examples_seen_tensor = torch.linspace(0, examples_seen, len(train_accs))\n",
        "\n",
        "# 绘制准确率曲线\n",
        "plot_values(\n",
        "    epochs_tensor, examples_seen_tensor, train_accs, val_accs,\n",
        "    label=\"accuracy\"\n",
        ")"
      ],
      "metadata": {
        "id": "2rDYb-3gs5JE",
        "colab": {
          "base_uri": "https://localhost:8080/",
          "height": 307
        },
        "outputId": "3ba8d825-549b-4dc2-ac70-863923780fea"
      },
      "execution_count": 221,
      "outputs": [
        {
          "output_type": "display_data",
          "data": {
            "text/plain": [
              "<Figure size 500x300 with 2 Axes>"
            ],
            "image/png": "[encoded data removed]"
          },
          "metadata": {}
        }
      ]
    },
    {
      "cell_type": "code",
      "source": [
        "# 计算训练集准确率\n",
        "train_accuracy = calc_accuracy_loader(train_loader, model, device)\n",
        "\n",
        "# 计算验证集准确率\n",
        "val_accuracy = calc_accuracy_loader(val_loader, model, device)\n",
        "\n",
        "# 计算测试集准确率\n",
        "test_accuracy = calc_accuracy_loader(test_loader, model, device)\n",
        "\n",
        "# 打印准确率\n",
        "print(f\"Training accuracy: {train_accuracy*100:.2f}%\")\n",
        "print(f\"Validation accuracy: {val_accuracy*100:.2f}%\")\n",
        "print(f\"Test accuracy: {test_accuracy*100:.2f}%\")"
      ],
      "metadata": {
        "id": "sb_qeB2-tAIV",
        "colab": {
          "base_uri": "https://localhost:8080/"
        },
        "outputId": "eb81f1d0-d4b5-4fbd-955c-f421582dd7d0"
      },
      "execution_count": 222,
      "outputs": [
        {
          "output_type": "stream",
          "name": "stdout",
          "text": [
            "Training accuracy: 97.21%\n",
            "Validation accuracy: 97.32%\n",
            "Test accuracy: 95.67%\n"
          ]
        }
      ]
    },
    {
      "cell_type": "markdown",
      "source": [
        "## 6.8 Using the LLM as a spam classifier"
      ],
      "metadata": {
        "id": "zngBXtrutGfL"
      }
    },
    {
      "cell_type": "code",
      "source": [
        "def classify_review(\n",
        "    text, model, tokenizer, device, max_length=None,\n",
        "    pad_token_id=50256\n",
        "):\n",
        "    # 设置模型为评估模式\n",
        "    model.eval()\n",
        "\n",
        "    # 编码输入文本\n",
        "    input_ids = tokenizer.encode(text)\n",
        "\n",
        "    # 获取模型支持的上下文长度\n",
        "    supported_context_length = model.pos_emb.weight.shape[1]\n",
        "\n",
        "    # 截断输入序列（如果过长）\n",
        "    if max_length is not None:\n",
        "        input_ids = input_ids[:min(max_length, supported_context_length)]\n",
        "    else:\n",
        "        input_ids = input_ids[:supported_context_length]\n",
        "\n",
        "    # 填充输入序列\n",
        "    if max_length is not None:\n",
        "        input_ids += [pad_token_id] * (max_length - len(input_ids))\n",
        "\n",
        "    # 转换为张量并添加批次维度\n",
        "    input_tensor = torch.tensor(input_ids, device=device).unsqueeze(0)\n",
        "\n",
        "    # 在不计算梯度的上下文中进行推理\n",
        "    with torch.no_grad():\n",
        "        # 获取模型输出\n",
        "        logits = model(input_tensor)[:, -1, :]\n",
        "        # 预测类别标签\n",
        "        predicted_label = torch.argmax(logits, dim=-1).item()\n",
        "\n",
        "    # 返回分类结果\n",
        "    return \"spam\" if predicted_label == 1 else \"not spam\""
      ],
      "metadata": {
        "id": "kf3WSk81tGBF"
      },
      "execution_count": 223,
      "outputs": []
    },
    {
      "cell_type": "code",
      "source": [
        "# 定义输入文本\n",
        "text_1 = (\n",
        "    \"You are a winner you have been specially\"\n",
        "    \" selected to receive $1000 cash or a $2000 award.\"\n",
        ")\n",
        "\n",
        "# 对输入文本进行分类并打印结果\n",
        "print(classify_review(\n",
        "    text_1, model, tokenizer, device, max_length=train_dataset.max_length\n",
        "))"
      ],
      "metadata": {
        "id": "zbT1yY7FtQKZ",
        "colab": {
          "base_uri": "https://localhost:8080/"
        },
        "outputId": "3c017857-7dda-4d48-9c49-64e22b4a95ab"
      },
      "execution_count": 224,
      "outputs": [
        {
          "output_type": "stream",
          "name": "stdout",
          "text": [
            "spam\n"
          ]
        }
      ]
    },
    {
      "cell_type": "code",
      "source": [
        "# 定义输入文本\n",
        "text_2 = (\n",
        "    \"Hey, just wanted to check if we're still on\"\n",
        "    \" for dinner tonight? Let me know!\"\n",
        ")\n",
        "\n",
        "# 对输入文本进行分类并打印结果\n",
        "print(classify_review(\n",
        "    text_2, model, tokenizer, device, max_length=train_dataset.max_length\n",
        "))"
      ],
      "metadata": {
        "id": "_QAmLee5tVF9",
        "colab": {
          "base_uri": "https://localhost:8080/"
        },
        "outputId": "1d4094f4-91c3-485f-9714-5f1c31ab5a32"
      },
      "execution_count": 225,
      "outputs": [
        {
          "output_type": "stream",
          "name": "stdout",
          "text": [
            "not spam\n"
          ]
        }
      ]
    },
    {
      "cell_type": "code",
      "source": [
        "# 保存模型的状态字典\n",
        "torch.save(model.state_dict(), \"review_classifier.pth\")"
      ],
      "metadata": {
        "id": "gllwLV2NtaSY"
      },
      "execution_count": 226,
      "outputs": []
    },
    {
      "cell_type": "code",
      "source": [
        "# 加载模型的状态字典\n",
        "model_state_dict = torch.load(\"review_classifier.pth\", map_location=device)\n",
        "\n",
        "# 将状态字典加载到模型中\n",
        "model.load_state_dict(model_state_dict)"
      ],
      "metadata": {
        "id": "xYgHYLEhthGg",
        "outputId": "1acecba0-6e74-43c8-d148-53313e23d6fc",
        "colab": {
          "base_uri": "https://localhost:8080/"
        }
      },
      "execution_count": 227,
      "outputs": [
        {
          "output_type": "execute_result",
          "data": {
            "text/plain": [
              "<All keys matched successfully>"
            ]
          },
          "metadata": {},
          "execution_count": 227
        }
      ]
    },
    {
      "cell_type": "markdown",
      "source": [
        "# 7 Fine-tuning to follow instructions"
      ],
      "metadata": {
        "id": "h3Oa-qTDvDnz"
      }
    },
    {
      "cell_type": "markdown",
      "source": [
        "## 7.1  Introduction to instruction fine-tuning"
      ],
      "metadata": {
        "id": "Y9lfR0sevHpc"
      }
    },
    {
      "cell_type": "markdown",
      "source": [
        "## 7.2 Preparing a dataset for supervised instruction fine-tuning"
      ],
      "metadata": {
        "id": "uCloov8nvLAh"
      }
    },
    {
      "cell_type": "code",
      "source": [
        "import json\n",
        "import os\n",
        "import urllib\n",
        "\n",
        "def download_and_load_file(file_path, url):\n",
        "    # 检查文件是否已存在\n",
        "    if not os.path.exists(file_path):\n",
        "        # 下载文件\n",
        "        with urllib.request.urlopen(url) as response:\n",
        "            text_data = response.read().decode(\"utf-8\")\n",
        "        # 保存文件\n",
        "        with open(file_path, \"w\", encoding=\"utf-8\") as file:\n",
        "            file.write(text_data)\n",
        "    else:\n",
        "        # 读取本地文件\n",
        "        with open(file_path, \"r\", encoding=\"utf-8\") as file:\n",
        "            text_data = file.read()\n",
        "\n",
        "    # 加载 JSON 数据\n",
        "    with open(file_path, \"r\") as file:\n",
        "        data = json.load(file)\n",
        "\n",
        "    return data\n",
        "\n",
        "# 定义文件路径和 URL\n",
        "file_path = \"instruction-data.json\"\n",
        "url = (\n",
        "    \"https://raw.githubusercontent.com/rasbt/LLMs-from-scratch\"\n",
        "    \"/main/ch07/01_main-chapter-code/instruction-data.json\"\n",
        ")\n",
        "\n",
        "# 下载并加载文件\n",
        "data = download_and_load_file(file_path, url)\n",
        "\n",
        "# 打印数据条目数\n",
        "print(\"Number of entries:\", len(data))"
      ],
      "metadata": {
        "id": "9IG7kRd3vGHi",
        "outputId": "b8fefb81-be74-44d5-b0c8-e23ced079e79",
        "colab": {
          "base_uri": "https://localhost:8080/"
        }
      },
      "execution_count": 228,
      "outputs": [
        {
          "output_type": "stream",
          "name": "stdout",
          "text": [
            "Number of entries: 1100\n"
          ]
        }
      ]
    },
    {
      "cell_type": "code",
      "source": [
        "# 打印示例条目\n",
        "print(\"Example entry:\\n\", data[50])"
      ],
      "metadata": {
        "id": "sLxadhoHbrHq",
        "outputId": "757745f3-d204-460d-e634-61ef286be1c7",
        "colab": {
          "base_uri": "https://localhost:8080/"
        }
      },
      "execution_count": 229,
      "outputs": [
        {
          "output_type": "stream",
          "name": "stdout",
          "text": [
            "Example entry:\n",
            " {'instruction': 'Identify the correct spelling of the following word.', 'input': 'Ocassion', 'output': \"The correct spelling is 'Occasion.'\"}\n"
          ]
        }
      ]
    },
    {
      "cell_type": "code",
      "source": [
        "print(\"Another example entry:\\n\", data[999])"
      ],
      "metadata": {
        "id": "60KkWMtWb11q",
        "outputId": "884492a5-ba36-4412-dffd-67bf26c8cf99",
        "colab": {
          "base_uri": "https://localhost:8080/"
        }
      },
      "execution_count": 230,
      "outputs": [
        {
          "output_type": "stream",
          "name": "stdout",
          "text": [
            "Another example entry:\n",
            " {'instruction': \"What is an antonym of 'complicated'?\", 'input': '', 'output': \"An antonym of 'complicated' is 'simple'.\"}\n"
          ]
        }
      ]
    },
    {
      "cell_type": "code",
      "source": [
        "def format_input(entry):\n",
        "    # 构建指令文本\n",
        "    instruction_text = (\n",
        "        f'\"Write is an instruction that describes a task. \"\\n'\n",
        "        f'\"Below is a response that appropriately completes the request.\"\\n'\n",
        "        f'\\n### Instruction:\\n{entry[\"instruction\"]}'\n",
        "    )\n",
        "\n",
        "    # 构建输入文本\n",
        "    input_text = (\n",
        "        f'\\n### Input:\\n{entry[\"input\"]}' if entry[\"input\"] else \"\"\n",
        "    )\n",
        "\n",
        "    # 返回格式化的输入文本\n",
        "    return instruction_text + input_text"
      ],
      "metadata": {
        "id": "ngeZq93nb4sd"
      },
      "execution_count": 231,
      "outputs": []
    },
    {
      "cell_type": "code",
      "source": [
        "# 格式化输入文本\n",
        "model_input = format_input(data[50])\n",
        "\n",
        "# 生成期望响应\n",
        "desired_response = f'\\n### Response:\\n{data[50][\"output\"]}'\n",
        "\n",
        "# 打印组合文本\n",
        "print(model_input + desired_response)"
      ],
      "metadata": {
        "colab": {
          "base_uri": "https://localhost:8080/"
        },
        "id": "ebkhGoCdcA2c",
        "outputId": "0a6539a3-5115-4a30-b3e6-803592ea9b84"
      },
      "execution_count": 232,
      "outputs": [
        {
          "output_type": "stream",
          "name": "stdout",
          "text": [
            "\"Write is an instruction that describes a task. \"\n",
            "\"Below is a response that appropriately completes the request.\"\n",
            "\n",
            "### Instruction:\n",
            "Identify the correct spelling of the following word.\n",
            "### Input:\n",
            "Ocassion\n",
            "### Response:\n",
            "The correct spelling is 'Occasion.'\n"
          ]
        }
      ]
    },
    {
      "cell_type": "code",
      "source": [
        "# 格式化输入文本\n",
        "model_input = format_input(data[999])\n",
        "\n",
        "# 生成期望响应\n",
        "desired_response = f'\\n### Response:\\n{data[999][\"output\"]}'\n",
        "\n",
        "# 打印组合文本\n",
        "print(model_input + desired_response)"
      ],
      "metadata": {
        "colab": {
          "base_uri": "https://localhost:8080/"
        },
        "id": "d0_LfmricGzo",
        "outputId": "c6fe6a47-5098-485f-ff22-37f4a30460e1"
      },
      "execution_count": 233,
      "outputs": [
        {
          "output_type": "stream",
          "name": "stdout",
          "text": [
            "\"Write is an instruction that describes a task. \"\n",
            "\"Below is a response that appropriately completes the request.\"\n",
            "\n",
            "### Instruction:\n",
            "What is an antonym of 'complicated'?\n",
            "### Response:\n",
            "An antonym of 'complicated' is 'simple'.\n"
          ]
        }
      ]
    },
    {
      "cell_type": "code",
      "source": [
        "# 计算各数据集的大小\n",
        "train_portion = int(len(data) * 0.85)  # 训练集占比 85%\n",
        "test_portion = int(len(data) * 0.1)    # 测试集占比 10%\n",
        "val_portion = len(data) - train_portion - test_portion  # 验证集占比 5%\n",
        "\n",
        "# 划分数据集\n",
        "train_data = data[:train_portion]\n",
        "test_data = data[train_portion:train_portion + test_portion]\n",
        "val_data = data[train_portion + test_portion:]\n",
        "\n",
        "# 打印各数据集的长度\n",
        "print(\"Training set length:\", len(train_data))\n",
        "print(\"Validation set length:\", len(val_data))\n",
        "print(\"Test set length:\", len(test_data))"
      ],
      "metadata": {
        "colab": {
          "base_uri": "https://localhost:8080/"
        },
        "id": "iK1479GbcOmy",
        "outputId": "0602e042-59a5-4968-a535-c47161a0857a"
      },
      "execution_count": 234,
      "outputs": [
        {
          "output_type": "stream",
          "name": "stdout",
          "text": [
            "Training set length: 935\n",
            "Validation set length: 55\n",
            "Test set length: 110\n"
          ]
        }
      ]
    },
    {
      "cell_type": "markdown",
      "source": [
        "## 7.3 Organizing data into training batches"
      ],
      "metadata": {
        "id": "JVIz3Hm1cWxg"
      }
    },
    {
      "cell_type": "code",
      "source": [
        "import torch\n",
        "from torch.utils.data import Dataset\n",
        "\n",
        "class InstructionDataset(Dataset):\n",
        "    def __init__(self, data, tokenizer):\n",
        "        # 初始化数据集\n",
        "        self.data = data\n",
        "        self.encoded_texts = []\n",
        "\n",
        "        # 预处理数据\n",
        "        for entry in data:\n",
        "            # 格式化输入文本\n",
        "            instruction_plus_input = format_input(entry)\n",
        "            # 生成响应文本\n",
        "            response_text = f'\\n### Response:\\n{entry[\"output\"]}'\n",
        "            # 组合输入和响应文本\n",
        "            full_text = instruction_plus_input + response_text\n",
        "            # 编码文本\n",
        "            self.encoded_texts.append(tokenizer.encode(full_text))\n",
        "\n",
        "    def __getitem__(self, index):\n",
        "        # 获取指定索引的编码文本\n",
        "        return self.encoded_texts[index]\n",
        "\n",
        "    def __len__(self):\n",
        "        # 返回数据集的长度\n",
        "        return len(self.data)"
      ],
      "metadata": {
        "id": "1Y1AAlg_cV50"
      },
      "execution_count": 235,
      "outputs": []
    },
    {
      "cell_type": "code",
      "source": [
        "import tiktoken\n",
        "\n",
        "# 获取 GPT-2 的分词器\n",
        "tokenizer = tiktoken.get_encoding(\"gpt2\")\n",
        "\n",
        "# 编码文本并打印结果\n",
        "print(tokenizer.encode(\"<|endoftext|>\", allowed_special={\"<|endoftext|>\"}))"
      ],
      "metadata": {
        "colab": {
          "base_uri": "https://localhost:8080/"
        },
        "id": "92Xzdqn8chUv",
        "outputId": "8eed4154-493c-4fd8-e694-6e5c9ff8989e"
      },
      "execution_count": 236,
      "outputs": [
        {
          "output_type": "stream",
          "name": "stdout",
          "text": [
            "[50256]\n"
          ]
        }
      ]
    },
    {
      "cell_type": "code",
      "source": [
        "def custom_collate_draft_1(\n",
        "    batch,\n",
        "    pad_token_id=50256,\n",
        "    device=\"cpu\"\n",
        "):\n",
        "    # 计算批次中最长序列的长度\n",
        "    batch_max_length = max(len(item) + 1 for item in batch)\n",
        "\n",
        "    # 初始化输入列表\n",
        "    inputs_list = []\n",
        "\n",
        "    # 处理每个序列\n",
        "    for item in batch:\n",
        "        # 复制并扩展序列\n",
        "        new_item = item.copy()\n",
        "        new_item += [pad_token_id]\n",
        "\n",
        "        # 填充序列到最大长度\n",
        "        padded = new_item + [pad_token_id] * (batch_max_length - len(new_item))\n",
        "\n",
        "        # 转换为张量并移除最后一个填充 token\n",
        "        inputs = torch.tensor(padded[:-1])\n",
        "        inputs_list.append(inputs)\n",
        "\n",
        "    # 堆叠张量并移动到目标设备\n",
        "    inputs_tensor = torch.stack(inputs_list).to(device)\n",
        "\n",
        "    return inputs_tensor"
      ],
      "metadata": {
        "id": "Trbe2sxIcpOe"
      },
      "execution_count": 237,
      "outputs": []
    },
    {
      "cell_type": "code",
      "source": [
        "# 定义输入序列\n",
        "inputs_1 = [0, 1, 2, 3, 4]\n",
        "inputs_2 = [5, 6]\n",
        "inputs_3 = [7, 8, 9]\n",
        "\n",
        "# 构建批次数据\n",
        "batch = (\n",
        "    inputs_1,\n",
        "    inputs_2,\n",
        "    inputs_3,\n",
        ")\n",
        "\n",
        "# 处理批次数据并打印结果\n",
        "print(custom_collate_draft_1(batch))"
      ],
      "metadata": {
        "colab": {
          "base_uri": "https://localhost:8080/"
        },
        "id": "SxN5iOUlcwPN",
        "outputId": "685a0216-b6f9-4e02-a845-d20bed4c57e5"
      },
      "execution_count": 238,
      "outputs": [
        {
          "output_type": "stream",
          "name": "stdout",
          "text": [
            "tensor([[    0,     1,     2,     3,     4],\n",
            "        [    5,     6, 50256, 50256, 50256],\n",
            "        [    7,     8,     9, 50256, 50256]])\n"
          ]
        }
      ]
    },
    {
      "cell_type": "code",
      "source": [
        "def custom_collate_draft_2(\n",
        "    batch,\n",
        "    pad_token_id=50256,\n",
        "    device=\"cpu\"\n",
        "):\n",
        "    # 计算批次中最长序列的长度\n",
        "    batch_max_length = max(len(item) + 1 for item in batch)\n",
        "\n",
        "    # 初始化输入和目标列表\n",
        "    inputs_list, targets_list = [], []\n",
        "\n",
        "    # 处理每个序列\n",
        "    for item in batch:\n",
        "        # 复制并扩展序列\n",
        "        new_item = item.copy()\n",
        "        new_item += [pad_token_id]\n",
        "\n",
        "        # 填充序列到最大长度\n",
        "        padded = new_item + [pad_token_id] * (batch_max_length - len(new_item))\n",
        "\n",
        "        # 生成输入和目标张量\n",
        "        inputs = torch.tensor(padded[:-1])\n",
        "        targets = torch.tensor(padded[1:])\n",
        "\n",
        "        # 添加到列表\n",
        "        inputs_list.append(inputs)\n",
        "        targets_list.append(targets)\n",
        "\n",
        "    # 堆叠张量并移动到目标设备\n",
        "    inputs_tensor = torch.stack(inputs_list).to(device)\n",
        "    targets_tensor = torch.stack(targets_list).to(device)\n",
        "\n",
        "    return inputs_tensor, targets_tensor\n",
        "\n",
        "# 定义输入序列\n",
        "inputs_1 = [0, 1, 2, 3, 4]\n",
        "inputs_2 = [5, 6]\n",
        "inputs_3 = [7, 8, 9]\n",
        "\n",
        "# 构建批次数据\n",
        "batch = (\n",
        "    inputs_1,\n",
        "    inputs_2,\n",
        "    inputs_3,\n",
        ")\n",
        "\n",
        "# 处理批次数据并打印结果\n",
        "inputs, targets = custom_collate_draft_2(batch)\n",
        "print(inputs)\n",
        "print(targets)"
      ],
      "metadata": {
        "colab": {
          "base_uri": "https://localhost:8080/"
        },
        "id": "xMgn2rRdc3Gz",
        "outputId": "3482de9c-e5a2-4bf7-90de-d9661c57b50d"
      },
      "execution_count": 239,
      "outputs": [
        {
          "output_type": "stream",
          "name": "stdout",
          "text": [
            "tensor([[    0,     1,     2,     3,     4],\n",
            "        [    5,     6, 50256, 50256, 50256],\n",
            "        [    7,     8,     9, 50256, 50256]])\n",
            "tensor([[    1,     2,     3,     4, 50256],\n",
            "        [    6, 50256, 50256, 50256, 50256],\n",
            "        [    8,     9, 50256, 50256, 50256]])\n"
          ]
        }
      ]
    },
    {
      "cell_type": "code",
      "source": [
        "def custom_collate_fn(\n",
        "    batch,\n",
        "    pad_token_id=50256,\n",
        "    ignore_index=-100,\n",
        "    allowed_max_length=None,\n",
        "    device=\"cpu\"\n",
        "):\n",
        "    # 计算批次中最长序列的长度\n",
        "    batch_max_length = max(len(item) + 1 for item in batch)\n",
        "\n",
        "    # 初始化输入和目标列表\n",
        "    inputs_list, targets_list = [], []\n",
        "\n",
        "    # 处理每个序列\n",
        "    for item in batch:\n",
        "        # 复制并扩展序列\n",
        "        new_item = item.copy()\n",
        "        new_item += [pad_token_id]\n",
        "\n",
        "        # 填充序列到最大长度\n",
        "        padded = new_item + [pad_token_id] * (batch_max_length - len(new_item))\n",
        "\n",
        "        # 生成输入和目标张量\n",
        "        inputs = torch.tensor(padded[:-1])\n",
        "        targets = torch.tensor(padded[1:])\n",
        "\n",
        "        # 处理掩码\n",
        "        mask = targets == pad_token_id\n",
        "        indices = torch.nonzero(mask).squeeze()\n",
        "        if indices.numel() > 1:\n",
        "            targets[indices[1:]] = ignore_index\n",
        "\n",
        "        # 截断到最大长度（如果指定）\n",
        "        if allowed_max_length is not None:\n",
        "            inputs = inputs[:allowed_max_length]\n",
        "            targets = targets[:allowed_max_length]\n",
        "\n",
        "        # 添加到列表\n",
        "        inputs_list.append(inputs)\n",
        "        targets_list.append(targets)\n",
        "\n",
        "    # 堆叠张量并移动到目标设备\n",
        "    inputs_tensor = torch.stack(inputs_list).to(device)\n",
        "    targets_tensor = torch.stack(targets_list).to(device)\n",
        "\n",
        "    return inputs_tensor, targets_tensor"
      ],
      "metadata": {
        "id": "y78wkGOxc_9N"
      },
      "execution_count": 240,
      "outputs": []
    },
    {
      "cell_type": "code",
      "source": [
        "# 处理批次数据并打印结果\n",
        "inputs, targets = custom_collate_fn(batch)\n",
        "print(inputs)\n",
        "print(targets)"
      ],
      "metadata": {
        "colab": {
          "base_uri": "https://localhost:8080/"
        },
        "id": "wuqI8v48dLT3",
        "outputId": "6650dbb9-3c8c-4508-f801-94d15f0ae68b"
      },
      "execution_count": 241,
      "outputs": [
        {
          "output_type": "stream",
          "name": "stdout",
          "text": [
            "tensor([[    0,     1,     2,     3,     4],\n",
            "        [    5,     6, 50256, 50256, 50256],\n",
            "        [    7,     8,     9, 50256, 50256]])\n",
            "tensor([[    1,     2,     3,     4, 50256],\n",
            "        [    6, 50256,  -100,  -100,  -100],\n",
            "        [    8,     9, 50256,  -100,  -100]])\n"
          ]
        }
      ]
    },
    {
      "cell_type": "code",
      "source": [
        "import torch\n",
        "import torch.nn.functional as F\n",
        "\n",
        "# 定义预测结果和目标\n",
        "logits_1 = torch.tensor([\n",
        "    [-1.0, 1.0],  # 第一个 token 的预测结果\n",
        "    [-0.5, 1.5]   # 第二个 token 的预测结果\n",
        "])\n",
        "targets_1 = torch.tensor([0, 1])  # 正确的 token 索引\n",
        "\n",
        "# 计算交叉熵损失\n",
        "loss_1 = F.cross_entropy(logits_1, targets_1)\n",
        "\n",
        "# 打印损失\n",
        "print(loss_1)"
      ],
      "metadata": {
        "colab": {
          "base_uri": "https://localhost:8080/"
        },
        "id": "g3gHpFANdRJ7",
        "outputId": "f1855411-fc80-49d7-82f2-f1c40f34c83d"
      },
      "execution_count": 242,
      "outputs": [
        {
          "output_type": "stream",
          "name": "stdout",
          "text": [
            "tensor(1.1269)\n"
          ]
        }
      ]
    },
    {
      "cell_type": "code",
      "source": [
        "import torch\n",
        "import torch.nn.functional as F\n",
        "\n",
        "# 定义预测结果和目标\n",
        "logits_2 = torch.tensor([\n",
        "    [-1.0, 1.0],  # 第一个 token 的预测结果\n",
        "    [-0.5, 1.5],  # 第二个 token 的预测结果\n",
        "    [-0.5, 1.5]   # 第三个 token 的预测结果\n",
        "])\n",
        "targets_2 = torch.tensor([0, 1, 1])  # 正确的 token 索引\n",
        "\n",
        "# 计算交叉熵损失\n",
        "loss_2 = F.cross_entropy(logits_2, targets_2)\n",
        "\n",
        "# 打印损失\n",
        "print(loss_2)"
      ],
      "metadata": {
        "colab": {
          "base_uri": "https://localhost:8080/"
        },
        "id": "gX6Was11dX3M",
        "outputId": "00c94dce-76c5-4f8e-d4e9-3b53f9503e73"
      },
      "execution_count": 243,
      "outputs": [
        {
          "output_type": "stream",
          "name": "stdout",
          "text": [
            "tensor(0.7936)\n"
          ]
        }
      ]
    },
    {
      "cell_type": "code",
      "source": [
        "import torch\n",
        "import torch.nn.functional as F\n",
        "\n",
        "# 定义预测结果和目标\n",
        "logits_2 = torch.tensor([\n",
        "    [-1.0, 1.0],  # 第一个 token 的预测结果\n",
        "    [-0.5, 1.5],  # 第二个 token 的预测结果\n",
        "    [-0.5, 1.5]   # 第三个 token 的预测结果\n",
        "])\n",
        "targets_3 = torch.tensor([0, 1, -100])  # 正确的 token 索引，其中 -100 表示忽略\n",
        "\n",
        "# 计算交叉熵损失\n",
        "loss_3 = F.cross_entropy(logits_2, targets_3)\n",
        "\n",
        "# 打印损失\n",
        "print(loss_3)\n",
        "\n",
        "# 比较损失值是否相等\n",
        "print(\"loss_1 == loss_3:\", loss_1 == loss_3)"
      ],
      "metadata": {
        "colab": {
          "base_uri": "https://localhost:8080/"
        },
        "id": "Qy5vANZ0dgXt",
        "outputId": "793f81d7-4d4b-4ebe-e747-d8eae6e7883c"
      },
      "execution_count": 244,
      "outputs": [
        {
          "output_type": "stream",
          "name": "stdout",
          "text": [
            "tensor(1.1269)\n",
            "loss_1 == loss_3: tensor(True)\n"
          ]
        }
      ]
    },
    {
      "cell_type": "markdown",
      "source": [
        "## 7.4 Creating data loaders for an instruction dataset"
      ],
      "metadata": {
        "id": "JG-j0z8_drmS"
      }
    },
    {
      "cell_type": "code",
      "source": [
        "import torch\n",
        "\n",
        "# 选择计算设备\n",
        "device = torch.device(\"cuda\" if torch.cuda.is_available() else \"cpu\")\n",
        "\n",
        "# 对于 Apple Silicon 芯片，取消以下两行的注释以使用 GPU\n",
        "# if torch.backends.mps.is_available():\n",
        "#     device = torch.device(\"mps\")\n",
        "\n",
        "# 打印设备信息\n",
        "print(\"Device:\", device)"
      ],
      "metadata": {
        "colab": {
          "base_uri": "https://localhost:8080/"
        },
        "id": "1G9l3isadppJ",
        "outputId": "164f05c2-b981-4d85-888f-49c1ced96a7a"
      },
      "execution_count": 245,
      "outputs": [
        {
          "output_type": "stream",
          "name": "stdout",
          "text": [
            "Device: cpu\n"
          ]
        }
      ]
    },
    {
      "cell_type": "code",
      "source": [
        "from functools import partial\n",
        "\n",
        "# 定制 collate 函数\n",
        "customized_collate_fn = partial(\n",
        "    custom_collate_fn,\n",
        "    device=device,\n",
        "    allowed_max_length=1024\n",
        ")"
      ],
      "metadata": {
        "id": "sod6Oabdd1pG"
      },
      "execution_count": 246,
      "outputs": []
    },
    {
      "cell_type": "code",
      "source": [
        "from torch.utils.data import DataLoader\n",
        "\n",
        "# 设置随机种子\n",
        "torch.manual_seed(123)\n",
        "\n",
        "# 定义数据加载器参数\n",
        "num_workers = 0\n",
        "batch_size = 8\n",
        "\n",
        "# 创建训练集数据加载器\n",
        "train_dataset = InstructionDataset(train_data, tokenizer)\n",
        "train_loader = DataLoader(\n",
        "    train_dataset,\n",
        "    batch_size=batch_size,\n",
        "    collate_fn=customized_collate_fn,\n",
        "    shuffle=True,\n",
        "    drop_last=True,\n",
        "    num_workers=num_workers\n",
        ")\n",
        "\n",
        "# 创建验证集数据加载器\n",
        "val_dataset = InstructionDataset(val_data, tokenizer)\n",
        "val_loader = DataLoader(\n",
        "    val_dataset,\n",
        "    batch_size=batch_size,\n",
        "    collate_fn=customized_collate_fn,\n",
        "    shuffle=False,\n",
        "    drop_last=False,\n",
        "    num_workers=num_workers\n",
        ")\n",
        "\n",
        "# 创建测试集数据加载器\n",
        "test_dataset = InstructionDataset(test_data, tokenizer)\n",
        "test_loader = DataLoader(\n",
        "    test_dataset,\n",
        "    batch_size=batch_size,\n",
        "    collate_fn=customized_collate_fn,\n",
        "    shuffle=False,\n",
        "    drop_last=False,\n",
        "    num_workers=num_workers\n",
        ")"
      ],
      "metadata": {
        "id": "_Rn_kODReDbs"
      },
      "execution_count": 247,
      "outputs": []
    },
    {
      "cell_type": "code",
      "source": [
        "# 打印训练集数据加载器信息\n",
        "print(\"Train loader:\")\n",
        "for inputs, targets in train_loader:\n",
        "    print(inputs.shape, targets.shape)"
      ],
      "metadata": {
        "colab": {
          "base_uri": "https://localhost:8080/"
        },
        "id": "Zdh1NgN6eLHy",
        "outputId": "2d7cbbe8-22df-40cc-b4f8-e777e08d8dc4"
      },
      "execution_count": 248,
      "outputs": [
        {
          "output_type": "stream",
          "name": "stdout",
          "text": [
            "Train loader:\n",
            "torch.Size([8, 64]) torch.Size([8, 64])\n",
            "torch.Size([8, 80]) torch.Size([8, 80])\n",
            "torch.Size([8, 76]) torch.Size([8, 76])\n",
            "torch.Size([8, 71]) torch.Size([8, 71])\n",
            "torch.Size([8, 68]) torch.Size([8, 68])\n",
            "torch.Size([8, 76]) torch.Size([8, 76])\n",
            "torch.Size([8, 83]) torch.Size([8, 83])\n",
            "torch.Size([8, 70]) torch.Size([8, 70])\n",
            "torch.Size([8, 65]) torch.Size([8, 65])\n",
            "torch.Size([8, 78]) torch.Size([8, 78])\n",
            "torch.Size([8, 66]) torch.Size([8, 66])\n",
            "torch.Size([8, 71]) torch.Size([8, 71])\n",
            "torch.Size([8, 70]) torch.Size([8, 70])\n",
            "torch.Size([8, 81]) torch.Size([8, 81])\n",
            "torch.Size([8, 73]) torch.Size([8, 73])\n",
            "torch.Size([8, 83]) torch.Size([8, 83])\n",
            "torch.Size([8, 75]) torch.Size([8, 75])\n",
            "torch.Size([8, 69]) torch.Size([8, 69])\n",
            "torch.Size([8, 87]) torch.Size([8, 87])\n",
            "torch.Size([8, 71]) torch.Size([8, 71])\n",
            "torch.Size([8, 84]) torch.Size([8, 84])\n",
            "torch.Size([8, 75]) torch.Size([8, 75])\n",
            "torch.Size([8, 72]) torch.Size([8, 72])\n",
            "torch.Size([8, 68]) torch.Size([8, 68])\n",
            "torch.Size([8, 72]) torch.Size([8, 72])\n",
            "torch.Size([8, 64]) torch.Size([8, 64])\n",
            "torch.Size([8, 62]) torch.Size([8, 62])\n",
            "torch.Size([8, 72]) torch.Size([8, 72])\n",
            "torch.Size([8, 67]) torch.Size([8, 67])\n",
            "torch.Size([8, 69]) torch.Size([8, 69])\n",
            "torch.Size([8, 80]) torch.Size([8, 80])\n",
            "torch.Size([8, 69]) torch.Size([8, 69])\n",
            "torch.Size([8, 75]) torch.Size([8, 75])\n",
            "torch.Size([8, 94]) torch.Size([8, 94])\n",
            "torch.Size([8, 68]) torch.Size([8, 68])\n",
            "torch.Size([8, 67]) torch.Size([8, 67])\n",
            "torch.Size([8, 70]) torch.Size([8, 70])\n",
            "torch.Size([8, 70]) torch.Size([8, 70])\n",
            "torch.Size([8, 68]) torch.Size([8, 68])\n",
            "torch.Size([8, 68]) torch.Size([8, 68])\n",
            "torch.Size([8, 79]) torch.Size([8, 79])\n",
            "torch.Size([8, 93]) torch.Size([8, 93])\n",
            "torch.Size([8, 63]) torch.Size([8, 63])\n",
            "torch.Size([8, 92]) torch.Size([8, 92])\n",
            "torch.Size([8, 87]) torch.Size([8, 87])\n",
            "torch.Size([8, 86]) torch.Size([8, 86])\n",
            "torch.Size([8, 74]) torch.Size([8, 74])\n",
            "torch.Size([8, 68]) torch.Size([8, 68])\n",
            "torch.Size([8, 77]) torch.Size([8, 77])\n",
            "torch.Size([8, 80]) torch.Size([8, 80])\n",
            "torch.Size([8, 71]) torch.Size([8, 71])\n",
            "torch.Size([8, 78]) torch.Size([8, 78])\n",
            "torch.Size([8, 86]) torch.Size([8, 86])\n",
            "torch.Size([8, 72]) torch.Size([8, 72])\n",
            "torch.Size([8, 71]) torch.Size([8, 71])\n",
            "torch.Size([8, 63]) torch.Size([8, 63])\n",
            "torch.Size([8, 64]) torch.Size([8, 64])\n",
            "torch.Size([8, 69]) torch.Size([8, 69])\n",
            "torch.Size([8, 84]) torch.Size([8, 84])\n",
            "torch.Size([8, 75]) torch.Size([8, 75])\n",
            "torch.Size([8, 65]) torch.Size([8, 65])\n",
            "torch.Size([8, 62]) torch.Size([8, 62])\n",
            "torch.Size([8, 74]) torch.Size([8, 74])\n",
            "torch.Size([8, 70]) torch.Size([8, 70])\n",
            "torch.Size([8, 72]) torch.Size([8, 72])\n",
            "torch.Size([8, 67]) torch.Size([8, 67])\n",
            "torch.Size([8, 91]) torch.Size([8, 91])\n",
            "torch.Size([8, 72]) torch.Size([8, 72])\n",
            "torch.Size([8, 67]) torch.Size([8, 67])\n",
            "torch.Size([8, 72]) torch.Size([8, 72])\n",
            "torch.Size([8, 75]) torch.Size([8, 75])\n",
            "torch.Size([8, 71]) torch.Size([8, 71])\n",
            "torch.Size([8, 75]) torch.Size([8, 75])\n",
            "torch.Size([8, 64]) torch.Size([8, 64])\n",
            "torch.Size([8, 69]) torch.Size([8, 69])\n",
            "torch.Size([8, 71]) torch.Size([8, 71])\n",
            "torch.Size([8, 69]) torch.Size([8, 69])\n",
            "torch.Size([8, 67]) torch.Size([8, 67])\n",
            "torch.Size([8, 63]) torch.Size([8, 63])\n",
            "torch.Size([8, 75]) torch.Size([8, 75])\n",
            "torch.Size([8, 68]) torch.Size([8, 68])\n",
            "torch.Size([8, 73]) torch.Size([8, 73])\n",
            "torch.Size([8, 61]) torch.Size([8, 61])\n",
            "torch.Size([8, 76]) torch.Size([8, 76])\n",
            "torch.Size([8, 67]) torch.Size([8, 67])\n",
            "torch.Size([8, 72]) torch.Size([8, 72])\n",
            "torch.Size([8, 65]) torch.Size([8, 65])\n",
            "torch.Size([8, 78]) torch.Size([8, 78])\n",
            "torch.Size([8, 84]) torch.Size([8, 84])\n",
            "torch.Size([8, 72]) torch.Size([8, 72])\n",
            "torch.Size([8, 73]) torch.Size([8, 73])\n",
            "torch.Size([8, 94]) torch.Size([8, 94])\n",
            "torch.Size([8, 64]) torch.Size([8, 64])\n",
            "torch.Size([8, 69]) torch.Size([8, 69])\n",
            "torch.Size([8, 84]) torch.Size([8, 84])\n",
            "torch.Size([8, 85]) torch.Size([8, 85])\n",
            "torch.Size([8, 77]) torch.Size([8, 77])\n",
            "torch.Size([8, 85]) torch.Size([8, 85])\n",
            "torch.Size([8, 66]) torch.Size([8, 66])\n",
            "torch.Size([8, 87]) torch.Size([8, 87])\n",
            "torch.Size([8, 71]) torch.Size([8, 71])\n",
            "torch.Size([8, 70]) torch.Size([8, 70])\n",
            "torch.Size([8, 81]) torch.Size([8, 81])\n",
            "torch.Size([8, 95]) torch.Size([8, 95])\n",
            "torch.Size([8, 67]) torch.Size([8, 67])\n",
            "torch.Size([8, 65]) torch.Size([8, 65])\n",
            "torch.Size([8, 79]) torch.Size([8, 79])\n",
            "torch.Size([8, 67]) torch.Size([8, 67])\n",
            "torch.Size([8, 69]) torch.Size([8, 69])\n",
            "torch.Size([8, 81]) torch.Size([8, 81])\n",
            "torch.Size([8, 69]) torch.Size([8, 69])\n",
            "torch.Size([8, 67]) torch.Size([8, 67])\n",
            "torch.Size([8, 87]) torch.Size([8, 87])\n",
            "torch.Size([8, 69]) torch.Size([8, 69])\n",
            "torch.Size([8, 78]) torch.Size([8, 78])\n",
            "torch.Size([8, 72]) torch.Size([8, 72])\n"
          ]
        }
      ]
    },
    {
      "cell_type": "markdown",
      "source": [
        "## 7.5 Loading a pretrained LLM"
      ],
      "metadata": {
        "id": "gQ7vM5BYeUiY"
      }
    },
    {
      "cell_type": "code",
      "source": [
        "from gpt_download import download_and_load_gpt2\n",
        "# from chapter05 import load_weights_into_gpt\n",
        "\n",
        "# 基础配置\n",
        "BASE_CONFIG = {\n",
        "    \"vocab_size\": 50257,    # 词汇表大小\n",
        "    \"context_length\": 1024, # 上下文长度\n",
        "    \"drop_rate\": 0.0,       # 丢弃率\n",
        "    \"qkv_bias\": True        # 查询-键-值偏置\n",
        "}\n",
        "\n",
        "# 模型配置\n",
        "model_configs = {\n",
        "    \"gpt2-small (124M)\": {\"emb_dim\": 768, \"n_layers\": 12, \"n_heads\": 12},\n",
        "    \"gpt2-medium (355M)\": {\"emb_dim\": 1024, \"n_layers\": 24, \"n_heads\": 16},\n",
        "    \"gpt2-large (774M)\": {\"emb_dim\": 1280, \"n_layers\": 36, \"n_heads\": 20},\n",
        "    \"gpt2-xl (1558M)\": {\"emb_dim\": 1600, \"n_layers\": 48, \"n_heads\": 25},\n",
        "}\n",
        "\n",
        "# 选择模型\n",
        "CHOOSE_MODEL = \"gpt2-medium (355M)\"\n",
        "BASE_CONFIG.update(model_configs[CHOOSE_MODEL])\n",
        "\n",
        "# 获取模型大小\n",
        "model_size = CHOOSE_MODEL.split(\" \")[-1].lstrip(\"(\").rstrip(\")\")\n",
        "\n",
        "# 下载并加载模型权重\n",
        "settings, params = download_and_load_gpt2(\n",
        "    model_size=model_size,\n",
        "    models_dir=\"gpt2\"\n",
        ")\n",
        "\n",
        "# 初始化模型并加载权重\n",
        "model = GPTModel(BASE_CONFIG)\n",
        "load_weights_into_gpt(model, params)\n",
        "model.eval()"
      ],
      "metadata": {
        "colab": {
          "base_uri": "https://localhost:8080/"
        },
        "id": "HKqF_-jBeRD2",
        "outputId": "f5f4b841-5ef6-40e0-fee3-7316544366a7"
      },
      "execution_count": 249,
      "outputs": [
        {
          "output_type": "stream",
          "name": "stdout",
          "text": [
            "File already exists and is up-to-date: gpt2/355M/checkpoint\n",
            "File already exists and is up-to-date: gpt2/355M/encoder.json\n",
            "File already exists and is up-to-date: gpt2/355M/hparams.json\n",
            "File already exists and is up-to-date: gpt2/355M/model.ckpt.data-00000-of-00001\n",
            "File already exists and is up-to-date: gpt2/355M/model.ckpt.index\n",
            "File already exists and is up-to-date: gpt2/355M/model.ckpt.meta\n",
            "File already exists and is up-to-date: gpt2/355M/vocab.bpe\n"
          ]
        },
        {
          "output_type": "execute_result",
          "data": {
            "text/plain": [
              "GPTModel(\n",
              "  (tok_emb): Embedding(50257, 1024)\n",
              "  (pos_emb): Embedding(1024, 1024)\n",
              "  (drop_emb): Dropout(p=0.0, inplace=False)\n",
              "  (trf_blocks): Sequential(\n",
              "    (0): TransformerBlock(\n",
              "      (att): MultiHeadAttention(\n",
              "        (W_query): Linear(in_features=1024, out_features=1024, bias=True)\n",
              "        (W_key): Linear(in_features=1024, out_features=1024, bias=True)\n",
              "        (W_value): Linear(in_features=1024, out_features=1024, bias=True)\n",
              "        (out_proj): Linear(in_features=1024, out_features=1024, bias=True)\n",
              "        (dropout): Dropout(p=0.0, inplace=False)\n",
              "      )\n",
              "      (ff): FeedForward(\n",
              "        (layers): Sequential(\n",
              "          (0): Linear(in_features=1024, out_features=4096, bias=True)\n",
              "          (1): GELU()\n",
              "          (2): Linear(in_features=4096, out_features=1024, bias=True)\n",
              "        )\n",
              "      )\n",
              "      (norm1): LayerNorm()\n",
              "      (norm2): LayerNorm()\n",
              "      (drop_shortcut): Dropout(p=0.0, inplace=False)\n",
              "    )\n",
              "    (1): TransformerBlock(\n",
              "      (att): MultiHeadAttention(\n",
              "        (W_query): Linear(in_features=1024, out_features=1024, bias=True)\n",
              "        (W_key): Linear(in_features=1024, out_features=1024, bias=True)\n",
              "        (W_value): Linear(in_features=1024, out_features=1024, bias=True)\n",
              "        (out_proj): Linear(in_features=1024, out_features=1024, bias=True)\n",
              "        (dropout): Dropout(p=0.0, inplace=False)\n",
              "      )\n",
              "      (ff): FeedForward(\n",
              "        (layers): Sequential(\n",
              "          (0): Linear(in_features=1024, out_features=4096, bias=True)\n",
              "          (1): GELU()\n",
              "          (2): Linear(in_features=4096, out_features=1024, bias=True)\n",
              "        )\n",
              "      )\n",
              "      (norm1): LayerNorm()\n",
              "      (norm2): LayerNorm()\n",
              "      (drop_shortcut): Dropout(p=0.0, inplace=False)\n",
              "    )\n",
              "    (2): TransformerBlock(\n",
              "      (att): MultiHeadAttention(\n",
              "        (W_query): Linear(in_features=1024, out_features=1024, bias=True)\n",
              "        (W_key): Linear(in_features=1024, out_features=1024, bias=True)\n",
              "        (W_value): Linear(in_features=1024, out_features=1024, bias=True)\n",
              "        (out_proj): Linear(in_features=1024, out_features=1024, bias=True)\n",
              "        (dropout): Dropout(p=0.0, inplace=False)\n",
              "      )\n",
              "      (ff): FeedForward(\n",
              "        (layers): Sequential(\n",
              "          (0): Linear(in_features=1024, out_features=4096, bias=True)\n",
              "          (1): GELU()\n",
              "          (2): Linear(in_features=4096, out_features=1024, bias=True)\n",
              "        )\n",
              "      )\n",
              "      (norm1): LayerNorm()\n",
              "      (norm2): LayerNorm()\n",
              "      (drop_shortcut): Dropout(p=0.0, inplace=False)\n",
              "    )\n",
              "    (3): TransformerBlock(\n",
              "      (att): MultiHeadAttention(\n",
              "        (W_query): Linear(in_features=1024, out_features=1024, bias=True)\n",
              "        (W_key): Linear(in_features=1024, out_features=1024, bias=True)\n",
              "        (W_value): Linear(in_features=1024, out_features=1024, bias=True)\n",
              "        (out_proj): Linear(in_features=1024, out_features=1024, bias=True)\n",
              "        (dropout): Dropout(p=0.0, inplace=False)\n",
              "      )\n",
              "      (ff): FeedForward(\n",
              "        (layers): Sequential(\n",
              "          (0): Linear(in_features=1024, out_features=4096, bias=True)\n",
              "          (1): GELU()\n",
              "          (2): Linear(in_features=4096, out_features=1024, bias=True)\n",
              "        )\n",
              "      )\n",
              "      (norm1): LayerNorm()\n",
              "      (norm2): LayerNorm()\n",
              "      (drop_shortcut): Dropout(p=0.0, inplace=False)\n",
              "    )\n",
              "    (4): TransformerBlock(\n",
              "      (att): MultiHeadAttention(\n",
              "        (W_query): Linear(in_features=1024, out_features=1024, bias=True)\n",
              "        (W_key): Linear(in_features=1024, out_features=1024, bias=True)\n",
              "        (W_value): Linear(in_features=1024, out_features=1024, bias=True)\n",
              "        (out_proj): Linear(in_features=1024, out_features=1024, bias=True)\n",
              "        (dropout): Dropout(p=0.0, inplace=False)\n",
              "      )\n",
              "      (ff): FeedForward(\n",
              "        (layers): Sequential(\n",
              "          (0): Linear(in_features=1024, out_features=4096, bias=True)\n",
              "          (1): GELU()\n",
              "          (2): Linear(in_features=4096, out_features=1024, bias=True)\n",
              "        )\n",
              "      )\n",
              "      (norm1): LayerNorm()\n",
              "      (norm2): LayerNorm()\n",
              "      (drop_shortcut): Dropout(p=0.0, inplace=False)\n",
              "    )\n",
              "    (5): TransformerBlock(\n",
              "      (att): MultiHeadAttention(\n",
              "        (W_query): Linear(in_features=1024, out_features=1024, bias=True)\n",
              "        (W_key): Linear(in_features=1024, out_features=1024, bias=True)\n",
              "        (W_value): Linear(in_features=1024, out_features=1024, bias=True)\n",
              "        (out_proj): Linear(in_features=1024, out_features=1024, bias=True)\n",
              "        (dropout): Dropout(p=0.0, inplace=False)\n",
              "      )\n",
              "      (ff): FeedForward(\n",
              "        (layers): Sequential(\n",
              "          (0): Linear(in_features=1024, out_features=4096, bias=True)\n",
              "          (1): GELU()\n",
              "          (2): Linear(in_features=4096, out_features=1024, bias=True)\n",
              "        )\n",
              "      )\n",
              "      (norm1): LayerNorm()\n",
              "      (norm2): LayerNorm()\n",
              "      (drop_shortcut): Dropout(p=0.0, inplace=False)\n",
              "    )\n",
              "    (6): TransformerBlock(\n",
              "      (att): MultiHeadAttention(\n",
              "        (W_query): Linear(in_features=1024, out_features=1024, bias=True)\n",
              "        (W_key): Linear(in_features=1024, out_features=1024, bias=True)\n",
              "        (W_value): Linear(in_features=1024, out_features=1024, bias=True)\n",
              "        (out_proj): Linear(in_features=1024, out_features=1024, bias=True)\n",
              "        (dropout): Dropout(p=0.0, inplace=False)\n",
              "      )\n",
              "      (ff): FeedForward(\n",
              "        (layers): Sequential(\n",
              "          (0): Linear(in_features=1024, out_features=4096, bias=True)\n",
              "          (1): GELU()\n",
              "          (2): Linear(in_features=4096, out_features=1024, bias=True)\n",
              "        )\n",
              "      )\n",
              "      (norm1): LayerNorm()\n",
              "      (norm2): LayerNorm()\n",
              "      (drop_shortcut): Dropout(p=0.0, inplace=False)\n",
              "    )\n",
              "    (7): TransformerBlock(\n",
              "      (att): MultiHeadAttention(\n",
              "        (W_query): Linear(in_features=1024, out_features=1024, bias=True)\n",
              "        (W_key): Linear(in_features=1024, out_features=1024, bias=True)\n",
              "        (W_value): Linear(in_features=1024, out_features=1024, bias=True)\n",
              "        (out_proj): Linear(in_features=1024, out_features=1024, bias=True)\n",
              "        (dropout): Dropout(p=0.0, inplace=False)\n",
              "      )\n",
              "      (ff): FeedForward(\n",
              "        (layers): Sequential(\n",
              "          (0): Linear(in_features=1024, out_features=4096, bias=True)\n",
              "          (1): GELU()\n",
              "          (2): Linear(in_features=4096, out_features=1024, bias=True)\n",
              "        )\n",
              "      )\n",
              "      (norm1): LayerNorm()\n",
              "      (norm2): LayerNorm()\n",
              "      (drop_shortcut): Dropout(p=0.0, inplace=False)\n",
              "    )\n",
              "    (8): TransformerBlock(\n",
              "      (att): MultiHeadAttention(\n",
              "        (W_query): Linear(in_features=1024, out_features=1024, bias=True)\n",
              "        (W_key): Linear(in_features=1024, out_features=1024, bias=True)\n",
              "        (W_value): Linear(in_features=1024, out_features=1024, bias=True)\n",
              "        (out_proj): Linear(in_features=1024, out_features=1024, bias=True)\n",
              "        (dropout): Dropout(p=0.0, inplace=False)\n",
              "      )\n",
              "      (ff): FeedForward(\n",
              "        (layers): Sequential(\n",
              "          (0): Linear(in_features=1024, out_features=4096, bias=True)\n",
              "          (1): GELU()\n",
              "          (2): Linear(in_features=4096, out_features=1024, bias=True)\n",
              "        )\n",
              "      )\n",
              "      (norm1): LayerNorm()\n",
              "      (norm2): LayerNorm()\n",
              "      (drop_shortcut): Dropout(p=0.0, inplace=False)\n",
              "    )\n",
              "    (9): TransformerBlock(\n",
              "      (att): MultiHeadAttention(\n",
              "        (W_query): Linear(in_features=1024, out_features=1024, bias=True)\n",
              "        (W_key): Linear(in_features=1024, out_features=1024, bias=True)\n",
              "        (W_value): Linear(in_features=1024, out_features=1024, bias=True)\n",
              "        (out_proj): Linear(in_features=1024, out_features=1024, bias=True)\n",
              "        (dropout): Dropout(p=0.0, inplace=False)\n",
              "      )\n",
              "      (ff): FeedForward(\n",
              "        (layers): Sequential(\n",
              "          (0): Linear(in_features=1024, out_features=4096, bias=True)\n",
              "          (1): GELU()\n",
              "          (2): Linear(in_features=4096, out_features=1024, bias=True)\n",
              "        )\n",
              "      )\n",
              "      (norm1): LayerNorm()\n",
              "      (norm2): LayerNorm()\n",
              "      (drop_shortcut): Dropout(p=0.0, inplace=False)\n",
              "    )\n",
              "    (10): TransformerBlock(\n",
              "      (att): MultiHeadAttention(\n",
              "        (W_query): Linear(in_features=1024, out_features=1024, bias=True)\n",
              "        (W_key): Linear(in_features=1024, out_features=1024, bias=True)\n",
              "        (W_value): Linear(in_features=1024, out_features=1024, bias=True)\n",
              "        (out_proj): Linear(in_features=1024, out_features=1024, bias=True)\n",
              "        (dropout): Dropout(p=0.0, inplace=False)\n",
              "      )\n",
              "      (ff): FeedForward(\n",
              "        (layers): Sequential(\n",
              "          (0): Linear(in_features=1024, out_features=4096, bias=True)\n",
              "          (1): GELU()\n",
              "          (2): Linear(in_features=4096, out_features=1024, bias=True)\n",
              "        )\n",
              "      )\n",
              "      (norm1): LayerNorm()\n",
              "      (norm2): LayerNorm()\n",
              "      (drop_shortcut): Dropout(p=0.0, inplace=False)\n",
              "    )\n",
              "    (11): TransformerBlock(\n",
              "      (att): MultiHeadAttention(\n",
              "        (W_query): Linear(in_features=1024, out_features=1024, bias=True)\n",
              "        (W_key): Linear(in_features=1024, out_features=1024, bias=True)\n",
              "        (W_value): Linear(in_features=1024, out_features=1024, bias=True)\n",
              "        (out_proj): Linear(in_features=1024, out_features=1024, bias=True)\n",
              "        (dropout): Dropout(p=0.0, inplace=False)\n",
              "      )\n",
              "      (ff): FeedForward(\n",
              "        (layers): Sequential(\n",
              "          (0): Linear(in_features=1024, out_features=4096, bias=True)\n",
              "          (1): GELU()\n",
              "          (2): Linear(in_features=4096, out_features=1024, bias=True)\n",
              "        )\n",
              "      )\n",
              "      (norm1): LayerNorm()\n",
              "      (norm2): LayerNorm()\n",
              "      (drop_shortcut): Dropout(p=0.0, inplace=False)\n",
              "    )\n",
              "    (12): TransformerBlock(\n",
              "      (att): MultiHeadAttention(\n",
              "        (W_query): Linear(in_features=1024, out_features=1024, bias=True)\n",
              "        (W_key): Linear(in_features=1024, out_features=1024, bias=True)\n",
              "        (W_value): Linear(in_features=1024, out_features=1024, bias=True)\n",
              "        (out_proj): Linear(in_features=1024, out_features=1024, bias=True)\n",
              "        (dropout): Dropout(p=0.0, inplace=False)\n",
              "      )\n",
              "      (ff): FeedForward(\n",
              "        (layers): Sequential(\n",
              "          (0): Linear(in_features=1024, out_features=4096, bias=True)\n",
              "          (1): GELU()\n",
              "          (2): Linear(in_features=4096, out_features=1024, bias=True)\n",
              "        )\n",
              "      )\n",
              "      (norm1): LayerNorm()\n",
              "      (norm2): LayerNorm()\n",
              "      (drop_shortcut): Dropout(p=0.0, inplace=False)\n",
              "    )\n",
              "    (13): TransformerBlock(\n",
              "      (att): MultiHeadAttention(\n",
              "        (W_query): Linear(in_features=1024, out_features=1024, bias=True)\n",
              "        (W_key): Linear(in_features=1024, out_features=1024, bias=True)\n",
              "        (W_value): Linear(in_features=1024, out_features=1024, bias=True)\n",
              "        (out_proj): Linear(in_features=1024, out_features=1024, bias=True)\n",
              "        (dropout): Dropout(p=0.0, inplace=False)\n",
              "      )\n",
              "      (ff): FeedForward(\n",
              "        (layers): Sequential(\n",
              "          (0): Linear(in_features=1024, out_features=4096, bias=True)\n",
              "          (1): GELU()\n",
              "          (2): Linear(in_features=4096, out_features=1024, bias=True)\n",
              "        )\n",
              "      )\n",
              "      (norm1): LayerNorm()\n",
              "      (norm2): LayerNorm()\n",
              "      (drop_shortcut): Dropout(p=0.0, inplace=False)\n",
              "    )\n",
              "    (14): TransformerBlock(\n",
              "      (att): MultiHeadAttention(\n",
              "        (W_query): Linear(in_features=1024, out_features=1024, bias=True)\n",
              "        (W_key): Linear(in_features=1024, out_features=1024, bias=True)\n",
              "        (W_value): Linear(in_features=1024, out_features=1024, bias=True)\n",
              "        (out_proj): Linear(in_features=1024, out_features=1024, bias=True)\n",
              "        (dropout): Dropout(p=0.0, inplace=False)\n",
              "      )\n",
              "      (ff): FeedForward(\n",
              "        (layers): Sequential(\n",
              "          (0): Linear(in_features=1024, out_features=4096, bias=True)\n",
              "          (1): GELU()\n",
              "          (2): Linear(in_features=4096, out_features=1024, bias=True)\n",
              "        )\n",
              "      )\n",
              "      (norm1): LayerNorm()\n",
              "      (norm2): LayerNorm()\n",
              "      (drop_shortcut): Dropout(p=0.0, inplace=False)\n",
              "    )\n",
              "    (15): TransformerBlock(\n",
              "      (att): MultiHeadAttention(\n",
              "        (W_query): Linear(in_features=1024, out_features=1024, bias=True)\n",
              "        (W_key): Linear(in_features=1024, out_features=1024, bias=True)\n",
              "        (W_value): Linear(in_features=1024, out_features=1024, bias=True)\n",
              "        (out_proj): Linear(in_features=1024, out_features=1024, bias=True)\n",
              "        (dropout): Dropout(p=0.0, inplace=False)\n",
              "      )\n",
              "      (ff): FeedForward(\n",
              "        (layers): Sequential(\n",
              "          (0): Linear(in_features=1024, out_features=4096, bias=True)\n",
              "          (1): GELU()\n",
              "          (2): Linear(in_features=4096, out_features=1024, bias=True)\n",
              "        )\n",
              "      )\n",
              "      (norm1): LayerNorm()\n",
              "      (norm2): LayerNorm()\n",
              "      (drop_shortcut): Dropout(p=0.0, inplace=False)\n",
              "    )\n",
              "    (16): TransformerBlock(\n",
              "      (att): MultiHeadAttention(\n",
              "        (W_query): Linear(in_features=1024, out_features=1024, bias=True)\n",
              "        (W_key): Linear(in_features=1024, out_features=1024, bias=True)\n",
              "        (W_value): Linear(in_features=1024, out_features=1024, bias=True)\n",
              "        (out_proj): Linear(in_features=1024, out_features=1024, bias=True)\n",
              "        (dropout): Dropout(p=0.0, inplace=False)\n",
              "      )\n",
              "      (ff): FeedForward(\n",
              "        (layers): Sequential(\n",
              "          (0): Linear(in_features=1024, out_features=4096, bias=True)\n",
              "          (1): GELU()\n",
              "          (2): Linear(in_features=4096, out_features=1024, bias=True)\n",
              "        )\n",
              "      )\n",
              "      (norm1): LayerNorm()\n",
              "      (norm2): LayerNorm()\n",
              "      (drop_shortcut): Dropout(p=0.0, inplace=False)\n",
              "    )\n",
              "    (17): TransformerBlock(\n",
              "      (att): MultiHeadAttention(\n",
              "        (W_query): Linear(in_features=1024, out_features=1024, bias=True)\n",
              "        (W_key): Linear(in_features=1024, out_features=1024, bias=True)\n",
              "        (W_value): Linear(in_features=1024, out_features=1024, bias=True)\n",
              "        (out_proj): Linear(in_features=1024, out_features=1024, bias=True)\n",
              "        (dropout): Dropout(p=0.0, inplace=False)\n",
              "      )\n",
              "      (ff): FeedForward(\n",
              "        (layers): Sequential(\n",
              "          (0): Linear(in_features=1024, out_features=4096, bias=True)\n",
              "          (1): GELU()\n",
              "          (2): Linear(in_features=4096, out_features=1024, bias=True)\n",
              "        )\n",
              "      )\n",
              "      (norm1): LayerNorm()\n",
              "      (norm2): LayerNorm()\n",
              "      (drop_shortcut): Dropout(p=0.0, inplace=False)\n",
              "    )\n",
              "    (18): TransformerBlock(\n",
              "      (att): MultiHeadAttention(\n",
              "        (W_query): Linear(in_features=1024, out_features=1024, bias=True)\n",
              "        (W_key): Linear(in_features=1024, out_features=1024, bias=True)\n",
              "        (W_value): Linear(in_features=1024, out_features=1024, bias=True)\n",
              "        (out_proj): Linear(in_features=1024, out_features=1024, bias=True)\n",
              "        (dropout): Dropout(p=0.0, inplace=False)\n",
              "      )\n",
              "      (ff): FeedForward(\n",
              "        (layers): Sequential(\n",
              "          (0): Linear(in_features=1024, out_features=4096, bias=True)\n",
              "          (1): GELU()\n",
              "          (2): Linear(in_features=4096, out_features=1024, bias=True)\n",
              "        )\n",
              "      )\n",
              "      (norm1): LayerNorm()\n",
              "      (norm2): LayerNorm()\n",
              "      (drop_shortcut): Dropout(p=0.0, inplace=False)\n",
              "    )\n",
              "    (19): TransformerBlock(\n",
              "      (att): MultiHeadAttention(\n",
              "        (W_query): Linear(in_features=1024, out_features=1024, bias=True)\n",
              "        (W_key): Linear(in_features=1024, out_features=1024, bias=True)\n",
              "        (W_value): Linear(in_features=1024, out_features=1024, bias=True)\n",
              "        (out_proj): Linear(in_features=1024, out_features=1024, bias=True)\n",
              "        (dropout): Dropout(p=0.0, inplace=False)\n",
              "      )\n",
              "      (ff): FeedForward(\n",
              "        (layers): Sequential(\n",
              "          (0): Linear(in_features=1024, out_features=4096, bias=True)\n",
              "          (1): GELU()\n",
              "          (2): Linear(in_features=4096, out_features=1024, bias=True)\n",
              "        )\n",
              "      )\n",
              "      (norm1): LayerNorm()\n",
              "      (norm2): LayerNorm()\n",
              "      (drop_shortcut): Dropout(p=0.0, inplace=False)\n",
              "    )\n",
              "    (20): TransformerBlock(\n",
              "      (att): MultiHeadAttention(\n",
              "        (W_query): Linear(in_features=1024, out_features=1024, bias=True)\n",
              "        (W_key): Linear(in_features=1024, out_features=1024, bias=True)\n",
              "        (W_value): Linear(in_features=1024, out_features=1024, bias=True)\n",
              "        (out_proj): Linear(in_features=1024, out_features=1024, bias=True)\n",
              "        (dropout): Dropout(p=0.0, inplace=False)\n",
              "      )\n",
              "      (ff): FeedForward(\n",
              "        (layers): Sequential(\n",
              "          (0): Linear(in_features=1024, out_features=4096, bias=True)\n",
              "          (1): GELU()\n",
              "          (2): Linear(in_features=4096, out_features=1024, bias=True)\n",
              "        )\n",
              "      )\n",
              "      (norm1): LayerNorm()\n",
              "      (norm2): LayerNorm()\n",
              "      (drop_shortcut): Dropout(p=0.0, inplace=False)\n",
              "    )\n",
              "    (21): TransformerBlock(\n",
              "      (att): MultiHeadAttention(\n",
              "        (W_query): Linear(in_features=1024, out_features=1024, bias=True)\n",
              "        (W_key): Linear(in_features=1024, out_features=1024, bias=True)\n",
              "        (W_value): Linear(in_features=1024, out_features=1024, bias=True)\n",
              "        (out_proj): Linear(in_features=1024, out_features=1024, bias=True)\n",
              "        (dropout): Dropout(p=0.0, inplace=False)\n",
              "      )\n",
              "      (ff): FeedForward(\n",
              "        (layers): Sequential(\n",
              "          (0): Linear(in_features=1024, out_features=4096, bias=True)\n",
              "          (1): GELU()\n",
              "          (2): Linear(in_features=4096, out_features=1024, bias=True)\n",
              "        )\n",
              "      )\n",
              "      (norm1): LayerNorm()\n",
              "      (norm2): LayerNorm()\n",
              "      (drop_shortcut): Dropout(p=0.0, inplace=False)\n",
              "    )\n",
              "    (22): TransformerBlock(\n",
              "      (att): MultiHeadAttention(\n",
              "        (W_query): Linear(in_features=1024, out_features=1024, bias=True)\n",
              "        (W_key): Linear(in_features=1024, out_features=1024, bias=True)\n",
              "        (W_value): Linear(in_features=1024, out_features=1024, bias=True)\n",
              "        (out_proj): Linear(in_features=1024, out_features=1024, bias=True)\n",
              "        (dropout): Dropout(p=0.0, inplace=False)\n",
              "      )\n",
              "      (ff): FeedForward(\n",
              "        (layers): Sequential(\n",
              "          (0): Linear(in_features=1024, out_features=4096, bias=True)\n",
              "          (1): GELU()\n",
              "          (2): Linear(in_features=4096, out_features=1024, bias=True)\n",
              "        )\n",
              "      )\n",
              "      (norm1): LayerNorm()\n",
              "      (norm2): LayerNorm()\n",
              "      (drop_shortcut): Dropout(p=0.0, inplace=False)\n",
              "    )\n",
              "    (23): TransformerBlock(\n",
              "      (att): MultiHeadAttention(\n",
              "        (W_query): Linear(in_features=1024, out_features=1024, bias=True)\n",
              "        (W_key): Linear(in_features=1024, out_features=1024, bias=True)\n",
              "        (W_value): Linear(in_features=1024, out_features=1024, bias=True)\n",
              "        (out_proj): Linear(in_features=1024, out_features=1024, bias=True)\n",
              "        (dropout): Dropout(p=0.0, inplace=False)\n",
              "      )\n",
              "      (ff): FeedForward(\n",
              "        (layers): Sequential(\n",
              "          (0): Linear(in_features=1024, out_features=4096, bias=True)\n",
              "          (1): GELU()\n",
              "          (2): Linear(in_features=4096, out_features=1024, bias=True)\n",
              "        )\n",
              "      )\n",
              "      (norm1): LayerNorm()\n",
              "      (norm2): LayerNorm()\n",
              "      (drop_shortcut): Dropout(p=0.0, inplace=False)\n",
              "    )\n",
              "  )\n",
              "  (final_norm): LayerNorm()\n",
              "  (out_head): Linear(in_features=1024, out_features=50257, bias=False)\n",
              ")"
            ]
          },
          "metadata": {},
          "execution_count": 249
        }
      ]
    },
    {
      "cell_type": "code",
      "source": [
        "import torch\n",
        "\n",
        "# 设置随机种子\n",
        "torch.manual_seed(123)\n",
        "\n",
        "# 格式化验证集中的一个条目\n",
        "input_text = format_input(val_data[0])\n",
        "\n",
        "# 打印格式化后的输入文本\n",
        "print(input_text)"
      ],
      "metadata": {
        "colab": {
          "base_uri": "https://localhost:8080/"
        },
        "id": "vxLyWb-fegcn",
        "outputId": "a9ca353b-fc00-4cd6-f1c4-db1ca41b0708"
      },
      "execution_count": 250,
      "outputs": [
        {
          "output_type": "stream",
          "name": "stdout",
          "text": [
            "\"Write is an instruction that describes a task. \"\n",
            "\"Below is a response that appropriately completes the request.\"\n",
            "\n",
            "### Instruction:\n",
            "Convert the active sentence to passive: 'The chef cooks the meal every day.'\n"
          ]
        }
      ]
    },
    {
      "cell_type": "code",
      "source": [
        "# from chapter05 import generate, text_to_token_ids, token_ids_to_text\n",
        "\n",
        "# 生成文本\n",
        "token_ids = generate(\n",
        "    model=model,\n",
        "    idx=text_to_token_ids(input_text, tokenizer),\n",
        "    max_new_tokens=35,\n",
        "    context_size=BASE_CONFIG[\"context_length\"],\n",
        "    eos_id=50256,\n",
        ")\n",
        "\n",
        "# 将 token ID 转换为文本\n",
        "generated_text = token_ids_to_text(token_ids, tokenizer)"
      ],
      "metadata": {
        "id": "0ZcUjAXqepAS"
      },
      "execution_count": 251,
      "outputs": []
    },
    {
      "cell_type": "code",
      "source": [
        "# 提取响应文本\n",
        "response_text = generated_text[len(input_text):].strip()\n",
        "\n",
        "# 打印响应文本\n",
        "print(response_text)"
      ],
      "metadata": {
        "colab": {
          "base_uri": "https://localhost:8080/"
        },
        "id": "VvLvUONUeyPI",
        "outputId": "ed3ee1fa-f0de-4b52-d219-a07df50960b9"
      },
      "execution_count": 252,
      "outputs": [
        {
          "output_type": "stream",
          "name": "stdout",
          "text": [
            "### Response:\n",
            "\n",
            "Write is an instruction that describes a task. \"\n",
            "\n",
            "\"Below is a response that appropriately completes the request.\"\n",
            "\n",
            "### Instruction:\n"
          ]
        }
      ]
    },
    {
      "cell_type": "markdown",
      "source": [
        "## 7.6 Fine-tuning the LLM on instruction data"
      ],
      "metadata": {
        "id": "sxiUYvLLe_Um"
      }
    },
    {
      "cell_type": "code",
      "source": [
        "# from chapter05 import (\n",
        "#     calc_loss_loader,\n",
        "#     train_model_simple\n",
        "# )"
      ],
      "metadata": {
        "id": "2Xyecj1qfCGB"
      },
      "execution_count": 253,
      "outputs": []
    },
    {
      "cell_type": "code",
      "source": [
        "def calc_loss_loader(data_loader, model, device, num_batches=None):\n",
        "    # 初始化总损失\n",
        "    total_loss = 0\n",
        "\n",
        "    # 处理空数据加载器\n",
        "    if len(data_loader) == 0:\n",
        "        return float(\"nan\")\n",
        "\n",
        "    # 确定要处理的批次数量\n",
        "    elif num_batches is None:\n",
        "        num_batches = len(data_loader)\n",
        "    else:\n",
        "        num_batches = min(num_batches, len(data_loader))\n",
        "\n",
        "    # 遍历数据加载器\n",
        "    for i, (input_batch, target_batch) in enumerate(data_loader):\n",
        "        if i < num_batches:\n",
        "            # 计算一个批次的损失\n",
        "            loss = calc_loss_batch(\n",
        "                input_batch, target_batch, model, device\n",
        "            )\n",
        "            # 累加损失\n",
        "            total_loss += loss.item()\n",
        "        else:\n",
        "            break\n",
        "\n",
        "    # 返回平均损失\n",
        "    return total_loss / num_batches"
      ],
      "metadata": {
        "id": "rBQ3uGBOBQ8c"
      },
      "execution_count": 254,
      "outputs": []
    },
    {
      "cell_type": "code",
      "source": [
        "def train_model_simple(\n",
        "    model, train_loader, val_loader,\n",
        "    optimizer, device, num_epochs,\n",
        "    eval_freq, eval_iter, start_context, tokenizer\n",
        "):\n",
        "    # 初始化损失列表和token统计\n",
        "    train_losses, val_losses, track_tokens_seen = [], [], []\n",
        "    tokens_seen, global_step = 0, -1\n",
        "\n",
        "    # 主训练循环\n",
        "    for epoch in range(num_epochs):\n",
        "        # 设置模型为训练模式\n",
        "        model.train()\n",
        "        # 遍历训练集\n",
        "        for input_batch, target_batch in train_loader:\n",
        "            # 更新全局步数\n",
        "            global_step += 1\n",
        "            # 重置梯度\n",
        "            optimizer.zero_grad()\n",
        "            # 计算损失\n",
        "            loss = calc_loss_batch(input_batch, target_batch, model, device)\n",
        "            # 反向传播\n",
        "            loss.backward()\n",
        "            # 更新模型参数\n",
        "            optimizer.step()\n",
        "            # 更新已处理的token数\n",
        "            tokens_seen += input_batch.numel()\n",
        "\n",
        "            # 定期评估模型\n",
        "            if global_step % eval_freq == 0:\n",
        "                # 评估模型\n",
        "                train_loss, val_loss = evaluate_model(\n",
        "                    model, train_loader, val_loader, device, eval_iter\n",
        "                )\n",
        "                # 记录损失\n",
        "                train_losses.append(train_loss)\n",
        "                val_losses.append(val_loss)\n",
        "                track_tokens_seen.append(tokens_seen)\n",
        "                # 打印损失\n",
        "                print(f\"Ep {epoch+1} (Step {global_step:06d}): \"\n",
        "                      f\"Train loss {train_loss:.3f}, \"\n",
        "                      f\"Val loss {val_loss:.3f}\")\n",
        "\n",
        "        # 生成并打印示例文本\n",
        "        generate_and_print_sample(\n",
        "            model, tokenizer, device, start_context\n",
        "        )\n",
        "\n",
        "    # 返回训练历史\n",
        "    return train_losses, val_losses, track_tokens_seen"
      ],
      "metadata": {
        "id": "VZEe8MmCBYQ9"
      },
      "execution_count": 255,
      "outputs": []
    },
    {
      "cell_type": "code",
      "source": [
        "# # 将模型移动到目标设备\n",
        "# model.to(device)\n",
        "\n",
        "# # 设置随机种子\n",
        "# torch.manual_seed(123)\n",
        "\n",
        "# # 计算训练集损失\n",
        "# with torch.no_grad():\n",
        "#     train_loss = calc_loss_loader(\n",
        "#         train_loader, model, device, num_batches=5\n",
        "#     )\n",
        "\n",
        "# # 计算验证集损失\n",
        "#     val_loss = calc_loss_loader(\n",
        "#         val_loader, model, device, num_batches=5\n",
        "#     )\n",
        "\n",
        "# # 打印损失值\n",
        "# print(\"Training loss:\", train_loss)\n",
        "# print(\"Validation loss:\", val_loss)"
      ],
      "metadata": {
        "id": "0EtOKVI1fJrq"
      },
      "execution_count": 256,
      "outputs": []
    },
    {
      "cell_type": "code",
      "source": [
        "import time\n",
        "import torch\n",
        "# 记录开始时间\n",
        "start_time = time.time()\n",
        "\n",
        "# 设置随机种子\n",
        "torch.manual_seed(123)\n",
        "\n",
        "# 初始化优化器\n",
        "optimizer = torch.optim.AdamW(\n",
        "    model.parameters(), lr=0.00005, weight_decay=0.1\n",
        ")\n",
        "\n",
        "# 定义训练轮数\n",
        "num_epochs = 2\n",
        "\n",
        "# 训练模型\n",
        "train_losses, val_losses, tokens_seen = train_model_simple(\n",
        "    model, train_loader, val_loader, optimizer, device,\n",
        "    num_epochs=num_epochs, eval_freq=5, eval_iter=5,\n",
        "    start_context=format_input(val_data[0]), tokenizer=tokenizer\n",
        ")\n",
        "\n",
        "# 记录结束时间\n",
        "end_time = time.time()\n",
        "\n",
        "# 计算执行时间（分钟）\n",
        "execution_time_minutes = (end_time - start_time) / 60\n",
        "\n",
        "# 打印训练完成信息\n",
        "print(f\"Training completed in {execution_time_minutes:.2f} minutes.\")"
      ],
      "metadata": {
        "id": "1xduuA7XfQkC"
      },
      "execution_count": null,
      "outputs": []
    },
    {
      "cell_type": "code",
      "source": [
        "# from chapter05 import plot_losses\n",
        "\n",
        "# 创建 epoch 张量\n",
        "epochs_tensor = torch.linspace(0, num_epochs, len(train_losses))\n",
        "\n",
        "# 绘制损失图表\n",
        "plot_losses(epochs_tensor, tokens_seen, train_losses, val_losses)"
      ],
      "metadata": {
        "id": "WGy_BvR6fXvo"
      },
      "execution_count": null,
      "outputs": []
    },
    {
      "cell_type": "markdown",
      "source": [
        "## 7.7 Extracting and saving responses"
      ],
      "metadata": {
        "id": "klHjFispfgKR"
      }
    },
    {
      "cell_type": "code",
      "source": [
        "import torch\n",
        "\n",
        "# 设置随机种子\n",
        "torch.manual_seed(123)\n",
        "\n",
        "# 遍历测试集的前三个样本\n",
        "for entry in test_data[:3]:\n",
        "    # 格式化输入文本\n",
        "    input_text = format_input(entry)\n",
        "\n",
        "    # 生成文本\n",
        "    token_ids = generate(\n",
        "        model=model,\n",
        "        idx=text_to_token_ids(input_text, tokenizer).to(device),\n",
        "        max_new_tokens=256,\n",
        "        context_size=BASE_CONFIG[\"context_length\"],\n",
        "        eos_id=50256\n",
        "    )\n",
        "\n",
        "    # 将 token ID 转换为文本\n",
        "    generated_text = token_ids_to_text(token_ids, tokenizer)\n",
        "\n",
        "    # 提取响应文本\n",
        "    response_text = (\n",
        "        generated_text[len(input_text):]\n",
        "        .replace(\"### Response:\", \"\")\n",
        "        .strip()\n",
        "    )\n",
        "\n",
        "    # 打印输入文本、正确响应和模型响应\n",
        "    print(input_text)\n",
        "    print(f\"\\nCorrect response:\\n> {entry['output']}\")\n",
        "    print(f\"Model response:\\n> {response_text.strip()}\")\n",
        "    print(\"-\" * 50)"
      ],
      "metadata": {
        "id": "vFHk_t-IfiaH"
      },
      "execution_count": null,
      "outputs": []
    },
    {
      "cell_type": "code",
      "source": [
        "import json\n",
        "from tqdm import tqdm\n",
        "\n",
        "# 遍历测试集的所有样本\n",
        "for i, entry in tqdm(enumerate(test_data), total=len(test_data)):\n",
        "    # 格式化输入文本\n",
        "    input_text = format_input(entry)\n",
        "\n",
        "    # 生成文本\n",
        "    token_ids = generate(\n",
        "        model=model,\n",
        "        idx=text_to_token_ids(input_text, tokenizer).to(device),\n",
        "        max_new_tokens=256,\n",
        "        context_size=BASE_CONFIG[\"context_length\"],\n",
        "        eos_id=50256\n",
        "    )\n",
        "\n",
        "    # 将 token ID 转换为文本\n",
        "    generated_text = token_ids_to_text(token_ids, tokenizer)\n",
        "\n",
        "    # 提取响应文本\n",
        "    response_text = (\n",
        "        generated_text[len(input_text):]\n",
        "        .replace(\"### Response:\", \"\")\n",
        "        .strip()\n",
        "    )\n",
        "\n",
        "    # 保存响应文本到测试数据中\n",
        "    test_data[i][\"model_response\"] = response_text\n",
        "\n",
        "# 将测试数据保存到 JSON 文件\n",
        "with open(\"instruction-data-with-response.json\", \"w\") as file:\n",
        "    json.dump(test_data, file, indent=4)"
      ],
      "metadata": {
        "id": "dJK6iLTMfteY"
      },
      "execution_count": null,
      "outputs": []
    },
    {
      "cell_type": "code",
      "source": [
        "print(test_data[0])"
      ],
      "metadata": {
        "id": "xjUUWXqAf2hJ"
      },
      "execution_count": null,
      "outputs": []
    },
    {
      "cell_type": "code",
      "source": [
        "import re\n",
        "\n",
        "# 生成文件名\n",
        "file_name = f\"{re.sub(r'[()]', '', CHOOSE_MODEL)}-sft.pth\"\n",
        "\n",
        "# 保存模型状态字典\n",
        "torch.save(model.state_dict(), file_name)\n",
        "\n",
        "# 打印保存信息\n",
        "print(f\"Model saved as {file_name}\")"
      ],
      "metadata": {
        "id": "TyquXTAZf30k"
      },
      "execution_count": null,
      "outputs": []
    },
    {
      "cell_type": "markdown",
      "source": [
        "## 7.8 Evaluating the fine-tuned LLM"
      ],
      "metadata": {
        "id": "A5TK5EtlgAsf"
      }
    },
    {
      "cell_type": "code",
      "source": [
        "ollama serve"
      ],
      "metadata": {
        "id": "NpwQcCMbgDQX"
      },
      "execution_count": null,
      "outputs": []
    },
    {
      "cell_type": "code",
      "source": [
        "ollama run llama3"
      ],
      "metadata": {
        "id": "0LPtnXpfgGjY"
      },
      "execution_count": null,
      "outputs": []
    },
    {
      "cell_type": "code",
      "source": [
        "import psutil\n",
        "\n",
        "# 定义函数检查进程是否运行\n",
        "def check_if_running(process_name):\n",
        "    running = False\n",
        "    for proc in psutil.process_iter([\"name\"]):\n",
        "        if process_name in proc.info[\"name\"]:\n",
        "            running = True\n",
        "            break\n",
        "    return running\n",
        "\n",
        "# 检查 Ollama 是否运行\n",
        "ollama_running = check_if_running(\"ollama\")\n",
        "\n",
        "# 如果 Ollama 未运行，抛出异常\n",
        "if not ollama_running:\n",
        "    raise RuntimeError(\n",
        "        \"Ollama not running. Launch ollama before proceeding.\"\n",
        "    )\n",
        "\n",
        "# 打印 Ollama 运行状态\n",
        "print(\"Ollama running:\", check_if_running(\"ollama\"))"
      ],
      "metadata": {
        "id": "erT7xuZXgmph"
      },
      "execution_count": null,
      "outputs": []
    },
    {
      "cell_type": "code",
      "source": [
        "import json\n",
        "import urllib.request\n",
        "\n",
        "# 定义函数查询模型\n",
        "def query_model(prompt, model=\"llama3\", url=\"http://localhost:11434/api/chat\"):\n",
        "    # 创建请求数据\n",
        "    data = {\n",
        "        \"model\": model,\n",
        "        \"messages\": [\n",
        "            {\"role\": \"user\", \"content\": prompt}\n",
        "        ],\n",
        "        \"options\": {\n",
        "            \"seed\": 123,\n",
        "            \"temperature\": 0,\n",
        "            \"num_ctx\": 2048\n",
        "        }\n",
        "    }\n",
        "\n",
        "    # 将数据转换为 JSON 格式并编码\n",
        "    payload = json.dumps(data).encode(\"utf-8\")\n",
        "\n",
        "    # 创建请求对象\n",
        "    request = urllib.request.Request(\n",
        "        url,\n",
        "        data=payload,\n",
        "        method=\"POST\"\n",
        "    )\n",
        "\n",
        "    # 添加请求头\n",
        "    request.add_header(\"Content-Type\", \"application/json\")\n",
        "\n",
        "    # 发送请求并获取响应\n",
        "    response_data = \"\"\n",
        "    with urllib.request.urlopen(request) as response:\n",
        "        while True:\n",
        "            line = response.readline().decode(\"utf-8\")\n",
        "            if not line:\n",
        "                break\n",
        "            response_json = json.loads(line)\n",
        "            response_data += response_json[\"message\"][\"content\"]\n",
        "\n",
        "    # 返回响应数据\n",
        "    return response_data"
      ],
      "metadata": {
        "id": "cJ1mox8fgnOp"
      },
      "execution_count": null,
      "outputs": []
    },
    {
      "cell_type": "code",
      "source": [
        "# 定义模型名称\n",
        "model = \"llama3\"\n",
        "\n",
        "# 查询模型\n",
        "result = query_model(\"What do Llamas eat?\", model)\n",
        "\n",
        "# 打印响应\n",
        "print(result)"
      ],
      "metadata": {
        "id": "nzho7YXxgzXF"
      },
      "execution_count": null,
      "outputs": []
    },
    {
      "cell_type": "code",
      "source": [
        "# 遍历测试数据的前三个样本\n",
        "for entry in test_data[:3]:\n",
        "    # 生成评分提示\n",
        "    prompt = (\n",
        "        f\"Given the input `{format_input(entry)}` \"\n",
        "        f\"and correct output `{entry['output']}`, \"\n",
        "        f\"score the model response `{entry['model_response']}` \"\n",
        "        f\"on a scale from 0 to 100, where 100 is the best score. \"\n",
        "    )\n",
        "\n",
        "    # 打印数据集响应、模型响应和评分提示\n",
        "    print(\"\\nDataset response:\")\n",
        "    print(\">\", entry['output'])\n",
        "    print(\"\\nModel response:\")\n",
        "    print(\">\", entry[\"model_response\"])\n",
        "    print(\"\\nScore:\")\n",
        "    print(\">\", query_model(prompt))\n",
        "    print(\"\\n\" + \"-\" * 50)"
      ],
      "metadata": {
        "id": "UwyGpiySg59N"
      },
      "execution_count": null,
      "outputs": []
    },
    {
      "cell_type": "code",
      "source": [
        "from tqdm import tqdm\n",
        "\n",
        "# 定义函数生成模型评分\n",
        "def generate_model_scores(json_data, json_key, model=\"llama3\"):\n",
        "    scores = []\n",
        "    for entry in tqdm(json_data, desc=\"Scoring entries\"):\n",
        "        # 生成评分提示\n",
        "        prompt = (\n",
        "            f\"Given the input `{format_input(entry)}` \"\n",
        "            f\"and correct output `{entry['output']}`, \"\n",
        "            f\"score the model response `{entry[json_key]}` \"\n",
        "            f\"on a scale from 0 to 100, where 100 is the best score. \"\n",
        "            f\"Respond with the integer number only.\"\n",
        "        )\n",
        "\n",
        "        # 查询模型获取评分\n",
        "        score = query_model(prompt, model)\n",
        "\n",
        "        # 尝试将评分转换为整数并添加到列表\n",
        "        try:\n",
        "            scores.append(int(score))\n",
        "        except ValueError:\n",
        "            print(f\"Could not convert score: {score}\")\n",
        "            continue\n",
        "    return scores"
      ],
      "metadata": {
        "id": "vDPSTO_ShC2g"
      },
      "execution_count": null,
      "outputs": []
    },
    {
      "cell_type": "code",
      "source": [
        "# 生成模型评分\n",
        "scores = generate_model_scores(test_data, \"model_response\")\n",
        "\n",
        "# 打印评分的数量\n",
        "print(f\"Number of scores: {len(scores)} of {len(test_data)}\")\n",
        "\n",
        "# 打印平均分\n",
        "print(f\"Average score: {sum(scores)/len(scores):.2f}\\n\")"
      ],
      "metadata": {
        "id": "tlhPWMxBhNJx"
      },
      "execution_count": null,
      "outputs": []
    }
  ]
}